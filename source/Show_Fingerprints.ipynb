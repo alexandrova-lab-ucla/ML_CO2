{
 "cells": [
  {
   "cell_type": "code",
   "execution_count": 1,
   "metadata": {},
   "outputs": [],
   "source": [
    "from sklearn.model_selection import train_test_split\n",
    "from sklearn.metrics import mean_squared_error, mean_absolute_error, r2_score\n",
    "from sklearn import preprocessing\n",
    "from sklearn.ensemble import RandomForestRegressor\n",
    "\n",
    "import sys\n",
    "import os\n",
    "import time\n",
    "import xgboost as xgb\n",
    "import matplotlib.pyplot as plt\n",
    "import pandas as pd\n",
    "import numpy as np\n",
    "import pybel\n",
    "from rdkit.Chem import AllChem, DataStructs, SDMolSupplier, Draw\n",
    "from rdkit.Chem.Draw import IPythonConsole\n"
   ]
  },
  {
   "cell_type": "code",
   "execution_count": 2,
   "metadata": {},
   "outputs": [],
   "source": [
    "\n",
    "def morgan(dir, bit_length=1024):\n",
    "    morgan = []\n",
    "    names = []\n",
    "    ret_arr = []\n",
    "    bitInfo_arr = []\n",
    "    mol_arr = []\n",
    "    dir = \"../data/sdf/master.sdf\"\n",
    "    temp_str = \"ls \" + dir\n",
    "    temp = os.popen(temp_str).read()\n",
    "    temp = str(temp).split()\n",
    "    mols = [ i for i in SDMolSupplier(dir)]\n",
    "\n",
    "\n",
    "    for i, suppl in enumerate(mols):\n",
    "        try:\n",
    "            bitInfo = {}\n",
    "            fp = AllChem.GetMorganFingerprintAsBitVect(suppl, 2, bitInfo=bitInfo,nBits=int(bit_length))\n",
    "            arr = np.zeros((1,))\n",
    "            DataStructs.ConvertToNumpyArray(fp, arr)\n",
    "            ret_arr.append(arr)\n",
    "            morgan.append(fp)\n",
    "            names.append(suppl.GetProp(\"NAME\"))\n",
    "            bitInfo_arr.append(bitInfo)\n",
    "\n",
    "            sys.stdout.write(\"\\r %s / \" % i + str(len(mols)))\n",
    "            sys.stdout.flush()\n",
    "        except:\n",
    "            pass\n",
    "\n",
    "    morgan = np.array(morgan)\n",
    "    print(\"successfully processed \" + str(i) + \" out of \" + str(len(temp)) + \" molecules\")\n",
    "    return names, morgan, ret_arr, bitInfo_arr, mols\n"
   ]
  },
  {
   "cell_type": "code",
   "execution_count": 3,
   "metadata": {},
   "outputs": [],
   "source": [
    "\n",
    "def process_input_DB3(name, mat):\n",
    "\n",
    "    mat = list(mat)\n",
    "    temp_dict = {\"name\": name, \"mat\": mat}\n",
    "    df = pd.DataFrame.from_dict(temp_dict, orient=\"index\")\n",
    "    df = df.transpose()\n",
    "    list_to_sort = []\n",
    "\n",
    "    with open(\"../data/DATA_DB3_transform\") as fp:\n",
    "        line = fp.readline()\n",
    "        while line:\n",
    "            list_to_sort.append(line[0:-2])\n",
    "            line = fp.readline()\n",
    "\n",
    "    list_to_sort.sort()\n",
    "    print(\"done processing lines of data file\")\n",
    "    df[\"HOMO\"] = 0\n",
    "    df[\"HOMO-1\"] = 0\n",
    "    df[\"diff\"] = 0\n",
    "    track = 0\n",
    "    for i in range(df.shape[0]):\n",
    "        trip = 0\n",
    "        for j in list_to_sort:\n",
    "            #print(df[\"name\"].iloc[i][0:-4])\n",
    "            #print(j.split(\":\")[0])\n",
    "            if (df[\"name\"].iloc[i][0:-4] in j.split(\":\")[0] and j[0:2] != \"--\"):\n",
    "                temp1 = float(j.split(\":\")[1])\n",
    "                temp2 = float(j.split(\":\")[2])\n",
    "                track +=1\n",
    "                df[\"HOMO\"].loc[i] = temp1\n",
    "                df[\"HOMO-1\"].loc[i] = temp2\n",
    "                df[\"diff\"].loc[i] = temp2 - temp1\n",
    "                break\n",
    "\n",
    "    print(\"done parsing energies\")\n",
    "    return df\n"
   ]
  },
  {
   "cell_type": "code",
   "execution_count": 133,
   "metadata": {},
   "outputs": [],
   "source": [
    "\n",
    "def xgboost(x_train, x_test, y_train, y_test, scale, dict=None):\n",
    "\n",
    "    #params = {\n",
    "    #    \"colsample_bytree\": 0.9,\n",
    "    #    \"learning_rate\": 0.1,\n",
    "    #    \"max_depth\": 15, \"gamma\": 0.00,\n",
    "    #    \"lambda\": 0.0,\n",
    "    #    \"alpha\": 0.0,\n",
    "    #    \"eta\": 0.0,\n",
    "    #    \"n_estimators\": 2500}\n",
    "\n",
    "    #reg = xgb.XGBRegressor(**params, objective=\"reg:squarederror\", tree_method=\"gpu_hist\")\n",
    "\n",
    "    params = {\"max_depth\": 10,\n",
    "              \"n_estimators\": 1000,\n",
    "              \"bootstrap\": True,\n",
    "              \"min_samples_leaf\": 2,\n",
    "              \"n_jobs\": 16,\n",
    "              \"verbose\": False,\n",
    "              \"n_jobs\": 4\n",
    "              }\n",
    "    reg = RandomForestRegressor(**params)\n",
    "\n",
    "    t1 = time.time()\n",
    "    # non grid\n",
    "    print(y_train)\n",
    "    reg.fit(x_train, y_train)\n",
    "    t2 = time.time()\n",
    "\n",
    "    time_el = t2 - t1\n",
    "    score = reg.score(x_test, y_test)\n",
    "    print(\"xgboost score:               \" + str(score) + \" time: \" + str(time_el))\n",
    "    score = str(mean_squared_error(reg.predict(x_test), y_test))\n",
    "    print(\"MSE score:   \" + str(score))\n",
    "    score = str(mean_absolute_error(reg.predict(x_test), y_test))\n",
    "    print(\"MAE score:   \" + str(score))\n",
    "    score = str(r2_score(reg.predict(x_test), y_test))\n",
    "    print(\"r2 score:   \" + str(score))\n",
    "    score_mae = mean_absolute_error(reg.predict(x_test), y_test)\n",
    "    print(\"scaled MAE\")\n",
    "    print(scale * score_mae)\n",
    "    return reg\n"
   ]
  },
  {
   "cell_type": "code",
   "execution_count": 5,
   "metadata": {},
   "outputs": [
    {
     "name": "stdout",
     "output_type": "stream",
     "text": [
      " 256 / 6992"
     ]
    },
    {
     "name": "stderr",
     "output_type": "stream",
     "text": [
      "RDKit ERROR: [14:20:49] ERROR: EOF hit while reading atoms\n"
     ]
    },
    {
     "name": "stdout",
     "output_type": "stream",
     "text": [
      " 6990 / 6992successfully processed 6991 out of 1 molecules\n",
      "input begun with processing dataframe\n",
      "done processing lines of data file\n"
     ]
    },
    {
     "name": "stderr",
     "output_type": "stream",
     "text": [
      "/home/santiagovargas/.conda/envs/tf_gpu/lib/python3.7/site-packages/pandas/core/indexing.py:671: SettingWithCopyWarning: \n",
      "A value is trying to be set on a copy of a slice from a DataFrame\n",
      "\n",
      "See the caveats in the documentation: https://pandas.pydata.org/pandas-docs/stable/user_guide/indexing.html#returning-a-view-versus-a-copy\n",
      "  self._setitem_with_indexer(indexer, value)\n"
     ]
    },
    {
     "name": "stdout",
     "output_type": "stream",
     "text": [
      "done parsing energies\n"
     ]
    }
   ],
   "source": [
    "names, morganArr, retArr, bitInfoArr, molArr = morgan(dir = dir,bit_length = 1024)\n",
    "\n",
    "print(\"input begun with processing dataframe\")\n",
    "\n",
    "#print(names)\n",
    "df = process_input_DB3(names, morganArr)\n",
    "#print(df[\"diff\"])\n",
    "#print(df[\"mat\"])"
   ]
  },
  {
   "cell_type": "code",
   "execution_count": null,
   "metadata": {},
   "outputs": [],
   "source": []
  },
  {
   "cell_type": "code",
   "execution_count": 6,
   "metadata": {},
   "outputs": [],
   "source": [
    "mat = list(df[\"mat\"])\n",
    "mat = preprocessing.scale(np.array(mat))\n",
    "scale = np.max(np.array(df[\"HOMO\"])) - np.min(np.array(df[\"HOMO\"]))\n"
   ]
  },
  {
   "cell_type": "code",
   "execution_count": null,
   "metadata": {},
   "outputs": [
    {
     "name": "stdout",
     "output_type": "stream",
     "text": [
      "[-0.209508 -0.196427 -0.201781 ... -0.212307 -0.186965 -0.193405]\n"
     ]
    }
   ],
   "source": [
    "x = np.array(mat)\n",
    "y = np.array(np.array(df[\"HOMO\"]))\n",
    "indices = range(len(x))\n",
    "try:\n",
    "    x_train, x_test, y_train, y_test, indices_train, indices_test = train_test_split(x, y,indices, test_size=0.2, random_state=42)\n",
    "except:\n",
    "    x = list(x)\n",
    "    x_train, x_test, y_train, y_test, indices_train, indices_test = train_test_split(x, y,indices, test_size=0.2, random_state=42)\n",
    "\n",
    "reg = xgboost(x_train, x_test, y_train, y_test, scale)\n"
   ]
  },
  {
   "cell_type": "code",
   "execution_count": null,
   "metadata": {},
   "outputs": [],
   "source": []
  },
  {
   "cell_type": "code",
   "execution_count": 8,
   "metadata": {},
   "outputs": [],
   "source": [
    "fimportance = reg.feature_importances_\n",
    "fimportance_dict = dict(zip(range(1024), fimportance))\n",
    "sorteddata = sorted(fimportance_dict.items(), key=lambda x: -x[1])\n",
    "top25feat = [x[0] for x in sorteddata][:25]\n",
    "top50feat = [x[0] for x in sorteddata][:50]\n"
   ]
  },
  {
   "cell_type": "code",
   "execution_count": 80,
   "metadata": {},
   "outputs": [
    {
     "name": "stdout",
     "output_type": "stream",
     "text": [
      "[(715, 0.30753154978333125), (674, 0.04781141099693772), (392, 0.041480801774787086), (1016, 0.041109508325958784), (319, 0.03176208637388666), (452, 0.028107836338346966), (746, 0.027577313950433113), (112, 0.02344336380648488), (318, 0.021836965139685034), (967, 0.016273809627640586)]\n"
     ]
    }
   ],
   "source": [
    "from itertools import islice\n",
    "\n",
    "def take(n, iterable):\n",
    "    \"Return first n items of the iterable as a list\"\n",
    "    return list(islice(iterable, n))\n",
    "\n",
    "print([i for i in take(10,sorteddata)])\n"
   ]
  },
  {
   "cell_type": "code",
   "execution_count": 10,
   "metadata": {},
   "outputs": [
    {
     "name": "stdout",
     "output_type": "stream",
     "text": [
      "[715, 674, 392, 1016, 319, 452, 746, 112, 318, 967, 360, 628, 271, 390, 175, 673, 397, 77, 747, 286, 726, 807, 389, 80, 587]\n"
     ]
    }
   ],
   "source": [
    "print(top25feat)"
   ]
  },
  {
   "cell_type": "code",
   "execution_count": 11,
   "metadata": {},
   "outputs": [
    {
     "data": {
      "image/png": "[encoded data removed]",
      "text/plain": [
       "<Figure size 432x288 with 1 Axes>"
      ]
     },
     "metadata": {
      "needs_background": "light"
     },
     "output_type": "display_data"
    },
    {
     "name": "stdout",
     "output_type": "stream",
     "text": [
      "[715, 674, 392, 1016, 319, 452, 746, 112, 318, 967, 360, 628, 271, 390, 175, 673, 397, 77, 747, 286, 726, 807, 389, 80, 587]\n"
     ]
    }
   ],
   "source": [
    "top50feat = [x[0] for x in sorteddata][:50]\n",
    "top10feat = [x[0] for x in sorteddata][:10]\n",
    "\n",
    "plt.hist([i[1] for i in take(25,sorteddata)])\n",
    "plt.show()\n",
    "print(top25feat)"
   ]
  },
  {
   "cell_type": "code",
   "execution_count": 12,
   "metadata": {},
   "outputs": [
    {
     "name": "stdout",
     "output_type": "stream",
     "text": [
      "[715, 674, 392, 1016, 319, 452, 746, 112, 318, 967, 360, 628, 271, 390, 175, 673, 397, 77, 747, 286, 726, 807, 389, 80, 587]\n",
      "[0.30753154978333125, 0.04781141099693772, 0.041480801774787086, 0.041109508325958784, 0.03176208637388666, 0.028107836338346966, 0.027577313950433113, 0.02344336380648488, 0.021836965139685034, 0.016273809627640586, 0.013875675328618508, 0.013827895930497096, 0.01232496877976148, 0.008958293959863608, 0.008852527092575923, 0.008750825411207832, 0.008567675518720154, 0.00837594306395628, 0.007889875498240634, 0.0077881380262813035, 0.006318074986406882, 0.006305868482554931, 0.006064063763039614, 0.00571975936099096, 0.005393137718478206, 0.005099207095329739, 0.004700371330619383, 0.004536222525135195, 0.004436954985741496, 0.004408209659521369, 0.004071766495875167, 0.00381036048217558, 0.0037317448683351984, 0.003371576669250089, 0.0033371185474862426, 0.0032705417686782288, 0.0032587362917756986, 0.0032357928307540002, 0.003088907260037741, 0.0030470066466395914, 0.0030169455863016566, 0.0029925247756991346, 0.002903843329959137, 0.002759107143606546, 0.0026969194020451826, 0.00266714116589655, 0.0026091676689799586, 0.0024216132732454375, 0.002398403189507686, 0.002346651193674075]\n"
     ]
    },
    {
     "data": {
      "image/png": "[encoded data removed]",
      "text/plain": [
       "<Figure size 432x288 with 1 Axes>"
      ]
     },
     "metadata": {
      "needs_background": "light"
     },
     "output_type": "display_data"
    }
   ],
   "source": [
    "print(top25feat)\n",
    "print([sorteddata[i][1] for i in range(50)])\n",
    "plt.hist([sorteddata[i][1] for i in range(50)])\n",
    "plt.show()\n"
   ]
  },
  {
   "cell_type": "code",
   "execution_count": 13,
   "metadata": {},
   "outputs": [
    {
     "name": "stdout",
     "output_type": "stream",
     "text": [
      "[715, 674, 392, 1016, 319, 452, 746, 112, 318, 967, 360, 628, 271, 390, 175, 673, 397, 77, 747, 286, 726, 807, 389, 80, 587]\n"
     ]
    }
   ],
   "source": [
    "print(top25feat)"
   ]
  },
  {
   "cell_type": "code",
   "execution_count": 14,
   "metadata": {},
   "outputs": [
    {
     "name": "stdout",
     "output_type": "stream",
     "text": [
      "[-0.233078, -0.231871, -0.231579, -0.2309, -0.229912, -0.229723, -0.228843, -0.228035, -0.227637, -0.225606, -0.225356, -0.225307, -0.224949, -0.224612, -0.224424, -0.224414, -0.224334, -0.223943, -0.223453, -0.223177, -0.222983, -0.222613, -0.222574, -0.222477, -0.222392, -0.222274, -0.222101, -0.221958, -0.221903, -0.221877, -0.221828, -0.221765, -0.221708, -0.2217, -0.221551, -0.221494, -0.221284, -0.221284, -0.221208, -0.220828, -0.22016, -0.220149, -0.220144, -0.219874, -0.219873, -0.21976, -0.219671, -0.219657, -0.219556, -0.219244, -0.21911, -0.21911, -0.219071, -0.219042, -0.219037, -0.219017, -0.218853, -0.218782, -0.218717, -0.218507, -0.218466, -0.218374, -0.218149, -0.218111, -0.218111, -0.218035, -0.218019, -0.21789, -0.21789, -0.217882, -0.217763, -0.217756, -0.217705, -0.217668, -0.217663, -0.217608, -0.217471, -0.217418, -0.21739, -0.217266, -0.217153, -0.217143, -0.216963, -0.216899, -0.216738, -0.216664, -0.216502, -0.216502, -0.216368, -0.216326, -0.216325, -0.216316, -0.216313, -0.216288, -0.216182, -0.216004, -0.215955, -0.215932, -0.215891, -0.21584, -0.215738, -0.21565, -0.215646, -0.215639, -0.215491, -0.215474, -0.215441, -0.215418, -0.215227, -0.215139, -0.215114, -0.214988, -0.21496, -0.21488, -0.21488, -0.21488, -0.214877, -0.214866, -0.214837, -0.214828, -0.214729, -0.214573, -0.214503, -0.214502, -0.214415, -0.214283, -0.214274, -0.214255, -0.214201, -0.214152, -0.214089, -0.214086, -0.213986, -0.213931, -0.213931, -0.213931, -0.213928, -0.213818, -0.21377, -0.21377, -0.213767, -0.213707, -0.21364, -0.213578, -0.213521, -0.213514, -0.213483, -0.213425, -0.213408, -0.213394, -0.213392, -0.21339, -0.213337, -0.213324, -0.213156, -0.213102, -0.213059, -0.213055, -0.213034, -0.213017, -0.213015, -0.213005, -0.21296, -0.212929, -0.212925, -0.212919, -0.21282, -0.212817, -0.212815, -0.212746, -0.212732, -0.212725, -0.212711, -0.212662, -0.21259, -0.21259, -0.212483, -0.21245, -0.21245, -0.21244, -0.212433, -0.212385, -0.212372, -0.212332, -0.21224, -0.212232, -0.212208, -0.212179, -0.212121, -0.212121, -0.212112, -0.212112, -0.2121, -0.2121, -0.2121, -0.2121, -0.2121, -0.2121, -0.2121, -0.2121, -0.2121, -0.212093, -0.212076, -0.212069, -0.212022, -0.21199, -0.211982, -0.211971, -0.211951, -0.211886, -0.21187, -0.21187, -0.21187, -0.21187, -0.21187, -0.21187, -0.21187, -0.21187, -0.211854, -0.211751, -0.211723, -0.211649, -0.211581, -0.21149, -0.21149, -0.21149, -0.211454, -0.211438, -0.211381, -0.211351, -0.211315, -0.211241, -0.211226, -0.211226, -0.211226, -0.211226, -0.211223, -0.211128, -0.211091, -0.211053, -0.211049, -0.210972, -0.210972, -0.210972, -0.210972, -0.210965, -0.210948, -0.21092, -0.210915, -0.210889, -0.210889, -0.210881, -0.210872, -0.210868, -0.210851, -0.21072, -0.21072, -0.210674, -0.210655, -0.210629, -0.210625, -0.210541, -0.210517, -0.210508, -0.210499, -0.210453, -0.210449, -0.210412, -0.210412, -0.210412, -0.210412, -0.210412, -0.210412, -0.210412, -0.210412, -0.210412, -0.210398, -0.210323, -0.210305, -0.210293, -0.210284, -0.21027, -0.210191, -0.21019, -0.210108, -0.210091, -0.210089, -0.210054, -0.210016, -0.210016, -0.209985, -0.20988, -0.209832, -0.209824, -0.209823, -0.209812, -0.209719, -0.209719, -0.209719, -0.20968, -0.20963, -0.20963, -0.209608, -0.209608, -0.209586, -0.209547, -0.209508, -0.209504, -0.209332, -0.209261, -0.209203, -0.209185, -0.209185, -0.209185, -0.209174, -0.209174, -0.209144, -0.209141, -0.209129, -0.2091, -0.209095, -0.209095, -0.209095, -0.209095, -0.209095, -0.209095, -0.209095, -0.209095, -0.209095, -0.209095, -0.209095, -0.209095, -0.209095, -0.209095, -0.209095, -0.209095, -0.208959, -0.208901, -0.208879, -0.208804, -0.208725, -0.208725, -0.208725, -0.208725, -0.208707, -0.208707, -0.208677, -0.208651, -0.208639, -0.208593, -0.208456, -0.2084, -0.208378, -0.208363, -0.20835, -0.208331, -0.208296, -0.208219, -0.208216, -0.208207, -0.208203, -0.208179, -0.208167, -0.208156, -0.208143, -0.208127, -0.20812, -0.208117, -0.208076, -0.208048, -0.208036, -0.208031, -0.207939, -0.207863, -0.207808, -0.207783, -0.207783, -0.207783, -0.207769, -0.207769, -0.207769, -0.207769, -0.207697, -0.207674, -0.207666, -0.207666, -0.207656, -0.207656, -0.207656, -0.20764, -0.207639, -0.207536, -0.207518, -0.207354, -0.207285, -0.207284, -0.207275, -0.207274, -0.207272, -0.20726, -0.20726, -0.207232, -0.207198, -0.207154, -0.20715, -0.207142, -0.20714, -0.207121, -0.20711, -0.207093, -0.20709, -0.207073, -0.207059, -0.206978, -0.206973, -0.206973, -0.206972, -0.206968, -0.206952, -0.206922, -0.20692, -0.20692, -0.20692, -0.20692, -0.206896, -0.206894, -0.206874, -0.206871, -0.206837, -0.20683, -0.20681, -0.206779, -0.206779, -0.206779, -0.206779, -0.206779, -0.206755, -0.206755, -0.206739, -0.206715, -0.206713, -0.206673, -0.206672, -0.20667, -0.206594, -0.206585, -0.206561, -0.206556, -0.206539, -0.206539, -0.206515, -0.206421, -0.206414, -0.206414, -0.206351, -0.206333, -0.20633, -0.206321, -0.206298, -0.206296, -0.206274, -0.206274, -0.206274, -0.206274, -0.206266, -0.206245, -0.206233, -0.206227, -0.206227, -0.206191, -0.206178, -0.206178, -0.206178, -0.206178, -0.206178, -0.206178, -0.206119, -0.206119, -0.206119, -0.206116, -0.206116, -0.206116, -0.206116, -0.206101, -0.206076, -0.206055, -0.206033, -0.206033, -0.206021, -0.205982, -0.205963, -0.205936, -0.205898, -0.20586, -0.205841, -0.205818, -0.205767, -0.20575, -0.205748, -0.205709, -0.205697, -0.205694, -0.205673, -0.205673, -0.205673, -0.205673, -0.205659, -0.205638, -0.205638, -0.205638, -0.205626, -0.205591, -0.205585, -0.205567, -0.205486, -0.205409, -0.205345, -0.205341, -0.205238, -0.205225, -0.205212, -0.205212, -0.205187, -0.205182, -0.205137, -0.205089, -0.20506, -0.20506, -0.20506, -0.205041, -0.205041, -0.205041, -0.205041, -0.205028, -0.205028, -0.205028, -0.205028, -0.205018, -0.205018, -0.205018, -0.204999, -0.20499, -0.20499, -0.20499, -0.20499, -0.204923, -0.204919, -0.204869, -0.204869, -0.204848, -0.204847, -0.204844, -0.204788, -0.204787, -0.204726, -0.204726, -0.204726, -0.204726, -0.204679, -0.204673, -0.204673, -0.204673, -0.204673, -0.204673, -0.204673, -0.204671, -0.204651, -0.204651, -0.20461, -0.2046, -0.204587, -0.204586, -0.204586, -0.204573, -0.2045, -0.204497, -0.204484, -0.204468, -0.204458, -0.204458, -0.204458, -0.204456, -0.204446, -0.204423, -0.204406, -0.204406, -0.204382, -0.204352, -0.204352, -0.204352, -0.204317, -0.204275, -0.204263, -0.204233, -0.204207, -0.204198, -0.204198, -0.204198, -0.204198, -0.204198, -0.204134, -0.204087, -0.204083, -0.204071, -0.203903, -0.203903, -0.203903, -0.203903, -0.203903, -0.2039, -0.203839, -0.203823, -0.203823, -0.203823, -0.203823, -0.203823, -0.203776, -0.203774, -0.203742, -0.203707, -0.203679, -0.203679, -0.203679, -0.203665, -0.203648, -0.203622, -0.203622, -0.203622, -0.203611, -0.203556, -0.203556, -0.203556, -0.203488, -0.203467, -0.203428, -0.203398, -0.203332, -0.203281, -0.20327, -0.203232, -0.203215, -0.203185, -0.203182, -0.203178, -0.203137, -0.203089, -0.203048, -0.203048, -0.203047, -0.203021, -0.203011, -0.203006, -0.202978, -0.202973, -0.202973, -0.202964, -0.202963, -0.202933, -0.202862, -0.202862, -0.202847, -0.202847, -0.202831, -0.202826, -0.202817, -0.202799, -0.202797, -0.202786, -0.20274, -0.202664, -0.202655, -0.202617, -0.2026, -0.202564, -0.202552, -0.202497, -0.202463, -0.202418, -0.202416, -0.202406, -0.2024, -0.202379, -0.202371, -0.202369, -0.202312, -0.202311, -0.202271, -0.202266, -0.202238, -0.202202, -0.20216, -0.20216, -0.20216, -0.202154, -0.202142, -0.202114, -0.202094, -0.202066, -0.202052, -0.201991, -0.201987, -0.201939, -0.201939, -0.201939, -0.201939, -0.201939, -0.201898, -0.201804, -0.201768, -0.201727, -0.201727, -0.201727, -0.201727, -0.201727, -0.201704, -0.201701, -0.201696, -0.201676, -0.201627, -0.201597, -0.201529, -0.201485, -0.201464, -0.201464, -0.201464, -0.201464, -0.201464, -0.201464, -0.201442, -0.201442, -0.201442, -0.201429, -0.201416, -0.201416, -0.201416, -0.201415, -0.201391, -0.201354, -0.201353, -0.201353, -0.201338, -0.201338, -0.201337, -0.201336, -0.201328, -0.201324, -0.20129, -0.20129, -0.20129, -0.20129, -0.201249, -0.201239, -0.201214, -0.201206, -0.201167, -0.201167, -0.201141, -0.201104, -0.201104, -0.201068, -0.201059, -0.201037, -0.201022, -0.201017, -0.200976, -0.200952, -0.200952, -0.20092, -0.20092, -0.20092, -0.20092, -0.20092, -0.200911, -0.200911, -0.200911, -0.200911, -0.200911, -0.200911, -0.200911, -0.200911, -0.200887, -0.200868, -0.200868, -0.200868, -0.200868, -0.200868, -0.200868, -0.200868, -0.200867, -0.200814, -0.200799, -0.200798, -0.200781, -0.200745, -0.200737, -0.200712, -0.200711, -0.200706, -0.200689, -0.200682, -0.200682, -0.200661, -0.200638, -0.200638, -0.200638, -0.200638, -0.200638, -0.200638, -0.200638, -0.200638, -0.200638, -0.200615, -0.200605, -0.200475, -0.200471, -0.200435, -0.200434, -0.200421, -0.200421, -0.200421, -0.200421, -0.200421, -0.200421, -0.200421, -0.200419, -0.200411, -0.200406, -0.200403, -0.200377, -0.200377, -0.200377, -0.200377, -0.200366, -0.200356, -0.200332, -0.200332, -0.200316, -0.200264, -0.200258, -0.200235, -0.200195, -0.200136, -0.200127, -0.200097, -0.200097, -0.200097, -0.200097, -0.200089, -0.200035, -0.200024, -0.200024, -0.199949, -0.199949, -0.199949, -0.199949, -0.19993, -0.199909, -0.199906, -0.199906, -0.199895, -0.199878, -0.199877, -0.199874, -0.199853, -0.199794, -0.19979, -0.19979, -0.199713, -0.199698, -0.199675, -0.19966, -0.19966, -0.19966, -0.19966, -0.19966, -0.199649, -0.199602, -0.199506, -0.199488, -0.19948, -0.199471, -0.199471, -0.199454, -0.199448, -0.199439, -0.199438, -0.199424, -0.199374, -0.199356, -0.199349, -0.199349, -0.199316, -0.199257, -0.199241, -0.199164, -0.199151, -0.199151, -0.199142, -0.199116, -0.199107, -0.199071, -0.199071, -0.199062, -0.199033, -0.198933, -0.198921, -0.198905, -0.198904, -0.198822, -0.198779, -0.19877, -0.198658, -0.198594, -0.198573, -0.198571, -0.198571, -0.19857, -0.198564, -0.198487, -0.198487, -0.198478, -0.198478, -0.198434, -0.198434, -0.19843, -0.19843, -0.198428, -0.198364, -0.198362, -0.198327, -0.198319, -0.198319, -0.198311, -0.198293, -0.198284, -0.198239, -0.1982, -0.19817, -0.198136, -0.198106, -0.19809, -0.198088, -0.198079, -0.198, -0.197941, -0.197932, -0.197932, -0.197914, -0.197893, -0.197893, -0.197893, -0.197893, -0.197893, -0.197893, -0.197893, -0.197893, -0.197893, -0.197893, -0.197886, -0.197876, -0.197868, -0.197859, -0.197856, -0.197853, -0.19783, -0.197803, -0.197779, -0.197779, -0.197774, -0.197774, -0.197774, -0.197774, -0.197774, -0.197774, -0.197774, -0.19777, -0.197763, -0.197711, -0.197702, -0.197656, -0.197615, -0.197614, -0.197612, -0.19752, -0.197488, -0.19745, -0.197441, -0.197414, -0.197404, -0.197396, -0.197386, -0.197358, -0.19734, -0.197329, -0.197301, -0.197292, -0.197292, -0.197262, -0.197262, -0.197258, -0.197251, -0.197194, -0.197185, -0.197169, -0.197145, -0.197144, -0.197142, -0.197142, -0.197142, -0.197142, -0.197136, -0.197129, -0.197123, -0.197069, -0.197061, -0.197035, -0.197014, -0.197, -0.196967, -0.196948, -0.196915, -0.196915, -0.196874, -0.196872, -0.19686, -0.196854, -0.19683, -0.19683, -0.196786, -0.196773, -0.196768, -0.196745, -0.19669, -0.19669, -0.196675, -0.196619, -0.196608, -0.196608, -0.196593, -0.196587, -0.196553, -0.196551, -0.196482, -0.196421, -0.196419, -0.196383, -0.196331, -0.196311, -0.19626, -0.196243, -0.196237, -0.196237, -0.196229, -0.196166, -0.196162, -0.196154, -0.196151, -0.196149, -0.196124, -0.196023, -0.196007, -0.195981, -0.195962, -0.19596, -0.19595, -0.19593, -0.19593, -0.19589, -0.19589, -0.19589, -0.195881, -0.195836, -0.195809, -0.195692, -0.195689, -0.195657, -0.195646, -0.19564, -0.19563, -0.19563, -0.195615, -0.1956, -0.195599, -0.195556, -0.195555, -0.195537, -0.195514, -0.195499, -0.195499, -0.195499, -0.195449, -0.195446, -0.195438, -0.195438, -0.195432, -0.195407, -0.195407, -0.195324, -0.195207, -0.195185, -0.195181, -0.195163, -0.195153, -0.195107, -0.195107, -0.195096, -0.195059, -0.194968, -0.194968, -0.194925, -0.194895, -0.19487, -0.19487, -0.194869, -0.194858, -0.194838, -0.194802, -0.194779, -0.194752, -0.194744, -0.194738, -0.194667, -0.194626, -0.19461, -0.194577, -0.194535, -0.194524, -0.194522, -0.1945, -0.194493, -0.194477, -0.194477, -0.194477, -0.194477, -0.194477, -0.194477, -0.194477, -0.194475, -0.194465, -0.194459, -0.194414, -0.194393, -0.194387, -0.194362, -0.194328, -0.194324, -0.194324, -0.194309, -0.194306, -0.194276, -0.194239, -0.194213, -0.194199, -0.19419, -0.194185, -0.194184, -0.194163, -0.194119, -0.1941, -0.194068, -0.194064, -0.194062, -0.194051, -0.194051, -0.194051, -0.193966, -0.193954, -0.193952, -0.193922, -0.193875, -0.193842, -0.193814, -0.193814, -0.193807, -0.193791, -0.193758, -0.193737, -0.193732, -0.193724, -0.193723, -0.193715, -0.193702, -0.193693, -0.19369, -0.193677, -0.193668, -0.193668, -0.193668, -0.193668, -0.193668, -0.193668, -0.193642, -0.193616, -0.193616, -0.193585, -0.193585, -0.193474, -0.193459, -0.193449, -0.193377, -0.193362, -0.193334, -0.193292, -0.193255, -0.193252, -0.193219, -0.193216, -0.193179, -0.193179, -0.193139, -0.193128, -0.193128, -0.193125, -0.193088, -0.193069, -0.193034, -0.193016, -0.192996, -0.192988, -0.192946, -0.192946, -0.19294, -0.192885, -0.192885, -0.192885, -0.192884, -0.192878, -0.192845, -0.192833, -0.192827, -0.192801, -0.192775, -0.192766, -0.192707, -0.192657, -0.192639, -0.19263, -0.192629, -0.192622, -0.192622, -0.19261, -0.19256, -0.192546, -0.192526, -0.192477, -0.192475, -0.192466, -0.192466, -0.192313, -0.192303, -0.192196, -0.192196, -0.192184, -0.192183, -0.192178, -0.192166, -0.19215, -0.192107, -0.192096, -0.192072, -0.192072, -0.191985, -0.191938, -0.191938, -0.191938, -0.191938, -0.191931, -0.191885, -0.191851, -0.191828, -0.19181, -0.191676, -0.191676, -0.191676, -0.191601, -0.191595, -0.191593, -0.191593, -0.191516, -0.191419, -0.191408, -0.191394, -0.191375, -0.191347, -0.191316, -0.191306, -0.191222, -0.191136, -0.191068, -0.191018, -0.190961, -0.190932, -0.190921, -0.190912, -0.190872, -0.190839, -0.190825, -0.190765, -0.190747, -0.19072, -0.190661, -0.190609, -0.190519, -0.190519, -0.190519, -0.190514, -0.190448, -0.19033, -0.19013, -0.19013, -0.19013, -0.19013, -0.190102, -0.189962, -0.18996, -0.18988, -0.189842, -0.189618, -0.189532, -0.189363, -0.189332, -0.189259, -0.188945, -0.188803, -0.188799, -0.188654, -0.188551, -0.18849, -0.188411, -0.188334, -0.188232, -0.188203, -0.188164, -0.188114, -0.188074, -0.187954, -0.187932, -0.187833, -0.187566, -0.187527, -0.187527, -0.187497, -0.187233, -0.187144, -0.186865, -0.186822, -0.186808, -0.186808, -0.186766, -0.186766, -0.186544, -0.186544, -0.186534, -0.185993, -0.185993, -0.185907, -0.185465, -0.185286, -0.184918, -0.184876, -0.184686, -0.184198, -0.183678, -0.183665, -0.183552, -0.183468, -0.183416, -0.183351, -0.183264, -0.18313, -0.183091, -0.182965, -0.182915, -0.182915, -0.182886, -0.182873, -0.182224, -0.182134, -0.182099, -0.18206, -0.180807, -0.180732, -0.179494, -0.17915, -0.179039, -0.173932, -0.173932, -0.173932, -0.172742, -0.168487, -0.166138, -0.160151, -0.149508, -0.149508, -0.149508, -0.149508, -0.149508, -0.149508, -0.149508]\n",
      "[1325  626  146 ... 1341  499  967]\n",
      "1399\n"
     ]
    }
   ],
   "source": [
    "testidx = np.argsort(y_test)\n",
    "print(sorted(y_test))\n",
    "print(testidx)\n",
    "print(len(testidx))\n",
    "slice_conv = tuple(slice(x) for x in testidx)"
   ]
  },
  {
   "cell_type": "code",
   "execution_count": 15,
   "metadata": {},
   "outputs": [],
   "source": [
    "#slice_conv = tuple(slice(x) for x in testidx)\n",
    "#print(x_test[testidx][0:4])\n",
    "#print(reg.predict(x_test[testidx][0].reshape(1,-1)))\n",
    "#print(reg.predict(x_test[testidx][0:4]))\n",
    "#print(y_test[0:4])\n",
    "#print(onbit)\n",
    "#print(set(onbit))\n",
    "#print(set(top50feat))\n",
    "#print(set(onbit) & set(top50feat))"
   ]
  },
  {
   "cell_type": "code",
   "execution_count": 101,
   "metadata": {},
   "outputs": [
    {
     "data": {
      "image/png": "[encoded data removed]",
      "text/plain": [
       "<rdkit.Chem.rdchem.Mol at 0x7f8571c58e90>"
      ]
     },
     "execution_count": 101,
     "metadata": {},
     "output_type": "execute_result"
    }
   ],
   "source": [
    "from rdkit.Chem import RDConfig\n",
    "from rdkit.Chem import rdBase\n",
    "testmols = [molArr[i] for i in testidx]\n",
    "testmols[-1]"
   ]
  },
  {
   "cell_type": "code",
   "execution_count": 106,
   "metadata": {},
   "outputs": [
    {
     "name": "stdout",
     "output_type": "stream",
     "text": [
      "[715, 319]\n",
      "[(<rdkit.Chem.rdchem.Mol object at 0x7f8571c5f990>, 715, {52: ((16, 2),), 80: ((5, 0), (15, 0)), 115: ((0, 1),), 141: ((4, 2),), 183: ((9, 1),), 198: ((2, 1),), 214: ((15, 2),), 319: ((16, 1),), 353: ((2, 2),), 414: ((16, 0),), 499: ((6, 1),), 594: ((7, 1), (11, 1)), 614: ((1, 1),), 628: ((17, 1), (18, 1), (19, 1)), 715: ((13, 0), (20, 0)), 764: ((1, 2),), 820: ((8, 2), (10, 2)), 841: ((3, 1),), 849: ((0, 2),), 1054: ((14, 1),), 1057: ((17, 0), (18, 0), (19, 0)), 1089: ((6, 2),), 1121: ((8, 1), (10, 1)), 1171: ((14, 0),), 1215: ((8, 0), (10, 0), (12, 0)), 1252: ((12, 1),), 1258: ((1, 0), (3, 0), (6, 0)), 1294: ((5, 1),), 1312: ((7, 0), (9, 0), (11, 0)), 1500: ((3, 2),), 1665: ((13, 1),), 1715: ((15, 1),), 1733: ((9, 2),), 1769: ((4, 1),), 1813: ((0, 0), (2, 0), (4, 0)), 1840: ((12, 2),), 1859: ((5, 2),), 1892: ((20, 1),), 1990: ((7, 2), (11, 2))}), (<rdkit.Chem.rdchem.Mol object at 0x7f8571c5f990>, 319, {52: ((16, 2),), 80: ((5, 0), (15, 0)), 115: ((0, 1),), 141: ((4, 2),), 183: ((9, 1),), 198: ((2, 1),), 214: ((15, 2),), 319: ((16, 1),), 353: ((2, 2),), 414: ((16, 0),), 499: ((6, 1),), 594: ((7, 1), (11, 1)), 614: ((1, 1),), 628: ((17, 1), (18, 1), (19, 1)), 715: ((13, 0), (20, 0)), 764: ((1, 2),), 820: ((8, 2), (10, 2)), 841: ((3, 1),), 849: ((0, 2),), 1054: ((14, 1),), 1057: ((17, 0), (18, 0), (19, 0)), 1089: ((6, 2),), 1121: ((8, 1), (10, 1)), 1171: ((14, 0),), 1215: ((8, 0), (10, 0), (12, 0)), 1252: ((12, 1),), 1258: ((1, 0), (3, 0), (6, 0)), 1294: ((5, 1),), 1312: ((7, 0), (9, 0), (11, 0)), 1500: ((3, 2),), 1665: ((13, 1),), 1715: ((15, 1),), 1733: ((9, 2),), 1769: ((4, 1),), 1813: ((0, 0), (2, 0), (4, 0)), 1840: ((12, 2),), 1859: ((5, 2),), 1892: ((20, 1),), 1990: ((7, 2), (11, 2))})]\n"
     ]
    },
    {
     "data": {
      "image/png": "[encoded data removed]",
      "text/plain": [
       "<PIL.PngImagePlugin.PngImageFile image mode=RGB size=450x150 at 0x7F853E1FFC10>"
      ]
     },
     "execution_count": 106,
     "metadata": {},
     "output_type": "execute_result"
    }
   ],
   "source": [
    "#output for single molecule\n",
    "test_probe = 4\n",
    "\n",
    "#print([i for i in testidx])\n",
    "bitInfo={}\n",
    "fp = AllChem.GetMorganFingerprintAsBitVect(testmols[test_probe], 2, bitInfo=bitInfo)\n",
    "arr = np.zeros((1,))\n",
    "DataStructs.ConvertToNumpyArray(fp, arr)\n",
    "onbit = [bit for bit in bitInfo.keys()]\n",
    "\n",
    "importantonbits = list(set(onbit) & set(top10feat))\n",
    "print(importantonbits)\n",
    "#append to this array \n",
    "tpls = [(testmols[test_probe], x, bitInfo) for x in importantonbits]\n",
    "#print(tpls[1][2])\n",
    "no_repeat = {}\n",
    "\n",
    "\n",
    "        \n",
    "print(tpls)\n",
    "Draw.DrawMorganBits(tpls)\n"
   ]
  },
  {
   "cell_type": "code",
   "execution_count": 83,
   "metadata": {},
   "outputs": [
    {
     "name": "stdout",
     "output_type": "stream",
     "text": [
      "5\n",
      "5\n",
      "2\n",
      "2\n",
      "2\n",
      "2\n",
      "2\n",
      "2\n",
      "1\n",
      "1\n",
      "1\n",
      "1\n",
      "2\n",
      "2\n",
      "1\n",
      "1\n",
      "1\n",
      "1\n",
      "1\n",
      "1\n",
      "1\n",
      "1\n",
      "1\n",
      "1\n",
      "1\n",
      "1\n"
     ]
    },
    {
     "ename": "UnidentifiedImageError",
     "evalue": "cannot identify image file <_io.BytesIO object at 0x7f853e32bf50>",
     "output_type": "error",
     "traceback": [
      "\u001b[0;31m---------------------------------------------------------------------------\u001b[0m",
      "\u001b[0;31mUnidentifiedImageError\u001b[0m                    Traceback (most recent call last)",
      "\u001b[0;32m<ipython-input-83-c67322c03e4d>\u001b[0m in \u001b[0;36m<module>\u001b[0;34m\u001b[0m\n\u001b[1;32m     51\u001b[0m         \u001b[0mno_repeat\u001b[0m\u001b[0;34m.\u001b[0m\u001b[0mextend\u001b[0m\u001b[0;34m(\u001b[0m\u001b[0;34m[\u001b[0m\u001b[0;34m(\u001b[0m\u001b[0mtestmols\u001b[0m\u001b[0;34m[\u001b[0m\u001b[0mi\u001b[0m\u001b[0;34m]\u001b[0m\u001b[0;34m,\u001b[0m \u001b[0mx\u001b[0m\u001b[0;34m,\u001b[0m \u001b[0mtemp_bitinfo\u001b[0m\u001b[0;34m)\u001b[0m \u001b[0;32mfor\u001b[0m \u001b[0mx\u001b[0m \u001b[0;32min\u001b[0m \u001b[0mimportantonbits\u001b[0m\u001b[0;34m]\u001b[0m\u001b[0;34m)\u001b[0m\u001b[0;34m\u001b[0m\u001b[0;34m\u001b[0m\u001b[0m\n\u001b[1;32m     52\u001b[0m \u001b[0;34m\u001b[0m\u001b[0m\n\u001b[0;32m---> 53\u001b[0;31m \u001b[0mDraw\u001b[0m\u001b[0;34m.\u001b[0m\u001b[0mDrawMorganBits\u001b[0m\u001b[0;34m(\u001b[0m\u001b[0mtpls\u001b[0m\u001b[0;34m)\u001b[0m\u001b[0;34m\u001b[0m\u001b[0;34m\u001b[0m\u001b[0m\n\u001b[0m",
      "\u001b[0;32m~/.conda/envs/tf_gpu/lib/python3.7/site-packages/rdkit/Chem/Draw/IPythonConsole.py\u001b[0m in \u001b[0;36mDrawMorganBits\u001b[0;34m(*args, **kwargs)\u001b[0m\n\u001b[1;32m    236\u001b[0m   \u001b[0;32melse\u001b[0m\u001b[0;34m:\u001b[0m\u001b[0;34m\u001b[0m\u001b[0;34m\u001b[0m\u001b[0m\n\u001b[1;32m    237\u001b[0m     \u001b[0mfn\u001b[0m \u001b[0;34m=\u001b[0m \u001b[0mDraw\u001b[0m\u001b[0;34m.\u001b[0m\u001b[0mDrawMorganBits\u001b[0m\u001b[0;34m\u001b[0m\u001b[0;34m\u001b[0m\u001b[0m\n\u001b[0;32m--> 238\u001b[0;31m   \u001b[0;32mreturn\u001b[0m \u001b[0m_DrawBit\u001b[0m\u001b[0;34m(\u001b[0m\u001b[0mfn\u001b[0m\u001b[0;34m,\u001b[0m \u001b[0;34m*\u001b[0m\u001b[0margs\u001b[0m\u001b[0;34m,\u001b[0m \u001b[0;34m**\u001b[0m\u001b[0mkwargs\u001b[0m\u001b[0;34m)\u001b[0m\u001b[0;34m\u001b[0m\u001b[0;34m\u001b[0m\u001b[0m\n\u001b[0m\u001b[1;32m    239\u001b[0m \u001b[0mDrawMorganBits\u001b[0m\u001b[0;34m.\u001b[0m\u001b[0m__doc__\u001b[0m \u001b[0;34m=\u001b[0m \u001b[0mDraw\u001b[0m\u001b[0;34m.\u001b[0m\u001b[0mDrawMorganBits\u001b[0m\u001b[0;34m.\u001b[0m\u001b[0m__doc__\u001b[0m\u001b[0;34m\u001b[0m\u001b[0;34m\u001b[0m\u001b[0m\n\u001b[1;32m    240\u001b[0m \u001b[0;34m\u001b[0m\u001b[0m\n",
      "\u001b[0;32m~/.conda/envs/tf_gpu/lib/python3.7/site-packages/rdkit/Chem/Draw/IPythonConsole.py\u001b[0m in \u001b[0;36m_DrawBit\u001b[0;34m(fn, *args, **kwargs)\u001b[0m\n\u001b[1;32m    205\u001b[0m   \u001b[0;32melse\u001b[0m\u001b[0;34m:\u001b[0m\u001b[0;34m\u001b[0m\u001b[0;34m\u001b[0m\u001b[0m\n\u001b[1;32m    206\u001b[0m     \u001b[0msio\u001b[0m \u001b[0;34m=\u001b[0m \u001b[0mBytesIO\u001b[0m\u001b[0;34m(\u001b[0m\u001b[0mres\u001b[0m\u001b[0;34m)\u001b[0m\u001b[0;34m\u001b[0m\u001b[0;34m\u001b[0m\u001b[0m\n\u001b[0;32m--> 207\u001b[0;31m     \u001b[0;32mreturn\u001b[0m \u001b[0mImage\u001b[0m\u001b[0;34m.\u001b[0m\u001b[0mopen\u001b[0m\u001b[0;34m(\u001b[0m\u001b[0msio\u001b[0m\u001b[0;34m)\u001b[0m\u001b[0;34m\u001b[0m\u001b[0;34m\u001b[0m\u001b[0m\n\u001b[0m\u001b[1;32m    208\u001b[0m \u001b[0;34m\u001b[0m\u001b[0m\n\u001b[1;32m    209\u001b[0m \u001b[0;34m\u001b[0m\u001b[0m\n",
      "\u001b[0;32m~/.conda/envs/tf_gpu/lib/python3.7/site-packages/PIL/Image.py\u001b[0m in \u001b[0;36mopen\u001b[0;34m(fp, mode)\u001b[0m\n\u001b[1;32m   2860\u001b[0m         \u001b[0mwarnings\u001b[0m\u001b[0;34m.\u001b[0m\u001b[0mwarn\u001b[0m\u001b[0;34m(\u001b[0m\u001b[0mmessage\u001b[0m\u001b[0;34m)\u001b[0m\u001b[0;34m\u001b[0m\u001b[0;34m\u001b[0m\u001b[0m\n\u001b[1;32m   2861\u001b[0m     raise UnidentifiedImageError(\n\u001b[0;32m-> 2862\u001b[0;31m         \u001b[0;34m\"cannot identify image file %r\"\u001b[0m \u001b[0;34m%\u001b[0m \u001b[0;34m(\u001b[0m\u001b[0mfilename\u001b[0m \u001b[0;32mif\u001b[0m \u001b[0mfilename\u001b[0m \u001b[0;32melse\u001b[0m \u001b[0mfp\u001b[0m\u001b[0;34m)\u001b[0m\u001b[0;34m\u001b[0m\u001b[0;34m\u001b[0m\u001b[0m\n\u001b[0m\u001b[1;32m   2863\u001b[0m     )\n\u001b[1;32m   2864\u001b[0m \u001b[0;34m\u001b[0m\u001b[0m\n",
      "\u001b[0;31mUnidentifiedImageError\u001b[0m: cannot identify image file <_io.BytesIO object at 0x7f853e32bf50>"
     ]
    }
   ],
   "source": [
    "test_probe = 5\n",
    "tpls_full = []\n",
    "\n",
    "#print([i for i in testidx])\n",
    "\n",
    "for i in range(len(testmols)):\n",
    "    bitInfo={}\n",
    "    fp = AllChem.GetMorganFingerprintAsBitVect(testmols[i], 2, bitInfo=bitInfo)\n",
    "    arr = np.zeros((1,))\n",
    "    DataStructs.ConvertToNumpyArray(fp, arr)\n",
    "    onbit = [bit for bit in bitInfo.keys()]\n",
    "    importantonbits = list(set(onbit) & set(top10feat))\n",
    "    #append to this array \n",
    "    tpls.extend([(testmols[i], x, bitInfo) for x in importantonbits])\n",
    "\n",
    "no_repeat = []\n",
    "key_log = []\n",
    "\n",
    "for i in range(len(testmols)):\n",
    "    bitInfo={}\n",
    "    fp = AllChem.GetMorganFingerprintAsBitVect(testmols[i], 2, bitInfo=bitInfo)\n",
    "    arr = np.zeros((1,))\n",
    "    DataStructs.ConvertToNumpyArray(fp, arr)\n",
    "    \n",
    "    \n",
    "    onbit = [bit for bit in bitInfo.keys()]\n",
    "    temp_onbit = []\n",
    "    temp_bitinfo = {}\n",
    "    \n",
    "    #filters for unique keys in array\n",
    "    for keys in onbit:    \n",
    "        if keys in key_log:\n",
    "            pass\n",
    "        else:\n",
    "            temp_onbit.append(keys)\n",
    "            key_log.append(keys)\n",
    "            \n",
    "    importantonbits = list(set(temp_onbit) & set(top25feat)) \n",
    "    \n",
    "    #appends only new bitinfo arrays\n",
    "    for i in importantonbits:\n",
    "        temp_bitinfo[i] = bitInfo[i] \n",
    "\n",
    "    if (len(importantonbits) != 0): \n",
    "        print(len(importantonbits))\n",
    "        print(len(temp_bitinfo))\n",
    "        #print(importantonbits)\n",
    "        #print(x)\n",
    "        #print(bitInfo)\n",
    "    \n",
    "        no_repeat.extend([(testmols[i], x, temp_bitinfo) for x in importantonbits])\n",
    "\n",
    "Draw.DrawMorganBits(tpls)\n"
   ]
  },
  {
   "cell_type": "code",
   "execution_count": 127,
   "metadata": {},
   "outputs": [
    {
     "ename": "IndexError",
     "evalue": "list index out of range",
     "output_type": "error",
     "traceback": [
      "\u001b[0;31m---------------------------------------------------------------------------\u001b[0m",
      "\u001b[0;31mIndexError\u001b[0m                                Traceback (most recent call last)",
      "\u001b[0;32m<ipython-input-127-d6dbc6737762>\u001b[0m in \u001b[0;36m<module>\u001b[0;34m\u001b[0m\n\u001b[1;32m     11\u001b[0m     \u001b[0monbit\u001b[0m \u001b[0;34m=\u001b[0m \u001b[0;34m[\u001b[0m\u001b[0mbit\u001b[0m \u001b[0;32mfor\u001b[0m \u001b[0mbit\u001b[0m \u001b[0;32min\u001b[0m \u001b[0mbitInfo\u001b[0m\u001b[0;34m.\u001b[0m\u001b[0mkeys\u001b[0m\u001b[0;34m(\u001b[0m\u001b[0;34m)\u001b[0m\u001b[0;34m]\u001b[0m\u001b[0;34m\u001b[0m\u001b[0;34m\u001b[0m\u001b[0m\n\u001b[1;32m     12\u001b[0m     \u001b[0mimportantonbits\u001b[0m \u001b[0;34m=\u001b[0m \u001b[0mlist\u001b[0m\u001b[0;34m(\u001b[0m\u001b[0mset\u001b[0m\u001b[0;34m(\u001b[0m\u001b[0monbit\u001b[0m\u001b[0;34m)\u001b[0m \u001b[0;34m&\u001b[0m \u001b[0mset\u001b[0m\u001b[0;34m(\u001b[0m\u001b[0mtop10feat\u001b[0m\u001b[0;34m)\u001b[0m\u001b[0;34m)\u001b[0m\u001b[0;34m\u001b[0m\u001b[0;34m\u001b[0m\u001b[0m\n\u001b[0;32m---> 13\u001b[0;31m     \u001b[0mimportantonbits\u001b[0m \u001b[0;34m=\u001b[0m \u001b[0mlist\u001b[0m\u001b[0;34m(\u001b[0m\u001b[0mset\u001b[0m\u001b[0;34m(\u001b[0m\u001b[0monbit\u001b[0m\u001b[0;34m)\u001b[0m \u001b[0;34m&\u001b[0m \u001b[0mset\u001b[0m\u001b[0;34m(\u001b[0m\u001b[0;34m[\u001b[0m\u001b[0mtop10feat\u001b[0m\u001b[0;34m[\u001b[0m\u001b[0;36m10\u001b[0m\u001b[0;34m]\u001b[0m\u001b[0;34m]\u001b[0m\u001b[0;34m)\u001b[0m\u001b[0;34m)\u001b[0m\u001b[0;34m\u001b[0m\u001b[0;34m\u001b[0m\u001b[0m\n\u001b[0m\u001b[1;32m     14\u001b[0m     \u001b[0;31m#append to this array\u001b[0m\u001b[0;34m\u001b[0m\u001b[0;34m\u001b[0m\u001b[0;34m\u001b[0m\u001b[0m\n\u001b[1;32m     15\u001b[0m     \u001b[0;32mif\u001b[0m\u001b[0;34m(\u001b[0m\u001b[0mlen\u001b[0m\u001b[0;34m(\u001b[0m\u001b[0mimportantonbits\u001b[0m\u001b[0;34m)\u001b[0m \u001b[0;34m>\u001b[0m \u001b[0;36m0\u001b[0m \u001b[0;34m)\u001b[0m\u001b[0;34m:\u001b[0m\u001b[0;34m\u001b[0m\u001b[0;34m\u001b[0m\u001b[0m\n",
      "\u001b[0;31mIndexError\u001b[0m: list index out of range"
     ]
    }
   ],
   "source": [
    "tpls_full = []\n",
    "\n",
    "#print([i for i in testidx])\n",
    "\n",
    "\n",
    "for i in range(len(testmols)-800):\n",
    "    bitInfo={}\n",
    "    fp = AllChem.GetMorganFingerprintAsBitVect(testmols[i], 2, bitInfo=bitInfo)\n",
    "    arr = np.zeros((1,))\n",
    "    DataStructs.ConvertToNumpyArray(fp, arr)\n",
    "    onbit = [bit for bit in bitInfo.keys()]\n",
    "    importantonbits = list(set(onbit) & set(top10feat))\n",
    "    importantonbits = list(set(onbit) & set([top10feat[10]]))\n",
    "    #append to this array \n",
    "    if(len(importantonbits) > 0 ):\n",
    "        tpls_full.extend([(testmols[i], x, bitInfo) for x in importantonbits])\n",
    "\n",
    "no_repeat = []\n",
    "key_log = []\n",
    "Draw.DrawMorganBits(tpls_full)\n"
   ]
  },
  {
   "cell_type": "code",
   "execution_count": 19,
   "metadata": {},
   "outputs": [
    {
     "name": "stdout",
     "output_type": "stream",
     "text": [
      "21\n",
      "4560\n",
      "[(<rdkit.Chem.rdchem.Mol object at 0x7f8571c6e260>, 389, {389: ((15, 2),), 967: ((3, 1),), 807: ((7, 0),), 397: ((3, 2),), 80: ((11, 0),)}), (<rdkit.Chem.rdchem.Mol object at 0x7f8571c6e260>, 967, {389: ((15, 2),), 967: ((3, 1),), 807: ((7, 0),), 397: ((3, 2),), 80: ((11, 0),)}), (<rdkit.Chem.rdchem.Mol object at 0x7f8571c6e260>, 807, {389: ((15, 2),), 967: ((3, 1),), 807: ((7, 0),), 397: ((3, 2),), 80: ((11, 0),)}), (<rdkit.Chem.rdchem.Mol object at 0x7f8571c6e260>, 397, {389: ((15, 2),), 967: ((3, 1),), 807: ((7, 0),), 397: ((3, 2),), 80: ((11, 0),)}), (<rdkit.Chem.rdchem.Mol object at 0x7f8571c6e260>, 80, {389: ((15, 2),), 967: ((3, 1),), 807: ((7, 0),), 397: ((3, 2),), 80: ((11, 0),)}), (<rdkit.Chem.rdchem.Mol object at 0x7f8571c6d6c0>, 715, {715: ((10, 0),), 747: ((0, 1),)}), (<rdkit.Chem.rdchem.Mol object at 0x7f8571c6d6c0>, 747, {715: ((10, 0),), 747: ((0, 1),)}), (<rdkit.Chem.rdchem.Mol object at 0x7f8571c6ec60>, 628, {628: ((17, 1), (18, 1), (19, 1)), 319: ((16, 1),)}), (<rdkit.Chem.rdchem.Mol object at 0x7f8571c6ec60>, 319, {628: ((17, 1), (18, 1), (19, 1)), 319: ((16, 1),)}), (<rdkit.Chem.rdchem.Mol object at 0x7f8571c665d0>, 318, {318: ((12, 2),), 271: ((16, 1), (10, 1))}), (<rdkit.Chem.rdchem.Mol object at 0x7f8571c665d0>, 271, {318: ((12, 2),), 271: ((16, 1), (10, 1))}), (<rdkit.Chem.rdchem.Mol object at 0x7f8571c56580>, 746, {746: ((19, 0),)}), (<rdkit.Chem.rdchem.Mol object at 0x7f8571c6c800>, 286, {286: ((0, 2),)}), (<rdkit.Chem.rdchem.Mol object at 0x7f8571c59c10>, 674, {674: ((8, 0),), 390: ((3, 2),)}), (<rdkit.Chem.rdchem.Mol object at 0x7f8571c59c10>, 390, {674: ((8, 0),), 390: ((3, 2),)}), (<rdkit.Chem.rdchem.Mol object at 0x7f8571c6df80>, 77, {77: ((9, 2),)}), (<rdkit.Chem.rdchem.Mol object at 0x7f8571c62a30>, 452, {452: ((1, 2),)}), (<rdkit.Chem.rdchem.Mol object at 0x7f8571c54ee0>, 392, {392: ((13, 1), (14, 1), (15, 1))}), (<rdkit.Chem.rdchem.Mol object at 0x7f8571c6ccb0>, 175, {175: ((4, 2),)}), (<rdkit.Chem.rdchem.Mol object at 0x7f8571c623a0>, 1016, {1016: ((1, 2),)}), (<rdkit.Chem.rdchem.Mol object at 0x7f8571c6cf80>, 587, {587: ((2, 2), (1, 2))})]\n"
     ]
    }
   ],
   "source": [
    "print(len(no_repeat))\n",
    "print(len(tpls))\n",
    "print(no_repeat)\n",
    "#Draw.DrawMorganBits(no_repeat)"
   ]
  },
  {
   "cell_type": "code",
   "execution_count": 20,
   "metadata": {},
   "outputs": [
    {
     "name": "stdout",
     "output_type": "stream",
     "text": [
      "6991\n"
     ]
    },
    {
     "data": {
      "text/html": [
       "<div>\n",
       "<style scoped>\n",
       "    .dataframe tbody tr th:only-of-type {\n",
       "        vertical-align: middle;\n",
       "    }\n",
       "\n",
       "    .dataframe tbody tr th {\n",
       "        vertical-align: top;\n",
       "    }\n",
       "\n",
       "    .dataframe thead th {\n",
       "        text-align: right;\n",
       "    }\n",
       "</style>\n",
       "<table border=\"1\" class=\"dataframe\">\n",
       "  <thead>\n",
       "    <tr style=\"text-align: right;\">\n",
       "      <th></th>\n",
       "      <th>0</th>\n",
       "      <th>1</th>\n",
       "      <th>2</th>\n",
       "      <th>3</th>\n",
       "      <th>4</th>\n",
       "      <th>5</th>\n",
       "      <th>6</th>\n",
       "      <th>7</th>\n",
       "      <th>8</th>\n",
       "      <th>9</th>\n",
       "      <th>HOMO</th>\n",
       "    </tr>\n",
       "  </thead>\n",
       "  <tbody>\n",
       "    <tr>\n",
       "      <th>0</th>\n",
       "      <td>1.000000</td>\n",
       "      <td>-0.366968</td>\n",
       "      <td>0.070058</td>\n",
       "      <td>0.187280</td>\n",
       "      <td>0.419553</td>\n",
       "      <td>-0.543982</td>\n",
       "      <td>0.132741</td>\n",
       "      <td>-0.327572</td>\n",
       "      <td>0.115716</td>\n",
       "      <td>-0.152504</td>\n",
       "      <td>-0.516846</td>\n",
       "    </tr>\n",
       "    <tr>\n",
       "      <th>1</th>\n",
       "      <td>-0.366968</td>\n",
       "      <td>1.000000</td>\n",
       "      <td>-0.026895</td>\n",
       "      <td>-0.091480</td>\n",
       "      <td>-0.198514</td>\n",
       "      <td>0.360225</td>\n",
       "      <td>-0.088999</td>\n",
       "      <td>0.879995</td>\n",
       "      <td>-0.035497</td>\n",
       "      <td>-0.022364</td>\n",
       "      <td>-0.063825</td>\n",
       "    </tr>\n",
       "    <tr>\n",
       "      <th>2</th>\n",
       "      <td>0.070058</td>\n",
       "      <td>-0.026895</td>\n",
       "      <td>1.000000</td>\n",
       "      <td>-0.019846</td>\n",
       "      <td>0.004814</td>\n",
       "      <td>-0.072102</td>\n",
       "      <td>-0.015992</td>\n",
       "      <td>-0.009330</td>\n",
       "      <td>-0.013981</td>\n",
       "      <td>0.018387</td>\n",
       "      <td>0.185527</td>\n",
       "    </tr>\n",
       "    <tr>\n",
       "      <th>3</th>\n",
       "      <td>0.187280</td>\n",
       "      <td>-0.091480</td>\n",
       "      <td>-0.019846</td>\n",
       "      <td>1.000000</td>\n",
       "      <td>0.130564</td>\n",
       "      <td>-0.159234</td>\n",
       "      <td>-0.011680</td>\n",
       "      <td>-0.080145</td>\n",
       "      <td>-0.028599</td>\n",
       "      <td>0.020022</td>\n",
       "      <td>-0.252743</td>\n",
       "    </tr>\n",
       "    <tr>\n",
       "      <th>4</th>\n",
       "      <td>0.419553</td>\n",
       "      <td>-0.198514</td>\n",
       "      <td>0.004814</td>\n",
       "      <td>0.130564</td>\n",
       "      <td>1.000000</td>\n",
       "      <td>-0.463977</td>\n",
       "      <td>0.134487</td>\n",
       "      <td>-0.172596</td>\n",
       "      <td>0.082038</td>\n",
       "      <td>-0.089571</td>\n",
       "      <td>-0.116359</td>\n",
       "    </tr>\n",
       "    <tr>\n",
       "      <th>5</th>\n",
       "      <td>-0.543982</td>\n",
       "      <td>0.360225</td>\n",
       "      <td>-0.072102</td>\n",
       "      <td>-0.159234</td>\n",
       "      <td>-0.463977</td>\n",
       "      <td>1.000000</td>\n",
       "      <td>-0.133644</td>\n",
       "      <td>0.306795</td>\n",
       "      <td>-0.142364</td>\n",
       "      <td>0.112256</td>\n",
       "      <td>0.227497</td>\n",
       "    </tr>\n",
       "    <tr>\n",
       "      <th>6</th>\n",
       "      <td>0.132741</td>\n",
       "      <td>-0.088999</td>\n",
       "      <td>-0.015992</td>\n",
       "      <td>-0.011680</td>\n",
       "      <td>0.134487</td>\n",
       "      <td>-0.133644</td>\n",
       "      <td>1.000000</td>\n",
       "      <td>-0.077751</td>\n",
       "      <td>-0.014552</td>\n",
       "      <td>-0.045512</td>\n",
       "      <td>-0.200683</td>\n",
       "    </tr>\n",
       "    <tr>\n",
       "      <th>7</th>\n",
       "      <td>-0.327572</td>\n",
       "      <td>0.879995</td>\n",
       "      <td>-0.009330</td>\n",
       "      <td>-0.080145</td>\n",
       "      <td>-0.172596</td>\n",
       "      <td>0.306795</td>\n",
       "      <td>-0.077751</td>\n",
       "      <td>1.000000</td>\n",
       "      <td>-0.027003</td>\n",
       "      <td>-0.044132</td>\n",
       "      <td>-0.089410</td>\n",
       "    </tr>\n",
       "    <tr>\n",
       "      <th>8</th>\n",
       "      <td>0.115716</td>\n",
       "      <td>-0.035497</td>\n",
       "      <td>-0.013981</td>\n",
       "      <td>-0.028599</td>\n",
       "      <td>0.082038</td>\n",
       "      <td>-0.142364</td>\n",
       "      <td>-0.014552</td>\n",
       "      <td>-0.027003</td>\n",
       "      <td>1.000000</td>\n",
       "      <td>-0.019238</td>\n",
       "      <td>-0.223635</td>\n",
       "    </tr>\n",
       "    <tr>\n",
       "      <th>9</th>\n",
       "      <td>-0.152504</td>\n",
       "      <td>-0.022364</td>\n",
       "      <td>0.018387</td>\n",
       "      <td>0.020022</td>\n",
       "      <td>-0.089571</td>\n",
       "      <td>0.112256</td>\n",
       "      <td>-0.045512</td>\n",
       "      <td>-0.044132</td>\n",
       "      <td>-0.019238</td>\n",
       "      <td>1.000000</td>\n",
       "      <td>0.257121</td>\n",
       "    </tr>\n",
       "    <tr>\n",
       "      <th>HOMO</th>\n",
       "      <td>-0.516846</td>\n",
       "      <td>-0.063825</td>\n",
       "      <td>0.185527</td>\n",
       "      <td>-0.252743</td>\n",
       "      <td>-0.116359</td>\n",
       "      <td>0.227497</td>\n",
       "      <td>-0.200683</td>\n",
       "      <td>-0.089410</td>\n",
       "      <td>-0.223635</td>\n",
       "      <td>0.257121</td>\n",
       "      <td>1.000000</td>\n",
       "    </tr>\n",
       "  </tbody>\n",
       "</table>\n",
       "</div>"
      ],
      "text/plain": [
       "             0         1         2         3         4         5         6  \\\n",
       "0     1.000000 -0.366968  0.070058  0.187280  0.419553 -0.543982  0.132741   \n",
       "1    -0.366968  1.000000 -0.026895 -0.091480 -0.198514  0.360225 -0.088999   \n",
       "2     0.070058 -0.026895  1.000000 -0.019846  0.004814 -0.072102 -0.015992   \n",
       "3     0.187280 -0.091480 -0.019846  1.000000  0.130564 -0.159234 -0.011680   \n",
       "4     0.419553 -0.198514  0.004814  0.130564  1.000000 -0.463977  0.134487   \n",
       "5    -0.543982  0.360225 -0.072102 -0.159234 -0.463977  1.000000 -0.133644   \n",
       "6     0.132741 -0.088999 -0.015992 -0.011680  0.134487 -0.133644  1.000000   \n",
       "7    -0.327572  0.879995 -0.009330 -0.080145 -0.172596  0.306795 -0.077751   \n",
       "8     0.115716 -0.035497 -0.013981 -0.028599  0.082038 -0.142364 -0.014552   \n",
       "9    -0.152504 -0.022364  0.018387  0.020022 -0.089571  0.112256 -0.045512   \n",
       "HOMO -0.516846 -0.063825  0.185527 -0.252743 -0.116359  0.227497 -0.200683   \n",
       "\n",
       "             7         8         9      HOMO  \n",
       "0    -0.327572  0.115716 -0.152504 -0.516846  \n",
       "1     0.879995 -0.035497 -0.022364 -0.063825  \n",
       "2    -0.009330 -0.013981  0.018387  0.185527  \n",
       "3    -0.080145 -0.028599  0.020022 -0.252743  \n",
       "4    -0.172596  0.082038 -0.089571 -0.116359  \n",
       "5     0.306795 -0.142364  0.112256  0.227497  \n",
       "6    -0.077751 -0.014552 -0.045512 -0.200683  \n",
       "7     1.000000 -0.027003 -0.044132 -0.089410  \n",
       "8    -0.027003  1.000000 -0.019238 -0.223635  \n",
       "9    -0.044132 -0.019238  1.000000  0.257121  \n",
       "HOMO -0.089410 -0.223635  0.257121  1.000000  "
      ]
     },
     "execution_count": 20,
     "metadata": {},
     "output_type": "execute_result"
    }
   ],
   "source": [
    "top_feat = [x[:, i] for i in top10feat]\n",
    "print(len(x[:,1]))\n",
    "import pandas as pd \n",
    "df = pd.DataFrame(top_feat)\n",
    "df = df.transpose()\n",
    "df[\"HOMO\"] = y\n",
    "df.corr()\n",
    "#print(np.shape(y))\n",
    "#print(np.shape(np.delete(y, [267])))\n",
    "#print(np.delete(np.delete(y, [6990]), [267]))\n",
    "#df[\"HOMO\"] = np.delete(y, [267])"
   ]
  },
  {
   "cell_type": "code",
   "execution_count": 78,
   "metadata": {},
   "outputs": [
    {
     "name": "stdout",
     "output_type": "stream",
     "text": [
      "['715', '674', '392', '1016', '319', '452', '746', '112', '318', '967']\n"
     ]
    },
    {
     "data": {
      "image/png": "[encoded data removed]",
      "text/plain": [
       "<Figure size 432x288 with 1 Axes>"
      ]
     },
     "metadata": {},
     "output_type": "display_data"
    }
   ],
   "source": [
    "import numpy as np; np.random.seed(0)\n",
    "import seaborn as sns; sns.set_theme()\n",
    "corr = np.array(df.corr()[\"HOMO\"].to_numpy())[0:-1]\n",
    "ax = plt.subplot(1,1,1)\n",
    "\n",
    "plt.title(\"Correlation Top Fingerprints vs. HOMO\")\n",
    "ax.bar(range(10), corr)\n",
    "print([str(i) for i in top10feat])\n",
    "ax.set_xticklabels([str(i) for i in top10feat], rotation=\"45\")\n",
    "ax.set_xticks(np.arange(len(top10feat)))\n",
    "plt.show()"
   ]
  },
  {
   "cell_type": "code",
   "execution_count": null,
   "metadata": {},
   "outputs": [],
   "source": []
  },
  {
   "cell_type": "code",
   "execution_count": null,
   "metadata": {},
   "outputs": [],
   "source": []
  }
 ],
 "metadata": {
  "kernelspec": {
   "display_name": "Python 3",
   "language": "python",
   "name": "python3"
  },
  "language_info": {
   "codemirror_mode": {
    "name": "ipython",
    "version": 3
   },
   "file_extension": ".py",
   "mimetype": "text/x-python",
   "name": "python",
   "nbconvert_exporter": "python",
   "pygments_lexer": "ipython3",
   "version": "3.7.7"
  }
 },
 "nbformat": 4,
 "nbformat_minor": 4
}
