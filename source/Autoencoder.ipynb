{
 "cells": [
  {
   "cell_type": "code",
   "execution_count": 1,
   "metadata": {},
   "outputs": [
    {
     "name": "stderr",
     "output_type": "stream",
     "text": [
      "/home/santiagovargas/anaconda3/envs/tf_gpu/lib/python3.7/site-packages/tensorboard/compat/tensorflow_stub/dtypes.py:541: FutureWarning: Passing (type, 1) or '1type' as a synonym of type is deprecated; in a future version of numpy, it will be understood as (type, (1,)) / '(1,)type'.\n",
      "  _np_qint8 = np.dtype([(\"qint8\", np.int8, 1)])\n",
      "/home/santiagovargas/anaconda3/envs/tf_gpu/lib/python3.7/site-packages/tensorboard/compat/tensorflow_stub/dtypes.py:542: FutureWarning: Passing (type, 1) or '1type' as a synonym of type is deprecated; in a future version of numpy, it will be understood as (type, (1,)) / '(1,)type'.\n",
      "  _np_quint8 = np.dtype([(\"quint8\", np.uint8, 1)])\n",
      "/home/santiagovargas/anaconda3/envs/tf_gpu/lib/python3.7/site-packages/tensorboard/compat/tensorflow_stub/dtypes.py:543: FutureWarning: Passing (type, 1) or '1type' as a synonym of type is deprecated; in a future version of numpy, it will be understood as (type, (1,)) / '(1,)type'.\n",
      "  _np_qint16 = np.dtype([(\"qint16\", np.int16, 1)])\n",
      "/home/santiagovargas/anaconda3/envs/tf_gpu/lib/python3.7/site-packages/tensorboard/compat/tensorflow_stub/dtypes.py:544: FutureWarning: Passing (type, 1) or '1type' as a synonym of type is deprecated; in a future version of numpy, it will be understood as (type, (1,)) / '(1,)type'.\n",
      "  _np_quint16 = np.dtype([(\"quint16\", np.uint16, 1)])\n",
      "/home/santiagovargas/anaconda3/envs/tf_gpu/lib/python3.7/site-packages/tensorboard/compat/tensorflow_stub/dtypes.py:545: FutureWarning: Passing (type, 1) or '1type' as a synonym of type is deprecated; in a future version of numpy, it will be understood as (type, (1,)) / '(1,)type'.\n",
      "  _np_qint32 = np.dtype([(\"qint32\", np.int32, 1)])\n",
      "/home/santiagovargas/anaconda3/envs/tf_gpu/lib/python3.7/site-packages/tensorboard/compat/tensorflow_stub/dtypes.py:550: FutureWarning: Passing (type, 1) or '1type' as a synonym of type is deprecated; in a future version of numpy, it will be understood as (type, (1,)) / '(1,)type'.\n",
      "  np_resource = np.dtype([(\"resource\", np.ubyte, 1)])\n"
     ]
    }
   ],
   "source": [
    "import joblib, argparse, uuid, sigopt\n",
    "import numpy as np\n",
    "import pandas as pd\n",
    "from rdkit import Chem\n",
    "from rdkit import DataStructs\n",
    "from sklearn import preprocessing\n",
    "from utils.sklearn_utils import *\n",
    "import matplotlib.pyplot as plt\n",
    "import seaborn as sns\n",
    "\n",
    "import selfies as sf\n",
    "import tensorflow as tf\n",
    "from tensorflow import keras\n",
    "from tensorflow.keras import layers,regularizers\n",
    "\n",
    "\n",
    "gpus = tf.config.experimental.list_physical_devices('GPU')\n",
    "if gpus:\n",
    "    try:\n",
    "        for gpu in gpus:\n",
    "            tf.config.experimental.set_memory_growth(gpu, True)\n",
    "\n",
    "    except RuntimeError as e:\n",
    "        print(e)"
   ]
  },
  {
   "cell_type": "code",
   "execution_count": 2,
   "metadata": {},
   "outputs": [],
   "source": [
    "# Used to convert molecules to string representation\n",
    "\n",
    "from utils.selfies_util import selfies,smile_to_hot, \\\n",
    "multiple_smile_to_hot, selfies_to_hot, multiple_selfies_to_hot,\\\n",
    "get_selfie_and_smiles_encodings_for_dataset, compare_equality, tanimoto_dist"
   ]
  },
  {
   "cell_type": "code",
   "execution_count": null,
   "metadata": {},
   "outputs": [],
   "source": []
  },
  {
   "cell_type": "code",
   "execution_count": 3,
   "metadata": {},
   "outputs": [
    {
     "name": "stdout",
     "output_type": "stream",
     "text": [
      "..........converting xyz to smiles.......\n",
      " 55026 / 61182"
     ]
    },
    {
     "name": "stderr",
     "output_type": "stream",
     "text": [
      "IOPub message rate exceeded.\n",
      "The notebook server will temporarily stop sending output\n",
      "to the client in order to avoid crashing it.\n",
      "To change this limit, set the config variable\n",
      "`--NotebookApp.iopub_msg_rate_limit`.\n",
      "\n",
      "Current values:\n",
      "NotebookApp.iopub_msg_rate_limit=1000.0 (msgs/sec)\n",
      "NotebookApp.rate_limit_window=3.0 (secs)\n",
      "\n"
     ]
    },
    {
     "name": "stdout",
     "output_type": "stream",
     "text": [
      " 57376 / 61182"
     ]
    },
    {
     "name": "stderr",
     "output_type": "stream",
     "text": [
      "IOPub message rate exceeded.\n",
      "The notebook server will temporarily stop sending output\n",
      "to the client in order to avoid crashing it.\n",
      "To change this limit, set the config variable\n",
      "`--NotebookApp.iopub_msg_rate_limit`.\n",
      "\n",
      "Current values:\n",
      "NotebookApp.iopub_msg_rate_limit=1000.0 (msgs/sec)\n",
      "NotebookApp.rate_limit_window=3.0 (secs)\n",
      "\n"
     ]
    },
    {
     "name": "stdout",
     "output_type": "stream",
     "text": [
      " 59904 / 61182"
     ]
    },
    {
     "name": "stderr",
     "output_type": "stream",
     "text": [
      "IOPub message rate exceeded.\n",
      "The notebook server will temporarily stop sending output\n",
      "to the client in order to avoid crashing it.\n",
      "To change this limit, set the config variable\n",
      "`--NotebookApp.iopub_msg_rate_limit`.\n",
      "\n",
      "Current values:\n",
      "NotebookApp.iopub_msg_rate_limit=1000.0 (msgs/sec)\n",
      "NotebookApp.rate_limit_window=3.0 (secs)\n",
      "\n"
     ]
    },
    {
     "name": "stdout",
     "output_type": "stream",
     "text": [
      " 61178 /6118058183\n",
      "58183\n",
      "58183\n",
      "58183\n",
      "58183\n",
      "58183\n"
     ]
    }
   ],
   "source": [
    "# previously implemented extraction script from a database of quinones we gathered\n",
    "# names are strings in the smiles format\n",
    "names, ret, homo, homo1, diff = selfies()\n",
    "print(len(names))"
   ]
  },
  {
   "cell_type": "code",
   "execution_count": 4,
   "metadata": {},
   "outputs": [
    {
     "name": "stdout",
     "output_type": "stream",
     "text": [
      "--> Translating SMILES to SELFIES...\n",
      "Finished translating SMILES to SELFIES.\n"
     ]
    }
   ],
   "source": [
    "# convert from smiles to selfies (different formats)\n",
    "\n",
    "selfies_list, selfies_alphabet, largest_selfies_len,\\\n",
    "smiles_list, smiles_alphabet, largest_smiles_len\\\n",
    "= get_selfie_and_smiles_encodings_for_dataset(names)\n",
    "\n",
    "data = multiple_selfies_to_hot(selfies_list, largest_selfies_len,\\\n",
    "                                       selfies_alphabet)\n",
    "\n",
    "max_mol_len = data.shape[1]\n",
    "alpha_len = data.shape[2]\n",
    "len_alphabet_mol = alpha_len * max_mol_len"
   ]
  },
  {
   "cell_type": "code",
   "execution_count": 5,
   "metadata": {},
   "outputs": [
    {
     "name": "stdout",
     "output_type": "stream",
     "text": [
      "(58183, 60, 30)\n"
     ]
    }
   ],
   "source": [
    "print(np.shape(data))"
   ]
  },
  {
   "cell_type": "markdown",
   "metadata": {},
   "source": [
    "# NN Autoencoder"
   ]
  },
  {
   "cell_type": "code",
   "execution_count": 6,
   "metadata": {},
   "outputs": [
    {
     "name": "stdout",
     "output_type": "stream",
     "text": [
      "data per sample: 1800\n",
      "Model: \"functional_1\"\n",
      "_________________________________________________________________\n",
      "Layer (type)                 Output Shape              Param #   \n",
      "=================================================================\n",
      "input_1 (InputLayer)         [(None, 1800)]            0         \n",
      "_________________________________________________________________\n",
      "dense (Dense)                (None, 128)               230528    \n",
      "_________________________________________________________________\n",
      "dense_1 (Dense)              (None, 128)               16512     \n",
      "_________________________________________________________________\n",
      "dense_2 (Dense)              (None, 128)               16512     \n",
      "_________________________________________________________________\n",
      "dense_3 (Dense)              (None, 64)                8256      \n",
      "_________________________________________________________________\n",
      "dense_4 (Dense)              (None, 128)               8320      \n",
      "_________________________________________________________________\n",
      "dense_5 (Dense)              (None, 128)               16512     \n",
      "_________________________________________________________________\n",
      "dense_6 (Dense)              (None, 128)               16512     \n",
      "_________________________________________________________________\n",
      "dense_7 (Dense)              (None, 1800)              232200    \n",
      "=================================================================\n",
      "Total params: 545,352\n",
      "Trainable params: 545,352\n",
      "Non-trainable params: 0\n",
      "_________________________________________________________________\n",
      "Epoch 1/40\n",
      "728/728 [==============================] - 1s 2ms/step - loss: 0.0189 - val_loss: 0.0115\n",
      "Epoch 2/40\n",
      "728/728 [==============================] - 1s 2ms/step - loss: 0.0089 - val_loss: 0.0098\n",
      "Epoch 3/40\n",
      "728/728 [==============================] - 1s 2ms/step - loss: 0.0073 - val_loss: 0.0091\n",
      "Epoch 4/40\n",
      "728/728 [==============================] - 1s 2ms/step - loss: 0.0066 - val_loss: 0.0087\n",
      "Epoch 5/40\n",
      "728/728 [==============================] - 1s 2ms/step - loss: 0.0060 - val_loss: 0.0084\n",
      "Epoch 6/40\n",
      "728/728 [==============================] - 1s 2ms/step - loss: 0.0056 - val_loss: 0.0081\n",
      "Epoch 7/40\n",
      "728/728 [==============================] - 1s 2ms/step - loss: 0.0051 - val_loss: 0.0075\n",
      "Epoch 8/40\n",
      "728/728 [==============================] - 1s 2ms/step - loss: 0.0046 - val_loss: 0.0072\n",
      "Epoch 9/40\n",
      "728/728 [==============================] - 1s 2ms/step - loss: 0.0044 - val_loss: 0.0071\n",
      "Epoch 10/40\n",
      "728/728 [==============================] - 1s 2ms/step - loss: 0.0041 - val_loss: 0.0069\n",
      "Epoch 11/40\n",
      "728/728 [==============================] - 1s 2ms/step - loss: 0.0039 - val_loss: 0.0067\n",
      "Epoch 12/40\n",
      "728/728 [==============================] - 1s 2ms/step - loss: 0.0037 - val_loss: 0.0066\n",
      "Epoch 13/40\n",
      "728/728 [==============================] - 1s 2ms/step - loss: 0.0035 - val_loss: 0.0063\n",
      "Epoch 14/40\n",
      "728/728 [==============================] - 1s 2ms/step - loss: 0.0034 - val_loss: 0.0062\n",
      "Epoch 15/40\n",
      "728/728 [==============================] - 1s 2ms/step - loss: 0.0033 - val_loss: 0.0063\n",
      "Epoch 16/40\n",
      "728/728 [==============================] - 1s 2ms/step - loss: 0.0032 - val_loss: 0.0060\n",
      "Epoch 17/40\n",
      "728/728 [==============================] - 1s 2ms/step - loss: 0.0031 - val_loss: 0.0061\n",
      "Epoch 18/40\n",
      "728/728 [==============================] - 1s 2ms/step - loss: 0.0030 - val_loss: 0.0060\n",
      "Epoch 19/40\n",
      "728/728 [==============================] - 1s 2ms/step - loss: 0.0029 - val_loss: 0.0059\n",
      "Epoch 20/40\n",
      "728/728 [==============================] - 1s 2ms/step - loss: 0.0029 - val_loss: 0.0058\n",
      "Epoch 21/40\n",
      "728/728 [==============================] - 1s 2ms/step - loss: 0.0028 - val_loss: 0.0060\n",
      "Epoch 22/40\n",
      "728/728 [==============================] - 1s 2ms/step - loss: 0.0027 - val_loss: 0.0059\n",
      "Epoch 23/40\n",
      "728/728 [==============================] - 1s 2ms/step - loss: 0.0027 - val_loss: 0.0057\n",
      "Epoch 24/40\n",
      "728/728 [==============================] - 1s 2ms/step - loss: 0.0027 - val_loss: 0.0057\n",
      "Epoch 25/40\n",
      "728/728 [==============================] - 1s 2ms/step - loss: 0.0026 - val_loss: 0.0058\n",
      "Epoch 26/40\n",
      "728/728 [==============================] - 1s 2ms/step - loss: 0.0026 - val_loss: 0.0056\n",
      "Epoch 27/40\n",
      "728/728 [==============================] - 1s 2ms/step - loss: 0.0025 - val_loss: 0.0057\n",
      "Epoch 28/40\n",
      "728/728 [==============================] - 1s 2ms/step - loss: 0.0025 - val_loss: 0.0055\n",
      "Epoch 29/40\n",
      "728/728 [==============================] - 1s 2ms/step - loss: 0.0024 - val_loss: 0.0054\n",
      "Epoch 30/40\n",
      "728/728 [==============================] - 1s 2ms/step - loss: 0.0024 - val_loss: 0.0053\n",
      "Epoch 31/40\n",
      "728/728 [==============================] - 1s 2ms/step - loss: 0.0023 - val_loss: 0.0053\n",
      "Epoch 32/40\n",
      "728/728 [==============================] - 1s 2ms/step - loss: 0.0023 - val_loss: 0.0053\n",
      "Epoch 33/40\n",
      "728/728 [==============================] - 1s 2ms/step - loss: 0.0023 - val_loss: 0.0055\n",
      "Epoch 34/40\n",
      "728/728 [==============================] - 1s 2ms/step - loss: 0.0023 - val_loss: 0.0053\n",
      "Epoch 35/40\n",
      "728/728 [==============================] - 1s 2ms/step - loss: 0.0022 - val_loss: 0.0052\n",
      "Epoch 36/40\n",
      "728/728 [==============================] - 1s 2ms/step - loss: 0.0022 - val_loss: 0.0052\n",
      "Epoch 37/40\n",
      "728/728 [==============================] - 1s 2ms/step - loss: 0.0022 - val_loss: 0.0052\n",
      "Epoch 38/40\n",
      "728/728 [==============================] - 1s 2ms/step - loss: 0.0022 - val_loss: 0.0053\n",
      "Epoch 39/40\n",
      "728/728 [==============================] - 1s 2ms/step - loss: 0.0022 - val_loss: 0.0053\n",
      "Epoch 40/40\n",
      "728/728 [==============================] - 1s 2ms/step - loss: 0.0022 - val_loss: 0.0053\n"
     ]
    }
   ],
   "source": [
    "# simple autoencoder --------------------------\n",
    "\n",
    "#encoder\n",
    "data_reshape = data.reshape(data.shape[0], data.shape[1] * data.shape[2])\n",
    "x_train = data_reshape[0:int(data.shape[0] * 0.8)]\n",
    "x_test = data_reshape[int(data.shape[0] * 0.8):-1]\n",
    "\n",
    "print(\"data per sample: \"+ str(data.shape[1] * data.shape[2]))\n",
    "latent_dim = 64\n",
    "\n",
    "encoder_inputs = keras.Input(shape=(data.shape[1] *  data.shape[2]* 1))\n",
    "# encode\n",
    "x = layers.Dense(128, activation='relu')(encoder_inputs)\n",
    "x = layers.Dense(128, activation='relu')(x)\n",
    "x = layers.Dense(128, activation='relu')(x)\n",
    "\n",
    "#hidden\n",
    "x = layers.Dense(latent_dim, activation= \"relu\")(x)\n",
    "#decode\n",
    "x = layers.Dense(128, activation='relu')(x)\n",
    "x = layers.Dense(128, activation='relu')(x)\n",
    "x = layers.Dense(128, activation='relu')(x)\n",
    "\n",
    "decoded = layers.Dense(1800, activation='sigmoid')(x)\n",
    "model = keras.Model(encoder_inputs, decoded)\n",
    "\n",
    "model.compile(optimizer=keras.optimizers.Adam(), loss = \"MSE\")\n",
    "model.summary()\n",
    "history = model.fit(x_train, x_train, epochs=40, batch_size = 64,\n",
    "                   validation_data=(x_test, x_test))"
   ]
  },
  {
   "cell_type": "code",
   "execution_count": 7,
   "metadata": {},
   "outputs": [
    {
     "name": "stdout",
     "output_type": "stream",
     "text": [
      "Model: \"functional_1\"\n",
      "_________________________________________________________________\n",
      "Layer (type)                 Output Shape              Param #   \n",
      "=================================================================\n",
      "input_1 (InputLayer)         [(None, 1800)]            0         \n",
      "_________________________________________________________________\n",
      "dense (Dense)                (None, 128)               230528    \n",
      "_________________________________________________________________\n",
      "dense_1 (Dense)              (None, 128)               16512     \n",
      "_________________________________________________________________\n",
      "dense_2 (Dense)              (None, 128)               16512     \n",
      "_________________________________________________________________\n",
      "dense_3 (Dense)              (None, 64)                8256      \n",
      "_________________________________________________________________\n",
      "dense_4 (Dense)              (None, 128)               8320      \n",
      "_________________________________________________________________\n",
      "dense_5 (Dense)              (None, 128)               16512     \n",
      "_________________________________________________________________\n",
      "dense_6 (Dense)              (None, 128)               16512     \n",
      "_________________________________________________________________\n",
      "dense_7 (Dense)              (None, 1800)              232200    \n",
      "=================================================================\n",
      "Total params: 545,352\n",
      "Trainable params: 545,352\n",
      "Non-trainable params: 0\n",
      "_________________________________________________________________\n"
     ]
    },
    {
     "data": {
      "text/plain": [
       "Text(0.5, 1.0, 'NN Autoencoder Training Loss')"
      ]
     },
     "execution_count": 7,
     "metadata": {},
     "output_type": "execute_result"
    },
    {
     "data": {
      "image/png": "[encoded data removed]",
      "text/plain": [
       "<Figure size 432x288 with 1 Axes>"
      ]
     },
     "metadata": {
      "needs_background": "light"
     },
     "output_type": "display_data"
    }
   ],
   "source": [
    "# Encoder component extracted \n",
    "model.summary()\n",
    "\n",
    "x_test = data_reshape[int(data.shape[0] * 0.8):-1]\n",
    "\n",
    "#earlyPredictor = keras.Model(\\\n",
    "#    model.inputs,model.get_layer(\"dense_50\").output)\n",
    "# use compress rep to make another neural network to predict energy\n",
    "#compress_rep = earlyPredictor.predict(x_test)\n",
    "\n",
    "\n",
    "import matplotlib.pyplot as plt \n",
    "plt.plot(history.history[\"loss\"], label = \"Loss\")\n",
    "plt.plot(history.history[\"val_loss\"], label= \"Val. Loss\")\n",
    "plt.legend()\n",
    "plt.xlabel(\"Epochs\")\n",
    "plt.ylabel(\"MSE Loss\")\n",
    "plt.title(\"NN Autoencoder Training Loss\")"
   ]
  },
  {
   "cell_type": "code",
   "execution_count": 8,
   "metadata": {},
   "outputs": [
    {
     "name": "stdout",
     "output_type": "stream",
     "text": [
      "Autoencoded Smiles: CCc1c([O])c(N(O)O)c(NC)c([O])c1Cc1ccccc1\n",
      "True Smiles: COc1c([O])c(Cc2ccccc2)c(CO)c([O])c1N(O)O\n",
      "Percent Reconstructed Molescules: 0.00266414575455483\n"
     ]
    }
   ],
   "source": [
    "# Reconstruction Accuracy Test\n",
    "\n",
    "\n",
    "################### AUTOENCODER TEST SCRIPTS\n",
    "\n",
    "encode_self = sf.encoder(names[10])\n",
    "decoded_smiles = sf.decoder(encode_self)\n",
    "#print(decoded_smiles)\n",
    "\n",
    "# full dataset\n",
    "autoencode_out = model.predict(x_test)\n",
    "autoencode_out_reshape = autoencode_out.reshape((len(x_test), data.shape[1], data.shape[2]))\n",
    "\n",
    "\n",
    "# single point - through vae\n",
    "one_hot = np.zeros((data.shape[1], data.shape[2]))\n",
    "#print(np.shape(one_hot))\n",
    "for i,j  in enumerate(autoencode_out_reshape[10]):\n",
    "    lab_temp = np.argmax(j)\n",
    "    one_hot[i][lab_temp] = 1\n",
    "autoencode_out = autoencode_out_reshape\n",
    "\n",
    "#single point - non vae\n",
    "one_hot_true = np.zeros((data.shape[1], data.shape[2]))\n",
    "for i,j  in enumerate(x_test[10].reshape(data.shape[1], data.shape[2])):\n",
    "    lab_temp = np.argmax(j)\n",
    "    one_hot_true[i][lab_temp] = 1\n",
    "\n",
    "       \n",
    "\n",
    "# single point - test data\n",
    "self_test = sf.encoding_to_selfies(one_hot.tolist(), selfies_alphabet, \"one_hot\")\n",
    "self_true = sf.encoding_to_selfies(one_hot_true.tolist(), selfies_alphabet, \"one_hot\")\n",
    "\n",
    "smile_test = sf.decoder(self_test)\n",
    "smile_true = sf.decoder(self_true)\n",
    "\n",
    "################### AUTOENCODER TEST SCRIPTS - Full test script\n",
    "compare_equality(x_test.reshape(x_test.shape[0], data.shape[1], data.shape[2]), autoencode_out_reshape, (data.shape[1], data.shape[2]), selfies_alphabet)\n",
    "\n",
    "\n"
   ]
  },
  {
   "cell_type": "code",
   "execution_count": 9,
   "metadata": {},
   "outputs": [
    {
     "data": {
      "text/plain": [
       "Text(0.5, 0, 'Similarity (Higher is Better)')"
      ]
     },
     "execution_count": 9,
     "metadata": {},
     "output_type": "execute_result"
    },
    {
     "data": {
      "image/png": "[encoded data removed]",
      "text/plain": [
       "<Figure size 432x288 with 1 Axes>"
      ]
     },
     "metadata": {
      "needs_background": "light"
     },
     "output_type": "display_data"
    }
   ],
   "source": [
    "dist = tanimoto_dist(\n",
    "    x_test.reshape(x_test.shape[0], data.shape[1], data.shape[2]), \n",
    "    autoencode_out_reshape, (data.shape[1], data.shape[2]), \n",
    "    selfies_alphabet)\n",
    "\n",
    "sns.histplot(dist)\n",
    "plt.title(\"Distribution of Tanimoto metric, NN Autoencoder\")\n",
    "plt.ylabel(\"Count\")\n",
    "plt.xlabel(\"Similarity (Higher is Better)\")"
   ]
  },
  {
   "cell_type": "markdown",
   "metadata": {},
   "source": [
    "# LTSM Autoencoder"
   ]
  },
  {
   "cell_type": "code",
   "execution_count": 10,
   "metadata": {
    "scrolled": true
   },
   "outputs": [
    {
     "name": "stdout",
     "output_type": "stream",
     "text": [
      "(58183, 60, 30)\n",
      "Model: \"functional_3\"\n",
      "_________________________________________________________________\n",
      "Layer (type)                 Output Shape              Param #   \n",
      "=================================================================\n",
      "input_2 (InputLayer)         [(None, 60, 30)]          0         \n",
      "_________________________________________________________________\n",
      "lstm (LSTM)                  (None, 60, 512)           1112064   \n",
      "_________________________________________________________________\n",
      "lstm_1 (LSTM)                (None, 60, 128)           328192    \n",
      "_________________________________________________________________\n",
      "lstm_5 (LSTM)                (None, 60, 30)            19080     \n",
      "=================================================================\n",
      "Total params: 1,459,336\n",
      "Trainable params: 1,459,336\n",
      "Non-trainable params: 0\n",
      "_________________________________________________________________\n",
      "Epoch 1/15\n",
      "91/91 [==============================] - 6s 61ms/step - loss: 0.0202 - root_mean_squared_error: 0.1420 - val_loss: 0.0170 - val_root_mean_squared_error: 0.1302\n",
      "Epoch 2/15\n",
      "91/91 [==============================] - 5s 56ms/step - loss: 0.0166 - root_mean_squared_error: 0.1289 - val_loss: 0.0127 - val_root_mean_squared_error: 0.1128\n",
      "Epoch 3/15\n",
      "91/91 [==============================] - 5s 56ms/step - loss: 0.0083 - root_mean_squared_error: 0.0913 - val_loss: 0.0046 - val_root_mean_squared_error: 0.0681\n",
      "Epoch 4/15\n",
      "91/91 [==============================] - 5s 56ms/step - loss: 0.0031 - root_mean_squared_error: 0.0553 - val_loss: 0.0020 - val_root_mean_squared_error: 0.0445\n",
      "Epoch 5/15\n",
      "91/91 [==============================] - 5s 54ms/step - loss: 0.0014 - root_mean_squared_error: 0.0373 - val_loss: 0.0013 - val_root_mean_squared_error: 0.0361\n",
      "Epoch 6/15\n",
      "91/91 [==============================] - 5s 56ms/step - loss: 8.7803e-04 - root_mean_squared_error: 0.0296 - val_loss: 7.5228e-04 - val_root_mean_squared_error: 0.0274\n",
      "Epoch 7/15\n",
      "91/91 [==============================] - 5s 55ms/step - loss: 5.1071e-04 - root_mean_squared_error: 0.0226 - val_loss: 5.6256e-04 - val_root_mean_squared_error: 0.0237\n",
      "Epoch 8/15\n",
      "91/91 [==============================] - 5s 55ms/step - loss: 3.9648e-04 - root_mean_squared_error: 0.0199 - val_loss: 4.9643e-04 - val_root_mean_squared_error: 0.0223\n",
      "Epoch 9/15\n",
      "91/91 [==============================] - 5s 56ms/step - loss: 3.4605e-04 - root_mean_squared_error: 0.0186 - val_loss: 4.6305e-04 - val_root_mean_squared_error: 0.0215\n",
      "Epoch 10/15\n",
      "91/91 [==============================] - 5s 57ms/step - loss: 3.2008e-04 - root_mean_squared_error: 0.0179 - val_loss: 4.4223e-04 - val_root_mean_squared_error: 0.0210\n",
      "Epoch 11/15\n",
      "91/91 [==============================] - 5s 55ms/step - loss: 3.0061e-04 - root_mean_squared_error: 0.0173 - val_loss: 4.1994e-04 - val_root_mean_squared_error: 0.0205\n",
      "Epoch 12/15\n",
      "91/91 [==============================] - 5s 55ms/step - loss: 2.6248e-04 - root_mean_squared_error: 0.0162 - val_loss: 3.8811e-04 - val_root_mean_squared_error: 0.0197\n",
      "Epoch 13/15\n",
      "91/91 [==============================] - 5s 55ms/step - loss: 2.4149e-04 - root_mean_squared_error: 0.0155 - val_loss: 3.7451e-04 - val_root_mean_squared_error: 0.0194\n",
      "Epoch 14/15\n",
      "91/91 [==============================] - 5s 55ms/step - loss: 1.9010e-04 - root_mean_squared_error: 0.0138 - val_loss: 2.6144e-04 - val_root_mean_squared_error: 0.0162\n",
      "Epoch 15/15\n",
      "91/91 [==============================] - 5s 54ms/step - loss: 1.0968e-04 - root_mean_squared_error: 0.0105 - val_loss: 2.5025e-04 - val_root_mean_squared_error: 0.0158\n"
     ]
    }
   ],
   "source": [
    "# LSTM Auto encoder\n",
    "\n",
    "print(data.shape)\n",
    "#print(data[0])\n",
    "\n",
    "data_reshape = data.reshape(data.shape[0], data.shape[1] * data.shape[2])\n",
    "x_train = data[0:int(data.shape[0] * 0.8)]\n",
    "x_test = data[int(data.shape[0] * 0.8):-1]\n",
    "\n",
    "timesteps = data.shape[1]\n",
    "input_dim = data.shape[2]\n",
    "latent_dim = 64\n",
    "\n",
    "\n",
    "inputs = keras.Input(shape=(timesteps, input_dim))\n",
    "\n",
    "encoded = layers.LSTM(512,return_sequences=True)(inputs)\n",
    "encoded = layers.LSTM(128,return_sequences=True)(encoded)\n",
    "encoder = layers.LSTM(latent_dim,return_sequences=True)(encoded)\n",
    "\n",
    "# batch norm??\n",
    "decoded = layers.LSTM(128,return_sequences=True)(encoder)\n",
    "decoded = layers.LSTM(512,return_sequences=True)(decoded)\n",
    "decoder = layers.LSTM(input_dim, return_sequences=True)(encoded)\n",
    "\n",
    "sequence_autoencoder = keras.Model(inputs, decoder)\n",
    "encoder = keras.Model(inputs, encoded)\n",
    "\n",
    "\n",
    "\n",
    "sequence_autoencoder.compile(optimizer=keras.optimizers.Adam(), \n",
    "                             loss = \"mse\",\n",
    "                            metrics=[tf.keras.metrics.RootMeanSquaredError()])\n",
    "sequence_autoencoder.summary()\n",
    "\n",
    "history = sequence_autoencoder.fit(x_train, x_train, epochs=15, batch_size=512, \n",
    "                   validation_data=(x_test, x_test))"
   ]
  },
  {
   "cell_type": "code",
   "execution_count": 11,
   "metadata": {},
   "outputs": [
    {
     "data": {
      "text/plain": [
       "Text(0.5, 1.0, 'LTSM Autoencoder Training Loss')"
      ]
     },
     "execution_count": 11,
     "metadata": {},
     "output_type": "execute_result"
    },
    {
     "data": {
      "image/png": "[encoded data removed]",
      "text/plain": [
       "<Figure size 432x288 with 1 Axes>"
      ]
     },
     "metadata": {
      "needs_background": "light"
     },
     "output_type": "display_data"
    }
   ],
   "source": [
    "import matplotlib.pyplot as plt \n",
    "plt.plot(history.history[\"loss\"], label = \"Loss\")\n",
    "plt.plot(history.history[\"val_loss\"], label= \"Val. Loss\")\n",
    "plt.legend()\n",
    "plt.xlabel(\"Epochs\")\n",
    "plt.ylabel(\"MSE Loss\")\n",
    "plt.title(\"LTSM Autoencoder Training Loss\")"
   ]
  },
  {
   "cell_type": "code",
   "execution_count": 12,
   "metadata": {},
   "outputs": [
    {
     "name": "stdout",
     "output_type": "stream",
     "text": [
      "(11636, 60, 30)\n",
      "(11636, 60, 30)\n",
      "Autoencoded Smiles: COc1c([O])c(Cc2ccccc2)c(CO)c([O])c1N(O)O\n",
      "True Smiles: COc1c([O])c(Cc2ccccc2)c(CO)c([O])c1N(O)O\n",
      "Percent Reconstructed Molescules: 0.8058611206600206\n"
     ]
    }
   ],
   "source": [
    "autoencode_out = sequence_autoencoder.predict(x_test)\n",
    "autoencode_out_reshape = autoencode_out.reshape((len(x_test), data.shape[1], data.shape[2]))\n",
    "################### AUTOENCODER TEST SCRIPTS - Full test script\n",
    "print(np.shape(x_test.reshape(x_test.shape[0], data.shape[1], data.shape[2])))\n",
    "print(np.shape(autoencode_out_reshape))\n",
    "compare_equality(x_test.reshape(x_test.shape[0], data.shape[1], data.shape[2]), autoencode_out_reshape, \n",
    "                 (data.shape[1], data.shape[2]), selfies_alphabet)"
   ]
  },
  {
   "cell_type": "code",
   "execution_count": 13,
   "metadata": {},
   "outputs": [
    {
     "data": {
      "text/plain": [
       "Text(0.5, 0, 'Similarity (Higher is Better)')"
      ]
     },
     "execution_count": 13,
     "metadata": {},
     "output_type": "execute_result"
    },
    {
     "data": {
      "image/png": "[encoded data removed]",
      "text/plain": [
       "<Figure size 432x288 with 1 Axes>"
      ]
     },
     "metadata": {
      "needs_background": "light"
     },
     "output_type": "display_data"
    }
   ],
   "source": [
    "dist = tanimoto_dist(\n",
    "    x_test.reshape(x_test.shape[0], data.shape[1], data.shape[2]), \n",
    "    autoencode_out_reshape, (data.shape[1], data.shape[2]), \n",
    "    selfies_alphabet)\n",
    "\n",
    "sns.histplot(dist)\n",
    "plt.title(\"Distribution of Tanimoto metric, LSTM Autoencoder\")\n",
    "plt.ylabel(\"Count\")\n",
    "plt.xlabel(\"Similarity (Higher is Better)\")"
   ]
  },
  {
   "cell_type": "code",
   "execution_count": 14,
   "metadata": {},
   "outputs": [
    {
     "name": "stdout",
     "output_type": "stream",
     "text": [
      "(46546, 60, 30)\n",
      "(46546, 60, 30)\n",
      "Autoencoded Smiles: COC(=O)C1=C(Br)C(=O)C=CC1=O\n",
      "True Smiles: COC(=O)C1=C(Br)C(=O)C=CC1=O\n",
      "Percent Reconstructed Molescules: 0.9965410561594982\n"
     ]
    },
    {
     "data": {
      "text/plain": [
       "Text(0.5, 0, 'Similarity (Higher is Better)')"
      ]
     },
     "execution_count": 14,
     "metadata": {},
     "output_type": "execute_result"
    },
    {
     "data": {
      "image/png": "[encoded data removed]",
      "text/plain": [
       "<Figure size 432x288 with 1 Axes>"
      ]
     },
     "metadata": {
      "needs_background": "light"
     },
     "output_type": "display_data"
    }
   ],
   "source": [
    "autoencode_out = sequence_autoencoder.predict(x_train)\n",
    "autoencode_out_reshape = autoencode_out.reshape((len(x_train), data.shape[1], data.shape[2]))\n",
    "################### AUTOENCODER TEST SCRIPTS - Full test script\n",
    "print(np.shape(x_train.reshape(x_train.shape[0], data.shape[1], data.shape[2])))\n",
    "print(np.shape(autoencode_out_reshape))\n",
    "compare_equality(x_train.reshape(x_train.shape[0], data.shape[1], data.shape[2]), autoencode_out_reshape, \n",
    "                 (data.shape[1], data.shape[2]), selfies_alphabet)\n",
    "\n",
    "dist = tanimoto_dist(\n",
    "    x_train.reshape(x_train.shape[0], data.shape[1], data.shape[2]), \n",
    "    autoencode_out_reshape, (data.shape[1], data.shape[2]), \n",
    "    selfies_alphabet)\n",
    "\n",
    "sns.histplot(dist)\n",
    "plt.title(\"Distribution of Tanimoto metric, LSTM Autoencoder\")\n",
    "plt.ylabel(\"Count\")\n",
    "plt.xlabel(\"Similarity (Higher is Better)\")"
   ]
  },
  {
   "cell_type": "code",
   "execution_count": 15,
   "metadata": {},
   "outputs": [],
   "source": [
    "x_test_encoded = encoder.predict(x_test)\n",
    "x_test_encoded_reshape = x_test_encoded.reshape(x_test_encoded.shape[0], x_test_encoded.shape[1] * x_test_encoded.shape[2])\n",
    "x_train_encoded = encoder.predict(x_train)\n",
    "x_train_encoded_reshape = x_train_encoded.reshape(x_train_encoded.shape[0], x_train_encoded.shape[1] * x_train_encoded.shape[2])"
   ]
  },
  {
   "cell_type": "code",
   "execution_count": 16,
   "metadata": {},
   "outputs": [
    {
     "name": "stdout",
     "output_type": "stream",
     "text": [
      "(60, 128)\n",
      "(60, 128)\n"
     ]
    }
   ],
   "source": [
    "diff_train = diff[0:int(data.shape[0] * 0.8)]\n",
    "diff_test = diff[int(data.shape[0] * 0.8):-1]\n",
    "print(np.shape(x_test_encoded[0]))\n",
    "print(np.shape(x_train_encoded[0]))\n",
    "encode_dim = np.shape(x_test_encoded[0])\n",
    "x_test_encoded = x_test_encoded.reshape(-1, encode_dim[0], encode_dim[1])\n",
    "x_train_encoded = x_train_encoded.reshape(-1, encode_dim[0], encode_dim[1])"
   ]
  },
  {
   "cell_type": "code",
   "execution_count": 17,
   "metadata": {},
   "outputs": [
    {
     "name": "stdout",
     "output_type": "stream",
     "text": [
      "60 128\n"
     ]
    }
   ],
   "source": [
    "print(encode_dim[0], encode_dim[1])"
   ]
  },
  {
   "cell_type": "code",
   "execution_count": 18,
   "metadata": {},
   "outputs": [
    {
     "name": "stdout",
     "output_type": "stream",
     "text": [
      "Model: \"sequential\"\n",
      "_________________________________________________________________\n",
      "Layer (type)                 Output Shape              Param #   \n",
      "=================================================================\n",
      "conv2d (Conv2D)              (None, 57, 125, 64)       1088      \n",
      "_________________________________________________________________\n",
      "max_pooling2d (MaxPooling2D) (None, 14, 31, 64)        0         \n",
      "_________________________________________________________________\n",
      "conv2d_1 (Conv2D)            (None, 11, 28, 32)        32800     \n",
      "_________________________________________________________________\n",
      "max_pooling2d_1 (MaxPooling2 (None, 1, 4, 32)          0         \n",
      "_________________________________________________________________\n",
      "flatten (Flatten)            (None, 128)               0         \n",
      "_________________________________________________________________\n",
      "dropout (Dropout)            (None, 128)               0         \n",
      "_________________________________________________________________\n",
      "dense_8 (Dense)              (None, 1024)              132096    \n",
      "_________________________________________________________________\n",
      "dropout_1 (Dropout)          (None, 1024)              0         \n",
      "_________________________________________________________________\n",
      "dense_9 (Dense)              (None, 1)                 1025      \n",
      "=================================================================\n",
      "Total params: 167,009\n",
      "Trainable params: 167,009\n",
      "Non-trainable params: 0\n",
      "_________________________________________________________________\n"
     ]
    }
   ],
   "source": [
    "from tensorflow.keras.models import Sequential\n",
    "\n",
    "model = Sequential()\n",
    "\n",
    "model.add(layers.Conv2D(filters=64, kernel_size=4, activation='relu', input_shape=(encode_dim[0], encode_dim[1],1),\n",
    "                 strides=1, data_format=\"channels_last\"))\n",
    "model.add(layers.MaxPooling2D(pool_size=4))\n",
    "model.add(layers.Conv2D(filters=32, kernel_size=4, activation='relu',\n",
    "                 strides=1, data_format=\"channels_last\"))\n",
    "model.add(layers.MaxPooling2D(pool_size=6))\n",
    "model.add(layers.Flatten())\n",
    "model.add(layers.Dropout(0.25))\n",
    "model.add(layers.Dense(1024, activation=\"relu\"))\n",
    "model.add(layers.Dropout(0.25))\n",
    "model.add(layers.Dense(1, activation=\"linear\"))\n",
    "\n",
    "model.summary()\n",
    "model.compile(optimizer='adam', loss=\"MSE\", metrics=[\"MeanSquaredError\"])\n"
   ]
  },
  {
   "cell_type": "code",
   "execution_count": 20,
   "metadata": {},
   "outputs": [
    {
     "name": "stdout",
     "output_type": "stream",
     "text": [
      "Epoch 1/50\n"
     ]
    },
    {
     "ename": "ValueError",
     "evalue": "in user code:\n\n    /home/santiagovargas/anaconda3/envs/tf_gpu/lib/python3.7/site-packages/tensorflow/python/keras/engine/training.py:806 train_function  *\n        return step_function(self, iterator)\n    /home/santiagovargas/anaconda3/envs/tf_gpu/lib/python3.7/site-packages/tensorflow/python/keras/engine/training.py:796 step_function  **\n        outputs = model.distribute_strategy.run(run_step, args=(data,))\n    /home/santiagovargas/anaconda3/envs/tf_gpu/lib/python3.7/site-packages/tensorflow/python/distribute/distribute_lib.py:1211 run\n        return self._extended.call_for_each_replica(fn, args=args, kwargs=kwargs)\n    /home/santiagovargas/anaconda3/envs/tf_gpu/lib/python3.7/site-packages/tensorflow/python/distribute/distribute_lib.py:2585 call_for_each_replica\n        return self._call_for_each_replica(fn, args, kwargs)\n    /home/santiagovargas/anaconda3/envs/tf_gpu/lib/python3.7/site-packages/tensorflow/python/distribute/distribute_lib.py:2945 _call_for_each_replica\n        return fn(*args, **kwargs)\n    /home/santiagovargas/anaconda3/envs/tf_gpu/lib/python3.7/site-packages/tensorflow/python/keras/engine/training.py:789 run_step  **\n        outputs = model.train_step(data)\n    /home/santiagovargas/anaconda3/envs/tf_gpu/lib/python3.7/site-packages/tensorflow/python/keras/engine/training.py:747 train_step\n        y_pred = self(x, training=True)\n    /home/santiagovargas/anaconda3/envs/tf_gpu/lib/python3.7/site-packages/tensorflow/python/keras/engine/base_layer.py:976 __call__\n        self.name)\n    /home/santiagovargas/anaconda3/envs/tf_gpu/lib/python3.7/site-packages/tensorflow/python/keras/engine/input_spec.py:196 assert_input_compatibility\n        str(x.shape.as_list()))\n\n    ValueError: Input 0 of layer sequential is incompatible with the layer: : expected min_ndim=4, found ndim=3. Full shape received: [None, 60, 128]\n",
     "output_type": "error",
     "traceback": [
      "\u001b[0;31m---------------------------------------------------------------------------\u001b[0m",
      "\u001b[0;31mValueError\u001b[0m                                Traceback (most recent call last)",
      "\u001b[0;32m<ipython-input-20-8f16dda10a65>\u001b[0m in \u001b[0;36m<module>\u001b[0;34m\u001b[0m\n\u001b[1;32m      1\u001b[0m hist = model.fit(np.array(x_train_encoded), scale(diff_train), epochs=50,\n\u001b[0;32m----> 2\u001b[0;31m                 validation_split=0.15)\n\u001b[0m",
      "\u001b[0;32m~/anaconda3/envs/tf_gpu/lib/python3.7/site-packages/tensorflow/python/keras/engine/training.py\u001b[0m in \u001b[0;36m_method_wrapper\u001b[0;34m(self, *args, **kwargs)\u001b[0m\n\u001b[1;32m    106\u001b[0m   \u001b[0;32mdef\u001b[0m \u001b[0m_method_wrapper\u001b[0m\u001b[0;34m(\u001b[0m\u001b[0mself\u001b[0m\u001b[0;34m,\u001b[0m \u001b[0;34m*\u001b[0m\u001b[0margs\u001b[0m\u001b[0;34m,\u001b[0m \u001b[0;34m**\u001b[0m\u001b[0mkwargs\u001b[0m\u001b[0;34m)\u001b[0m\u001b[0;34m:\u001b[0m\u001b[0;34m\u001b[0m\u001b[0;34m\u001b[0m\u001b[0m\n\u001b[1;32m    107\u001b[0m     \u001b[0;32mif\u001b[0m \u001b[0;32mnot\u001b[0m \u001b[0mself\u001b[0m\u001b[0;34m.\u001b[0m\u001b[0m_in_multi_worker_mode\u001b[0m\u001b[0;34m(\u001b[0m\u001b[0;34m)\u001b[0m\u001b[0;34m:\u001b[0m  \u001b[0;31m# pylint: disable=protected-access\u001b[0m\u001b[0;34m\u001b[0m\u001b[0;34m\u001b[0m\u001b[0m\n\u001b[0;32m--> 108\u001b[0;31m       \u001b[0;32mreturn\u001b[0m \u001b[0mmethod\u001b[0m\u001b[0;34m(\u001b[0m\u001b[0mself\u001b[0m\u001b[0;34m,\u001b[0m \u001b[0;34m*\u001b[0m\u001b[0margs\u001b[0m\u001b[0;34m,\u001b[0m \u001b[0;34m**\u001b[0m\u001b[0mkwargs\u001b[0m\u001b[0;34m)\u001b[0m\u001b[0;34m\u001b[0m\u001b[0;34m\u001b[0m\u001b[0m\n\u001b[0m\u001b[1;32m    109\u001b[0m \u001b[0;34m\u001b[0m\u001b[0m\n\u001b[1;32m    110\u001b[0m     \u001b[0;31m# Running inside `run_distribute_coordinator` already.\u001b[0m\u001b[0;34m\u001b[0m\u001b[0;34m\u001b[0m\u001b[0;34m\u001b[0m\u001b[0m\n",
      "\u001b[0;32m~/anaconda3/envs/tf_gpu/lib/python3.7/site-packages/tensorflow/python/keras/engine/training.py\u001b[0m in \u001b[0;36mfit\u001b[0;34m(self, x, y, batch_size, epochs, verbose, callbacks, validation_split, validation_data, shuffle, class_weight, sample_weight, initial_epoch, steps_per_epoch, validation_steps, validation_batch_size, validation_freq, max_queue_size, workers, use_multiprocessing)\u001b[0m\n\u001b[1;32m   1096\u001b[0m                 batch_size=batch_size):\n\u001b[1;32m   1097\u001b[0m               \u001b[0mcallbacks\u001b[0m\u001b[0;34m.\u001b[0m\u001b[0mon_train_batch_begin\u001b[0m\u001b[0;34m(\u001b[0m\u001b[0mstep\u001b[0m\u001b[0;34m)\u001b[0m\u001b[0;34m\u001b[0m\u001b[0;34m\u001b[0m\u001b[0m\n\u001b[0;32m-> 1098\u001b[0;31m               \u001b[0mtmp_logs\u001b[0m \u001b[0;34m=\u001b[0m \u001b[0mtrain_function\u001b[0m\u001b[0;34m(\u001b[0m\u001b[0miterator\u001b[0m\u001b[0;34m)\u001b[0m\u001b[0;34m\u001b[0m\u001b[0;34m\u001b[0m\u001b[0m\n\u001b[0m\u001b[1;32m   1099\u001b[0m               \u001b[0;32mif\u001b[0m \u001b[0mdata_handler\u001b[0m\u001b[0;34m.\u001b[0m\u001b[0mshould_sync\u001b[0m\u001b[0;34m:\u001b[0m\u001b[0;34m\u001b[0m\u001b[0;34m\u001b[0m\u001b[0m\n\u001b[1;32m   1100\u001b[0m                 \u001b[0mcontext\u001b[0m\u001b[0;34m.\u001b[0m\u001b[0masync_wait\u001b[0m\u001b[0;34m(\u001b[0m\u001b[0;34m)\u001b[0m\u001b[0;34m\u001b[0m\u001b[0;34m\u001b[0m\u001b[0m\n",
      "\u001b[0;32m~/anaconda3/envs/tf_gpu/lib/python3.7/site-packages/tensorflow/python/eager/def_function.py\u001b[0m in \u001b[0;36m__call__\u001b[0;34m(self, *args, **kwds)\u001b[0m\n\u001b[1;32m    778\u001b[0m       \u001b[0;32melse\u001b[0m\u001b[0;34m:\u001b[0m\u001b[0;34m\u001b[0m\u001b[0;34m\u001b[0m\u001b[0m\n\u001b[1;32m    779\u001b[0m         \u001b[0mcompiler\u001b[0m \u001b[0;34m=\u001b[0m \u001b[0;34m\"nonXla\"\u001b[0m\u001b[0;34m\u001b[0m\u001b[0;34m\u001b[0m\u001b[0m\n\u001b[0;32m--> 780\u001b[0;31m         \u001b[0mresult\u001b[0m \u001b[0;34m=\u001b[0m \u001b[0mself\u001b[0m\u001b[0;34m.\u001b[0m\u001b[0m_call\u001b[0m\u001b[0;34m(\u001b[0m\u001b[0;34m*\u001b[0m\u001b[0margs\u001b[0m\u001b[0;34m,\u001b[0m \u001b[0;34m**\u001b[0m\u001b[0mkwds\u001b[0m\u001b[0;34m)\u001b[0m\u001b[0;34m\u001b[0m\u001b[0;34m\u001b[0m\u001b[0m\n\u001b[0m\u001b[1;32m    781\u001b[0m \u001b[0;34m\u001b[0m\u001b[0m\n\u001b[1;32m    782\u001b[0m       \u001b[0mnew_tracing_count\u001b[0m \u001b[0;34m=\u001b[0m \u001b[0mself\u001b[0m\u001b[0;34m.\u001b[0m\u001b[0m_get_tracing_count\u001b[0m\u001b[0;34m(\u001b[0m\u001b[0;34m)\u001b[0m\u001b[0;34m\u001b[0m\u001b[0;34m\u001b[0m\u001b[0m\n",
      "\u001b[0;32m~/anaconda3/envs/tf_gpu/lib/python3.7/site-packages/tensorflow/python/eager/def_function.py\u001b[0m in \u001b[0;36m_call\u001b[0;34m(self, *args, **kwds)\u001b[0m\n\u001b[1;32m    812\u001b[0m       \u001b[0;31m# In this case we have not created variables on the first call. So we can\u001b[0m\u001b[0;34m\u001b[0m\u001b[0;34m\u001b[0m\u001b[0;34m\u001b[0m\u001b[0m\n\u001b[1;32m    813\u001b[0m       \u001b[0;31m# run the first trace but we should fail if variables are created.\u001b[0m\u001b[0;34m\u001b[0m\u001b[0;34m\u001b[0m\u001b[0;34m\u001b[0m\u001b[0m\n\u001b[0;32m--> 814\u001b[0;31m       \u001b[0mresults\u001b[0m \u001b[0;34m=\u001b[0m \u001b[0mself\u001b[0m\u001b[0;34m.\u001b[0m\u001b[0m_stateful_fn\u001b[0m\u001b[0;34m(\u001b[0m\u001b[0;34m*\u001b[0m\u001b[0margs\u001b[0m\u001b[0;34m,\u001b[0m \u001b[0;34m**\u001b[0m\u001b[0mkwds\u001b[0m\u001b[0;34m)\u001b[0m\u001b[0;34m\u001b[0m\u001b[0;34m\u001b[0m\u001b[0m\n\u001b[0m\u001b[1;32m    815\u001b[0m       \u001b[0;32mif\u001b[0m \u001b[0mself\u001b[0m\u001b[0;34m.\u001b[0m\u001b[0m_created_variables\u001b[0m\u001b[0;34m:\u001b[0m\u001b[0;34m\u001b[0m\u001b[0;34m\u001b[0m\u001b[0m\n\u001b[1;32m    816\u001b[0m         raise ValueError(\"Creating variables on a non-first call to a function\"\n",
      "\u001b[0;32m~/anaconda3/envs/tf_gpu/lib/python3.7/site-packages/tensorflow/python/eager/function.py\u001b[0m in \u001b[0;36m__call__\u001b[0;34m(self, *args, **kwargs)\u001b[0m\n\u001b[1;32m   2826\u001b[0m     \u001b[0;34m\"\"\"Calls a graph function specialized to the inputs.\"\"\"\u001b[0m\u001b[0;34m\u001b[0m\u001b[0;34m\u001b[0m\u001b[0m\n\u001b[1;32m   2827\u001b[0m     \u001b[0;32mwith\u001b[0m \u001b[0mself\u001b[0m\u001b[0;34m.\u001b[0m\u001b[0m_lock\u001b[0m\u001b[0;34m:\u001b[0m\u001b[0;34m\u001b[0m\u001b[0;34m\u001b[0m\u001b[0m\n\u001b[0;32m-> 2828\u001b[0;31m       \u001b[0mgraph_function\u001b[0m\u001b[0;34m,\u001b[0m \u001b[0margs\u001b[0m\u001b[0;34m,\u001b[0m \u001b[0mkwargs\u001b[0m \u001b[0;34m=\u001b[0m \u001b[0mself\u001b[0m\u001b[0;34m.\u001b[0m\u001b[0m_maybe_define_function\u001b[0m\u001b[0;34m(\u001b[0m\u001b[0margs\u001b[0m\u001b[0;34m,\u001b[0m \u001b[0mkwargs\u001b[0m\u001b[0;34m)\u001b[0m\u001b[0;34m\u001b[0m\u001b[0;34m\u001b[0m\u001b[0m\n\u001b[0m\u001b[1;32m   2829\u001b[0m     \u001b[0;32mreturn\u001b[0m \u001b[0mgraph_function\u001b[0m\u001b[0;34m.\u001b[0m\u001b[0m_filtered_call\u001b[0m\u001b[0;34m(\u001b[0m\u001b[0margs\u001b[0m\u001b[0;34m,\u001b[0m \u001b[0mkwargs\u001b[0m\u001b[0;34m)\u001b[0m  \u001b[0;31m# pylint: disable=protected-access\u001b[0m\u001b[0;34m\u001b[0m\u001b[0;34m\u001b[0m\u001b[0m\n\u001b[1;32m   2830\u001b[0m \u001b[0;34m\u001b[0m\u001b[0m\n",
      "\u001b[0;32m~/anaconda3/envs/tf_gpu/lib/python3.7/site-packages/tensorflow/python/eager/function.py\u001b[0m in \u001b[0;36m_maybe_define_function\u001b[0;34m(self, args, kwargs)\u001b[0m\n\u001b[1;32m   3208\u001b[0m           \u001b[0;32mand\u001b[0m \u001b[0mself\u001b[0m\u001b[0;34m.\u001b[0m\u001b[0minput_signature\u001b[0m \u001b[0;32mis\u001b[0m \u001b[0;32mNone\u001b[0m\u001b[0;34m\u001b[0m\u001b[0;34m\u001b[0m\u001b[0m\n\u001b[1;32m   3209\u001b[0m           and call_context_key in self._function_cache.missed):\n\u001b[0;32m-> 3210\u001b[0;31m         \u001b[0;32mreturn\u001b[0m \u001b[0mself\u001b[0m\u001b[0;34m.\u001b[0m\u001b[0m_define_function_with_shape_relaxation\u001b[0m\u001b[0;34m(\u001b[0m\u001b[0margs\u001b[0m\u001b[0;34m,\u001b[0m \u001b[0mkwargs\u001b[0m\u001b[0;34m)\u001b[0m\u001b[0;34m\u001b[0m\u001b[0;34m\u001b[0m\u001b[0m\n\u001b[0m\u001b[1;32m   3211\u001b[0m \u001b[0;34m\u001b[0m\u001b[0m\n\u001b[1;32m   3212\u001b[0m       \u001b[0mself\u001b[0m\u001b[0;34m.\u001b[0m\u001b[0m_function_cache\u001b[0m\u001b[0;34m.\u001b[0m\u001b[0mmissed\u001b[0m\u001b[0;34m.\u001b[0m\u001b[0madd\u001b[0m\u001b[0;34m(\u001b[0m\u001b[0mcall_context_key\u001b[0m\u001b[0;34m)\u001b[0m\u001b[0;34m\u001b[0m\u001b[0;34m\u001b[0m\u001b[0m\n",
      "\u001b[0;32m~/anaconda3/envs/tf_gpu/lib/python3.7/site-packages/tensorflow/python/eager/function.py\u001b[0m in \u001b[0;36m_define_function_with_shape_relaxation\u001b[0;34m(self, args, kwargs)\u001b[0m\n\u001b[1;32m   3140\u001b[0m \u001b[0;34m\u001b[0m\u001b[0m\n\u001b[1;32m   3141\u001b[0m     graph_function = self._create_graph_function(\n\u001b[0;32m-> 3142\u001b[0;31m         args, kwargs, override_flat_arg_shapes=relaxed_arg_shapes)\n\u001b[0m\u001b[1;32m   3143\u001b[0m     \u001b[0mself\u001b[0m\u001b[0;34m.\u001b[0m\u001b[0m_function_cache\u001b[0m\u001b[0;34m.\u001b[0m\u001b[0marg_relaxed\u001b[0m\u001b[0;34m[\u001b[0m\u001b[0mrank_only_cache_key\u001b[0m\u001b[0;34m]\u001b[0m \u001b[0;34m=\u001b[0m \u001b[0mgraph_function\u001b[0m\u001b[0;34m\u001b[0m\u001b[0;34m\u001b[0m\u001b[0m\n\u001b[1;32m   3144\u001b[0m \u001b[0;34m\u001b[0m\u001b[0m\n",
      "\u001b[0;32m~/anaconda3/envs/tf_gpu/lib/python3.7/site-packages/tensorflow/python/eager/function.py\u001b[0m in \u001b[0;36m_create_graph_function\u001b[0;34m(self, args, kwargs, override_flat_arg_shapes)\u001b[0m\n\u001b[1;32m   3073\u001b[0m             \u001b[0marg_names\u001b[0m\u001b[0;34m=\u001b[0m\u001b[0marg_names\u001b[0m\u001b[0;34m,\u001b[0m\u001b[0;34m\u001b[0m\u001b[0;34m\u001b[0m\u001b[0m\n\u001b[1;32m   3074\u001b[0m             \u001b[0moverride_flat_arg_shapes\u001b[0m\u001b[0;34m=\u001b[0m\u001b[0moverride_flat_arg_shapes\u001b[0m\u001b[0;34m,\u001b[0m\u001b[0;34m\u001b[0m\u001b[0;34m\u001b[0m\u001b[0m\n\u001b[0;32m-> 3075\u001b[0;31m             capture_by_value=self._capture_by_value),\n\u001b[0m\u001b[1;32m   3076\u001b[0m         \u001b[0mself\u001b[0m\u001b[0;34m.\u001b[0m\u001b[0m_function_attributes\u001b[0m\u001b[0;34m,\u001b[0m\u001b[0;34m\u001b[0m\u001b[0;34m\u001b[0m\u001b[0m\n\u001b[1;32m   3077\u001b[0m         \u001b[0mfunction_spec\u001b[0m\u001b[0;34m=\u001b[0m\u001b[0mself\u001b[0m\u001b[0;34m.\u001b[0m\u001b[0mfunction_spec\u001b[0m\u001b[0;34m,\u001b[0m\u001b[0;34m\u001b[0m\u001b[0;34m\u001b[0m\u001b[0m\n",
      "\u001b[0;32m~/anaconda3/envs/tf_gpu/lib/python3.7/site-packages/tensorflow/python/framework/func_graph.py\u001b[0m in \u001b[0;36mfunc_graph_from_py_func\u001b[0;34m(name, python_func, args, kwargs, signature, func_graph, autograph, autograph_options, add_control_dependencies, arg_names, op_return_value, collections, capture_by_value, override_flat_arg_shapes)\u001b[0m\n\u001b[1;32m    984\u001b[0m         \u001b[0m_\u001b[0m\u001b[0;34m,\u001b[0m \u001b[0moriginal_func\u001b[0m \u001b[0;34m=\u001b[0m \u001b[0mtf_decorator\u001b[0m\u001b[0;34m.\u001b[0m\u001b[0munwrap\u001b[0m\u001b[0;34m(\u001b[0m\u001b[0mpython_func\u001b[0m\u001b[0;34m)\u001b[0m\u001b[0;34m\u001b[0m\u001b[0;34m\u001b[0m\u001b[0m\n\u001b[1;32m    985\u001b[0m \u001b[0;34m\u001b[0m\u001b[0m\n\u001b[0;32m--> 986\u001b[0;31m       \u001b[0mfunc_outputs\u001b[0m \u001b[0;34m=\u001b[0m \u001b[0mpython_func\u001b[0m\u001b[0;34m(\u001b[0m\u001b[0;34m*\u001b[0m\u001b[0mfunc_args\u001b[0m\u001b[0;34m,\u001b[0m \u001b[0;34m**\u001b[0m\u001b[0mfunc_kwargs\u001b[0m\u001b[0;34m)\u001b[0m\u001b[0;34m\u001b[0m\u001b[0;34m\u001b[0m\u001b[0m\n\u001b[0m\u001b[1;32m    987\u001b[0m \u001b[0;34m\u001b[0m\u001b[0m\n\u001b[1;32m    988\u001b[0m       \u001b[0;31m# invariant: `func_outputs` contains only Tensors, CompositeTensors,\u001b[0m\u001b[0;34m\u001b[0m\u001b[0;34m\u001b[0m\u001b[0;34m\u001b[0m\u001b[0m\n",
      "\u001b[0;32m~/anaconda3/envs/tf_gpu/lib/python3.7/site-packages/tensorflow/python/eager/def_function.py\u001b[0m in \u001b[0;36mwrapped_fn\u001b[0;34m(*args, **kwds)\u001b[0m\n\u001b[1;32m    598\u001b[0m         \u001b[0;31m# __wrapped__ allows AutoGraph to swap in a converted function. We give\u001b[0m\u001b[0;34m\u001b[0m\u001b[0;34m\u001b[0m\u001b[0;34m\u001b[0m\u001b[0m\n\u001b[1;32m    599\u001b[0m         \u001b[0;31m# the function a weak reference to itself to avoid a reference cycle.\u001b[0m\u001b[0;34m\u001b[0m\u001b[0;34m\u001b[0m\u001b[0;34m\u001b[0m\u001b[0m\n\u001b[0;32m--> 600\u001b[0;31m         \u001b[0;32mreturn\u001b[0m \u001b[0mweak_wrapped_fn\u001b[0m\u001b[0;34m(\u001b[0m\u001b[0;34m)\u001b[0m\u001b[0;34m.\u001b[0m\u001b[0m__wrapped__\u001b[0m\u001b[0;34m(\u001b[0m\u001b[0;34m*\u001b[0m\u001b[0margs\u001b[0m\u001b[0;34m,\u001b[0m \u001b[0;34m**\u001b[0m\u001b[0mkwds\u001b[0m\u001b[0;34m)\u001b[0m\u001b[0;34m\u001b[0m\u001b[0;34m\u001b[0m\u001b[0m\n\u001b[0m\u001b[1;32m    601\u001b[0m     \u001b[0mweak_wrapped_fn\u001b[0m \u001b[0;34m=\u001b[0m \u001b[0mweakref\u001b[0m\u001b[0;34m.\u001b[0m\u001b[0mref\u001b[0m\u001b[0;34m(\u001b[0m\u001b[0mwrapped_fn\u001b[0m\u001b[0;34m)\u001b[0m\u001b[0;34m\u001b[0m\u001b[0;34m\u001b[0m\u001b[0m\n\u001b[1;32m    602\u001b[0m \u001b[0;34m\u001b[0m\u001b[0m\n",
      "\u001b[0;32m~/anaconda3/envs/tf_gpu/lib/python3.7/site-packages/tensorflow/python/framework/func_graph.py\u001b[0m in \u001b[0;36mwrapper\u001b[0;34m(*args, **kwargs)\u001b[0m\n\u001b[1;32m    971\u001b[0m           \u001b[0;32mexcept\u001b[0m \u001b[0mException\u001b[0m \u001b[0;32mas\u001b[0m \u001b[0me\u001b[0m\u001b[0;34m:\u001b[0m  \u001b[0;31m# pylint:disable=broad-except\u001b[0m\u001b[0;34m\u001b[0m\u001b[0;34m\u001b[0m\u001b[0m\n\u001b[1;32m    972\u001b[0m             \u001b[0;32mif\u001b[0m \u001b[0mhasattr\u001b[0m\u001b[0;34m(\u001b[0m\u001b[0me\u001b[0m\u001b[0;34m,\u001b[0m \u001b[0;34m\"ag_error_metadata\"\u001b[0m\u001b[0;34m)\u001b[0m\u001b[0;34m:\u001b[0m\u001b[0;34m\u001b[0m\u001b[0;34m\u001b[0m\u001b[0m\n\u001b[0;32m--> 973\u001b[0;31m               \u001b[0;32mraise\u001b[0m \u001b[0me\u001b[0m\u001b[0;34m.\u001b[0m\u001b[0mag_error_metadata\u001b[0m\u001b[0;34m.\u001b[0m\u001b[0mto_exception\u001b[0m\u001b[0;34m(\u001b[0m\u001b[0me\u001b[0m\u001b[0;34m)\u001b[0m\u001b[0;34m\u001b[0m\u001b[0;34m\u001b[0m\u001b[0m\n\u001b[0m\u001b[1;32m    974\u001b[0m             \u001b[0;32melse\u001b[0m\u001b[0;34m:\u001b[0m\u001b[0;34m\u001b[0m\u001b[0;34m\u001b[0m\u001b[0m\n\u001b[1;32m    975\u001b[0m               \u001b[0;32mraise\u001b[0m\u001b[0;34m\u001b[0m\u001b[0;34m\u001b[0m\u001b[0m\n",
      "\u001b[0;31mValueError\u001b[0m: in user code:\n\n    /home/santiagovargas/anaconda3/envs/tf_gpu/lib/python3.7/site-packages/tensorflow/python/keras/engine/training.py:806 train_function  *\n        return step_function(self, iterator)\n    /home/santiagovargas/anaconda3/envs/tf_gpu/lib/python3.7/site-packages/tensorflow/python/keras/engine/training.py:796 step_function  **\n        outputs = model.distribute_strategy.run(run_step, args=(data,))\n    /home/santiagovargas/anaconda3/envs/tf_gpu/lib/python3.7/site-packages/tensorflow/python/distribute/distribute_lib.py:1211 run\n        return self._extended.call_for_each_replica(fn, args=args, kwargs=kwargs)\n    /home/santiagovargas/anaconda3/envs/tf_gpu/lib/python3.7/site-packages/tensorflow/python/distribute/distribute_lib.py:2585 call_for_each_replica\n        return self._call_for_each_replica(fn, args, kwargs)\n    /home/santiagovargas/anaconda3/envs/tf_gpu/lib/python3.7/site-packages/tensorflow/python/distribute/distribute_lib.py:2945 _call_for_each_replica\n        return fn(*args, **kwargs)\n    /home/santiagovargas/anaconda3/envs/tf_gpu/lib/python3.7/site-packages/tensorflow/python/keras/engine/training.py:789 run_step  **\n        outputs = model.train_step(data)\n    /home/santiagovargas/anaconda3/envs/tf_gpu/lib/python3.7/site-packages/tensorflow/python/keras/engine/training.py:747 train_step\n        y_pred = self(x, training=True)\n    /home/santiagovargas/anaconda3/envs/tf_gpu/lib/python3.7/site-packages/tensorflow/python/keras/engine/base_layer.py:976 __call__\n        self.name)\n    /home/santiagovargas/anaconda3/envs/tf_gpu/lib/python3.7/site-packages/tensorflow/python/keras/engine/input_spec.py:196 assert_input_compatibility\n        str(x.shape.as_list()))\n\n    ValueError: Input 0 of layer sequential is incompatible with the layer: : expected min_ndim=4, found ndim=3. Full shape received: [None, 60, 128]\n"
     ]
    }
   ],
   "source": [
    "hist = model.fit(np.array(x_train_encoded), scale(diff_train), epochs=50,\n",
    "                validation_split=0.15)"
   ]
  },
  {
   "cell_type": "code",
   "execution_count": null,
   "metadata": {},
   "outputs": [],
   "source": [
    "print(hist.history)\n",
    "plt.plot(hist.history[\"loss\"])\n",
    "plt.plot(hist.history[\"val_loss\"])\n"
   ]
  },
  {
   "cell_type": "code",
   "execution_count": null,
   "metadata": {},
   "outputs": [],
   "source": [
    "from sklearn.metrics import r2_score\n",
    "y_test_pred = model.predict(np.array(x_test_encoded))\n",
    "y_train_pred = model.predict(np.array(x_train_encoded))\n",
    "\n",
    "print(r2_score(y_test_pred, diff_test))\n",
    "print(r2_score(y_train_pred, diff_train))"
   ]
  },
  {
   "cell_type": "markdown",
   "metadata": {},
   "source": [
    "# Sequential Models For Regression"
   ]
  },
  {
   "cell_type": "code",
   "execution_count": 26,
   "metadata": {},
   "outputs": [
    {
     "name": "stdout",
     "output_type": "stream",
     "text": [
      "(11636, 60, 128)\n",
      "Model: \"sequential_4\"\n",
      "_________________________________________________________________\n",
      "Layer (type)                 Output Shape              Param #   \n",
      "=================================================================\n",
      "lstm_9 (LSTM)                (None, 128)               131584    \n",
      "_________________________________________________________________\n",
      "dense_13 (Dense)             (None, 1)                 129       \n",
      "=================================================================\n",
      "Total params: 131,713\n",
      "Trainable params: 131,713\n",
      "Non-trainable params: 0\n",
      "_________________________________________________________________\n",
      "Epoch 1/50\n",
      "1237/1237 [==============================] - 4s 3ms/step - loss: 0.0087 - root_mean_squared_error: 0.0934 - val_loss: 7.4077e-05 - val_root_mean_squared_error: 0.0086\n",
      "Epoch 2/50\n",
      "1237/1237 [==============================] - 4s 3ms/step - loss: 1.2490e-04 - root_mean_squared_error: 0.0112 - val_loss: 1.1072e-04 - val_root_mean_squared_error: 0.0105\n",
      "Epoch 3/50\n",
      "1237/1237 [==============================] - 4s 3ms/step - loss: 1.2079e-04 - root_mean_squared_error: 0.0110 - val_loss: 1.2261e-04 - val_root_mean_squared_error: 0.0111\n",
      "Epoch 4/50\n",
      "1237/1237 [==============================] - 4s 3ms/step - loss: 1.3823e-04 - root_mean_squared_error: 0.0118 - val_loss: 1.2766e-04 - val_root_mean_squared_error: 0.0113\n",
      "Epoch 5/50\n",
      "1237/1237 [==============================] - 4s 3ms/step - loss: 1.3166e-04 - root_mean_squared_error: 0.0115 - val_loss: 6.7400e-05 - val_root_mean_squared_error: 0.0082\n",
      "Epoch 6/50\n",
      "1237/1237 [==============================] - 4s 3ms/step - loss: 1.1015e-04 - root_mean_squared_error: 0.0105 - val_loss: 1.0127e-04 - val_root_mean_squared_error: 0.0101\n",
      "Epoch 7/50\n",
      "1237/1237 [==============================] - 4s 3ms/step - loss: 9.4038e-05 - root_mean_squared_error: 0.0097 - val_loss: 6.5107e-05 - val_root_mean_squared_error: 0.0081\n",
      "Epoch 8/50\n",
      "1237/1237 [==============================] - 4s 3ms/step - loss: 7.0523e-05 - root_mean_squared_error: 0.0084 - val_loss: 5.9751e-05 - val_root_mean_squared_error: 0.0077\n",
      "Epoch 9/50\n",
      "1237/1237 [==============================] - 4s 3ms/step - loss: 5.7917e-05 - root_mean_squared_error: 0.0076 - val_loss: 3.6397e-05 - val_root_mean_squared_error: 0.0060\n",
      "Epoch 10/50\n",
      "1237/1237 [==============================] - 4s 3ms/step - loss: 4.5363e-05 - root_mean_squared_error: 0.0067 - val_loss: 6.8530e-05 - val_root_mean_squared_error: 0.0083\n",
      "Epoch 11/50\n",
      "1237/1237 [==============================] - 4s 3ms/step - loss: 4.1365e-05 - root_mean_squared_error: 0.0064 - val_loss: 3.1261e-05 - val_root_mean_squared_error: 0.0056\n",
      "Epoch 12/50\n",
      "1237/1237 [==============================] - 4s 3ms/step - loss: 4.0800e-05 - root_mean_squared_error: 0.0064 - val_loss: 3.1982e-05 - val_root_mean_squared_error: 0.0057\n",
      "Epoch 13/50\n",
      "1237/1237 [==============================] - 4s 3ms/step - loss: 3.9545e-05 - root_mean_squared_error: 0.0063 - val_loss: 3.2394e-05 - val_root_mean_squared_error: 0.0057\n",
      "Epoch 14/50\n",
      "1237/1237 [==============================] - 4s 3ms/step - loss: 3.8359e-05 - root_mean_squared_error: 0.0062 - val_loss: 3.7863e-05 - val_root_mean_squared_error: 0.0062\n",
      "Epoch 15/50\n",
      "1237/1237 [==============================] - 4s 3ms/step - loss: 3.8128e-05 - root_mean_squared_error: 0.0062 - val_loss: 3.1388e-05 - val_root_mean_squared_error: 0.0056\n",
      "Epoch 16/50\n",
      "1237/1237 [==============================] - 4s 3ms/step - loss: 3.7188e-05 - root_mean_squared_error: 0.0061 - val_loss: 3.2471e-05 - val_root_mean_squared_error: 0.0057\n",
      "Epoch 17/50\n",
      "1237/1237 [==============================] - 4s 3ms/step - loss: 3.6675e-05 - root_mean_squared_error: 0.0061 - val_loss: 4.0164e-05 - val_root_mean_squared_error: 0.0063\n",
      "Epoch 18/50\n",
      "1237/1237 [==============================] - 4s 3ms/step - loss: 3.6240e-05 - root_mean_squared_error: 0.0060 - val_loss: 2.9364e-05 - val_root_mean_squared_error: 0.0054\n",
      "Epoch 19/50\n",
      "1237/1237 [==============================] - 4s 3ms/step - loss: 3.5412e-05 - root_mean_squared_error: 0.0060 - val_loss: 3.0209e-05 - val_root_mean_squared_error: 0.0055\n",
      "Epoch 20/50\n",
      "1237/1237 [==============================] - 4s 3ms/step - loss: 3.5390e-05 - root_mean_squared_error: 0.0059 - val_loss: 3.1307e-05 - val_root_mean_squared_error: 0.0056\n",
      "Epoch 21/50\n",
      "1237/1237 [==============================] - 4s 3ms/step - loss: 3.4602e-05 - root_mean_squared_error: 0.0059 - val_loss: 2.9656e-05 - val_root_mean_squared_error: 0.0054\n",
      "Epoch 22/50\n",
      "1237/1237 [==============================] - 4s 3ms/step - loss: 3.4013e-05 - root_mean_squared_error: 0.0058 - val_loss: 2.7680e-05 - val_root_mean_squared_error: 0.0053\n",
      "Epoch 23/50\n",
      "1237/1237 [==============================] - 4s 3ms/step - loss: 3.3617e-05 - root_mean_squared_error: 0.0058 - val_loss: 2.8232e-05 - val_root_mean_squared_error: 0.0053\n",
      "Epoch 24/50\n",
      "1237/1237 [==============================] - 4s 3ms/step - loss: 3.2685e-05 - root_mean_squared_error: 0.0057 - val_loss: 3.0088e-05 - val_root_mean_squared_error: 0.0055\n",
      "Epoch 25/50\n",
      "1237/1237 [==============================] - 4s 3ms/step - loss: 3.3125e-05 - root_mean_squared_error: 0.0058 - val_loss: 3.3441e-05 - val_root_mean_squared_error: 0.0058\n",
      "Epoch 26/50\n",
      "1237/1237 [==============================] - 4s 3ms/step - loss: 3.2635e-05 - root_mean_squared_error: 0.0057 - val_loss: 2.7527e-05 - val_root_mean_squared_error: 0.0052\n",
      "Epoch 27/50\n",
      "1237/1237 [==============================] - 4s 3ms/step - loss: 3.2544e-05 - root_mean_squared_error: 0.0057 - val_loss: 2.8238e-05 - val_root_mean_squared_error: 0.0053\n",
      "Epoch 28/50\n",
      "1237/1237 [==============================] - 4s 3ms/step - loss: 3.2155e-05 - root_mean_squared_error: 0.0057 - val_loss: 2.7309e-05 - val_root_mean_squared_error: 0.0052\n",
      "Epoch 29/50\n",
      "1237/1237 [==============================] - 4s 3ms/step - loss: 3.2941e-05 - root_mean_squared_error: 0.0057 - val_loss: 2.5781e-05 - val_root_mean_squared_error: 0.0051\n",
      "Epoch 30/50\n",
      "1237/1237 [==============================] - 4s 3ms/step - loss: 3.1835e-05 - root_mean_squared_error: 0.0056 - val_loss: 3.3433e-05 - val_root_mean_squared_error: 0.0058\n",
      "Epoch 31/50\n",
      "1237/1237 [==============================] - 4s 3ms/step - loss: 3.1271e-05 - root_mean_squared_error: 0.0056 - val_loss: 2.6243e-05 - val_root_mean_squared_error: 0.0051\n",
      "Epoch 32/50\n",
      "1237/1237 [==============================] - 4s 3ms/step - loss: 3.1164e-05 - root_mean_squared_error: 0.0056 - val_loss: 3.6188e-05 - val_root_mean_squared_error: 0.0060\n",
      "Epoch 33/50\n",
      "1237/1237 [==============================] - 4s 3ms/step - loss: 3.1009e-05 - root_mean_squared_error: 0.0056 - val_loss: 2.7878e-05 - val_root_mean_squared_error: 0.0053\n",
      "Epoch 34/50\n",
      "1237/1237 [==============================] - 4s 3ms/step - loss: 3.0753e-05 - root_mean_squared_error: 0.0055 - val_loss: 2.7927e-05 - val_root_mean_squared_error: 0.0053\n",
      "Epoch 35/50\n",
      "1237/1237 [==============================] - 4s 3ms/step - loss: 3.0345e-05 - root_mean_squared_error: 0.0055 - val_loss: 2.5580e-05 - val_root_mean_squared_error: 0.0051\n",
      "Epoch 36/50\n",
      "1237/1237 [==============================] - 4s 3ms/step - loss: 3.0140e-05 - root_mean_squared_error: 0.0055 - val_loss: 2.6534e-05 - val_root_mean_squared_error: 0.0052\n",
      "Epoch 37/50\n",
      "1237/1237 [==============================] - 4s 3ms/step - loss: 2.9956e-05 - root_mean_squared_error: 0.0055 - val_loss: 2.7280e-05 - val_root_mean_squared_error: 0.0052\n",
      "Epoch 38/50\n",
      "1237/1237 [==============================] - 4s 3ms/step - loss: 3.0390e-05 - root_mean_squared_error: 0.0055 - val_loss: 2.6697e-05 - val_root_mean_squared_error: 0.0052\n",
      "Epoch 39/50\n",
      "1237/1237 [==============================] - 4s 3ms/step - loss: 2.9623e-05 - root_mean_squared_error: 0.0054 - val_loss: 2.8949e-05 - val_root_mean_squared_error: 0.0054\n",
      "Epoch 40/50\n",
      "1237/1237 [==============================] - 4s 3ms/step - loss: 3.0162e-05 - root_mean_squared_error: 0.0055 - val_loss: 3.0011e-05 - val_root_mean_squared_error: 0.0055\n",
      "Epoch 41/50\n",
      "1237/1237 [==============================] - 4s 3ms/step - loss: 3.0028e-05 - root_mean_squared_error: 0.0055 - val_loss: 3.5313e-05 - val_root_mean_squared_error: 0.0059\n",
      "Epoch 42/50\n",
      "1237/1237 [==============================] - 4s 3ms/step - loss: 2.9398e-05 - root_mean_squared_error: 0.0054 - val_loss: 2.3985e-05 - val_root_mean_squared_error: 0.0049\n",
      "Epoch 43/50\n",
      "1237/1237 [==============================] - 4s 3ms/step - loss: 2.9656e-05 - root_mean_squared_error: 0.0054 - val_loss: 3.1701e-05 - val_root_mean_squared_error: 0.0056\n",
      "Epoch 44/50\n",
      "1237/1237 [==============================] - 4s 3ms/step - loss: 2.9426e-05 - root_mean_squared_error: 0.0054 - val_loss: 2.9956e-05 - val_root_mean_squared_error: 0.0055\n",
      "Epoch 45/50\n",
      "1237/1237 [==============================] - 4s 3ms/step - loss: 2.9755e-05 - root_mean_squared_error: 0.0055 - val_loss: 3.0206e-05 - val_root_mean_squared_error: 0.0055\n",
      "Epoch 46/50\n",
      "1237/1237 [==============================] - 4s 3ms/step - loss: 2.9192e-05 - root_mean_squared_error: 0.0054 - val_loss: 2.5386e-05 - val_root_mean_squared_error: 0.0050\n",
      "Epoch 47/50\n",
      "1237/1237 [==============================] - 4s 3ms/step - loss: 2.8828e-05 - root_mean_squared_error: 0.0054 - val_loss: 3.0222e-05 - val_root_mean_squared_error: 0.0055\n",
      "Epoch 48/50\n",
      "1237/1237 [==============================] - 4s 3ms/step - loss: 2.8409e-05 - root_mean_squared_error: 0.0053 - val_loss: 2.5774e-05 - val_root_mean_squared_error: 0.0051\n",
      "Epoch 49/50\n",
      "1237/1237 [==============================] - 4s 3ms/step - loss: 2.8887e-05 - root_mean_squared_error: 0.0054 - val_loss: 2.6324e-05 - val_root_mean_squared_error: 0.0051\n",
      "Epoch 50/50\n",
      "1237/1237 [==============================] - 4s 3ms/step - loss: 2.8161e-05 - root_mean_squared_error: 0.0053 - val_loss: 2.7129e-05 - val_root_mean_squared_error: 0.0052\n"
     ]
    }
   ],
   "source": [
    "# Try regressing with RNN, GRU, LTSM\n",
    "\n",
    "model = keras.Sequential()\n",
    "dims = np.shape(x_test_encoded)\n",
    "print(dims)\n",
    "#model.add(layers.Embedding(input_dim=dims[0], output_dim=dims[1])) input_dim=dims[0], output_dim=dims[1]\n",
    "model.add(layers.LSTM(128, dropout = 0.25, input_shape = (dims[1], dims[2])))\n",
    "model.add(layers.Dense(1))\n",
    "model.summary()\n",
    "model.compile(optimizer=keras.optimizers.Adam(learning_rate=0.002), \n",
    "        loss = \"mse\", metrics=[tf.keras.metrics.RootMeanSquaredError()])\n",
    "history = model.fit(np.array(x_train_encoded), np.array(diff_train), \n",
    "                    epochs=50,  validation_split=0.15)\n"
   ]
  },
  {
   "cell_type": "code",
   "execution_count": null,
   "metadata": {},
   "outputs": [],
   "source": []
  },
  {
   "cell_type": "code",
   "execution_count": null,
   "metadata": {},
   "outputs": [],
   "source": []
  },
  {
   "cell_type": "code",
   "execution_count": 27,
   "metadata": {},
   "outputs": [
    {
     "name": "stdout",
     "output_type": "stream",
     "text": [
      "(11636,)\n",
      "(11636, 1)\n",
      "0.05870085839502204\n",
      "0.541241126143472\n"
     ]
    }
   ],
   "source": [
    "y_pred = model.predict(x_test_encoded)\n",
    "y_pred_train = model.predict(x_train_encoded)\n",
    "print(np.array(diff_test).shape)\n",
    "print(y_pred.shape)\n",
    "print(r2_score(np.array(y_pred), diff_test))\n",
    "print(r2_score(np.array(y_pred_train), diff_train))"
   ]
  },
  {
   "cell_type": "code",
   "execution_count": 210,
   "metadata": {},
   "outputs": [],
   "source": [
    "#for i in range(np.array(y_pred).shape[0]):\n",
    "#    print(np.array(y_pred_train[i,-1]))\n"
   ]
  },
  {
   "cell_type": "code",
   "execution_count": null,
   "metadata": {},
   "outputs": [],
   "source": [
    "from sklearn.metrics import r2_score\n",
    "#y_test_pred = model.predict(np.array(x_test_encoded))\n",
    "#y_train_pred = model.predict(np.array(x_train_encoded_reshape))\n",
    "\n",
    "print(r2_score(y_pred, diff_test))\n",
    "#print(r2_score(y_train_pred, diff_train))"
   ]
  },
  {
   "cell_type": "code",
   "execution_count": null,
   "metadata": {},
   "outputs": [],
   "source": [
    "\n",
    "\n",
    "model = keras.Sequential()\n",
    "dims = np.shape(x_test_encoded)\n",
    "print(dims)\n",
    "#model.add(layers.Embedding(input_dim=dims[0], output_dim=dims[1])) input_dim=dims[0], output_dim=dims[1]\n",
    "model.add(layers.SimpleRNN(128, input_shape = (dims[1], dims[2])))\n",
    "model.add(layers.Dense(1))\n",
    "model.summary()\n",
    "model.compile(optimizer=keras.optimizers.Adam(learning_rate=0.001), \n",
    "        loss = \"mse\", metrics=[tf.keras.metrics.RootMeanSquaredError()])\n",
    "history = model.fit(np.array(x_train_encoded), np.array(diff_train), \n",
    "                    epochs=30,  validation_split=0.15)\n"
   ]
  },
  {
   "cell_type": "code",
   "execution_count": null,
   "metadata": {},
   "outputs": [],
   "source": [
    "y_pred = model.predict(x_test_encoded)\n",
    "y_pred_train = model.predict(x_train_encoded)\n",
    "print(np.array(diff_test).shape)\n",
    "print(y_pred.shape)\n",
    "print(r2_score(np.array(y_pred), diff_test))\n",
    "print(r2_score(np.array(y_pred_train), diff_train))"
   ]
  },
  {
   "cell_type": "code",
   "execution_count": 38,
   "metadata": {
    "scrolled": true
   },
   "outputs": [
    {
     "name": "stdout",
     "output_type": "stream",
     "text": [
      "(11636, 60, 128)\n",
      "Model: \"sequential_11\"\n",
      "_________________________________________________________________\n",
      "Layer (type)                 Output Shape              Param #   \n",
      "=================================================================\n",
      "gru_8 (GRU)                  (None, 60, 64)            37248     \n",
      "_________________________________________________________________\n",
      "gru_9 (GRU)                  (None, 64)                24960     \n",
      "_________________________________________________________________\n",
      "dense_19 (Dense)             (None, 1)                 65        \n",
      "=================================================================\n",
      "Total params: 62,273\n",
      "Trainable params: 62,273\n",
      "Non-trainable params: 0\n",
      "_________________________________________________________________\n",
      "Epoch 1/25\n",
      "1164/1164 [==============================] - 6s 5ms/step - loss: 0.0191 - root_mean_squared_error: 0.1383 - val_loss: 2.9512e-04 - val_root_mean_squared_error: 0.0172\n",
      "Epoch 2/25\n",
      "1164/1164 [==============================] - 5s 4ms/step - loss: 1.2882e-04 - root_mean_squared_error: 0.0113 - val_loss: 4.6086e-05 - val_root_mean_squared_error: 0.0068\n",
      "Epoch 3/25\n",
      "1164/1164 [==============================] - 5s 4ms/step - loss: 1.2700e-04 - root_mean_squared_error: 0.0113 - val_loss: 1.0077e-04 - val_root_mean_squared_error: 0.0100\n",
      "Epoch 4/25\n",
      "1164/1164 [==============================] - 5s 4ms/step - loss: 1.3539e-04 - root_mean_squared_error: 0.0116 - val_loss: 7.9261e-05 - val_root_mean_squared_error: 0.0089\n",
      "Epoch 5/25\n",
      "1164/1164 [==============================] - 5s 4ms/step - loss: 1.6183e-04 - root_mean_squared_error: 0.0127 - val_loss: 1.2835e-04 - val_root_mean_squared_error: 0.0113\n",
      "Epoch 6/25\n",
      "1164/1164 [==============================] - 5s 4ms/step - loss: 1.5190e-04 - root_mean_squared_error: 0.0123 - val_loss: 4.4152e-05 - val_root_mean_squared_error: 0.0066\n",
      "Epoch 7/25\n",
      "1164/1164 [==============================] - 5s 4ms/step - loss: 1.6423e-04 - root_mean_squared_error: 0.0128 - val_loss: 9.3388e-05 - val_root_mean_squared_error: 0.0097\n",
      "Epoch 8/25\n",
      "1164/1164 [==============================] - 5s 4ms/step - loss: 1.5291e-04 - root_mean_squared_error: 0.0124 - val_loss: 6.7888e-05 - val_root_mean_squared_error: 0.0082\n",
      "Epoch 9/25\n",
      "1164/1164 [==============================] - 5s 4ms/step - loss: 1.4988e-04 - root_mean_squared_error: 0.0122 - val_loss: 4.2957e-05 - val_root_mean_squared_error: 0.0066\n",
      "Epoch 10/25\n",
      "1164/1164 [==============================] - 5s 4ms/step - loss: 1.6456e-04 - root_mean_squared_error: 0.0128 - val_loss: 3.4925e-04 - val_root_mean_squared_error: 0.0187\n",
      "Epoch 11/25\n",
      "1164/1164 [==============================] - 5s 4ms/step - loss: 1.3639e-04 - root_mean_squared_error: 0.0117 - val_loss: 1.3877e-04 - val_root_mean_squared_error: 0.0118\n",
      "Epoch 12/25\n",
      "1164/1164 [==============================] - 5s 4ms/step - loss: 1.8223e-04 - root_mean_squared_error: 0.0135 - val_loss: 5.1577e-04 - val_root_mean_squared_error: 0.0227\n",
      "Epoch 13/25\n",
      "1164/1164 [==============================] - 5s 4ms/step - loss: 1.4572e-04 - root_mean_squared_error: 0.0121 - val_loss: 4.1653e-04 - val_root_mean_squared_error: 0.0204\n",
      "Epoch 14/25\n",
      "1164/1164 [==============================] - 5s 4ms/step - loss: 1.4480e-04 - root_mean_squared_error: 0.0120 - val_loss: 2.9577e-04 - val_root_mean_squared_error: 0.0172\n",
      "Epoch 15/25\n",
      "1164/1164 [==============================] - 5s 4ms/step - loss: 1.4547e-04 - root_mean_squared_error: 0.0121 - val_loss: 4.9359e-05 - val_root_mean_squared_error: 0.0070\n",
      "Epoch 16/25\n",
      "1164/1164 [==============================] - 5s 4ms/step - loss: 1.4644e-04 - root_mean_squared_error: 0.0121 - val_loss: 1.3262e-04 - val_root_mean_squared_error: 0.0115\n",
      "Epoch 17/25\n",
      "1164/1164 [==============================] - 5s 5ms/step - loss: 1.4200e-04 - root_mean_squared_error: 0.0119 - val_loss: 4.8472e-04 - val_root_mean_squared_error: 0.0220\n",
      "Epoch 18/25\n",
      "1164/1164 [==============================] - 5s 4ms/step - loss: 1.3925e-04 - root_mean_squared_error: 0.0118 - val_loss: 1.2743e-04 - val_root_mean_squared_error: 0.0113\n",
      "Epoch 19/25\n",
      "1164/1164 [==============================] - 5s 4ms/step - loss: 1.4937e-04 - root_mean_squared_error: 0.0122 - val_loss: 1.1811e-04 - val_root_mean_squared_error: 0.0109\n",
      "Epoch 20/25\n",
      "1164/1164 [==============================] - 5s 4ms/step - loss: 1.3024e-04 - root_mean_squared_error: 0.0114 - val_loss: 1.3004e-04 - val_root_mean_squared_error: 0.0114\n",
      "Epoch 21/25\n",
      "1164/1164 [==============================] - 5s 4ms/step - loss: 1.5733e-04 - root_mean_squared_error: 0.0125 - val_loss: 7.9270e-05 - val_root_mean_squared_error: 0.0089\n",
      "Epoch 22/25\n",
      "1164/1164 [==============================] - 5s 4ms/step - loss: 1.4359e-04 - root_mean_squared_error: 0.0120 - val_loss: 5.1236e-05 - val_root_mean_squared_error: 0.0072\n",
      "Epoch 23/25\n",
      "1164/1164 [==============================] - 5s 4ms/step - loss: 1.3584e-04 - root_mean_squared_error: 0.0117 - val_loss: 1.0700e-04 - val_root_mean_squared_error: 0.0103\n",
      "Epoch 24/25\n",
      "1164/1164 [==============================] - 5s 4ms/step - loss: 1.3742e-04 - root_mean_squared_error: 0.0117 - val_loss: 5.0505e-04 - val_root_mean_squared_error: 0.0225\n",
      "Epoch 25/25\n",
      "1164/1164 [==============================] - 5s 4ms/step - loss: 1.4720e-04 - root_mean_squared_error: 0.0121 - val_loss: 4.4233e-05 - val_root_mean_squared_error: 0.0067\n"
     ]
    }
   ],
   "source": [
    "\n",
    "model = keras.Sequential()\n",
    "dims = np.shape(x_test_encoded)\n",
    "print(dims)\n",
    "#model.add(layers.Embedding(input_dim=dims[0], output_dim=dims[1])) input_dim=dims[0], output_dim=dims[1]\n",
    "model.add(layers.GRU(64, dropout = 0.1, return_sequences= True, input_shape = (dims[1], dims[2])))\n",
    "model.add(layers.GRU(64, dropout = 0.1))\n",
    "model.add(layers.Dense(1))\n",
    "model.summary()\n",
    "model.compile(optimizer=keras.optimizers.Adam(learning_rate=0.002), \n",
    "        loss = \"mse\", metrics=[tf.keras.metrics.RootMeanSquaredError()])\n",
    "history = model.fit(np.array(x_train_encoded), np.array(diff_train), \n",
    "                    epochs=25,  validation_split=0.20)\n"
   ]
  },
  {
   "cell_type": "code",
   "execution_count": 39,
   "metadata": {},
   "outputs": [
    {
     "name": "stdout",
     "output_type": "stream",
     "text": [
      "(11636,)\n",
      "(11636, 1)\n",
      "-0.9663915027740837\n",
      "-0.29776339864565315\n"
     ]
    }
   ],
   "source": [
    "y_pred = model.predict(x_test_encoded)\n",
    "y_pred_train = model.predict(x_train_encoded)\n",
    "print(np.array(diff_test).shape)\n",
    "print(y_pred.shape)\n",
    "print(r2_score(np.array(y_pred), diff_test))\n",
    "print(r2_score(np.array(y_pred_train), diff_train))"
   ]
  },
  {
   "cell_type": "code",
   "execution_count": null,
   "metadata": {},
   "outputs": [],
   "source": []
  }
 ],
 "metadata": {
  "kernelspec": {
   "display_name": "Python 3",
   "language": "python",
   "name": "python3"
  },
  "language_info": {
   "codemirror_mode": {
    "name": "ipython",
    "version": 3
   },
   "file_extension": ".py",
   "mimetype": "text/x-python",
   "name": "python",
   "nbconvert_exporter": "python",
   "pygments_lexer": "ipython3",
   "version": "3.7.9"
  }
 },
 "nbformat": 4,
 "nbformat_minor": 4
}
