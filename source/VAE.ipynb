{
 "cells": [
  {
   "cell_type": "code",
   "execution_count": 10,
   "metadata": {
    "scrolled": true
   },
   "outputs": [],
   "source": [
    "\n",
    "# VAE LTSM CODE WAS ADAPTED FROM: \n",
    "# https://stackoverflow.com/questions/63987125/keras-lstm-vae-variational-autoencoder-for-time-series-anamoly-detection\n",
    "# NN VAE CODE WAS ADAPTED FROM: \n",
    "# https://blog.keras.io/building-autoencoders-in-keras.html\n",
    "\n",
    "import joblib, argparse, uuid, sigopt\n",
    "import numpy as np\n",
    "import pandas as pd\n",
    "from rdkit import Chem\n",
    "from rdkit import DataStructs\n",
    "\n",
    "from sklearn import preprocessing\n",
    "from utils.sklearn_utils import *\n",
    "\n",
    "import selfies as sf\n",
    "import tensorflow as tf\n",
    "from tensorflow import keras\n",
    "from tensorflow.keras import layers,regularizers\n",
    "from tensorflow.keras.optimizers import Adam\n",
    "from keras.callbacks import EarlyStopping\n",
    "\n",
    "import seaborn as sns\n",
    "\n",
    "gpus = tf.config.experimental.list_physical_devices('GPU')\n",
    "if gpus:\n",
    "    try:\n",
    "        for gpu in gpus:\n",
    "            tf.config.experimental.set_memory_growth(gpu, True)\n",
    "\n",
    "    except RuntimeError as e:\n",
    "        print(e)    "
   ]
  },
  {
   "cell_type": "code",
   "execution_count": null,
   "metadata": {},
   "outputs": [],
   "source": []
  },
  {
   "cell_type": "code",
   "execution_count": 11,
   "metadata": {},
   "outputs": [],
   "source": [
    "# Used to convert molecules to string representation\n",
    "\n",
    "from utils.selfies_util import selfies,smile_to_hot, \\\n",
    "multiple_smile_to_hot, selfies_to_hot, multiple_selfies_to_hot,\\\n",
    "get_selfie_and_smiles_encodings_for_dataset, compare_equality, tanimoto_dist"
   ]
  },
  {
   "cell_type": "code",
   "execution_count": 12,
   "metadata": {},
   "outputs": [
    {
     "name": "stdout",
     "output_type": "stream",
     "text": [
      "..........converting xyz to smiles.......\n",
      "..........converting xyz to smiles.......\n",
      " 2989 /61492"
     ]
    },
    {
     "name": "stderr",
     "output_type": "stream",
     "text": [
      "IOPub message rate exceeded.\n",
      "The notebook server will temporarily stop sending output\n",
      "to the client in order to avoid crashing it.\n",
      "To change this limit, set the config variable\n",
      "`--NotebookApp.iopub_msg_rate_limit`.\n",
      "\n",
      "Current values:\n",
      "NotebookApp.iopub_msg_rate_limit=1000.0 (msgs/sec)\n",
      "NotebookApp.rate_limit_window=3.0 (secs)\n",
      "\n"
     ]
    },
    {
     "name": "stdout",
     "output_type": "stream",
     "text": [
      " 3007 /61492"
     ]
    },
    {
     "name": "stderr",
     "output_type": "stream",
     "text": [
      "IOPub message rate exceeded.\n",
      "The notebook server will temporarily stop sending output\n",
      "to the client in order to avoid crashing it.\n",
      "To change this limit, set the config variable\n",
      "`--NotebookApp.iopub_msg_rate_limit`.\n",
      "\n",
      "Current values:\n",
      "NotebookApp.iopub_msg_rate_limit=1000.0 (msgs/sec)\n",
      "NotebookApp.rate_limit_window=3.0 (secs)\n",
      "\n"
     ]
    },
    {
     "name": "stdout",
     "output_type": "stream",
     "text": [
      " 7611 /61492"
     ]
    },
    {
     "name": "stderr",
     "output_type": "stream",
     "text": [
      "IOPub message rate exceeded.\n",
      "The notebook server will temporarily stop sending output\n",
      "to the client in order to avoid crashing it.\n",
      "To change this limit, set the config variable\n",
      "`--NotebookApp.iopub_msg_rate_limit`.\n",
      "\n",
      "Current values:\n",
      "NotebookApp.iopub_msg_rate_limit=1000.0 (msgs/sec)\n",
      "NotebookApp.rate_limit_window=3.0 (secs)\n",
      "\n"
     ]
    },
    {
     "name": "stdout",
     "output_type": "stream",
     "text": [
      " 7611 /61492"
     ]
    },
    {
     "name": "stderr",
     "output_type": "stream",
     "text": [
      "IOPub message rate exceeded.\n",
      "The notebook server will temporarily stop sending output\n",
      "to the client in order to avoid crashing it.\n",
      "To change this limit, set the config variable\n",
      "`--NotebookApp.iopub_msg_rate_limit`.\n",
      "\n",
      "Current values:\n",
      "NotebookApp.iopub_msg_rate_limit=1000.0 (msgs/sec)\n",
      "NotebookApp.rate_limit_window=3.0 (secs)\n",
      "\n"
     ]
    },
    {
     "name": "stdout",
     "output_type": "stream",
     "text": [
      " 12045 /61492"
     ]
    },
    {
     "name": "stderr",
     "output_type": "stream",
     "text": [
      "IOPub message rate exceeded.\n",
      "The notebook server will temporarily stop sending output\n",
      "to the client in order to avoid crashing it.\n",
      "To change this limit, set the config variable\n",
      "`--NotebookApp.iopub_msg_rate_limit`.\n",
      "\n",
      "Current values:\n",
      "NotebookApp.iopub_msg_rate_limit=1000.0 (msgs/sec)\n",
      "NotebookApp.rate_limit_window=3.0 (secs)\n",
      "\n"
     ]
    },
    {
     "name": "stdout",
     "output_type": "stream",
     "text": [
      " 12046 /61492"
     ]
    },
    {
     "name": "stderr",
     "output_type": "stream",
     "text": [
      "IOPub message rate exceeded.\n",
      "The notebook server will temporarily stop sending output\n",
      "to the client in order to avoid crashing it.\n",
      "To change this limit, set the config variable\n",
      "`--NotebookApp.iopub_msg_rate_limit`.\n",
      "\n",
      "Current values:\n",
      "NotebookApp.iopub_msg_rate_limit=1000.0 (msgs/sec)\n",
      "NotebookApp.rate_limit_window=3.0 (secs)\n",
      "\n"
     ]
    },
    {
     "name": "stdout",
     "output_type": "stream",
     "text": [
      " 16838 /61492"
     ]
    },
    {
     "name": "stderr",
     "output_type": "stream",
     "text": [
      "IOPub message rate exceeded.\n",
      "The notebook server will temporarily stop sending output\n",
      "to the client in order to avoid crashing it.\n",
      "To change this limit, set the config variable\n",
      "`--NotebookApp.iopub_msg_rate_limit`.\n",
      "\n",
      "Current values:\n",
      "NotebookApp.iopub_msg_rate_limit=1000.0 (msgs/sec)\n",
      "NotebookApp.rate_limit_window=3.0 (secs)\n",
      "\n"
     ]
    },
    {
     "name": "stdout",
     "output_type": "stream",
     "text": [
      "\r",
      " 16839 /61492"
     ]
    },
    {
     "name": "stderr",
     "output_type": "stream",
     "text": [
      "IOPub message rate exceeded.\n",
      "The notebook server will temporarily stop sending output\n",
      "to the client in order to avoid crashing it.\n",
      "To change this limit, set the config variable\n",
      "`--NotebookApp.iopub_msg_rate_limit`.\n",
      "\n",
      "Current values:\n",
      "NotebookApp.iopub_msg_rate_limit=1000.0 (msgs/sec)\n",
      "NotebookApp.rate_limit_window=3.0 (secs)\n",
      "\n"
     ]
    },
    {
     "name": "stdout",
     "output_type": "stream",
     "text": [
      " 21295 /61492"
     ]
    },
    {
     "name": "stderr",
     "output_type": "stream",
     "text": [
      "IOPub message rate exceeded.\n",
      "The notebook server will temporarily stop sending output\n",
      "to the client in order to avoid crashing it.\n",
      "To change this limit, set the config variable\n",
      "`--NotebookApp.iopub_msg_rate_limit`.\n",
      "\n",
      "Current values:\n",
      "NotebookApp.iopub_msg_rate_limit=1000.0 (msgs/sec)\n",
      "NotebookApp.rate_limit_window=3.0 (secs)\n",
      "\n"
     ]
    },
    {
     "name": "stdout",
     "output_type": "stream",
     "text": [
      " 21296 /61492"
     ]
    },
    {
     "name": "stderr",
     "output_type": "stream",
     "text": [
      "IOPub message rate exceeded.\n",
      "The notebook server will temporarily stop sending output\n",
      "to the client in order to avoid crashing it.\n",
      "To change this limit, set the config variable\n",
      "`--NotebookApp.iopub_msg_rate_limit`.\n",
      "\n",
      "Current values:\n",
      "NotebookApp.iopub_msg_rate_limit=1000.0 (msgs/sec)\n",
      "NotebookApp.rate_limit_window=3.0 (secs)\n",
      "\n"
     ]
    },
    {
     "name": "stdout",
     "output_type": "stream",
     "text": [
      " 26027 /61492"
     ]
    },
    {
     "name": "stderr",
     "output_type": "stream",
     "text": [
      "IOPub message rate exceeded.\n",
      "The notebook server will temporarily stop sending output\n",
      "to the client in order to avoid crashing it.\n",
      "To change this limit, set the config variable\n",
      "`--NotebookApp.iopub_msg_rate_limit`.\n",
      "\n",
      "Current values:\n",
      "NotebookApp.iopub_msg_rate_limit=1000.0 (msgs/sec)\n",
      "NotebookApp.rate_limit_window=3.0 (secs)\n",
      "\n"
     ]
    },
    {
     "name": "stdout",
     "output_type": "stream",
     "text": [
      " 26028 /61492"
     ]
    },
    {
     "name": "stderr",
     "output_type": "stream",
     "text": [
      "IOPub message rate exceeded.\n",
      "The notebook server will temporarily stop sending output\n",
      "to the client in order to avoid crashing it.\n",
      "To change this limit, set the config variable\n",
      "`--NotebookApp.iopub_msg_rate_limit`.\n",
      "\n",
      "Current values:\n",
      "NotebookApp.iopub_msg_rate_limit=1000.0 (msgs/sec)\n",
      "NotebookApp.rate_limit_window=3.0 (secs)\n",
      "\n"
     ]
    },
    {
     "name": "stdout",
     "output_type": "stream",
     "text": [
      " 30710 /61492"
     ]
    },
    {
     "name": "stderr",
     "output_type": "stream",
     "text": [
      "IOPub message rate exceeded.\n",
      "The notebook server will temporarily stop sending output\n",
      "to the client in order to avoid crashing it.\n",
      "To change this limit, set the config variable\n",
      "`--NotebookApp.iopub_msg_rate_limit`.\n",
      "\n",
      "Current values:\n",
      "NotebookApp.iopub_msg_rate_limit=1000.0 (msgs/sec)\n",
      "NotebookApp.rate_limit_window=3.0 (secs)\n",
      "\n"
     ]
    },
    {
     "name": "stdout",
     "output_type": "stream",
     "text": [
      " 30711 /61492"
     ]
    },
    {
     "name": "stderr",
     "output_type": "stream",
     "text": [
      "IOPub message rate exceeded.\n",
      "The notebook server will temporarily stop sending output\n",
      "to the client in order to avoid crashing it.\n",
      "To change this limit, set the config variable\n",
      "`--NotebookApp.iopub_msg_rate_limit`.\n",
      "\n",
      "Current values:\n",
      "NotebookApp.iopub_msg_rate_limit=1000.0 (msgs/sec)\n",
      "NotebookApp.rate_limit_window=3.0 (secs)\n",
      "\n"
     ]
    },
    {
     "name": "stdout",
     "output_type": "stream",
     "text": [
      " 35534 /61492"
     ]
    },
    {
     "name": "stderr",
     "output_type": "stream",
     "text": [
      "IOPub message rate exceeded.\n",
      "The notebook server will temporarily stop sending output\n",
      "to the client in order to avoid crashing it.\n",
      "To change this limit, set the config variable\n",
      "`--NotebookApp.iopub_msg_rate_limit`.\n",
      "\n",
      "Current values:\n",
      "NotebookApp.iopub_msg_rate_limit=1000.0 (msgs/sec)\n",
      "NotebookApp.rate_limit_window=3.0 (secs)\n",
      "\n"
     ]
    },
    {
     "name": "stdout",
     "output_type": "stream",
     "text": [
      " 35535 /61492"
     ]
    },
    {
     "name": "stderr",
     "output_type": "stream",
     "text": [
      "IOPub message rate exceeded.\n",
      "The notebook server will temporarily stop sending output\n",
      "to the client in order to avoid crashing it.\n",
      "To change this limit, set the config variable\n",
      "`--NotebookApp.iopub_msg_rate_limit`.\n",
      "\n",
      "Current values:\n",
      "NotebookApp.iopub_msg_rate_limit=1000.0 (msgs/sec)\n",
      "NotebookApp.rate_limit_window=3.0 (secs)\n",
      "\n"
     ]
    },
    {
     "name": "stdout",
     "output_type": "stream",
     "text": [
      " 42384 /61492"
     ]
    },
    {
     "name": "stderr",
     "output_type": "stream",
     "text": [
      "IOPub message rate exceeded.\n",
      "The notebook server will temporarily stop sending output\n",
      "to the client in order to avoid crashing it.\n",
      "To change this limit, set the config variable\n",
      "`--NotebookApp.iopub_msg_rate_limit`.\n",
      "\n",
      "Current values:\n",
      "NotebookApp.iopub_msg_rate_limit=1000.0 (msgs/sec)\n",
      "NotebookApp.rate_limit_window=3.0 (secs)\n",
      "\n"
     ]
    },
    {
     "name": "stdout",
     "output_type": "stream",
     "text": [
      " 42561 /61492"
     ]
    },
    {
     "name": "stderr",
     "output_type": "stream",
     "text": [
      "IOPub message rate exceeded.\n",
      "The notebook server will temporarily stop sending output\n",
      "to the client in order to avoid crashing it.\n",
      "To change this limit, set the config variable\n",
      "`--NotebookApp.iopub_msg_rate_limit`.\n",
      "\n",
      "Current values:\n",
      "NotebookApp.iopub_msg_rate_limit=1000.0 (msgs/sec)\n",
      "NotebookApp.rate_limit_window=3.0 (secs)\n",
      "\n"
     ]
    },
    {
     "name": "stdout",
     "output_type": "stream",
     "text": [
      " 47123 /61492"
     ]
    },
    {
     "name": "stderr",
     "output_type": "stream",
     "text": [
      "IOPub message rate exceeded.\n",
      "The notebook server will temporarily stop sending output\n",
      "to the client in order to avoid crashing it.\n",
      "To change this limit, set the config variable\n",
      "`--NotebookApp.iopub_msg_rate_limit`.\n",
      "\n",
      "Current values:\n",
      "NotebookApp.iopub_msg_rate_limit=1000.0 (msgs/sec)\n",
      "NotebookApp.rate_limit_window=3.0 (secs)\n",
      "\n"
     ]
    },
    {
     "name": "stdout",
     "output_type": "stream",
     "text": [
      " 47404 /61492"
     ]
    },
    {
     "name": "stderr",
     "output_type": "stream",
     "text": [
      "IOPub message rate exceeded.\n",
      "The notebook server will temporarily stop sending output\n",
      "to the client in order to avoid crashing it.\n",
      "To change this limit, set the config variable\n",
      "`--NotebookApp.iopub_msg_rate_limit`.\n",
      "\n",
      "Current values:\n",
      "NotebookApp.iopub_msg_rate_limit=1000.0 (msgs/sec)\n",
      "NotebookApp.rate_limit_window=3.0 (secs)\n",
      "\n"
     ]
    },
    {
     "name": "stdout",
     "output_type": "stream",
     "text": [
      " 51709 /61492"
     ]
    },
    {
     "name": "stderr",
     "output_type": "stream",
     "text": [
      "IOPub message rate exceeded.\n",
      "The notebook server will temporarily stop sending output\n",
      "to the client in order to avoid crashing it.\n",
      "To change this limit, set the config variable\n",
      "`--NotebookApp.iopub_msg_rate_limit`.\n",
      "\n",
      "Current values:\n",
      "NotebookApp.iopub_msg_rate_limit=1000.0 (msgs/sec)\n",
      "NotebookApp.rate_limit_window=3.0 (secs)\n",
      "\n"
     ]
    },
    {
     "name": "stdout",
     "output_type": "stream",
     "text": [
      " 52007 /61492"
     ]
    },
    {
     "name": "stderr",
     "output_type": "stream",
     "text": [
      "IOPub message rate exceeded.\n",
      "The notebook server will temporarily stop sending output\n",
      "to the client in order to avoid crashing it.\n",
      "To change this limit, set the config variable\n",
      "`--NotebookApp.iopub_msg_rate_limit`.\n",
      "\n",
      "Current values:\n",
      "NotebookApp.iopub_msg_rate_limit=1000.0 (msgs/sec)\n",
      "NotebookApp.rate_limit_window=3.0 (secs)\n",
      "\n"
     ]
    },
    {
     "name": "stdout",
     "output_type": "stream",
     "text": [
      " 56294 /61492"
     ]
    },
    {
     "name": "stderr",
     "output_type": "stream",
     "text": [
      "IOPub message rate exceeded.\n",
      "The notebook server will temporarily stop sending output\n",
      "to the client in order to avoid crashing it.\n",
      "To change this limit, set the config variable\n",
      "`--NotebookApp.iopub_msg_rate_limit`.\n",
      "\n",
      "Current values:\n",
      "NotebookApp.iopub_msg_rate_limit=1000.0 (msgs/sec)\n",
      "NotebookApp.rate_limit_window=3.0 (secs)\n",
      "\n"
     ]
    },
    {
     "name": "stdout",
     "output_type": "stream",
     "text": [
      " 56574 /61492"
     ]
    },
    {
     "name": "stderr",
     "output_type": "stream",
     "text": [
      "IOPub message rate exceeded.\n",
      "The notebook server will temporarily stop sending output\n",
      "to the client in order to avoid crashing it.\n",
      "To change this limit, set the config variable\n",
      "`--NotebookApp.iopub_msg_rate_limit`.\n",
      "\n",
      "Current values:\n",
      "NotebookApp.iopub_msg_rate_limit=1000.0 (msgs/sec)\n",
      "NotebookApp.rate_limit_window=3.0 (secs)\n",
      "\n"
     ]
    },
    {
     "name": "stdout",
     "output_type": "stream",
     "text": [
      " 61151 /61492"
     ]
    },
    {
     "name": "stderr",
     "output_type": "stream",
     "text": [
      "IOPub message rate exceeded.\n",
      "The notebook server will temporarily stop sending output\n",
      "to the client in order to avoid crashing it.\n",
      "To change this limit, set the config variable\n",
      "`--NotebookApp.iopub_msg_rate_limit`.\n",
      "\n",
      "Current values:\n",
      "NotebookApp.iopub_msg_rate_limit=1000.0 (msgs/sec)\n",
      "NotebookApp.rate_limit_window=3.0 (secs)\n",
      "\n"
     ]
    },
    {
     "name": "stdout",
     "output_type": "stream",
     "text": [
      " 60871 /61492"
     ]
    },
    {
     "name": "stderr",
     "output_type": "stream",
     "text": [
      "IOPub message rate exceeded.\n",
      "The notebook server will temporarily stop sending output\n",
      "to the client in order to avoid crashing it.\n",
      "To change this limit, set the config variable\n",
      "`--NotebookApp.iopub_msg_rate_limit`.\n",
      "\n",
      "Current values:\n",
      "NotebookApp.iopub_msg_rate_limit=1000.0 (msgs/sec)\n",
      "NotebookApp.rate_limit_window=3.0 (secs)\n",
      "\n"
     ]
    },
    {
     "name": "stdout",
     "output_type": "stream",
     "text": [
      " 4393 /63678"
     ]
    },
    {
     "name": "stderr",
     "output_type": "stream",
     "text": [
      "IOPub message rate exceeded.\n",
      "The notebook server will temporarily stop sending output\n",
      "to the client in order to avoid crashing it.\n",
      "To change this limit, set the config variable\n",
      "`--NotebookApp.iopub_msg_rate_limit`.\n",
      "\n",
      "Current values:\n",
      "NotebookApp.iopub_msg_rate_limit=1000.0 (msgs/sec)\n",
      "NotebookApp.rate_limit_window=3.0 (secs)\n",
      "\n"
     ]
    },
    {
     "name": "stdout",
     "output_type": "stream",
     "text": [
      " 4113 /63678"
     ]
    },
    {
     "name": "stderr",
     "output_type": "stream",
     "text": [
      "IOPub message rate exceeded.\n",
      "The notebook server will temporarily stop sending output\n",
      "to the client in order to avoid crashing it.\n",
      "To change this limit, set the config variable\n",
      "`--NotebookApp.iopub_msg_rate_limit`.\n",
      "\n",
      "Current values:\n",
      "NotebookApp.iopub_msg_rate_limit=1000.0 (msgs/sec)\n",
      "NotebookApp.rate_limit_window=3.0 (secs)\n",
      "\n"
     ]
    },
    {
     "name": "stdout",
     "output_type": "stream",
     "text": [
      " 8854 /63678"
     ]
    },
    {
     "name": "stderr",
     "output_type": "stream",
     "text": [
      "IOPub message rate exceeded.\n",
      "The notebook server will temporarily stop sending output\n",
      "to the client in order to avoid crashing it.\n",
      "To change this limit, set the config variable\n",
      "`--NotebookApp.iopub_msg_rate_limit`.\n",
      "\n",
      "Current values:\n",
      "NotebookApp.iopub_msg_rate_limit=1000.0 (msgs/sec)\n",
      "NotebookApp.rate_limit_window=3.0 (secs)\n",
      "\n"
     ]
    },
    {
     "name": "stdout",
     "output_type": "stream",
     "text": [
      " 8574 /63678"
     ]
    },
    {
     "name": "stderr",
     "output_type": "stream",
     "text": [
      "IOPub message rate exceeded.\n",
      "The notebook server will temporarily stop sending output\n",
      "to the client in order to avoid crashing it.\n",
      "To change this limit, set the config variable\n",
      "`--NotebookApp.iopub_msg_rate_limit`.\n",
      "\n",
      "Current values:\n",
      "NotebookApp.iopub_msg_rate_limit=1000.0 (msgs/sec)\n",
      "NotebookApp.rate_limit_window=3.0 (secs)\n",
      "\n"
     ]
    },
    {
     "name": "stdout",
     "output_type": "stream",
     "text": [
      " 13390 /63678"
     ]
    },
    {
     "name": "stderr",
     "output_type": "stream",
     "text": [
      "IOPub message rate exceeded.\n",
      "The notebook server will temporarily stop sending output\n",
      "to the client in order to avoid crashing it.\n",
      "To change this limit, set the config variable\n",
      "`--NotebookApp.iopub_msg_rate_limit`.\n",
      "\n",
      "Current values:\n",
      "NotebookApp.iopub_msg_rate_limit=1000.0 (msgs/sec)\n",
      "NotebookApp.rate_limit_window=3.0 (secs)\n",
      "\n"
     ]
    },
    {
     "name": "stdout",
     "output_type": "stream",
     "text": [
      " 13110 /63678"
     ]
    },
    {
     "name": "stderr",
     "output_type": "stream",
     "text": [
      "IOPub message rate exceeded.\n",
      "The notebook server will temporarily stop sending output\n",
      "to the client in order to avoid crashing it.\n",
      "To change this limit, set the config variable\n",
      "`--NotebookApp.iopub_msg_rate_limit`.\n",
      "\n",
      "Current values:\n",
      "NotebookApp.iopub_msg_rate_limit=1000.0 (msgs/sec)\n",
      "NotebookApp.rate_limit_window=3.0 (secs)\n",
      "\n"
     ]
    },
    {
     "name": "stdout",
     "output_type": "stream",
     "text": [
      " 17977 /63678"
     ]
    },
    {
     "name": "stderr",
     "output_type": "stream",
     "text": [
      "IOPub message rate exceeded.\n",
      "The notebook server will temporarily stop sending output\n",
      "to the client in order to avoid crashing it.\n",
      "To change this limit, set the config variable\n",
      "`--NotebookApp.iopub_msg_rate_limit`.\n",
      "\n",
      "Current values:\n",
      "NotebookApp.iopub_msg_rate_limit=1000.0 (msgs/sec)\n",
      "NotebookApp.rate_limit_window=3.0 (secs)\n",
      "\n"
     ]
    },
    {
     "name": "stdout",
     "output_type": "stream",
     "text": [
      " 17697 /63678"
     ]
    },
    {
     "name": "stderr",
     "output_type": "stream",
     "text": [
      "IOPub message rate exceeded.\n",
      "The notebook server will temporarily stop sending output\n",
      "to the client in order to avoid crashing it.\n",
      "To change this limit, set the config variable\n",
      "`--NotebookApp.iopub_msg_rate_limit`.\n",
      "\n",
      "Current values:\n",
      "NotebookApp.iopub_msg_rate_limit=1000.0 (msgs/sec)\n",
      "NotebookApp.rate_limit_window=3.0 (secs)\n",
      "\n"
     ]
    },
    {
     "name": "stdout",
     "output_type": "stream",
     "text": [
      " 22720 /63678"
     ]
    },
    {
     "name": "stderr",
     "output_type": "stream",
     "text": [
      "IOPub message rate exceeded.\n",
      "The notebook server will temporarily stop sending output\n",
      "to the client in order to avoid crashing it.\n",
      "To change this limit, set the config variable\n",
      "`--NotebookApp.iopub_msg_rate_limit`.\n",
      "\n",
      "Current values:\n",
      "NotebookApp.iopub_msg_rate_limit=1000.0 (msgs/sec)\n",
      "NotebookApp.rate_limit_window=3.0 (secs)\n",
      "\n"
     ]
    },
    {
     "name": "stdout",
     "output_type": "stream",
     "text": [
      " 22440 /63678"
     ]
    },
    {
     "name": "stderr",
     "output_type": "stream",
     "text": [
      "IOPub message rate exceeded.\n",
      "The notebook server will temporarily stop sending output\n",
      "to the client in order to avoid crashing it.\n",
      "To change this limit, set the config variable\n",
      "`--NotebookApp.iopub_msg_rate_limit`.\n",
      "\n",
      "Current values:\n",
      "NotebookApp.iopub_msg_rate_limit=1000.0 (msgs/sec)\n",
      "NotebookApp.rate_limit_window=3.0 (secs)\n",
      "\n"
     ]
    },
    {
     "name": "stdout",
     "output_type": "stream",
     "text": [
      " 27002 /63678"
     ]
    },
    {
     "name": "stderr",
     "output_type": "stream",
     "text": [
      "IOPub message rate exceeded.\n",
      "The notebook server will temporarily stop sending output\n",
      "to the client in order to avoid crashing it.\n",
      "To change this limit, set the config variable\n",
      "`--NotebookApp.iopub_msg_rate_limit`.\n",
      "\n",
      "Current values:\n",
      "NotebookApp.iopub_msg_rate_limit=1000.0 (msgs/sec)\n",
      "NotebookApp.rate_limit_window=3.0 (secs)\n",
      "\n"
     ]
    },
    {
     "name": "stdout",
     "output_type": "stream",
     "text": [
      " 27282 /63678"
     ]
    },
    {
     "name": "stderr",
     "output_type": "stream",
     "text": [
      "IOPub message rate exceeded.\n",
      "The notebook server will temporarily stop sending output\n",
      "to the client in order to avoid crashing it.\n",
      "To change this limit, set the config variable\n",
      "`--NotebookApp.iopub_msg_rate_limit`.\n",
      "\n",
      "Current values:\n",
      "NotebookApp.iopub_msg_rate_limit=1000.0 (msgs/sec)\n",
      "NotebookApp.rate_limit_window=3.0 (secs)\n",
      "\n"
     ]
    },
    {
     "name": "stdout",
     "output_type": "stream",
     "text": [
      " 31761 /63678"
     ]
    },
    {
     "name": "stderr",
     "output_type": "stream",
     "text": [
      "IOPub message rate exceeded.\n",
      "The notebook server will temporarily stop sending output\n",
      "to the client in order to avoid crashing it.\n",
      "To change this limit, set the config variable\n",
      "`--NotebookApp.iopub_msg_rate_limit`.\n",
      "\n",
      "Current values:\n",
      "NotebookApp.iopub_msg_rate_limit=1000.0 (msgs/sec)\n",
      "NotebookApp.rate_limit_window=3.0 (secs)\n",
      "\n"
     ]
    },
    {
     "name": "stdout",
     "output_type": "stream",
     "text": [
      " 31482 /63678"
     ]
    },
    {
     "name": "stderr",
     "output_type": "stream",
     "text": [
      "IOPub message rate exceeded.\n",
      "The notebook server will temporarily stop sending output\n",
      "to the client in order to avoid crashing it.\n",
      "To change this limit, set the config variable\n",
      "`--NotebookApp.iopub_msg_rate_limit`.\n",
      "\n",
      "Current values:\n",
      "NotebookApp.iopub_msg_rate_limit=1000.0 (msgs/sec)\n",
      "NotebookApp.rate_limit_window=3.0 (secs)\n",
      "\n"
     ]
    },
    {
     "name": "stdout",
     "output_type": "stream",
     "text": [
      " 36071 /63678"
     ]
    },
    {
     "name": "stderr",
     "output_type": "stream",
     "text": [
      "IOPub message rate exceeded.\n",
      "The notebook server will temporarily stop sending output\n",
      "to the client in order to avoid crashing it.\n",
      "To change this limit, set the config variable\n",
      "`--NotebookApp.iopub_msg_rate_limit`.\n",
      "\n",
      "Current values:\n",
      "NotebookApp.iopub_msg_rate_limit=1000.0 (msgs/sec)\n",
      "NotebookApp.rate_limit_window=3.0 (secs)\n",
      "\n"
     ]
    },
    {
     "name": "stdout",
     "output_type": "stream",
     "text": [
      " 36350 /63678"
     ]
    },
    {
     "name": "stderr",
     "output_type": "stream",
     "text": [
      "IOPub message rate exceeded.\n",
      "The notebook server will temporarily stop sending output\n",
      "to the client in order to avoid crashing it.\n",
      "To change this limit, set the config variable\n",
      "`--NotebookApp.iopub_msg_rate_limit`.\n",
      "\n",
      "Current values:\n",
      "NotebookApp.iopub_msg_rate_limit=1000.0 (msgs/sec)\n",
      "NotebookApp.rate_limit_window=3.0 (secs)\n",
      "\n"
     ]
    },
    {
     "name": "stdout",
     "output_type": "stream",
     "text": [
      " 40733 /63678"
     ]
    },
    {
     "name": "stderr",
     "output_type": "stream",
     "text": [
      "IOPub message rate exceeded.\n",
      "The notebook server will temporarily stop sending output\n",
      "to the client in order to avoid crashing it.\n",
      "To change this limit, set the config variable\n",
      "`--NotebookApp.iopub_msg_rate_limit`.\n",
      "\n",
      "Current values:\n",
      "NotebookApp.iopub_msg_rate_limit=1000.0 (msgs/sec)\n",
      "NotebookApp.rate_limit_window=3.0 (secs)\n",
      "\n"
     ]
    },
    {
     "name": "stdout",
     "output_type": "stream",
     "text": [
      " 40454 /63678"
     ]
    },
    {
     "name": "stderr",
     "output_type": "stream",
     "text": [
      "IOPub message rate exceeded.\n",
      "The notebook server will temporarily stop sending output\n",
      "to the client in order to avoid crashing it.\n",
      "To change this limit, set the config variable\n",
      "`--NotebookApp.iopub_msg_rate_limit`.\n",
      "\n",
      "Current values:\n",
      "NotebookApp.iopub_msg_rate_limit=1000.0 (msgs/sec)\n",
      "NotebookApp.rate_limit_window=3.0 (secs)\n",
      "\n"
     ]
    },
    {
     "name": "stdout",
     "output_type": "stream",
     "text": [
      " 44929 /63678"
     ]
    },
    {
     "name": "stderr",
     "output_type": "stream",
     "text": [
      "IOPub message rate exceeded.\n",
      "The notebook server will temporarily stop sending output\n",
      "to the client in order to avoid crashing it.\n",
      "To change this limit, set the config variable\n",
      "`--NotebookApp.iopub_msg_rate_limit`.\n",
      "\n",
      "Current values:\n",
      "NotebookApp.iopub_msg_rate_limit=1000.0 (msgs/sec)\n",
      "NotebookApp.rate_limit_window=3.0 (secs)\n",
      "\n"
     ]
    },
    {
     "name": "stdout",
     "output_type": "stream",
     "text": [
      " 2642 / 61182"
     ]
    },
    {
     "name": "stderr",
     "output_type": "stream",
     "text": [
      "IOPub message rate exceeded.\n",
      "The notebook server will temporarily stop sending output\n",
      "to the client in order to avoid crashing it.\n",
      "To change this limit, set the config variable\n",
      "`--NotebookApp.iopub_msg_rate_limit`.\n",
      "\n",
      "Current values:\n",
      "NotebookApp.iopub_msg_rate_limit=1000.0 (msgs/sec)\n",
      "NotebookApp.rate_limit_window=3.0 (secs)\n",
      "\n"
     ]
    },
    {
     "name": "stdout",
     "output_type": "stream",
     "text": [
      " 2642 / 61182"
     ]
    },
    {
     "name": "stderr",
     "output_type": "stream",
     "text": [
      "IOPub message rate exceeded.\n",
      "The notebook server will temporarily stop sending output\n",
      "to the client in order to avoid crashing it.\n",
      "To change this limit, set the config variable\n",
      "`--NotebookApp.iopub_msg_rate_limit`.\n",
      "\n",
      "Current values:\n",
      "NotebookApp.iopub_msg_rate_limit=1000.0 (msgs/sec)\n",
      "NotebookApp.rate_limit_window=3.0 (secs)\n",
      "\n"
     ]
    },
    {
     "name": "stdout",
     "output_type": "stream",
     "text": [
      " 9682 / 61182"
     ]
    },
    {
     "name": "stderr",
     "output_type": "stream",
     "text": [
      "IOPub message rate exceeded.\n",
      "The notebook server will temporarily stop sending output\n",
      "to the client in order to avoid crashing it.\n",
      "To change this limit, set the config variable\n",
      "`--NotebookApp.iopub_msg_rate_limit`.\n",
      "\n",
      "Current values:\n",
      "NotebookApp.iopub_msg_rate_limit=1000.0 (msgs/sec)\n",
      "NotebookApp.rate_limit_window=3.0 (secs)\n",
      "\n"
     ]
    },
    {
     "name": "stdout",
     "output_type": "stream",
     "text": [
      " 9682 / 61182"
     ]
    },
    {
     "name": "stderr",
     "output_type": "stream",
     "text": [
      "IOPub message rate exceeded.\n",
      "The notebook server will temporarily stop sending output\n",
      "to the client in order to avoid crashing it.\n",
      "To change this limit, set the config variable\n",
      "`--NotebookApp.iopub_msg_rate_limit`.\n",
      "\n",
      "Current values:\n",
      "NotebookApp.iopub_msg_rate_limit=1000.0 (msgs/sec)\n",
      "NotebookApp.rate_limit_window=3.0 (secs)\n",
      "\n"
     ]
    },
    {
     "name": "stdout",
     "output_type": "stream",
     "text": [
      " 18127 / 61182"
     ]
    },
    {
     "name": "stderr",
     "output_type": "stream",
     "text": [
      "IOPub message rate exceeded.\n",
      "The notebook server will temporarily stop sending output\n",
      "to the client in order to avoid crashing it.\n",
      "To change this limit, set the config variable\n",
      "`--NotebookApp.iopub_msg_rate_limit`.\n",
      "\n",
      "Current values:\n",
      "NotebookApp.iopub_msg_rate_limit=1000.0 (msgs/sec)\n",
      "NotebookApp.rate_limit_window=3.0 (secs)\n",
      "\n"
     ]
    },
    {
     "name": "stdout",
     "output_type": "stream",
     "text": [
      " 18127 / 61182"
     ]
    },
    {
     "name": "stderr",
     "output_type": "stream",
     "text": [
      "IOPub message rate exceeded.\n",
      "The notebook server will temporarily stop sending output\n",
      "to the client in order to avoid crashing it.\n",
      "To change this limit, set the config variable\n",
      "`--NotebookApp.iopub_msg_rate_limit`.\n",
      "\n",
      "Current values:\n",
      "NotebookApp.iopub_msg_rate_limit=1000.0 (msgs/sec)\n",
      "NotebookApp.rate_limit_window=3.0 (secs)\n",
      "\n"
     ]
    },
    {
     "name": "stdout",
     "output_type": "stream",
     "text": [
      " 21820 / 61182"
     ]
    },
    {
     "name": "stderr",
     "output_type": "stream",
     "text": [
      "IOPub message rate exceeded.\n",
      "The notebook server will temporarily stop sending output\n",
      "to the client in order to avoid crashing it.\n",
      "To change this limit, set the config variable\n",
      "`--NotebookApp.iopub_msg_rate_limit`.\n",
      "\n",
      "Current values:\n",
      "NotebookApp.iopub_msg_rate_limit=1000.0 (msgs/sec)\n",
      "NotebookApp.rate_limit_window=3.0 (secs)\n",
      "\n",
      "IOPub message rate exceeded.\n",
      "The notebook server will temporarily stop sending output\n",
      "to the client in order to avoid crashing it.\n",
      "To change this limit, set the config variable\n",
      "`--NotebookApp.iopub_msg_rate_limit`.\n",
      "\n",
      "Current values:\n",
      "NotebookApp.iopub_msg_rate_limit=1000.0 (msgs/sec)\n",
      "NotebookApp.rate_limit_window=3.0 (secs)\n",
      "\n"
     ]
    },
    {
     "name": "stdout",
     "output_type": "stream",
     "text": [
      " 25529 / 61182"
     ]
    },
    {
     "name": "stderr",
     "output_type": "stream",
     "text": [
      "IOPub message rate exceeded.\n",
      "The notebook server will temporarily stop sending output\n",
      "to the client in order to avoid crashing it.\n",
      "To change this limit, set the config variable\n",
      "`--NotebookApp.iopub_msg_rate_limit`.\n",
      "\n",
      "Current values:\n",
      "NotebookApp.iopub_msg_rate_limit=1000.0 (msgs/sec)\n",
      "NotebookApp.rate_limit_window=3.0 (secs)\n",
      "\n",
      "IOPub message rate exceeded.\n",
      "The notebook server will temporarily stop sending output\n",
      "to the client in order to avoid crashing it.\n",
      "To change this limit, set the config variable\n",
      "`--NotebookApp.iopub_msg_rate_limit`.\n",
      "\n",
      "Current values:\n",
      "NotebookApp.iopub_msg_rate_limit=1000.0 (msgs/sec)\n",
      "NotebookApp.rate_limit_window=3.0 (secs)\n",
      "\n"
     ]
    },
    {
     "name": "stdout",
     "output_type": "stream",
     "text": [
      " 29469 / 61182"
     ]
    },
    {
     "name": "stderr",
     "output_type": "stream",
     "text": [
      "IOPub message rate exceeded.\n",
      "The notebook server will temporarily stop sending output\n",
      "to the client in order to avoid crashing it.\n",
      "To change this limit, set the config variable\n",
      "`--NotebookApp.iopub_msg_rate_limit`.\n",
      "\n",
      "Current values:\n",
      "NotebookApp.iopub_msg_rate_limit=1000.0 (msgs/sec)\n",
      "NotebookApp.rate_limit_window=3.0 (secs)\n",
      "\n",
      "IOPub message rate exceeded.\n",
      "The notebook server will temporarily stop sending output\n",
      "to the client in order to avoid crashing it.\n",
      "To change this limit, set the config variable\n",
      "`--NotebookApp.iopub_msg_rate_limit`.\n",
      "\n",
      "Current values:\n",
      "NotebookApp.iopub_msg_rate_limit=1000.0 (msgs/sec)\n",
      "NotebookApp.rate_limit_window=3.0 (secs)\n",
      "\n"
     ]
    },
    {
     "name": "stdout",
     "output_type": "stream",
     "text": [
      " 40769 / 61182"
     ]
    },
    {
     "name": "stderr",
     "output_type": "stream",
     "text": [
      "IOPub message rate exceeded.\n",
      "The notebook server will temporarily stop sending output\n",
      "to the client in order to avoid crashing it.\n",
      "To change this limit, set the config variable\n",
      "`--NotebookApp.iopub_msg_rate_limit`.\n",
      "\n",
      "Current values:\n",
      "NotebookApp.iopub_msg_rate_limit=1000.0 (msgs/sec)\n",
      "NotebookApp.rate_limit_window=3.0 (secs)\n",
      "\n"
     ]
    },
    {
     "name": "stdout",
     "output_type": "stream",
     "text": [
      " 40769 / 61182"
     ]
    },
    {
     "name": "stderr",
     "output_type": "stream",
     "text": [
      "IOPub message rate exceeded.\n",
      "The notebook server will temporarily stop sending output\n",
      "to the client in order to avoid crashing it.\n",
      "To change this limit, set the config variable\n",
      "`--NotebookApp.iopub_msg_rate_limit`.\n",
      "\n",
      "Current values:\n",
      "NotebookApp.iopub_msg_rate_limit=1000.0 (msgs/sec)\n",
      "NotebookApp.rate_limit_window=3.0 (secs)\n",
      "\n"
     ]
    },
    {
     "name": "stdout",
     "output_type": "stream",
     "text": [
      " 44414 / 61182"
     ]
    },
    {
     "name": "stderr",
     "output_type": "stream",
     "text": [
      "IOPub message rate exceeded.\n",
      "The notebook server will temporarily stop sending output\n",
      "to the client in order to avoid crashing it.\n",
      "To change this limit, set the config variable\n",
      "`--NotebookApp.iopub_msg_rate_limit`.\n",
      "\n",
      "Current values:\n",
      "NotebookApp.iopub_msg_rate_limit=1000.0 (msgs/sec)\n",
      "NotebookApp.rate_limit_window=3.0 (secs)\n",
      "\n"
     ]
    },
    {
     "name": "stdout",
     "output_type": "stream",
     "text": [
      " 44436 / 61182"
     ]
    },
    {
     "name": "stderr",
     "output_type": "stream",
     "text": [
      "IOPub message rate exceeded.\n",
      "The notebook server will temporarily stop sending output\n",
      "to the client in order to avoid crashing it.\n",
      "To change this limit, set the config variable\n",
      "`--NotebookApp.iopub_msg_rate_limit`.\n",
      "\n",
      "Current values:\n",
      "NotebookApp.iopub_msg_rate_limit=1000.0 (msgs/sec)\n",
      "NotebookApp.rate_limit_window=3.0 (secs)\n",
      "\n"
     ]
    },
    {
     "name": "stdout",
     "output_type": "stream",
     "text": [
      " 49753 / 61182"
     ]
    },
    {
     "name": "stderr",
     "output_type": "stream",
     "text": [
      "IOPub message rate exceeded.\n",
      "The notebook server will temporarily stop sending output\n",
      "to the client in order to avoid crashing it.\n",
      "To change this limit, set the config variable\n",
      "`--NotebookApp.iopub_msg_rate_limit`.\n",
      "\n",
      "Current values:\n",
      "NotebookApp.iopub_msg_rate_limit=1000.0 (msgs/sec)\n",
      "NotebookApp.rate_limit_window=3.0 (secs)\n",
      "\n"
     ]
    },
    {
     "name": "stdout",
     "output_type": "stream",
     "text": [
      " 49751 / 61182"
     ]
    },
    {
     "name": "stderr",
     "output_type": "stream",
     "text": [
      "IOPub message rate exceeded.\n",
      "The notebook server will temporarily stop sending output\n",
      "to the client in order to avoid crashing it.\n",
      "To change this limit, set the config variable\n",
      "`--NotebookApp.iopub_msg_rate_limit`.\n",
      "\n",
      "Current values:\n",
      "NotebookApp.iopub_msg_rate_limit=1000.0 (msgs/sec)\n",
      "NotebookApp.rate_limit_window=3.0 (secs)\n",
      "\n"
     ]
    },
    {
     "name": "stdout",
     "output_type": "stream",
     "text": [
      " 53471 / 61182"
     ]
    },
    {
     "name": "stderr",
     "output_type": "stream",
     "text": [
      "IOPub message rate exceeded.\n",
      "The notebook server will temporarily stop sending output\n",
      "to the client in order to avoid crashing it.\n",
      "To change this limit, set the config variable\n",
      "`--NotebookApp.iopub_msg_rate_limit`.\n",
      "\n",
      "Current values:\n",
      "NotebookApp.iopub_msg_rate_limit=1000.0 (msgs/sec)\n",
      "NotebookApp.rate_limit_window=3.0 (secs)\n",
      "\n"
     ]
    },
    {
     "name": "stdout",
     "output_type": "stream",
     "text": [
      " 53475 / 61182"
     ]
    },
    {
     "name": "stderr",
     "output_type": "stream",
     "text": [
      "IOPub message rate exceeded.\n",
      "The notebook server will temporarily stop sending output\n",
      "to the client in order to avoid crashing it.\n",
      "To change this limit, set the config variable\n",
      "`--NotebookApp.iopub_msg_rate_limit`.\n",
      "\n",
      "Current values:\n",
      "NotebookApp.iopub_msg_rate_limit=1000.0 (msgs/sec)\n",
      "NotebookApp.rate_limit_window=3.0 (secs)\n",
      "\n"
     ]
    },
    {
     "name": "stdout",
     "output_type": "stream",
     "text": [
      " 57264 / 61182"
     ]
    },
    {
     "name": "stderr",
     "output_type": "stream",
     "text": [
      "IOPub message rate exceeded.\n",
      "The notebook server will temporarily stop sending output\n",
      "to the client in order to avoid crashing it.\n",
      "To change this limit, set the config variable\n",
      "`--NotebookApp.iopub_msg_rate_limit`.\n",
      "\n",
      "Current values:\n",
      "NotebookApp.iopub_msg_rate_limit=1000.0 (msgs/sec)\n",
      "NotebookApp.rate_limit_window=3.0 (secs)\n",
      "\n",
      "IOPub message rate exceeded.\n",
      "The notebook server will temporarily stop sending output\n",
      "to the client in order to avoid crashing it.\n",
      "To change this limit, set the config variable\n",
      "`--NotebookApp.iopub_msg_rate_limit`.\n",
      "\n",
      "Current values:\n",
      "NotebookApp.iopub_msg_rate_limit=1000.0 (msgs/sec)\n",
      "NotebookApp.rate_limit_window=3.0 (secs)\n",
      "\n"
     ]
    },
    {
     "name": "stdout",
     "output_type": "stream",
     "text": [
      " 61103 / 61182"
     ]
    },
    {
     "name": "stderr",
     "output_type": "stream",
     "text": [
      "IOPub message rate exceeded.\n",
      "The notebook server will temporarily stop sending output\n",
      "to the client in order to avoid crashing it.\n",
      "To change this limit, set the config variable\n",
      "`--NotebookApp.iopub_msg_rate_limit`.\n",
      "\n",
      "Current values:\n",
      "NotebookApp.iopub_msg_rate_limit=1000.0 (msgs/sec)\n",
      "NotebookApp.rate_limit_window=3.0 (secs)\n",
      "\n"
     ]
    },
    {
     "name": "stdout",
     "output_type": "stream",
     "text": [
      " 61104 / 61182"
     ]
    },
    {
     "name": "stderr",
     "output_type": "stream",
     "text": [
      "IOPub message rate exceeded.\n",
      "The notebook server will temporarily stop sending output\n",
      "to the client in order to avoid crashing it.\n",
      "To change this limit, set the config variable\n",
      "`--NotebookApp.iopub_msg_rate_limit`.\n",
      "\n",
      "Current values:\n",
      "NotebookApp.iopub_msg_rate_limit=1000.0 (msgs/sec)\n",
      "NotebookApp.rate_limit_window=3.0 (secs)\n",
      "\n"
     ]
    },
    {
     "name": "stdout",
     "output_type": "stream",
     "text": [
      " 61178 /6118058183\n",
      "58183\n",
      "58183\n",
      "58183\n",
      "58183\n",
      " 61178 /6118058183\n",
      "58183\n",
      "58183\n",
      "58183\n",
      "58183\n",
      "58183\n",
      "58183\n"
     ]
    }
   ],
   "source": [
    "# previously implemented extraction script from a database of quinones we gathered\n",
    "# names are strings in the smiles format\n",
    "names, ret, homo, homo1, diff = selfies()\n",
    "print(len(names))"
   ]
  },
  {
   "cell_type": "code",
   "execution_count": 9,
   "metadata": {},
   "outputs": [
    {
     "ename": "NameError",
     "evalue": "name 'names' is not defined",
     "output_type": "error",
     "traceback": [
      "\u001b[0;31m---------------------------------------------------------------------------\u001b[0m",
      "\u001b[0;31mNameError\u001b[0m                                 Traceback (most recent call last)",
      "\u001b[0;32m<ipython-input-9-8554c7d8709d>\u001b[0m in \u001b[0;36m<module>\u001b[0;34m\u001b[0m\n\u001b[1;32m      2\u001b[0m \u001b[0mselfies_list\u001b[0m\u001b[0;34m,\u001b[0m \u001b[0mselfies_alphabet\u001b[0m\u001b[0;34m,\u001b[0m \u001b[0mlargest_selfies_len\u001b[0m\u001b[0;34m,\u001b[0m\u001b[0;31m\\\u001b[0m\u001b[0;34m\u001b[0m\u001b[0;34m\u001b[0m\u001b[0m\n\u001b[1;32m      3\u001b[0m \u001b[0msmiles_list\u001b[0m\u001b[0;34m,\u001b[0m \u001b[0msmiles_alphabet\u001b[0m\u001b[0;34m,\u001b[0m \u001b[0mlargest_smiles_len\u001b[0m\u001b[0;31m\\\u001b[0m\u001b[0;34m\u001b[0m\u001b[0;34m\u001b[0m\u001b[0m\n\u001b[0;32m----> 4\u001b[0;31m \u001b[0;34m=\u001b[0m \u001b[0mget_selfie_and_smiles_encodings_for_dataset\u001b[0m\u001b[0;34m(\u001b[0m\u001b[0mnames\u001b[0m\u001b[0;34m)\u001b[0m\u001b[0;34m\u001b[0m\u001b[0;34m\u001b[0m\u001b[0m\n\u001b[0m\u001b[1;32m      5\u001b[0m \u001b[0;34m\u001b[0m\u001b[0m\n\u001b[1;32m      6\u001b[0m data = multiple_selfies_to_hot(selfies_list, largest_selfies_len,\\\n",
      "\u001b[0;31mNameError\u001b[0m: name 'names' is not defined"
     ]
    },
    {
     "ename": "NameError",
     "evalue": "name 'names' is not defined",
     "output_type": "error",
     "traceback": [
      "\u001b[0;31m---------------------------------------------------------------------------\u001b[0m",
      "\u001b[0;31mNameError\u001b[0m                                 Traceback (most recent call last)",
      "\u001b[0;32m<ipython-input-9-8554c7d8709d>\u001b[0m in \u001b[0;36m<module>\u001b[0;34m\u001b[0m\n\u001b[1;32m      2\u001b[0m \u001b[0mselfies_list\u001b[0m\u001b[0;34m,\u001b[0m \u001b[0mselfies_alphabet\u001b[0m\u001b[0;34m,\u001b[0m \u001b[0mlargest_selfies_len\u001b[0m\u001b[0;34m,\u001b[0m\u001b[0;31m\\\u001b[0m\u001b[0;34m\u001b[0m\u001b[0;34m\u001b[0m\u001b[0m\n\u001b[1;32m      3\u001b[0m \u001b[0msmiles_list\u001b[0m\u001b[0;34m,\u001b[0m \u001b[0msmiles_alphabet\u001b[0m\u001b[0;34m,\u001b[0m \u001b[0mlargest_smiles_len\u001b[0m\u001b[0;31m\\\u001b[0m\u001b[0;34m\u001b[0m\u001b[0;34m\u001b[0m\u001b[0m\n\u001b[0;32m----> 4\u001b[0;31m \u001b[0;34m=\u001b[0m \u001b[0mget_selfie_and_smiles_encodings_for_dataset\u001b[0m\u001b[0;34m(\u001b[0m\u001b[0mnames\u001b[0m\u001b[0;34m)\u001b[0m\u001b[0;34m\u001b[0m\u001b[0;34m\u001b[0m\u001b[0m\n\u001b[0m\u001b[1;32m      5\u001b[0m \u001b[0;34m\u001b[0m\u001b[0m\n\u001b[1;32m      6\u001b[0m data = multiple_selfies_to_hot(selfies_list, largest_selfies_len,\\\n",
      "\u001b[0;31mNameError\u001b[0m: name 'names' is not defined"
     ]
    }
   ],
   "source": [
    "# convert from smiles to selfies (different formats)\n",
    "selfies_list, selfies_alphabet, largest_selfies_len,\\\n",
    "smiles_list, smiles_alphabet, largest_smiles_len\\\n",
    "= get_selfie_and_smiles_encodings_for_dataset(names)\n",
    "\n",
    "data = multiple_selfies_to_hot(selfies_list, largest_selfies_len,\\\n",
    "                                       selfies_alphabet)\n",
    "\n",
    "max_mol_len = data.shape[1]\n",
    "alpha_len = data.shape[2]\n",
    "len_alphabet_mol = alpha_len * max_mol_len\n",
    "# encoding alphabet\n",
    "# sample len "
   ]
  },
  {
   "cell_type": "markdown",
   "metadata": {},
   "source": [
    "# VAE NN"
   ]
  },
  {
   "cell_type": "code",
   "execution_count": 113,
   "metadata": {},
   "outputs": [],
   "source": [
    "latent_dim = 64\n",
    "input_size = data.shape[1] * data.shape[2]\n",
    "\n",
    "class Sampling(layers.Layer):\n",
    "    \"\"\"Uses (z_mean, z_log_var) to sample z, the vector encoding a digit.\"\"\"\n",
    "\n",
    "    def call(self, inputs):\n",
    "        z_mean, z_log_var = inputs\n",
    "        batch = tf.shape(z_mean)[0]\n",
    "        dim = tf.shape(z_mean)[1]\n",
    "        epsilon = tf.keras.backend.random_normal(shape=(batch, dim))\n",
    "        distance_norm = 0.5\n",
    "        distance_norm = 0.25\n",
    "        distance_norm = 1\n",
    "        \n",
    "        return (z_mean + tf.exp(distance_norm * z_log_var) * epsilon)\n",
    "\n",
    "\n",
    "class VAE(keras.Model):\n",
    "    def __init__(self, encoder, decoder, **kwargs):\n",
    "        super(VAE, self).__init__(**kwargs)\n",
    "        self.encoder = encoder\n",
    "        self.decoder = decoder\n",
    "        self.total_loss_tracker = keras.metrics.Mean(name=\"total_loss\")\n",
    "        self.reconstruction_loss_tracker = keras.metrics.Mean(\n",
    "            name=\"reconstruction_loss\"\n",
    "        )\n",
    "        self.kl_loss_tracker = keras.metrics.Mean(name=\"kl_loss\")\n",
    "\n",
    "    @property\n",
    "    def metrics(self):\n",
    "        return [\n",
    "            self.total_loss_tracker,\n",
    "            self.reconstruction_loss_tracker,\n",
    "            self.kl_loss_tracker,\n",
    "        ]\n",
    "\n",
    "    def train_step(self, data):\n",
    "        \n",
    "        with tf.GradientTape() as tape:\n",
    "            z_mean, z_log_var, z = self.encoder(data)\n",
    "            reconstruction = self.decoder(z)\n",
    "            \n",
    "            reconstruction_loss = keras.losses.mse(data, reconstruction)\n",
    "            #reconstruction_loss = keras.losses.binary_crossentropy(data, reconstruction)\n",
    "            \n",
    "            kl_loss =  (1 + z_log_var - tf.square(z_mean) - tf.exp(z_log_var))\n",
    "            kl_loss = -0.5 * tf.reduce_mean(kl_loss)\n",
    "            beta = 0.01 * latent_dim / input_size\n",
    "            total_loss = reconstruction_loss +  beta * kl_loss\n",
    "        \n",
    "        \n",
    "        grads = tape.gradient(total_loss, self.trainable_weights)\n",
    "        self.optimizer.apply_gradients(zip(grads, self.trainable_weights))\n",
    "        \n",
    "        self.total_loss_tracker.update_state(total_loss)\n",
    "        self.reconstruction_loss_tracker.update_state(reconstruction_loss)\n",
    "        self.kl_loss_tracker.update_state(kl_loss)\n",
    "        return {\n",
    "            \"loss\": self.total_loss_tracker.result(),\n",
    "            \"reconstruction_loss\": self.reconstruction_loss_tracker.result(),\n",
    "            \"kl_loss\": self.kl_loss_tracker.result(),\n",
    "        }\n",
    "    \n"
   ]
  },
  {
   "cell_type": "code",
   "execution_count": 193,
   "metadata": {},
   "outputs": [],
   "source": [
    "## VAE\n",
    "import numpy as np\n",
    "import tensorflow as tf\n",
    "from tensorflow import keras\n",
    "from tensorflow.keras import layers\n",
    "\n",
    "latent_dim = 100\n",
    "# Create data\n",
    "#data_reshape = data.reshape(data.shape[0], data.shape[1], data.shape[2])\n",
    "#x_train = data_reshape[0:int(data.shape[0] * 0.8)]\n",
    "#x_test = data_reshape[int(data.shape[0] * 0.8):-1]\n",
    "\n",
    "data_reshape = data.reshape(data.shape[0], data.shape[1], data.shape[2])\n",
    "train_ind, test_ind = train_test_split(range(data.shape[0]), test_size=0.15)\n",
    "x_train = data_reshape[train_ind]\n",
    "x_test = data_reshape[test_ind]\n",
    "\n",
    "# Create encoder\n",
    "inputs = keras.Input(shape=(data.shape[1] * data.shape[2]))\n",
    "x = layers.Dropout(0.3)(inputs)\n",
    "x = layers.Dense(150, activation='relu')(x)\n",
    "x = layers.Dropout(0.3)(x)\n",
    "x = layers.BatchNormalization()(x)\n",
    "x = layers.Dense(150, activation='relu')(x)\n",
    "x = layers.Dropout(0.3)(x)\n",
    "x = layers.BatchNormalization()(x)\n",
    "x = layers.Dense(150, activation='relu')(x)\n",
    "x = layers.Dropout(0.3)(x)\n",
    "x = layers.BatchNormalization()(x)\n",
    "\n",
    "\n",
    "# Sampling Layers\n",
    "z_mean = layers.Dense(latent_dim, name=\"z_mean\")(x)\n",
    "z_log_var = layers.Dense(latent_dim, name=\"z_log_var\")(x)\n",
    "z = Sampling()([z_mean, z_log_var])\n",
    "\n",
    "encoder = keras.Model(inputs, [z_mean, z_log_var, z], name=\"encoder\")\n",
    "\n",
    "# Create Decoder\n",
    "latent_inputs = keras.Input(shape=(latent_dim,))\n",
    "\n",
    "decoded = layers.Dense(150, activation='relu')(latent_inputs)\n",
    "decoded = layers.BatchNormalization()(decoded)\n",
    "decoded = layers.Dropout(0.30)(decoded)\n",
    "decoded = layers.Dense(150, activation='relu')(decoded)\n",
    "decoded = layers.BatchNormalization()(decoded)\n",
    "decoded = layers.Dropout(0.30)(decoded)\n",
    "decoded = layers.Dense(150, activation='relu')(decoded)\n",
    "decoded = layers.BatchNormalization()(decoded)\n",
    "decoded = layers.Dropout(0.30)(decoded)\n",
    "decoded = layers.Dense(150, activation='relu')(decoded)\n",
    "decoded = layers.BatchNormalization()(decoded)\n",
    "decoded = layers.Dropout(0.30)(decoded)\n",
    "decoded = layers.Dense(150, activation='relu')(decoded)\n",
    "decoded = layers.BatchNormalization()(decoded)\n",
    "decoded = layers.Dropout(0.30)(decoded)\n",
    "\n",
    "decoded = layers.Dense(data.shape[1] * data.shape[2], activation='sigmoid')(decoded)\n",
    "\n",
    "decoder = keras.Model(latent_inputs, decoded, name=\"decoder\")\n"
   ]
  },
  {
   "cell_type": "code",
   "execution_count": 194,
   "metadata": {
    "scrolled": true
   },
   "outputs": [
    {
     "name": "stdout",
     "output_type": "stream",
     "text": [
      "Model: \"encoder\"\n",
      "__________________________________________________________________________________________________\n",
      "Layer (type)                    Output Shape         Param #     Connected to                     \n",
      "==================================================================================================\n",
      "input_51 (InputLayer)           [(None, 1800)]       0                                            \n",
      "__________________________________________________________________________________________________\n",
      "dropout_102 (Dropout)           (None, 1800)         0           input_51[0][0]                   \n",
      "__________________________________________________________________________________________________\n",
      "dense_168 (Dense)               (None, 150)          270150      dropout_102[0][0]                \n",
      "__________________________________________________________________________________________________\n",
      "dropout_103 (Dropout)           (None, 150)          0           dense_168[0][0]                  \n",
      "__________________________________________________________________________________________________\n",
      "batch_normalization_105 (BatchN (None, 150)          600         dropout_103[0][0]                \n",
      "__________________________________________________________________________________________________\n",
      "dense_169 (Dense)               (None, 150)          22650       batch_normalization_105[0][0]    \n",
      "__________________________________________________________________________________________________\n",
      "dropout_104 (Dropout)           (None, 150)          0           dense_169[0][0]                  \n",
      "__________________________________________________________________________________________________\n",
      "batch_normalization_106 (BatchN (None, 150)          600         dropout_104[0][0]                \n",
      "__________________________________________________________________________________________________\n",
      "dense_170 (Dense)               (None, 150)          22650       batch_normalization_106[0][0]    \n",
      "__________________________________________________________________________________________________\n",
      "dropout_105 (Dropout)           (None, 150)          0           dense_170[0][0]                  \n",
      "__________________________________________________________________________________________________\n",
      "batch_normalization_107 (BatchN (None, 150)          600         dropout_105[0][0]                \n",
      "__________________________________________________________________________________________________\n",
      "z_mean (Dense)                  (None, 100)          15100       batch_normalization_107[0][0]    \n",
      "__________________________________________________________________________________________________\n",
      "z_log_var (Dense)               (None, 100)          15100       batch_normalization_107[0][0]    \n",
      "__________________________________________________________________________________________________\n",
      "sampling_24 (Sampling)          (None, 100)          0           z_mean[0][0]                     \n",
      "                                                                 z_log_var[0][0]                  \n",
      "==================================================================================================\n",
      "Total params: 347,450\n",
      "Trainable params: 346,550\n",
      "Non-trainable params: 900\n",
      "__________________________________________________________________________________________________\n"
     ]
    }
   ],
   "source": [
    "encoder.summary()"
   ]
  },
  {
   "cell_type": "code",
   "execution_count": 195,
   "metadata": {
    "scrolled": true
   },
   "outputs": [
    {
     "name": "stdout",
     "output_type": "stream",
     "text": [
      "Model: \"decoder\"\n",
      "_________________________________________________________________\n",
      "Layer (type)                 Output Shape              Param #   \n",
      "=================================================================\n",
      "input_52 (InputLayer)        [(None, 100)]             0         \n",
      "_________________________________________________________________\n",
      "dense_171 (Dense)            (None, 150)               15150     \n",
      "_________________________________________________________________\n",
      "batch_normalization_108 (Bat (None, 150)               600       \n",
      "_________________________________________________________________\n",
      "dropout_106 (Dropout)        (None, 150)               0         \n",
      "_________________________________________________________________\n",
      "dense_172 (Dense)            (None, 150)               22650     \n",
      "_________________________________________________________________\n",
      "batch_normalization_109 (Bat (None, 150)               600       \n",
      "_________________________________________________________________\n",
      "dropout_107 (Dropout)        (None, 150)               0         \n",
      "_________________________________________________________________\n",
      "dense_173 (Dense)            (None, 150)               22650     \n",
      "_________________________________________________________________\n",
      "batch_normalization_110 (Bat (None, 150)               600       \n",
      "_________________________________________________________________\n",
      "dropout_108 (Dropout)        (None, 150)               0         \n",
      "_________________________________________________________________\n",
      "dense_174 (Dense)            (None, 150)               22650     \n",
      "_________________________________________________________________\n",
      "batch_normalization_111 (Bat (None, 150)               600       \n",
      "_________________________________________________________________\n",
      "dropout_109 (Dropout)        (None, 150)               0         \n",
      "_________________________________________________________________\n",
      "dense_175 (Dense)            (None, 150)               22650     \n",
      "_________________________________________________________________\n",
      "batch_normalization_112 (Bat (None, 150)               600       \n",
      "_________________________________________________________________\n",
      "dropout_110 (Dropout)        (None, 150)               0         \n",
      "_________________________________________________________________\n",
      "dense_176 (Dense)            (None, 1800)              271800    \n",
      "=================================================================\n",
      "Total params: 380,550\n",
      "Trainable params: 379,050\n",
      "Non-trainable params: 1,500\n",
      "_________________________________________________________________\n"
     ]
    }
   ],
   "source": [
    "decoder.summary()"
   ]
  },
  {
   "cell_type": "code",
   "execution_count": 196,
   "metadata": {},
   "outputs": [
    {
     "name": "stdout",
     "output_type": "stream",
     "text": [
      "Epoch 1/300\n",
      "1546/1546 [==============================] - 3s 2ms/step - loss: 0.0475 - reconstruction_loss: 0.0247 - kl_loss: 0.3161\n",
      "Epoch 2/300\n",
      "1546/1546 [==============================] - 4s 2ms/step - loss: 0.0144 - reconstruction_loss: 0.0127 - kl_loss: 0.5142\n",
      "Epoch 3/300\n",
      "1546/1546 [==============================] - 4s 2ms/step - loss: 0.0107 - reconstruction_loss: 0.0098 - kl_loss: 0.6461\n",
      "Epoch 4/300\n",
      "1546/1546 [==============================] - 3s 2ms/step - loss: 0.0088 - reconstruction_loss: 0.0081 - kl_loss: 0.7151\n",
      "Epoch 5/300\n",
      "1546/1546 [==============================] - 4s 2ms/step - loss: 0.0077 - reconstruction_loss: 0.0071 - kl_loss: 0.7349\n",
      "Epoch 6/300\n",
      "1546/1546 [==============================] - 3s 2ms/step - loss: 0.0069 - reconstruction_loss: 0.0064 - kl_loss: 0.7462\n",
      "Epoch 7/300\n",
      "1546/1546 [==============================] - 3s 2ms/step - loss: 0.0064 - reconstruction_loss: 0.0058 - kl_loss: 0.7567\n",
      "Epoch 8/300\n",
      "1546/1546 [==============================] - 3s 2ms/step - loss: 0.0059 - reconstruction_loss: 0.0054 - kl_loss: 0.7633\n",
      "Epoch 9/300\n",
      "1546/1546 [==============================] - 4s 2ms/step - loss: 0.0056 - reconstruction_loss: 0.0050 - kl_loss: 0.7661\n",
      "Epoch 10/300\n",
      "1546/1546 [==============================] - 4s 2ms/step - loss: 0.0052 - reconstruction_loss: 0.0047 - kl_loss: 0.7789\n",
      "Epoch 11/300\n",
      "1546/1546 [==============================] - 4s 2ms/step - loss: 0.0049 - reconstruction_loss: 0.0044 - kl_loss: 0.7828\n",
      "Epoch 12/300\n",
      "1546/1546 [==============================] - 4s 2ms/step - loss: 0.0046 - reconstruction_loss: 0.0041 - kl_loss: 0.7851\n",
      "Epoch 13/300\n",
      "1546/1546 [==============================] - 4s 2ms/step - loss: 0.0044 - reconstruction_loss: 0.0040 - kl_loss: 0.7856\n",
      "Epoch 14/300\n",
      "1546/1546 [==============================] - 4s 3ms/step - loss: 0.0042 - reconstruction_loss: 0.0038 - kl_loss: 0.7857\n",
      "Epoch 15/300\n",
      "1546/1546 [==============================] - 4s 2ms/step - loss: 0.0041 - reconstruction_loss: 0.0036 - kl_loss: 0.7860\n",
      "Epoch 16/300\n",
      "1546/1546 [==============================] - 4s 2ms/step - loss: 0.0039 - reconstruction_loss: 0.0035 - kl_loss: 0.7851\n",
      "Epoch 17/300\n",
      "1546/1546 [==============================] - 4s 2ms/step - loss: 0.0038 - reconstruction_loss: 0.0033 - kl_loss: 0.7843\n",
      "Epoch 18/300\n",
      "1546/1546 [==============================] - 4s 2ms/step - loss: 0.0037 - reconstruction_loss: 0.0032 - kl_loss: 0.7836\n",
      "Epoch 19/300\n",
      "1546/1546 [==============================] - 4s 2ms/step - loss: 0.0035 - reconstruction_loss: 0.0031 - kl_loss: 0.7788\n",
      "Epoch 20/300\n",
      "1546/1546 [==============================] - 4s 2ms/step - loss: 0.0034 - reconstruction_loss: 0.0030 - kl_loss: 0.7746\n",
      "Epoch 21/300\n",
      "1546/1546 [==============================] - 4s 2ms/step - loss: 0.0033 - reconstruction_loss: 0.0029 - kl_loss: 0.7728\n",
      "Epoch 22/300\n",
      "1546/1546 [==============================] - 4s 2ms/step - loss: 0.0033 - reconstruction_loss: 0.0028 - kl_loss: 0.7691\n",
      "Epoch 23/300\n",
      "1546/1546 [==============================] - 4s 2ms/step - loss: 0.0032 - reconstruction_loss: 0.0027 - kl_loss: 0.7639\n",
      "Epoch 24/300\n",
      "1546/1546 [==============================] - 4s 2ms/step - loss: 0.0031 - reconstruction_loss: 0.0027 - kl_loss: 0.7605\n",
      "Epoch 25/300\n",
      "1546/1546 [==============================] - 4s 2ms/step - loss: 0.0030 - reconstruction_loss: 0.0026 - kl_loss: 0.7549\n",
      "Epoch 26/300\n",
      "1546/1546 [==============================] - 4s 2ms/step - loss: 0.0030 - reconstruction_loss: 0.0025 - kl_loss: 0.7536\n",
      "Epoch 27/300\n",
      "1546/1546 [==============================] - 4s 2ms/step - loss: 0.0029 - reconstruction_loss: 0.0025 - kl_loss: 0.7494\n",
      "Epoch 28/300\n",
      "1546/1546 [==============================] - 4s 2ms/step - loss: 0.0028 - reconstruction_loss: 0.0024 - kl_loss: 0.7471\n",
      "Epoch 29/300\n",
      "1546/1546 [==============================] - 4s 2ms/step - loss: 0.0028 - reconstruction_loss: 0.0024 - kl_loss: 0.7418\n",
      "Epoch 30/300\n",
      "1546/1546 [==============================] - 4s 2ms/step - loss: 0.0027 - reconstruction_loss: 0.0023 - kl_loss: 0.7385\n",
      "Epoch 31/300\n",
      "1546/1546 [==============================] - 4s 2ms/step - loss: 0.0027 - reconstruction_loss: 0.0023 - kl_loss: 0.7330\n",
      "Epoch 32/300\n",
      "1546/1546 [==============================] - 4s 2ms/step - loss: 0.0026 - reconstruction_loss: 0.0022 - kl_loss: 0.7286\n",
      "Epoch 33/300\n",
      "1546/1546 [==============================] - 4s 3ms/step - loss: 0.0026 - reconstruction_loss: 0.0022 - kl_loss: 0.7243\n",
      "Epoch 34/300\n",
      "1546/1546 [==============================] - 4s 3ms/step - loss: 0.0026 - reconstruction_loss: 0.0022 - kl_loss: 0.7202\n",
      "Epoch 35/300\n",
      "1546/1546 [==============================] - 4s 3ms/step - loss: 0.0025 - reconstruction_loss: 0.0021 - kl_loss: 0.7174\n",
      "Epoch 36/300\n",
      "1546/1546 [==============================] - 4s 3ms/step - loss: 0.0025 - reconstruction_loss: 0.0021 - kl_loss: 0.7126\n",
      "Epoch 37/300\n",
      "1546/1546 [==============================] - 4s 3ms/step - loss: 0.0024 - reconstruction_loss: 0.0021 - kl_loss: 0.7108\n",
      "Epoch 38/300\n",
      "1546/1546 [==============================] - 4s 3ms/step - loss: 0.0024 - reconstruction_loss: 0.0020 - kl_loss: 0.7062\n",
      "Epoch 39/300\n",
      "1546/1546 [==============================] - 4s 3ms/step - loss: 0.0024 - reconstruction_loss: 0.0020 - kl_loss: 0.7001\n",
      "Epoch 40/300\n",
      "1546/1546 [==============================] - 4s 3ms/step - loss: 0.0024 - reconstruction_loss: 0.0020 - kl_loss: 0.6964\n",
      "Epoch 41/300\n",
      "1546/1546 [==============================] - 4s 3ms/step - loss: 0.0023 - reconstruction_loss: 0.0020 - kl_loss: 0.6917\n",
      "Epoch 42/300\n",
      "1546/1546 [==============================] - 4s 3ms/step - loss: 0.0023 - reconstruction_loss: 0.0019 - kl_loss: 0.6883\n",
      "Epoch 43/300\n",
      "1546/1546 [==============================] - 4s 3ms/step - loss: 0.0023 - reconstruction_loss: 0.0019 - kl_loss: 0.6846\n",
      "Epoch 44/300\n",
      "1546/1546 [==============================] - 4s 3ms/step - loss: 0.0023 - reconstruction_loss: 0.0019 - kl_loss: 0.6799\n",
      "Epoch 45/300\n",
      "1546/1546 [==============================] - 4s 3ms/step - loss: 0.0023 - reconstruction_loss: 0.0019 - kl_loss: 0.6752\n",
      "Epoch 46/300\n",
      "1546/1546 [==============================] - 4s 3ms/step - loss: 0.0022 - reconstruction_loss: 0.0019 - kl_loss: 0.6726\n",
      "Epoch 47/300\n",
      "1546/1546 [==============================] - 4s 3ms/step - loss: 0.0022 - reconstruction_loss: 0.0018 - kl_loss: 0.6682\n",
      "Epoch 48/300\n",
      "1546/1546 [==============================] - 4s 3ms/step - loss: 0.0022 - reconstruction_loss: 0.0018 - kl_loss: 0.6631\n",
      "Epoch 49/300\n",
      "1546/1546 [==============================] - 4s 3ms/step - loss: 0.0022 - reconstruction_loss: 0.0018 - kl_loss: 0.6609\n",
      "Epoch 50/300\n",
      "1546/1546 [==============================] - 4s 3ms/step - loss: 0.0021 - reconstruction_loss: 0.0018 - kl_loss: 0.6563\n",
      "Epoch 51/300\n",
      "1546/1546 [==============================] - 4s 3ms/step - loss: 0.0021 - reconstruction_loss: 0.0018 - kl_loss: 0.6533\n",
      "Epoch 52/300\n",
      "1546/1546 [==============================] - 4s 3ms/step - loss: 0.0021 - reconstruction_loss: 0.0017 - kl_loss: 0.6506\n",
      "Epoch 53/300\n",
      "1546/1546 [==============================] - 4s 3ms/step - loss: 0.0021 - reconstruction_loss: 0.0017 - kl_loss: 0.6476\n",
      "Epoch 54/300\n",
      "1546/1546 [==============================] - 4s 3ms/step - loss: 0.0021 - reconstruction_loss: 0.0017 - kl_loss: 0.6427\n",
      "Epoch 55/300\n",
      "1546/1546 [==============================] - 4s 2ms/step - loss: 0.0020 - reconstruction_loss: 0.0017 - kl_loss: 0.6397\n",
      "Epoch 56/300\n",
      "1546/1546 [==============================] - 4s 3ms/step - loss: 0.0020 - reconstruction_loss: 0.0017 - kl_loss: 0.6358\n",
      "Epoch 57/300\n",
      "1546/1546 [==============================] - 4s 3ms/step - loss: 0.0020 - reconstruction_loss: 0.0017 - kl_loss: 0.6316\n",
      "Epoch 58/300\n",
      "1546/1546 [==============================] - 4s 3ms/step - loss: 0.0020 - reconstruction_loss: 0.0017 - kl_loss: 0.6300\n",
      "Epoch 59/300\n",
      "1546/1546 [==============================] - 4s 3ms/step - loss: 0.0020 - reconstruction_loss: 0.0016 - kl_loss: 0.6266\n",
      "Epoch 60/300\n",
      "1546/1546 [==============================] - 4s 2ms/step - loss: 0.0020 - reconstruction_loss: 0.0016 - kl_loss: 0.6229\n",
      "Epoch 61/300\n",
      "1546/1546 [==============================] - 4s 3ms/step - loss: 0.0020 - reconstruction_loss: 0.0016 - kl_loss: 0.6197\n",
      "Epoch 62/300\n",
      "1546/1546 [==============================] - 4s 3ms/step - loss: 0.0019 - reconstruction_loss: 0.0016 - kl_loss: 0.6157\n",
      "Epoch 63/300\n",
      "1546/1546 [==============================] - 4s 2ms/step - loss: 0.0020 - reconstruction_loss: 0.0016 - kl_loss: 0.6126\n",
      "Epoch 64/300\n",
      "1546/1546 [==============================] - 4s 3ms/step - loss: 0.0019 - reconstruction_loss: 0.0016 - kl_loss: 0.6098\n",
      "Epoch 65/300\n",
      "1546/1546 [==============================] - 4s 3ms/step - loss: 0.0019 - reconstruction_loss: 0.0016 - kl_loss: 0.6070\n",
      "Epoch 66/300\n",
      "1546/1546 [==============================] - 4s 2ms/step - loss: 0.0019 - reconstruction_loss: 0.0016 - kl_loss: 0.6024\n",
      "Epoch 67/300\n",
      "1546/1546 [==============================] - 4s 3ms/step - loss: 0.0019 - reconstruction_loss: 0.0016 - kl_loss: 0.5992\n",
      "Epoch 68/300\n",
      "1546/1546 [==============================] - 4s 3ms/step - loss: 0.0019 - reconstruction_loss: 0.0016 - kl_loss: 0.5980\n",
      "Epoch 69/300\n",
      "1546/1546 [==============================] - 4s 3ms/step - loss: 0.0019 - reconstruction_loss: 0.0015 - kl_loss: 0.5956\n",
      "Epoch 70/300\n",
      "1546/1546 [==============================] - 4s 3ms/step - loss: 0.0019 - reconstruction_loss: 0.0015 - kl_loss: 0.5906\n",
      "Epoch 71/300\n",
      "1546/1546 [==============================] - 4s 3ms/step - loss: 0.0019 - reconstruction_loss: 0.0015 - kl_loss: 0.5882\n",
      "Epoch 72/300\n",
      "1546/1546 [==============================] - 4s 3ms/step - loss: 0.0018 - reconstruction_loss: 0.0015 - kl_loss: 0.5849\n",
      "Epoch 73/300\n",
      "1546/1546 [==============================] - 4s 3ms/step - loss: 0.0018 - reconstruction_loss: 0.0015 - kl_loss: 0.5819\n",
      "Epoch 74/300\n",
      "1546/1546 [==============================] - 4s 3ms/step - loss: 0.0018 - reconstruction_loss: 0.0015 - kl_loss: 0.5804\n",
      "Epoch 75/300\n",
      "1546/1546 [==============================] - 4s 3ms/step - loss: 0.0018 - reconstruction_loss: 0.0015 - kl_loss: 0.5781\n",
      "Epoch 76/300\n",
      "1546/1546 [==============================] - 4s 3ms/step - loss: 0.0018 - reconstruction_loss: 0.0015 - kl_loss: 0.5735\n",
      "Epoch 77/300\n",
      "1546/1546 [==============================] - 4s 3ms/step - loss: 0.0018 - reconstruction_loss: 0.0015 - kl_loss: 0.5716\n",
      "Epoch 78/300\n",
      "1546/1546 [==============================] - 4s 3ms/step - loss: 0.0018 - reconstruction_loss: 0.0015 - kl_loss: 0.5712\n",
      "Epoch 79/300\n",
      "1546/1546 [==============================] - 4s 3ms/step - loss: 0.0018 - reconstruction_loss: 0.0015 - kl_loss: 0.5662\n",
      "Epoch 80/300\n",
      "1546/1546 [==============================] - 4s 3ms/step - loss: 0.0018 - reconstruction_loss: 0.0015 - kl_loss: 0.5640\n",
      "Epoch 81/300\n",
      "1546/1546 [==============================] - 4s 3ms/step - loss: 0.0018 - reconstruction_loss: 0.0015 - kl_loss: 0.5614\n",
      "Epoch 82/300\n",
      "1546/1546 [==============================] - 4s 3ms/step - loss: 0.0018 - reconstruction_loss: 0.0014 - kl_loss: 0.5590\n",
      "Epoch 83/300\n",
      "1546/1546 [==============================] - 4s 3ms/step - loss: 0.0017 - reconstruction_loss: 0.0014 - kl_loss: 0.5549\n",
      "Epoch 84/300\n",
      "1546/1546 [==============================] - 4s 3ms/step - loss: 0.0017 - reconstruction_loss: 0.0014 - kl_loss: 0.5531\n",
      "Epoch 85/300\n",
      "1546/1546 [==============================] - 4s 2ms/step - loss: 0.0017 - reconstruction_loss: 0.0014 - kl_loss: 0.5507\n",
      "Epoch 86/300\n",
      "1546/1546 [==============================] - 4s 3ms/step - loss: 0.0017 - reconstruction_loss: 0.0014 - kl_loss: 0.5478\n",
      "Epoch 87/300\n",
      "1546/1546 [==============================] - 4s 2ms/step - loss: 0.0017 - reconstruction_loss: 0.0014 - kl_loss: 0.5471\n",
      "Epoch 88/300\n",
      "1546/1546 [==============================] - 4s 3ms/step - loss: 0.0017 - reconstruction_loss: 0.0014 - kl_loss: 0.5440\n",
      "Epoch 89/300\n",
      "1546/1546 [==============================] - 4s 3ms/step - loss: 0.0017 - reconstruction_loss: 0.0014 - kl_loss: 0.5412\n",
      "Epoch 90/300\n",
      "1546/1546 [==============================] - 4s 2ms/step - loss: 0.0017 - reconstruction_loss: 0.0014 - kl_loss: 0.5388\n",
      "Epoch 91/300\n",
      "1546/1546 [==============================] - 4s 2ms/step - loss: 0.0017 - reconstruction_loss: 0.0014 - kl_loss: 0.5370\n",
      "Epoch 92/300\n",
      "1546/1546 [==============================] - 4s 3ms/step - loss: 0.0017 - reconstruction_loss: 0.0014 - kl_loss: 0.5332\n",
      "Epoch 93/300\n",
      "1546/1546 [==============================] - 4s 3ms/step - loss: 0.0017 - reconstruction_loss: 0.0014 - kl_loss: 0.5310\n",
      "Epoch 94/300\n",
      "1546/1546 [==============================] - 4s 3ms/step - loss: 0.0017 - reconstruction_loss: 0.0014 - kl_loss: 0.5295\n",
      "Epoch 95/300\n",
      "1546/1546 [==============================] - 4s 3ms/step - loss: 0.0017 - reconstruction_loss: 0.0014 - kl_loss: 0.5270\n",
      "Epoch 96/300\n",
      "1546/1546 [==============================] - 4s 3ms/step - loss: 0.0017 - reconstruction_loss: 0.0014 - kl_loss: 0.5246\n",
      "Epoch 97/300\n",
      "1546/1546 [==============================] - 4s 3ms/step - loss: 0.0017 - reconstruction_loss: 0.0014 - kl_loss: 0.5228\n",
      "Epoch 98/300\n",
      "1546/1546 [==============================] - 4s 3ms/step - loss: 0.0017 - reconstruction_loss: 0.0014 - kl_loss: 0.5213\n",
      "Epoch 99/300\n",
      "1546/1546 [==============================] - 4s 3ms/step - loss: 0.0016 - reconstruction_loss: 0.0014 - kl_loss: 0.5198\n",
      "Epoch 100/300\n",
      "1546/1546 [==============================] - 4s 3ms/step - loss: 0.0016 - reconstruction_loss: 0.0014 - kl_loss: 0.5180\n",
      "Epoch 101/300\n",
      "1546/1546 [==============================] - 4s 2ms/step - loss: 0.0016 - reconstruction_loss: 0.0014 - kl_loss: 0.5165\n",
      "Epoch 102/300\n",
      "1546/1546 [==============================] - 4s 3ms/step - loss: 0.0016 - reconstruction_loss: 0.0013 - kl_loss: 0.5134\n",
      "Epoch 103/300\n",
      "1546/1546 [==============================] - 4s 3ms/step - loss: 0.0016 - reconstruction_loss: 0.0013 - kl_loss: 0.5117\n",
      "Epoch 104/300\n",
      "1546/1546 [==============================] - 4s 3ms/step - loss: 0.0016 - reconstruction_loss: 0.0013 - kl_loss: 0.5098\n",
      "Epoch 105/300\n",
      "1546/1546 [==============================] - 4s 3ms/step - loss: 0.0016 - reconstruction_loss: 0.0013 - kl_loss: 0.5075\n",
      "Epoch 106/300\n",
      "1546/1546 [==============================] - 4s 3ms/step - loss: 0.0016 - reconstruction_loss: 0.0013 - kl_loss: 0.5050\n",
      "Epoch 107/300\n",
      "1546/1546 [==============================] - 4s 3ms/step - loss: 0.0016 - reconstruction_loss: 0.0013 - kl_loss: 0.5029\n",
      "Epoch 108/300\n",
      "1546/1546 [==============================] - 4s 3ms/step - loss: 0.0016 - reconstruction_loss: 0.0013 - kl_loss: 0.5016\n",
      "Epoch 109/300\n",
      "1546/1546 [==============================] - 4s 3ms/step - loss: 0.0016 - reconstruction_loss: 0.0013 - kl_loss: 0.5003\n",
      "Epoch 110/300\n",
      "1546/1546 [==============================] - 4s 3ms/step - loss: 0.0016 - reconstruction_loss: 0.0013 - kl_loss: 0.4986\n",
      "Epoch 111/300\n",
      "1546/1546 [==============================] - 4s 3ms/step - loss: 0.0016 - reconstruction_loss: 0.0013 - kl_loss: 0.4949\n",
      "Epoch 112/300\n",
      "1546/1546 [==============================] - 4s 3ms/step - loss: 0.0016 - reconstruction_loss: 0.0013 - kl_loss: 0.4949\n",
      "Epoch 113/300\n",
      "1546/1546 [==============================] - 4s 3ms/step - loss: 0.0016 - reconstruction_loss: 0.0013 - kl_loss: 0.4935\n",
      "Epoch 114/300\n",
      "1546/1546 [==============================] - 4s 3ms/step - loss: 0.0016 - reconstruction_loss: 0.0013 - kl_loss: 0.4900\n",
      "Epoch 115/300\n",
      "1546/1546 [==============================] - 4s 3ms/step - loss: 0.0016 - reconstruction_loss: 0.0013 - kl_loss: 0.4900\n",
      "Epoch 116/300\n",
      "1546/1546 [==============================] - 4s 2ms/step - loss: 0.0016 - reconstruction_loss: 0.0013 - kl_loss: 0.4872\n",
      "Epoch 117/300\n",
      "1546/1546 [==============================] - 4s 3ms/step - loss: 0.0016 - reconstruction_loss: 0.0013 - kl_loss: 0.4870\n",
      "Epoch 118/300\n",
      "1546/1546 [==============================] - 4s 3ms/step - loss: 0.0016 - reconstruction_loss: 0.0013 - kl_loss: 0.4848\n",
      "Epoch 119/300\n",
      "1546/1546 [==============================] - 4s 3ms/step - loss: 0.0016 - reconstruction_loss: 0.0013 - kl_loss: 0.4830\n",
      "Epoch 120/300\n",
      "1546/1546 [==============================] - 4s 3ms/step - loss: 0.0016 - reconstruction_loss: 0.0013 - kl_loss: 0.4829\n",
      "Epoch 121/300\n",
      "1546/1546 [==============================] - 4s 3ms/step - loss: 0.0016 - reconstruction_loss: 0.0013 - kl_loss: 0.4813\n",
      "Epoch 122/300\n",
      "1546/1546 [==============================] - 4s 3ms/step - loss: 0.0016 - reconstruction_loss: 0.0013 - kl_loss: 0.4781\n",
      "Epoch 123/300\n"
     ]
    },
    {
     "name": "stdout",
     "output_type": "stream",
     "text": [
      "1546/1546 [==============================] - 4s 2ms/step - loss: 0.0015 - reconstruction_loss: 0.0013 - kl_loss: 0.4777\n",
      "Epoch 124/300\n",
      "1546/1546 [==============================] - 4s 3ms/step - loss: 0.0015 - reconstruction_loss: 0.0013 - kl_loss: 0.4766\n",
      "Epoch 125/300\n",
      "1546/1546 [==============================] - 4s 2ms/step - loss: 0.0015 - reconstruction_loss: 0.0013 - kl_loss: 0.4734\n",
      "Epoch 126/300\n",
      "1546/1546 [==============================] - 4s 2ms/step - loss: 0.0015 - reconstruction_loss: 0.0013 - kl_loss: 0.4741\n",
      "Epoch 127/300\n",
      "1546/1546 [==============================] - 4s 2ms/step - loss: 0.0015 - reconstruction_loss: 0.0013 - kl_loss: 0.4720\n",
      "Epoch 128/300\n",
      "1546/1546 [==============================] - 4s 2ms/step - loss: 0.0015 - reconstruction_loss: 0.0013 - kl_loss: 0.4692\n",
      "Epoch 129/300\n",
      "1546/1546 [==============================] - 4s 2ms/step - loss: 0.0015 - reconstruction_loss: 0.0013 - kl_loss: 0.4695\n",
      "Epoch 130/300\n",
      "1546/1546 [==============================] - 4s 2ms/step - loss: 0.0015 - reconstruction_loss: 0.0013 - kl_loss: 0.4674\n",
      "Epoch 131/300\n",
      "1546/1546 [==============================] - 4s 3ms/step - loss: 0.0015 - reconstruction_loss: 0.0013 - kl_loss: 0.4672\n",
      "Epoch 132/300\n",
      "1546/1546 [==============================] - 4s 2ms/step - loss: 0.0015 - reconstruction_loss: 0.0013 - kl_loss: 0.4652\n",
      "Epoch 133/300\n",
      "1546/1546 [==============================] - 4s 3ms/step - loss: 0.0015 - reconstruction_loss: 0.0013 - kl_loss: 0.4636\n",
      "Epoch 134/300\n",
      "1546/1546 [==============================] - 4s 3ms/step - loss: 0.0015 - reconstruction_loss: 0.0013 - kl_loss: 0.4618\n",
      "Epoch 135/300\n",
      "1546/1546 [==============================] - 4s 3ms/step - loss: 0.0015 - reconstruction_loss: 0.0013 - kl_loss: 0.4601\n",
      "Epoch 136/300\n",
      "1546/1546 [==============================] - 4s 3ms/step - loss: 0.0015 - reconstruction_loss: 0.0013 - kl_loss: 0.4587\n",
      "Epoch 137/300\n",
      "1546/1546 [==============================] - 4s 3ms/step - loss: 0.0015 - reconstruction_loss: 0.0013 - kl_loss: 0.4569\n",
      "Epoch 138/300\n",
      "1546/1546 [==============================] - 4s 3ms/step - loss: 0.0015 - reconstruction_loss: 0.0013 - kl_loss: 0.4564\n",
      "Epoch 139/300\n",
      "1546/1546 [==============================] - 4s 3ms/step - loss: 0.0015 - reconstruction_loss: 0.0013 - kl_loss: 0.4545\n",
      "Epoch 140/300\n",
      "1546/1546 [==============================] - 4s 3ms/step - loss: 0.0015 - reconstruction_loss: 0.0012 - kl_loss: 0.4533\n",
      "Epoch 141/300\n",
      "1546/1546 [==============================] - 4s 3ms/step - loss: 0.0015 - reconstruction_loss: 0.0012 - kl_loss: 0.4522\n",
      "Epoch 142/300\n",
      "1546/1546 [==============================] - 4s 3ms/step - loss: 0.0015 - reconstruction_loss: 0.0012 - kl_loss: 0.4512\n",
      "Epoch 143/300\n",
      "1546/1546 [==============================] - 4s 3ms/step - loss: 0.0015 - reconstruction_loss: 0.0012 - kl_loss: 0.4508\n",
      "Epoch 144/300\n",
      "1546/1546 [==============================] - 4s 3ms/step - loss: 0.0015 - reconstruction_loss: 0.0012 - kl_loss: 0.4477\n",
      "Epoch 145/300\n",
      "1546/1546 [==============================] - 4s 3ms/step - loss: 0.0015 - reconstruction_loss: 0.0012 - kl_loss: 0.4463\n",
      "Epoch 146/300\n",
      "1546/1546 [==============================] - 4s 2ms/step - loss: 0.0015 - reconstruction_loss: 0.0012 - kl_loss: 0.4451\n",
      "Epoch 147/300\n",
      "1546/1546 [==============================] - 4s 2ms/step - loss: 0.0015 - reconstruction_loss: 0.0012 - kl_loss: 0.4427\n",
      "Epoch 148/300\n",
      "1546/1546 [==============================] - 4s 3ms/step - loss: 0.0015 - reconstruction_loss: 0.0012 - kl_loss: 0.4428\n",
      "Epoch 149/300\n",
      "1546/1546 [==============================] - 4s 2ms/step - loss: 0.0015 - reconstruction_loss: 0.0012 - kl_loss: 0.4411\n",
      "Epoch 150/300\n",
      "1546/1546 [==============================] - 4s 2ms/step - loss: 0.0015 - reconstruction_loss: 0.0012 - kl_loss: 0.4396\n",
      "Epoch 151/300\n",
      "1546/1546 [==============================] - 4s 2ms/step - loss: 0.0015 - reconstruction_loss: 0.0012 - kl_loss: 0.4384\n",
      "Epoch 152/300\n",
      "1546/1546 [==============================] - 4s 3ms/step - loss: 0.0015 - reconstruction_loss: 0.0012 - kl_loss: 0.4369\n",
      "Epoch 153/300\n",
      "1546/1546 [==============================] - 4s 3ms/step - loss: 0.0015 - reconstruction_loss: 0.0012 - kl_loss: 0.4363\n",
      "Epoch 154/300\n",
      "1546/1546 [==============================] - 4s 2ms/step - loss: 0.0015 - reconstruction_loss: 0.0012 - kl_loss: 0.4338\n",
      "Epoch 155/300\n",
      "1546/1546 [==============================] - 4s 3ms/step - loss: 0.0015 - reconstruction_loss: 0.0012 - kl_loss: 0.4335\n",
      "Epoch 156/300\n",
      "1546/1546 [==============================] - 4s 3ms/step - loss: 0.0015 - reconstruction_loss: 0.0012 - kl_loss: 0.4313\n",
      "Epoch 157/300\n",
      "1546/1546 [==============================] - 4s 3ms/step - loss: 0.0015 - reconstruction_loss: 0.0012 - kl_loss: 0.4298\n",
      "Epoch 158/300\n",
      "1546/1546 [==============================] - 4s 3ms/step - loss: 0.0015 - reconstruction_loss: 0.0012 - kl_loss: 0.4303\n",
      "Epoch 159/300\n",
      "1546/1546 [==============================] - 4s 3ms/step - loss: 0.0015 - reconstruction_loss: 0.0012 - kl_loss: 0.4273\n",
      "Epoch 160/300\n",
      "1546/1546 [==============================] - 4s 3ms/step - loss: 0.0014 - reconstruction_loss: 0.0012 - kl_loss: 0.4272\n",
      "Epoch 161/300\n",
      "1546/1546 [==============================] - 4s 3ms/step - loss: 0.0014 - reconstruction_loss: 0.0012 - kl_loss: 0.4251\n",
      "Epoch 162/300\n",
      "1546/1546 [==============================] - 4s 3ms/step - loss: 0.0014 - reconstruction_loss: 0.0012 - kl_loss: 0.4248\n",
      "Epoch 163/300\n",
      "1546/1546 [==============================] - 4s 3ms/step - loss: 0.0015 - reconstruction_loss: 0.0012 - kl_loss: 0.4237\n",
      "Epoch 164/300\n",
      "1546/1546 [==============================] - 4s 3ms/step - loss: 0.0014 - reconstruction_loss: 0.0012 - kl_loss: 0.4232\n",
      "Epoch 165/300\n",
      "1546/1546 [==============================] - 4s 3ms/step - loss: 0.0014 - reconstruction_loss: 0.0012 - kl_loss: 0.4215\n",
      "Epoch 166/300\n",
      "1546/1546 [==============================] - 4s 3ms/step - loss: 0.0014 - reconstruction_loss: 0.0012 - kl_loss: 0.4210\n",
      "Epoch 167/300\n",
      "1546/1546 [==============================] - 4s 3ms/step - loss: 0.0014 - reconstruction_loss: 0.0012 - kl_loss: 0.4217\n",
      "Epoch 168/300\n",
      "1546/1546 [==============================] - 4s 2ms/step - loss: 0.0014 - reconstruction_loss: 0.0012 - kl_loss: 0.4218\n",
      "Epoch 169/300\n",
      "1546/1546 [==============================] - 4s 3ms/step - loss: 0.0014 - reconstruction_loss: 0.0012 - kl_loss: 0.4178\n",
      "Epoch 170/300\n",
      "1546/1546 [==============================] - 4s 3ms/step - loss: 0.0014 - reconstruction_loss: 0.0012 - kl_loss: 0.4193\n",
      "Epoch 171/300\n",
      "1546/1546 [==============================] - 4s 3ms/step - loss: 0.0014 - reconstruction_loss: 0.0012 - kl_loss: 0.4179\n",
      "Epoch 172/300\n",
      "1546/1546 [==============================] - 4s 3ms/step - loss: 0.0014 - reconstruction_loss: 0.0012 - kl_loss: 0.4170\n",
      "Epoch 173/300\n",
      "1546/1546 [==============================] - 4s 2ms/step - loss: 0.0014 - reconstruction_loss: 0.0012 - kl_loss: 0.4157\n",
      "Epoch 174/300\n",
      "1546/1546 [==============================] - 4s 2ms/step - loss: 0.0014 - reconstruction_loss: 0.0012 - kl_loss: 0.4157\n",
      "Epoch 175/300\n",
      "1546/1546 [==============================] - 4s 2ms/step - loss: 0.0014 - reconstruction_loss: 0.0012 - kl_loss: 0.4151\n",
      "Epoch 176/300\n",
      "1546/1546 [==============================] - 4s 2ms/step - loss: 0.0014 - reconstruction_loss: 0.0012 - kl_loss: 0.4136\n",
      "Epoch 177/300\n",
      "1546/1546 [==============================] - 4s 2ms/step - loss: 0.0014 - reconstruction_loss: 0.0012 - kl_loss: 0.4139\n",
      "Epoch 178/300\n",
      "1546/1546 [==============================] - 4s 2ms/step - loss: 0.0014 - reconstruction_loss: 0.0012 - kl_loss: 0.4110\n",
      "Epoch 179/300\n",
      "1546/1546 [==============================] - 4s 2ms/step - loss: 0.0014 - reconstruction_loss: 0.0012 - kl_loss: 0.4110\n",
      "Epoch 180/300\n",
      "1546/1546 [==============================] - 4s 2ms/step - loss: 0.0014 - reconstruction_loss: 0.0012 - kl_loss: 0.4107\n",
      "Epoch 181/300\n",
      "1546/1546 [==============================] - 4s 2ms/step - loss: 0.0014 - reconstruction_loss: 0.0012 - kl_loss: 0.4115\n",
      "Epoch 182/300\n",
      "1546/1546 [==============================] - 4s 2ms/step - loss: 0.0014 - reconstruction_loss: 0.0012 - kl_loss: 0.4092\n",
      "Epoch 183/300\n",
      "1546/1546 [==============================] - 4s 2ms/step - loss: 0.0014 - reconstruction_loss: 0.0012 - kl_loss: 0.4083\n",
      "Epoch 184/300\n",
      "1546/1546 [==============================] - 4s 2ms/step - loss: 0.0014 - reconstruction_loss: 0.0012 - kl_loss: 0.4071\n",
      "Epoch 185/300\n",
      "1546/1546 [==============================] - 4s 2ms/step - loss: 0.0014 - reconstruction_loss: 0.0012 - kl_loss: 0.4074\n",
      "Epoch 186/300\n",
      "1546/1546 [==============================] - 4s 2ms/step - loss: 0.0014 - reconstruction_loss: 0.0012 - kl_loss: 0.4070\n",
      "Epoch 187/300\n",
      "1546/1546 [==============================] - 4s 2ms/step - loss: 0.0014 - reconstruction_loss: 0.0012 - kl_loss: 0.4045\n",
      "Epoch 188/300\n",
      "1546/1546 [==============================] - 4s 2ms/step - loss: 0.0014 - reconstruction_loss: 0.0012 - kl_loss: 0.4046\n",
      "Epoch 189/300\n",
      "1546/1546 [==============================] - 4s 2ms/step - loss: 0.0014 - reconstruction_loss: 0.0012 - kl_loss: 0.4046\n",
      "Epoch 190/300\n",
      "1546/1546 [==============================] - 4s 2ms/step - loss: 0.0014 - reconstruction_loss: 0.0012 - kl_loss: 0.4048\n",
      "Epoch 191/300\n",
      "1546/1546 [==============================] - 4s 2ms/step - loss: 0.0014 - reconstruction_loss: 0.0012 - kl_loss: 0.4025\n",
      "Epoch 192/300\n",
      "1546/1546 [==============================] - 4s 2ms/step - loss: 0.0014 - reconstruction_loss: 0.0011 - kl_loss: 0.4042\n",
      "Epoch 193/300\n",
      "1546/1546 [==============================] - 4s 2ms/step - loss: 0.0014 - reconstruction_loss: 0.0011 - kl_loss: 0.4019\n",
      "Epoch 194/300\n",
      "1546/1546 [==============================] - 4s 2ms/step - loss: 0.0014 - reconstruction_loss: 0.0011 - kl_loss: 0.4000\n",
      "Epoch 195/300\n",
      "1546/1546 [==============================] - 4s 2ms/step - loss: 0.0014 - reconstruction_loss: 0.0011 - kl_loss: 0.3985\n",
      "Epoch 196/300\n",
      "1546/1546 [==============================] - 4s 2ms/step - loss: 0.0014 - reconstruction_loss: 0.0011 - kl_loss: 0.3989\n",
      "Epoch 197/300\n",
      "1546/1546 [==============================] - 4s 2ms/step - loss: 0.0014 - reconstruction_loss: 0.0011 - kl_loss: 0.3984\n",
      "Epoch 198/300\n",
      "1546/1546 [==============================] - 4s 2ms/step - loss: 0.0013 - reconstruction_loss: 0.0011 - kl_loss: 0.3960\n",
      "Epoch 199/300\n",
      "1546/1546 [==============================] - 4s 2ms/step - loss: 0.0013 - reconstruction_loss: 0.0011 - kl_loss: 0.3981\n",
      "Epoch 200/300\n",
      "1546/1546 [==============================] - 4s 2ms/step - loss: 0.0014 - reconstruction_loss: 0.0011 - kl_loss: 0.3979\n",
      "Epoch 201/300\n",
      "1546/1546 [==============================] - 4s 2ms/step - loss: 0.0014 - reconstruction_loss: 0.0011 - kl_loss: 0.3975\n",
      "Epoch 202/300\n",
      "1546/1546 [==============================] - 4s 2ms/step - loss: 0.0013 - reconstruction_loss: 0.0011 - kl_loss: 0.3952\n",
      "Epoch 203/300\n",
      "1546/1546 [==============================] - 4s 2ms/step - loss: 0.0013 - reconstruction_loss: 0.0011 - kl_loss: 0.3952\n",
      "Epoch 204/300\n",
      "1546/1546 [==============================] - 4s 2ms/step - loss: 0.0013 - reconstruction_loss: 0.0011 - kl_loss: 0.3943\n",
      "Epoch 205/300\n",
      "1546/1546 [==============================] - 4s 2ms/step - loss: 0.0013 - reconstruction_loss: 0.0011 - kl_loss: 0.3933\n",
      "Epoch 206/300\n",
      "1546/1546 [==============================] - 4s 2ms/step - loss: 0.0013 - reconstruction_loss: 0.0011 - kl_loss: 0.3932\n",
      "Epoch 207/300\n",
      "1546/1546 [==============================] - 4s 2ms/step - loss: 0.0013 - reconstruction_loss: 0.0011 - kl_loss: 0.3928\n",
      "Epoch 208/300\n",
      "1546/1546 [==============================] - 4s 2ms/step - loss: 0.0013 - reconstruction_loss: 0.0011 - kl_loss: 0.3910\n",
      "Epoch 209/300\n",
      "1546/1546 [==============================] - 4s 2ms/step - loss: 0.0014 - reconstruction_loss: 0.0011 - kl_loss: 0.3937\n",
      "Epoch 210/300\n",
      "1546/1546 [==============================] - 4s 2ms/step - loss: 0.0013 - reconstruction_loss: 0.0011 - kl_loss: 0.3893\n",
      "Epoch 211/300\n",
      "1546/1546 [==============================] - 4s 2ms/step - loss: 0.0013 - reconstruction_loss: 0.0011 - kl_loss: 0.3885\n",
      "Epoch 212/300\n",
      "1546/1546 [==============================] - 4s 2ms/step - loss: 0.0013 - reconstruction_loss: 0.0011 - kl_loss: 0.3892\n",
      "Epoch 213/300\n",
      "1546/1546 [==============================] - 4s 2ms/step - loss: 0.0013 - reconstruction_loss: 0.0011 - kl_loss: 0.3894\n",
      "Epoch 214/300\n",
      "1546/1546 [==============================] - 4s 2ms/step - loss: 0.0013 - reconstruction_loss: 0.0011 - kl_loss: 0.3878\n",
      "Epoch 215/300\n",
      "1546/1546 [==============================] - 4s 2ms/step - loss: 0.0013 - reconstruction_loss: 0.0011 - kl_loss: 0.3872\n",
      "Epoch 216/300\n",
      "1546/1546 [==============================] - 4s 2ms/step - loss: 0.0013 - reconstruction_loss: 0.0011 - kl_loss: 0.3865\n",
      "Epoch 217/300\n",
      "1546/1546 [==============================] - 4s 2ms/step - loss: 0.0013 - reconstruction_loss: 0.0011 - kl_loss: 0.3867\n",
      "Epoch 218/300\n",
      "1546/1546 [==============================] - 4s 2ms/step - loss: 0.0013 - reconstruction_loss: 0.0011 - kl_loss: 0.3865\n",
      "Epoch 219/300\n",
      "1546/1546 [==============================] - 4s 2ms/step - loss: 0.0013 - reconstruction_loss: 0.0011 - kl_loss: 0.3833\n",
      "Epoch 220/300\n",
      "1546/1546 [==============================] - 4s 2ms/step - loss: 0.0013 - reconstruction_loss: 0.0011 - kl_loss: 0.3839\n",
      "Epoch 221/300\n",
      "1546/1546 [==============================] - 4s 2ms/step - loss: 0.0013 - reconstruction_loss: 0.0011 - kl_loss: 0.3846\n",
      "Epoch 222/300\n",
      "1546/1546 [==============================] - 4s 2ms/step - loss: 0.0013 - reconstruction_loss: 0.0011 - kl_loss: 0.3835\n",
      "Epoch 223/300\n",
      "1546/1546 [==============================] - 4s 2ms/step - loss: 0.0013 - reconstruction_loss: 0.0011 - kl_loss: 0.3818\n",
      "Epoch 224/300\n",
      "1546/1546 [==============================] - 4s 2ms/step - loss: 0.0013 - reconstruction_loss: 0.0011 - kl_loss: 0.3810\n",
      "Epoch 225/300\n",
      "1546/1546 [==============================] - 4s 2ms/step - loss: 0.0013 - reconstruction_loss: 0.0011 - kl_loss: 0.3817\n",
      "Epoch 226/300\n",
      "1546/1546 [==============================] - 4s 2ms/step - loss: 0.0013 - reconstruction_loss: 0.0011 - kl_loss: 0.3806\n",
      "Epoch 227/300\n",
      "1546/1546 [==============================] - 4s 2ms/step - loss: 0.0013 - reconstruction_loss: 0.0011 - kl_loss: 0.3793\n",
      "Epoch 228/300\n",
      "1546/1546 [==============================] - 4s 2ms/step - loss: 0.0013 - reconstruction_loss: 0.0011 - kl_loss: 0.3793\n",
      "Epoch 229/300\n",
      "1546/1546 [==============================] - 4s 2ms/step - loss: 0.0013 - reconstruction_loss: 0.0011 - kl_loss: 0.3796\n",
      "Epoch 230/300\n",
      "1546/1546 [==============================] - 4s 2ms/step - loss: 0.0013 - reconstruction_loss: 0.0011 - kl_loss: 0.3785\n",
      "Epoch 231/300\n",
      "1546/1546 [==============================] - 4s 2ms/step - loss: 0.0013 - reconstruction_loss: 0.0011 - kl_loss: 0.3780\n",
      "Epoch 232/300\n",
      "1546/1546 [==============================] - 4s 2ms/step - loss: 0.0013 - reconstruction_loss: 0.0011 - kl_loss: 0.3765\n",
      "Epoch 233/300\n",
      "1546/1546 [==============================] - 4s 2ms/step - loss: 0.0013 - reconstruction_loss: 0.0011 - kl_loss: 0.3763\n",
      "Epoch 234/300\n",
      "1546/1546 [==============================] - 4s 2ms/step - loss: 0.0013 - reconstruction_loss: 0.0011 - kl_loss: 0.3753\n",
      "Epoch 235/300\n",
      "1546/1546 [==============================] - 4s 2ms/step - loss: 0.0013 - reconstruction_loss: 0.0011 - kl_loss: 0.3754\n",
      "Epoch 236/300\n",
      "1546/1546 [==============================] - 4s 2ms/step - loss: 0.0013 - reconstruction_loss: 0.0011 - kl_loss: 0.3752\n",
      "Epoch 237/300\n",
      "1546/1546 [==============================] - 4s 2ms/step - loss: 0.0013 - reconstruction_loss: 0.0011 - kl_loss: 0.3733\n",
      "Epoch 238/300\n",
      "1546/1546 [==============================] - 4s 2ms/step - loss: 0.0013 - reconstruction_loss: 0.0011 - kl_loss: 0.3736\n",
      "Epoch 239/300\n",
      "1546/1546 [==============================] - 4s 2ms/step - loss: 0.0013 - reconstruction_loss: 0.0011 - kl_loss: 0.3726\n",
      "Epoch 240/300\n",
      "1546/1546 [==============================] - 4s 2ms/step - loss: 0.0013 - reconstruction_loss: 0.0011 - kl_loss: 0.3724\n",
      "Epoch 241/300\n",
      "1546/1546 [==============================] - 4s 2ms/step - loss: 0.0013 - reconstruction_loss: 0.0011 - kl_loss: 0.3727\n",
      "Epoch 242/300\n",
      "1546/1546 [==============================] - 4s 2ms/step - loss: 0.0013 - reconstruction_loss: 0.0011 - kl_loss: 0.3722\n",
      "Epoch 243/300\n",
      "1546/1546 [==============================] - 4s 2ms/step - loss: 0.0013 - reconstruction_loss: 0.0011 - kl_loss: 0.3708\n",
      "Epoch 244/300\n",
      "1546/1546 [==============================] - 4s 2ms/step - loss: 0.0013 - reconstruction_loss: 0.0011 - kl_loss: 0.3708\n",
      "Epoch 245/300\n"
     ]
    },
    {
     "name": "stdout",
     "output_type": "stream",
     "text": [
      "1546/1546 [==============================] - 4s 2ms/step - loss: 0.0013 - reconstruction_loss: 0.0011 - kl_loss: 0.3702\n",
      "Epoch 246/300\n",
      "1546/1546 [==============================] - 4s 2ms/step - loss: 0.0013 - reconstruction_loss: 0.0011 - kl_loss: 0.3699\n",
      "Epoch 247/300\n",
      "1546/1546 [==============================] - 4s 2ms/step - loss: 0.0013 - reconstruction_loss: 0.0011 - kl_loss: 0.3688\n",
      "Epoch 248/300\n",
      "1546/1546 [==============================] - 4s 2ms/step - loss: 0.0013 - reconstruction_loss: 0.0011 - kl_loss: 0.3716\n",
      "Epoch 249/300\n",
      "1546/1546 [==============================] - 4s 2ms/step - loss: 0.0013 - reconstruction_loss: 0.0011 - kl_loss: 0.3682\n",
      "Epoch 250/300\n",
      "1546/1546 [==============================] - 4s 2ms/step - loss: 0.0013 - reconstruction_loss: 0.0011 - kl_loss: 0.3694\n",
      "Epoch 251/300\n",
      "1546/1546 [==============================] - 4s 2ms/step - loss: 0.0013 - reconstruction_loss: 0.0011 - kl_loss: 0.3689\n",
      "Epoch 252/300\n",
      "1546/1546 [==============================] - 4s 2ms/step - loss: 0.0013 - reconstruction_loss: 0.0011 - kl_loss: 0.3659\n",
      "Epoch 253/300\n",
      "1546/1546 [==============================] - 4s 2ms/step - loss: 0.0013 - reconstruction_loss: 0.0011 - kl_loss: 0.3663\n",
      "Epoch 254/300\n",
      "1546/1546 [==============================] - 4s 2ms/step - loss: 0.0013 - reconstruction_loss: 0.0011 - kl_loss: 0.3682\n",
      "Epoch 255/300\n",
      "1546/1546 [==============================] - 4s 2ms/step - loss: 0.0013 - reconstruction_loss: 0.0011 - kl_loss: 0.3676\n",
      "Epoch 256/300\n",
      "1546/1546 [==============================] - 4s 2ms/step - loss: 0.0013 - reconstruction_loss: 0.0011 - kl_loss: 0.3657\n",
      "Epoch 257/300\n",
      "1546/1546 [==============================] - 4s 2ms/step - loss: 0.0013 - reconstruction_loss: 0.0011 - kl_loss: 0.3662\n",
      "Epoch 258/300\n",
      "1546/1546 [==============================] - 4s 2ms/step - loss: 0.0013 - reconstruction_loss: 0.0011 - kl_loss: 0.3660\n",
      "Epoch 259/300\n",
      "1546/1546 [==============================] - 4s 2ms/step - loss: 0.0013 - reconstruction_loss: 0.0011 - kl_loss: 0.3653\n",
      "Epoch 260/300\n",
      "1546/1546 [==============================] - 4s 2ms/step - loss: 0.0013 - reconstruction_loss: 0.0011 - kl_loss: 0.3637\n",
      "Epoch 261/300\n",
      "1546/1546 [==============================] - 4s 2ms/step - loss: 0.0013 - reconstruction_loss: 0.0011 - kl_loss: 0.3641\n",
      "Epoch 262/300\n",
      "1546/1546 [==============================] - 4s 2ms/step - loss: 0.0013 - reconstruction_loss: 0.0011 - kl_loss: 0.3624\n",
      "Epoch 263/300\n",
      "1546/1546 [==============================] - 4s 2ms/step - loss: 0.0013 - reconstruction_loss: 0.0011 - kl_loss: 0.3628\n",
      "Epoch 264/300\n",
      "1546/1546 [==============================] - 4s 2ms/step - loss: 0.0013 - reconstruction_loss: 0.0011 - kl_loss: 0.3625\n",
      "Epoch 265/300\n",
      "1546/1546 [==============================] - 4s 2ms/step - loss: 0.0013 - reconstruction_loss: 0.0011 - kl_loss: 0.3619\n",
      "Epoch 266/300\n",
      "1546/1546 [==============================] - 4s 2ms/step - loss: 0.0013 - reconstruction_loss: 0.0011 - kl_loss: 0.3613\n",
      "Epoch 267/300\n",
      "1546/1546 [==============================] - 4s 2ms/step - loss: 0.0013 - reconstruction_loss: 0.0011 - kl_loss: 0.3621\n",
      "Epoch 268/300\n",
      "1546/1546 [==============================] - 4s 2ms/step - loss: 0.0013 - reconstruction_loss: 0.0011 - kl_loss: 0.3602\n",
      "Epoch 269/300\n",
      "1546/1546 [==============================] - 4s 2ms/step - loss: 0.0013 - reconstruction_loss: 0.0011 - kl_loss: 0.3615\n",
      "Epoch 270/300\n",
      "1546/1546 [==============================] - 4s 2ms/step - loss: 0.0013 - reconstruction_loss: 0.0011 - kl_loss: 0.3607\n",
      "Epoch 271/300\n",
      "1546/1546 [==============================] - 4s 2ms/step - loss: 0.0013 - reconstruction_loss: 0.0011 - kl_loss: 0.3603\n",
      "Epoch 272/300\n",
      "1546/1546 [==============================] - 4s 2ms/step - loss: 0.0013 - reconstruction_loss: 0.0011 - kl_loss: 0.3600\n",
      "Epoch 273/300\n",
      "1546/1546 [==============================] - 4s 2ms/step - loss: 0.0013 - reconstruction_loss: 0.0011 - kl_loss: 0.3575\n",
      "Epoch 274/300\n",
      "1546/1546 [==============================] - 4s 2ms/step - loss: 0.0013 - reconstruction_loss: 0.0011 - kl_loss: 0.3590\n",
      "Epoch 275/300\n",
      "1546/1546 [==============================] - 4s 2ms/step - loss: 0.0013 - reconstruction_loss: 0.0011 - kl_loss: 0.3576\n",
      "Epoch 276/300\n",
      "1546/1546 [==============================] - 4s 2ms/step - loss: 0.0013 - reconstruction_loss: 0.0011 - kl_loss: 0.3585\n",
      "Epoch 277/300\n",
      "1546/1546 [==============================] - 4s 2ms/step - loss: 0.0013 - reconstruction_loss: 0.0011 - kl_loss: 0.3575\n",
      "Epoch 278/300\n",
      "1546/1546 [==============================] - 4s 2ms/step - loss: 0.0013 - reconstruction_loss: 0.0011 - kl_loss: 0.3573\n",
      "Epoch 279/300\n",
      "1546/1546 [==============================] - 4s 2ms/step - loss: 0.0013 - reconstruction_loss: 0.0011 - kl_loss: 0.3566\n",
      "Epoch 280/300\n",
      "1546/1546 [==============================] - 4s 2ms/step - loss: 0.0013 - reconstruction_loss: 0.0011 - kl_loss: 0.3564\n",
      "Epoch 281/300\n",
      "1546/1546 [==============================] - 4s 2ms/step - loss: 0.0013 - reconstruction_loss: 0.0011 - kl_loss: 0.3566\n",
      "Epoch 282/300\n",
      "1546/1546 [==============================] - 4s 2ms/step - loss: 0.0012 - reconstruction_loss: 0.0011 - kl_loss: 0.3558\n",
      "Epoch 283/300\n",
      "1546/1546 [==============================] - 4s 2ms/step - loss: 0.0012 - reconstruction_loss: 0.0011 - kl_loss: 0.3548\n",
      "Epoch 284/300\n",
      "1546/1546 [==============================] - 4s 2ms/step - loss: 0.0013 - reconstruction_loss: 0.0011 - kl_loss: 0.3552\n",
      "Epoch 285/300\n",
      "1546/1546 [==============================] - 4s 2ms/step - loss: 0.0013 - reconstruction_loss: 0.0011 - kl_loss: 0.3561\n",
      "Epoch 286/300\n",
      "1546/1546 [==============================] - 4s 2ms/step - loss: 0.0013 - reconstruction_loss: 0.0011 - kl_loss: 0.3544\n",
      "Epoch 287/300\n",
      "1546/1546 [==============================] - 4s 2ms/step - loss: 0.0013 - reconstruction_loss: 0.0011 - kl_loss: 0.3561\n",
      "Epoch 288/300\n",
      "1546/1546 [==============================] - 4s 2ms/step - loss: 0.0012 - reconstruction_loss: 0.0011 - kl_loss: 0.3546\n",
      "Epoch 289/300\n",
      "1546/1546 [==============================] - 4s 2ms/step - loss: 0.0012 - reconstruction_loss: 0.0011 - kl_loss: 0.3552\n",
      "Epoch 290/300\n",
      "1546/1546 [==============================] - 4s 2ms/step - loss: 0.0012 - reconstruction_loss: 0.0011 - kl_loss: 0.3538\n",
      "Epoch 291/300\n",
      "1546/1546 [==============================] - 4s 2ms/step - loss: 0.0013 - reconstruction_loss: 0.0011 - kl_loss: 0.3543\n",
      "Epoch 292/300\n",
      "1546/1546 [==============================] - 4s 2ms/step - loss: 0.0012 - reconstruction_loss: 0.0011 - kl_loss: 0.3542\n",
      "Epoch 293/300\n",
      "1546/1546 [==============================] - 4s 2ms/step - loss: 0.0012 - reconstruction_loss: 0.0011 - kl_loss: 0.3534\n",
      "Epoch 294/300\n",
      "1546/1546 [==============================] - 4s 2ms/step - loss: 0.0012 - reconstruction_loss: 0.0011 - kl_loss: 0.3530\n",
      "Epoch 295/300\n",
      "1546/1546 [==============================] - 4s 2ms/step - loss: 0.0012 - reconstruction_loss: 0.0011 - kl_loss: 0.3535\n",
      "Epoch 296/300\n",
      "1546/1546 [==============================] - 4s 2ms/step - loss: 0.0012 - reconstruction_loss: 0.0011 - kl_loss: 0.3521\n",
      "Epoch 297/300\n",
      "1546/1546 [==============================] - 4s 2ms/step - loss: 0.0012 - reconstruction_loss: 0.0011 - kl_loss: 0.3525\n",
      "Epoch 298/300\n",
      "1546/1546 [==============================] - 4s 2ms/step - loss: 0.0012 - reconstruction_loss: 0.0011 - kl_loss: 0.3507\n",
      "Epoch 299/300\n",
      "1546/1546 [==============================] - 4s 2ms/step - loss: 0.0012 - reconstruction_loss: 0.0010 - kl_loss: 0.3521\n",
      "Epoch 300/300\n",
      "1546/1546 [==============================] - 4s 2ms/step - loss: 0.0012 - reconstruction_loss: 0.0010 - kl_loss: 0.3520\n"
     ]
    }
   ],
   "source": [
    "   \n",
    "data_reshape = data.reshape(data.shape[0], data.shape[1] * data.shape[2],)\n",
    "train_ind, test_ind = train_test_split(range(data.shape[0]), test_size=0.15)\n",
    "x_train = data_reshape[train_ind]\n",
    "x_test = data_reshape[test_ind]\n",
    "\n",
    "\n",
    "vae = VAE(encoder, decoder)\n",
    "vae.compile(keras.optimizers.Adam(learning_rate=0.0001))\n",
    "\n",
    "\n",
    "es = EarlyStopping(monitor='loss', mode='min', patience = 5)\n",
    "history = vae.fit(x_train, epochs=300, callbacks = [es])"
   ]
  },
  {
   "cell_type": "code",
   "execution_count": null,
   "metadata": {},
   "outputs": [],
   "source": []
  },
  {
   "cell_type": "code",
   "execution_count": 190,
   "metadata": {},
   "outputs": [
    {
     "data": {
      "text/plain": [
       "Text(0.5, 1.0, 'NN VAE Training Loss')"
      ]
     },
     "execution_count": 190,
     "metadata": {},
     "output_type": "execute_result"
    },
    {
     "data": {
      "image/png": "[encoded data removed]",
      "text/plain": [
       "<Figure size 432x288 with 1 Axes>"
      ]
     },
     "metadata": {
      "needs_background": "light"
     },
     "output_type": "display_data"
    }
   ],
   "source": [
    "import matplotlib.pyplot as plt \n",
    "plt.plot(history.history[\"loss\"], label = \"Loss\")\n",
    "#plt.plot(history.history[\"val_loss\"], label= \"Val. Loss\")\n",
    "plt.legend()\n",
    "plt.xlabel(\"Epochs\")\n",
    "plt.ylabel(\"KL + Bin. Cross Entropy Loss\")\n",
    "plt.title(\"NN VAE Training Loss\")"
   ]
  },
  {
   "cell_type": "code",
   "execution_count": null,
   "metadata": {},
   "outputs": [],
   "source": []
  },
  {
   "cell_type": "code",
   "execution_count": 183,
   "metadata": {},
   "outputs": [],
   "source": [
    "#if self.use_batch_norm:\n",
    "#    x = layers.BatchNormalization()(x)\n",
    "#if self.use_dropout:\n",
    "#    x = Dropout(rate = 0.25)(x)"
   ]
  },
  {
   "cell_type": "code",
   "execution_count": 191,
   "metadata": {},
   "outputs": [
    {
     "name": "stdout",
     "output_type": "stream",
     "text": [
      "(49455, 1800)\n",
      "(49455, 1800)\n",
      "Autoencoded Smiles: CC(C)C1=C(O)C(=O)C=C(N(O)O)C1=O\n",
      "True Smiles: CN(C)C1=C(F)C(=O)C=C(N(O)O)C1=O\n",
      "Percent Reconstructed Molescules: 0.27641290061672225\n"
     ]
    }
   ],
   "source": [
    "test = x_train.reshape(x_train.shape[0], data.shape[1] * data.shape[2])\n",
    "code_decode = vae.decoder.predict(vae.encoder.predict(test))\n",
    "\n",
    "print(np.shape(code_decode))\n",
    "print(np.shape(test))\n",
    "\n",
    "compare_equality(\n",
    "    test, \n",
    "    code_decode, \n",
    "    (data.shape[1], data.shape[2]), \n",
    "    selfies_alphabet)"
   ]
  },
  {
   "cell_type": "code",
   "execution_count": 192,
   "metadata": {},
   "outputs": [
    {
     "data": {
      "text/plain": [
       "Text(0.5, 0, 'Similarity (Higher is Better)')"
      ]
     },
     "execution_count": 192,
     "metadata": {},
     "output_type": "execute_result"
    },
    {
     "data": {
      "image/png": "[encoded data removed]",
      "text/plain": [
       "<Figure size 432x288 with 1 Axes>"
      ]
     },
     "metadata": {
      "needs_background": "light"
     },
     "output_type": "display_data"
    }
   ],
   "source": [
    "dist = tanimoto_dist(\n",
    "    test, \n",
    "    code_decode, \n",
    "    (data.shape[1], data.shape[2]), \n",
    "    selfies_alphabet)\n",
    "sns.histplot(dist)\n",
    "plt.title(\"Distribution of Tanimoto metric, NN VAE\")\n",
    "plt.ylabel(\"Count\")\n",
    "plt.xlabel(\"Similarity (Higher is Better)\")"
   ]
  },
  {
   "cell_type": "markdown",
   "metadata": {},
   "source": [
    "# vae lstm"
   ]
  },
  {
   "cell_type": "code",
   "execution_count": 204,
   "metadata": {},
   "outputs": [
    {
     "name": "stdout",
     "output_type": "stream",
     "text": [
      "WARNING:tensorflow:Layer lstm_27 will not use cuDNN kernel since it doesn't meet the cuDNN kernel criteria. It will use generic GPU kernel as fallback when running on GPU\n",
      "WARNING:tensorflow:Layer lstm_28 will not use cuDNN kernel since it doesn't meet the cuDNN kernel criteria. It will use generic GPU kernel as fallback when running on GPU\n",
      "Model: \"functional_15\"\n",
      "__________________________________________________________________________________________________\n",
      "Layer (type)                    Output Shape         Param #     Connected to                     \n",
      "==================================================================================================\n",
      "input_57 (InputLayer)           [(None, 60, 30)]     0                                            \n",
      "__________________________________________________________________________________________________\n",
      "lstm_27 (LSTM)                  (None, 128)          81408       input_57[0][0]                   \n",
      "__________________________________________________________________________________________________\n",
      "dense_180 (Dense)               (None, 75)           9675        lstm_27[0][0]                    \n",
      "__________________________________________________________________________________________________\n",
      "dense_181 (Dense)               (None, 75)           9675        lstm_27[0][0]                    \n",
      "__________________________________________________________________________________________________\n",
      "encode (Lambda)                 (None, 75)           0           dense_180[0][0]                  \n",
      "                                                                 dense_181[0][0]                  \n",
      "__________________________________________________________________________________________________\n",
      "repeat_vector_7 (RepeatVector)  (None, 60, 75)       0           encode[0][0]                     \n",
      "__________________________________________________________________________________________________\n",
      "lstm_28 (LSTM)                  (None, 60, 128)      104448      repeat_vector_7[0][0]            \n",
      "__________________________________________________________________________________________________\n",
      "time_distributed_7 (TimeDistrib (None, 60, 30)       3870        lstm_28[0][0]                    \n",
      "__________________________________________________________________________________________________\n",
      "tf_op_layer_Exp_7 (TensorFlowOp [(None, 75)]         0           dense_181[0][0]                  \n",
      "__________________________________________________________________________________________________\n",
      "tf_op_layer_Square_8 (TensorFlo [(None, 75)]         0           dense_180[0][0]                  \n",
      "__________________________________________________________________________________________________\n",
      "tf_op_layer_AddV2_12 (TensorFlo [(None, 75)]         0           tf_op_layer_Exp_7[0][0]          \n",
      "                                                                 tf_op_layer_Square_8[0][0]       \n",
      "__________________________________________________________________________________________________\n",
      "tf_op_layer_Sub_16 (TensorFlowO [(None, 75)]         0           tf_op_layer_AddV2_12[0][0]       \n",
      "__________________________________________________________________________________________________\n",
      "tf_op_layer_Sub_17 (TensorFlowO [(None, 75)]         0           tf_op_layer_Sub_16[0][0]         \n",
      "                                                                 dense_181[0][0]                  \n",
      "__________________________________________________________________________________________________\n",
      "tf_op_layer_Mean_16 (TensorFlow [()]                 0           tf_op_layer_Sub_17[0][0]         \n",
      "__________________________________________________________________________________________________\n",
      "tf_op_layer_Mul_13 (TensorFlowO [()]                 0           tf_op_layer_Mean_16[0][0]        \n",
      "__________________________________________________________________________________________________\n",
      "tf_op_layer_SquaredDifference_8 [(None, 60, 30)]     0           time_distributed_7[0][0]         \n",
      "                                                                 input_57[0][0]                   \n",
      "__________________________________________________________________________________________________\n",
      "tf_op_layer_Mul_14 (TensorFlowO [()]                 0           tf_op_layer_Mul_13[0][0]         \n",
      "__________________________________________________________________________________________________\n",
      "tf_op_layer_Mean_15 (TensorFlow [(None, 60)]         0           tf_op_layer_SquaredDifference_8[0\n",
      "__________________________________________________________________________________________________\n",
      "tf_op_layer_AddV2_13 (TensorFlo [(None, 60)]         0           tf_op_layer_Mul_14[0][0]         \n",
      "                                                                 tf_op_layer_Mean_15[0][0]        \n",
      "__________________________________________________________________________________________________\n",
      "add_loss_7 (AddLoss)            (None, 60)           0           tf_op_layer_AddV2_13[0][0]       \n",
      "==================================================================================================\n",
      "Total params: 209,076\n",
      "Trainable params: 209,076\n",
      "Non-trainable params: 0\n",
      "__________________________________________________________________________________________________\n"
     ]
    }
   ],
   "source": [
    "data_reshape = data.reshape(data.shape[0], data.shape[1] * data.shape[2])\n",
    "x_train = data[0:int(data.shape[0] * 0.8)]\n",
    "x_test = data[int(data.shape[0] * 0.8):-1]\n",
    "\n",
    "timesteps = data.shape[1]\n",
    "input_dim = data.shape[2]\n",
    "latent_dim = 75\n",
    "\n",
    "def sampling(args):\n",
    "    z_mean, z_log_sigma = args\n",
    "    batch_size = tf.shape(z_mean)[0] \n",
    "    epsilon = tf.keras.backend.random_normal(\n",
    "        shape=(batch_size, latent_dim), mean=0., stddev=1.)\n",
    "    return z_mean + z_log_sigma * epsilon\n",
    "\n",
    "def vae_loss2(input_x, decoder1, z_log_sigma, z_mean):\n",
    "    \"\"\" Calculate loss = reconstruction loss + KL loss for each data in minibatch \"\"\"\n",
    "    recon = keras.losses.mse(input_x, decoder1)\n",
    "    kl = 0.5 * tf.reduce_mean(tf.exp(z_log_sigma) + tf.square(z_mean) - 1. - z_log_sigma)\n",
    "    beta = 1000 * latent_dim / input_size\n",
    "    #return recon + kl\n",
    "    return kl * beta + recon\n",
    "\n",
    "\n",
    "input_x = keras.Input(shape=(timesteps, input_dim))\n",
    "h = layers.LSTM(128, activation='relu')(input_x)\n",
    "#h = layers.LSTM(128, activation='relu')(h)\n",
    "\n",
    "z_mean = layers.Dense(latent_dim)(h)\n",
    "z_log_sigma = layers.Dense(latent_dim)(h)\n",
    "z = layers.Lambda(sampling, name = \"encode\")([z_mean, z_log_sigma])\n",
    "\n",
    "decoder1 = layers.RepeatVector(timesteps)(z)\n",
    "decoder1 = layers.LSTM(128, activation='sigmoid', return_sequences=True)(decoder1)\n",
    "\n",
    "decoder1 = layers.TimeDistributed(layers.Dense(input_dim))(decoder1)\n",
    "\n",
    "m = keras.Model(input_x, decoder1)\n",
    "m.add_loss(vae_loss2(input_x, decoder1, z_log_sigma, z_mean)) \n",
    "\n",
    "m.compile(optimizer=Adam(lr=5e-6))\n",
    "m.summary()"
   ]
  },
  {
   "cell_type": "code",
   "execution_count": 205,
   "metadata": {
    "scrolled": true
   },
   "outputs": [
    {
     "name": "stdout",
     "output_type": "stream",
     "text": [
      "Model: \"functional_15\"\n",
      "__________________________________________________________________________________________________\n",
      "Layer (type)                    Output Shape         Param #     Connected to                     \n",
      "==================================================================================================\n",
      "input_57 (InputLayer)           [(None, 60, 30)]     0                                            \n",
      "__________________________________________________________________________________________________\n",
      "lstm_27 (LSTM)                  (None, 128)          81408       input_57[0][0]                   \n",
      "__________________________________________________________________________________________________\n",
      "dense_180 (Dense)               (None, 75)           9675        lstm_27[0][0]                    \n",
      "__________________________________________________________________________________________________\n",
      "dense_181 (Dense)               (None, 75)           9675        lstm_27[0][0]                    \n",
      "__________________________________________________________________________________________________\n",
      "encode (Lambda)                 (None, 75)           0           dense_180[0][0]                  \n",
      "                                                                 dense_181[0][0]                  \n",
      "__________________________________________________________________________________________________\n",
      "repeat_vector_7 (RepeatVector)  (None, 60, 75)       0           encode[0][0]                     \n",
      "__________________________________________________________________________________________________\n",
      "lstm_28 (LSTM)                  (None, 60, 128)      104448      repeat_vector_7[0][0]            \n",
      "__________________________________________________________________________________________________\n",
      "time_distributed_7 (TimeDistrib (None, 60, 30)       3870        lstm_28[0][0]                    \n",
      "__________________________________________________________________________________________________\n",
      "tf_op_layer_Exp_7 (TensorFlowOp [(None, 75)]         0           dense_181[0][0]                  \n",
      "__________________________________________________________________________________________________\n",
      "tf_op_layer_Square_8 (TensorFlo [(None, 75)]         0           dense_180[0][0]                  \n",
      "__________________________________________________________________________________________________\n",
      "tf_op_layer_AddV2_12 (TensorFlo [(None, 75)]         0           tf_op_layer_Exp_7[0][0]          \n",
      "                                                                 tf_op_layer_Square_8[0][0]       \n",
      "__________________________________________________________________________________________________\n",
      "tf_op_layer_Sub_16 (TensorFlowO [(None, 75)]         0           tf_op_layer_AddV2_12[0][0]       \n",
      "__________________________________________________________________________________________________\n",
      "tf_op_layer_Sub_17 (TensorFlowO [(None, 75)]         0           tf_op_layer_Sub_16[0][0]         \n",
      "                                                                 dense_181[0][0]                  \n",
      "__________________________________________________________________________________________________\n",
      "tf_op_layer_Mean_16 (TensorFlow [()]                 0           tf_op_layer_Sub_17[0][0]         \n",
      "__________________________________________________________________________________________________\n",
      "tf_op_layer_Mul_13 (TensorFlowO [()]                 0           tf_op_layer_Mean_16[0][0]        \n",
      "__________________________________________________________________________________________________\n",
      "tf_op_layer_SquaredDifference_8 [(None, 60, 30)]     0           time_distributed_7[0][0]         \n",
      "                                                                 input_57[0][0]                   \n",
      "__________________________________________________________________________________________________\n",
      "tf_op_layer_Mul_14 (TensorFlowO [()]                 0           tf_op_layer_Mul_13[0][0]         \n",
      "__________________________________________________________________________________________________\n",
      "tf_op_layer_Mean_15 (TensorFlow [(None, 60)]         0           tf_op_layer_SquaredDifference_8[0\n",
      "__________________________________________________________________________________________________\n",
      "tf_op_layer_AddV2_13 (TensorFlo [(None, 60)]         0           tf_op_layer_Mul_14[0][0]         \n",
      "                                                                 tf_op_layer_Mean_15[0][0]        \n",
      "__________________________________________________________________________________________________\n",
      "add_loss_7 (AddLoss)            (None, 60)           0           tf_op_layer_AddV2_13[0][0]       \n",
      "==================================================================================================\n",
      "Total params: 209,076\n",
      "Trainable params: 209,076\n",
      "Non-trainable params: 0\n",
      "__________________________________________________________________________________________________\n",
      "Epoch 1/25\n",
      "1455/1455 [==============================] - 119s 82ms/step - loss: 0.1407 - val_loss: 0.0516\n",
      "Epoch 2/25\n",
      "1455/1455 [==============================] - 119s 82ms/step - loss: 0.0355 - val_loss: 0.0280\n",
      "Epoch 3/25\n",
      "1455/1455 [==============================] - 120s 83ms/step - loss: 0.0286 - val_loss: 0.0271\n",
      "Epoch 4/25\n",
      "1455/1455 [==============================] - 119s 82ms/step - loss: 0.0280 - val_loss: 0.0266\n",
      "Epoch 5/25\n",
      "1455/1455 [==============================] - 119s 82ms/step - loss: 0.0275 - val_loss: 0.0260\n",
      "Epoch 6/25\n",
      "1455/1455 [==============================] - 119s 82ms/step - loss: 0.0270 - val_loss: 0.0254\n",
      "Epoch 7/25\n",
      "1455/1455 [==============================] - 119s 82ms/step - loss: 0.0263 - val_loss: 0.0245\n",
      "Epoch 8/25\n",
      "1455/1455 [==============================] - 118s 81ms/step - loss: 0.0256 - val_loss: 0.0237\n",
      "Epoch 9/25\n",
      "1455/1455 [==============================] - 118s 81ms/step - loss: 0.0248 - val_loss: 0.0227\n",
      "Epoch 10/25\n",
      "1455/1455 [==============================] - 118s 81ms/step - loss: 0.0240 - val_loss: 0.0219\n",
      "Epoch 11/25\n",
      "1455/1455 [==============================] - 118s 81ms/step - loss: 0.0233 - val_loss: 0.0212\n",
      "Epoch 12/25\n",
      "1455/1455 [==============================] - 118s 81ms/step - loss: 0.0228 - val_loss: 0.0206\n",
      "Epoch 13/25\n",
      "1455/1455 [==============================] - 118s 81ms/step - loss: 0.0223 - val_loss: 0.0201\n",
      "Epoch 14/25\n",
      "1455/1455 [==============================] - 118s 81ms/step - loss: 0.0218 - val_loss: 0.0197\n",
      "Epoch 15/25\n",
      "1455/1455 [==============================] - 118s 81ms/step - loss: 0.0215 - val_loss: 0.0193\n",
      "Epoch 16/25\n",
      "1455/1455 [==============================] - 115s 79ms/step - loss: 0.0211 - val_loss: 0.0191\n",
      "Epoch 17/25\n",
      "1455/1455 [==============================] - 115s 79ms/step - loss: 0.0209 - val_loss: 0.0189\n",
      "Epoch 18/25\n",
      "1455/1455 [==============================] - 115s 79ms/step - loss: 0.0207 - val_loss: 0.0188\n",
      "Epoch 19/25\n",
      "1455/1455 [==============================] - 115s 79ms/step - loss: 0.0205 - val_loss: 0.0187\n",
      "Epoch 20/25\n",
      "1455/1455 [==============================] - 115s 79ms/step - loss: 0.0204 - val_loss: 0.0187\n",
      "Epoch 21/25\n",
      "1455/1455 [==============================] - 119s 82ms/step - loss: 0.0204 - val_loss: 0.0187\n",
      "Epoch 22/25\n",
      "1455/1455 [==============================] - 118s 81ms/step - loss: 0.0203 - val_loss: 0.0186\n",
      "Epoch 23/25\n",
      "1455/1455 [==============================] - 118s 81ms/step - loss: 0.0203 - val_loss: 0.0186\n",
      "Epoch 24/25\n",
      "1455/1455 [==============================] - 118s 81ms/step - loss: 0.0202 - val_loss: 0.0186\n",
      "Epoch 25/25\n",
      "1455/1455 [==============================] - 117s 80ms/step - loss: 0.0202 - val_loss: 0.0186\n"
     ]
    }
   ],
   "source": [
    "m.summary()\n",
    "from keras.callbacks import EarlyStopping\n",
    "\n",
    "es = EarlyStopping(monitor='val_loss', mode='min', verbose=1, patience=3)\n",
    "history = m.fit(x_train, x_train, epochs=25, \n",
    "                   validation_data=(x_test, x_test),\n",
    "               callbacks=[es])"
   ]
  },
  {
   "cell_type": "code",
   "execution_count": 206,
   "metadata": {
    "scrolled": true
   },
   "outputs": [
    {
     "data": {
      "text/plain": [
       "Text(0.5, 1.0, 'LTSM-VAE Training Loss')"
      ]
     },
     "execution_count": 206,
     "metadata": {},
     "output_type": "execute_result"
    },
    {
     "data": {
      "image/png": "[encoded data removed]",
      "text/plain": [
       "<Figure size 432x288 with 1 Axes>"
      ]
     },
     "metadata": {
      "needs_background": "light"
     },
     "output_type": "display_data"
    }
   ],
   "source": [
    "import matplotlib.pyplot as plt \n",
    "plt.plot(history.history[\"loss\"], label = \"Loss\")\n",
    "#plt.plot(history.history[\"val_loss\"], label= \"Val. Loss\")\n",
    "plt.legend()\n",
    "plt.xlabel(\"Epochs\")\n",
    "plt.ylabel(\"KL + Reconstruct Loss\")\n",
    "plt.title(\"LTSM-VAE Training Loss\")"
   ]
  },
  {
   "cell_type": "code",
   "execution_count": 203,
   "metadata": {},
   "outputs": [
    {
     "name": "stdout",
     "output_type": "stream",
     "text": [
      "(46546, 60, 30)\n",
      "(46546, 60, 30)\n",
      "Autoencoded Smiles: CCCCCCC\n",
      "True Smiles: COC(=O)C1=C(Br)C(=O)C=CC1=O\n",
      "Percent Reconstructed Molescules: 0.0\n"
     ]
    }
   ],
   "source": [
    "test = x_train.reshape(x_train.shape[0], data.shape[1],  data.shape[2])\n",
    "code_decode = m.predict(test)\n",
    "\n",
    "print(np.shape(code_decode))\n",
    "print(np.shape(test))\n",
    "\n",
    "compare_equality(\n",
    "    test, \n",
    "    code_decode, \n",
    "    (data.shape[1], data.shape[2]), \n",
    "    selfies_alphabet)\n"
   ]
  },
  {
   "cell_type": "code",
   "execution_count": null,
   "metadata": {},
   "outputs": [],
   "source": []
  },
  {
   "cell_type": "code",
   "execution_count": 92,
   "metadata": {},
   "outputs": [
    {
     "data": {
      "text/plain": [
       "Text(0.5, 0, 'Similarity (Higher is Better)')"
      ]
     },
     "execution_count": 92,
     "metadata": {},
     "output_type": "execute_result"
    },
    {
     "data": {
      "image/png": "[encoded data removed]",
      "text/plain": [
       "<Figure size 432x288 with 1 Axes>"
      ]
     },
     "metadata": {
      "needs_background": "light"
     },
     "output_type": "display_data"
    }
   ],
   "source": [
    "dist = tanimoto_dist(\n",
    "    test, \n",
    "    code_decode, \n",
    "    (data.shape[1], data.shape[2]), \n",
    "    selfies_alphabet)\n",
    "sns.histplot(dist)\n",
    "plt.title(\"Distribution of Tanimoto metric\")\n",
    "plt.ylabel(\"Count\")\n",
    "plt.xlabel(\"Similarity (Higher is Better)\")"
   ]
  },
  {
   "cell_type": "markdown",
   "metadata": {},
   "source": [
    "# VAE - RNN"
   ]
  },
  {
   "cell_type": "code",
   "execution_count": 78,
   "metadata": {},
   "outputs": [
    {
     "ename": "ValueError",
     "evalue": "Dimensions must be equal, but are 75 and 50 for '{{node Sub_4}} = Sub[T=DT_FLOAT](AddV2_4, Square_2)' with input shapes: [?,75], [?,50].",
     "output_type": "error",
     "traceback": [
      "\u001b[0;31m---------------------------------------------------------------------------\u001b[0m",
      "\u001b[0;31mInvalidArgumentError\u001b[0m                      Traceback (most recent call last)",
      "\u001b[0;32m~/anaconda3/envs/tf_gpu/lib/python3.7/site-packages/tensorflow/python/framework/ops.py\u001b[0m in \u001b[0;36m_create_c_op\u001b[0;34m(graph, node_def, inputs, control_inputs, op_def)\u001b[0m\n\u001b[1;32m   1811\u001b[0m   \u001b[0;32mtry\u001b[0m\u001b[0;34m:\u001b[0m\u001b[0;34m\u001b[0m\u001b[0;34m\u001b[0m\u001b[0m\n\u001b[0;32m-> 1812\u001b[0;31m     \u001b[0mc_op\u001b[0m \u001b[0;34m=\u001b[0m \u001b[0mpywrap_tf_session\u001b[0m\u001b[0;34m.\u001b[0m\u001b[0mTF_FinishOperation\u001b[0m\u001b[0;34m(\u001b[0m\u001b[0mop_desc\u001b[0m\u001b[0;34m)\u001b[0m\u001b[0;34m\u001b[0m\u001b[0;34m\u001b[0m\u001b[0m\n\u001b[0m\u001b[1;32m   1813\u001b[0m   \u001b[0;32mexcept\u001b[0m \u001b[0merrors\u001b[0m\u001b[0;34m.\u001b[0m\u001b[0mInvalidArgumentError\u001b[0m \u001b[0;32mas\u001b[0m \u001b[0me\u001b[0m\u001b[0;34m:\u001b[0m\u001b[0;34m\u001b[0m\u001b[0;34m\u001b[0m\u001b[0m\n",
      "\u001b[0;31mInvalidArgumentError\u001b[0m: Dimensions must be equal, but are 75 and 50 for '{{node Sub_5}} = Sub[T=DT_FLOAT](AddV2_4, Square_2)' with input shapes: [?,75], [?,50].",
      "\nDuring handling of the above exception, another exception occurred:\n",
      "\u001b[0;31mValueError\u001b[0m                                Traceback (most recent call last)",
      "\u001b[0;32m~/anaconda3/envs/tf_gpu/lib/python3.7/site-packages/tensorflow/python/ops/math_ops.py\u001b[0m in \u001b[0;36mbinary_op_wrapper\u001b[0;34m(x, y)\u001b[0m\n\u001b[1;32m   1134\u001b[0m             \u001b[0mr_op\u001b[0m \u001b[0;34m=\u001b[0m \u001b[0mgetattr\u001b[0m\u001b[0;34m(\u001b[0m\u001b[0my\u001b[0m\u001b[0;34m,\u001b[0m \u001b[0;34m\"__r%s__\"\u001b[0m \u001b[0;34m%\u001b[0m \u001b[0mop_name\u001b[0m\u001b[0;34m)\u001b[0m\u001b[0;34m\u001b[0m\u001b[0;34m\u001b[0m\u001b[0m\n\u001b[0;32m-> 1135\u001b[0;31m             \u001b[0mout\u001b[0m \u001b[0;34m=\u001b[0m \u001b[0mr_op\u001b[0m\u001b[0;34m(\u001b[0m\u001b[0mx\u001b[0m\u001b[0;34m)\u001b[0m\u001b[0;34m\u001b[0m\u001b[0;34m\u001b[0m\u001b[0m\n\u001b[0m\u001b[1;32m   1136\u001b[0m             \u001b[0;32mif\u001b[0m \u001b[0mout\u001b[0m \u001b[0;34m==\u001b[0m \u001b[0mNotImplemented\u001b[0m\u001b[0;34m:\u001b[0m\u001b[0;34m\u001b[0m\u001b[0;34m\u001b[0m\u001b[0m\n",
      "\u001b[0;32m~/anaconda3/envs/tf_gpu/lib/python3.7/site-packages/tensorflow/python/ops/math_ops.py\u001b[0m in \u001b[0;36mr_binary_op_wrapper\u001b[0;34m(y, x)\u001b[0m\n\u001b[1;32m   1154\u001b[0m       \u001b[0mx\u001b[0m \u001b[0;34m=\u001b[0m \u001b[0mops\u001b[0m\u001b[0;34m.\u001b[0m\u001b[0mconvert_to_tensor\u001b[0m\u001b[0;34m(\u001b[0m\u001b[0mx\u001b[0m\u001b[0;34m,\u001b[0m \u001b[0mdtype\u001b[0m\u001b[0;34m=\u001b[0m\u001b[0my\u001b[0m\u001b[0;34m.\u001b[0m\u001b[0mdtype\u001b[0m\u001b[0;34m.\u001b[0m\u001b[0mbase_dtype\u001b[0m\u001b[0;34m,\u001b[0m \u001b[0mname\u001b[0m\u001b[0;34m=\u001b[0m\u001b[0;34m\"x\"\u001b[0m\u001b[0;34m)\u001b[0m\u001b[0;34m\u001b[0m\u001b[0;34m\u001b[0m\u001b[0m\n\u001b[0;32m-> 1155\u001b[0;31m       \u001b[0;32mreturn\u001b[0m \u001b[0mfunc\u001b[0m\u001b[0;34m(\u001b[0m\u001b[0mx\u001b[0m\u001b[0;34m,\u001b[0m \u001b[0my\u001b[0m\u001b[0;34m,\u001b[0m \u001b[0mname\u001b[0m\u001b[0;34m=\u001b[0m\u001b[0mname\u001b[0m\u001b[0;34m)\u001b[0m\u001b[0;34m\u001b[0m\u001b[0;34m\u001b[0m\u001b[0m\n\u001b[0m\u001b[1;32m   1156\u001b[0m \u001b[0;34m\u001b[0m\u001b[0m\n",
      "\u001b[0;32m~/anaconda3/envs/tf_gpu/lib/python3.7/site-packages/tensorflow/python/util/dispatch.py\u001b[0m in \u001b[0;36mwrapper\u001b[0;34m(*args, **kwargs)\u001b[0m\n\u001b[1;32m    200\u001b[0m     \u001b[0;32mtry\u001b[0m\u001b[0;34m:\u001b[0m\u001b[0;34m\u001b[0m\u001b[0;34m\u001b[0m\u001b[0m\n\u001b[0;32m--> 201\u001b[0;31m       \u001b[0;32mreturn\u001b[0m \u001b[0mtarget\u001b[0m\u001b[0;34m(\u001b[0m\u001b[0;34m*\u001b[0m\u001b[0margs\u001b[0m\u001b[0;34m,\u001b[0m \u001b[0;34m**\u001b[0m\u001b[0mkwargs\u001b[0m\u001b[0;34m)\u001b[0m\u001b[0;34m\u001b[0m\u001b[0;34m\u001b[0m\u001b[0m\n\u001b[0m\u001b[1;32m    202\u001b[0m     \u001b[0;32mexcept\u001b[0m \u001b[0;34m(\u001b[0m\u001b[0mTypeError\u001b[0m\u001b[0;34m,\u001b[0m \u001b[0mValueError\u001b[0m\u001b[0;34m)\u001b[0m\u001b[0;34m:\u001b[0m\u001b[0;34m\u001b[0m\u001b[0;34m\u001b[0m\u001b[0m\n",
      "\u001b[0;32m~/anaconda3/envs/tf_gpu/lib/python3.7/site-packages/tensorflow/python/ops/math_ops.py\u001b[0m in \u001b[0;36msubtract\u001b[0;34m(x, y, name)\u001b[0m\n\u001b[1;32m    525\u001b[0m \u001b[0;32mdef\u001b[0m \u001b[0msubtract\u001b[0m\u001b[0;34m(\u001b[0m\u001b[0mx\u001b[0m\u001b[0;34m,\u001b[0m \u001b[0my\u001b[0m\u001b[0;34m,\u001b[0m \u001b[0mname\u001b[0m\u001b[0;34m=\u001b[0m\u001b[0;32mNone\u001b[0m\u001b[0;34m)\u001b[0m\u001b[0;34m:\u001b[0m\u001b[0;34m\u001b[0m\u001b[0;34m\u001b[0m\u001b[0m\n\u001b[0;32m--> 526\u001b[0;31m   \u001b[0;32mreturn\u001b[0m \u001b[0mgen_math_ops\u001b[0m\u001b[0;34m.\u001b[0m\u001b[0msub\u001b[0m\u001b[0;34m(\u001b[0m\u001b[0mx\u001b[0m\u001b[0;34m,\u001b[0m \u001b[0my\u001b[0m\u001b[0;34m,\u001b[0m \u001b[0mname\u001b[0m\u001b[0;34m)\u001b[0m\u001b[0;34m\u001b[0m\u001b[0;34m\u001b[0m\u001b[0m\n\u001b[0m\u001b[1;32m    527\u001b[0m \u001b[0;34m\u001b[0m\u001b[0m\n",
      "\u001b[0;32m~/anaconda3/envs/tf_gpu/lib/python3.7/site-packages/tensorflow/python/ops/gen_math_ops.py\u001b[0m in \u001b[0;36msub\u001b[0;34m(x, y, name)\u001b[0m\n\u001b[1;32m  10465\u001b[0m   _, _, _op, _outputs = _op_def_library._apply_op_helper(\n\u001b[0;32m> 10466\u001b[0;31m         \"Sub\", x=x, y=y, name=name)\n\u001b[0m\u001b[1;32m  10467\u001b[0m   \u001b[0m_result\u001b[0m \u001b[0;34m=\u001b[0m \u001b[0m_outputs\u001b[0m\u001b[0;34m[\u001b[0m\u001b[0;34m:\u001b[0m\u001b[0;34m]\u001b[0m\u001b[0;34m\u001b[0m\u001b[0;34m\u001b[0m\u001b[0m\n",
      "\u001b[0;32m~/anaconda3/envs/tf_gpu/lib/python3.7/site-packages/tensorflow/python/framework/op_def_library.py\u001b[0m in \u001b[0;36m_apply_op_helper\u001b[0;34m(op_type_name, name, **keywords)\u001b[0m\n\u001b[1;32m    743\u001b[0m                                  \u001b[0mname\u001b[0m\u001b[0;34m=\u001b[0m\u001b[0mscope\u001b[0m\u001b[0;34m,\u001b[0m \u001b[0minput_types\u001b[0m\u001b[0;34m=\u001b[0m\u001b[0minput_types\u001b[0m\u001b[0;34m,\u001b[0m\u001b[0;34m\u001b[0m\u001b[0;34m\u001b[0m\u001b[0m\n\u001b[0;32m--> 744\u001b[0;31m                                  attrs=attr_protos, op_def=op_def)\n\u001b[0m\u001b[1;32m    745\u001b[0m \u001b[0;34m\u001b[0m\u001b[0m\n",
      "\u001b[0;32m~/anaconda3/envs/tf_gpu/lib/python3.7/site-packages/tensorflow/python/framework/func_graph.py\u001b[0m in \u001b[0;36m_create_op_internal\u001b[0;34m(self, op_type, inputs, dtypes, input_types, name, attrs, op_def, compute_device)\u001b[0m\n\u001b[1;32m    592\u001b[0m         \u001b[0mop_type\u001b[0m\u001b[0;34m,\u001b[0m \u001b[0minputs\u001b[0m\u001b[0;34m,\u001b[0m \u001b[0mdtypes\u001b[0m\u001b[0;34m,\u001b[0m \u001b[0minput_types\u001b[0m\u001b[0;34m,\u001b[0m \u001b[0mname\u001b[0m\u001b[0;34m,\u001b[0m \u001b[0mattrs\u001b[0m\u001b[0;34m,\u001b[0m \u001b[0mop_def\u001b[0m\u001b[0;34m,\u001b[0m\u001b[0;34m\u001b[0m\u001b[0;34m\u001b[0m\u001b[0m\n\u001b[0;32m--> 593\u001b[0;31m         compute_device)\n\u001b[0m\u001b[1;32m    594\u001b[0m \u001b[0;34m\u001b[0m\u001b[0m\n",
      "\u001b[0;32m~/anaconda3/envs/tf_gpu/lib/python3.7/site-packages/tensorflow/python/framework/ops.py\u001b[0m in \u001b[0;36m_create_op_internal\u001b[0;34m(self, op_type, inputs, dtypes, input_types, name, attrs, op_def, compute_device)\u001b[0m\n\u001b[1;32m   3484\u001b[0m           \u001b[0moriginal_op\u001b[0m\u001b[0;34m=\u001b[0m\u001b[0mself\u001b[0m\u001b[0;34m.\u001b[0m\u001b[0m_default_original_op\u001b[0m\u001b[0;34m,\u001b[0m\u001b[0;34m\u001b[0m\u001b[0;34m\u001b[0m\u001b[0m\n\u001b[0;32m-> 3485\u001b[0;31m           op_def=op_def)\n\u001b[0m\u001b[1;32m   3486\u001b[0m       \u001b[0mself\u001b[0m\u001b[0;34m.\u001b[0m\u001b[0m_create_op_helper\u001b[0m\u001b[0;34m(\u001b[0m\u001b[0mret\u001b[0m\u001b[0;34m,\u001b[0m \u001b[0mcompute_device\u001b[0m\u001b[0;34m=\u001b[0m\u001b[0mcompute_device\u001b[0m\u001b[0;34m)\u001b[0m\u001b[0;34m\u001b[0m\u001b[0;34m\u001b[0m\u001b[0m\n",
      "\u001b[0;32m~/anaconda3/envs/tf_gpu/lib/python3.7/site-packages/tensorflow/python/framework/ops.py\u001b[0m in \u001b[0;36m__init__\u001b[0;34m(self, node_def, g, inputs, output_types, control_inputs, input_types, original_op, op_def)\u001b[0m\n\u001b[1;32m   1974\u001b[0m       self._c_op = _create_c_op(self._graph, node_def, inputs,\n\u001b[0;32m-> 1975\u001b[0;31m                                 control_input_ops, op_def)\n\u001b[0m\u001b[1;32m   1976\u001b[0m       \u001b[0mname\u001b[0m \u001b[0;34m=\u001b[0m \u001b[0mcompat\u001b[0m\u001b[0;34m.\u001b[0m\u001b[0mas_str\u001b[0m\u001b[0;34m(\u001b[0m\u001b[0mnode_def\u001b[0m\u001b[0;34m.\u001b[0m\u001b[0mname\u001b[0m\u001b[0;34m)\u001b[0m\u001b[0;34m\u001b[0m\u001b[0;34m\u001b[0m\u001b[0m\n",
      "\u001b[0;32m~/anaconda3/envs/tf_gpu/lib/python3.7/site-packages/tensorflow/python/framework/ops.py\u001b[0m in \u001b[0;36m_create_c_op\u001b[0;34m(graph, node_def, inputs, control_inputs, op_def)\u001b[0m\n\u001b[1;32m   1814\u001b[0m     \u001b[0;31m# Convert to ValueError for backwards compatibility.\u001b[0m\u001b[0;34m\u001b[0m\u001b[0;34m\u001b[0m\u001b[0;34m\u001b[0m\u001b[0m\n\u001b[0;32m-> 1815\u001b[0;31m     \u001b[0;32mraise\u001b[0m \u001b[0mValueError\u001b[0m\u001b[0;34m(\u001b[0m\u001b[0mstr\u001b[0m\u001b[0;34m(\u001b[0m\u001b[0me\u001b[0m\u001b[0;34m)\u001b[0m\u001b[0;34m)\u001b[0m\u001b[0;34m\u001b[0m\u001b[0;34m\u001b[0m\u001b[0m\n\u001b[0m\u001b[1;32m   1816\u001b[0m \u001b[0;34m\u001b[0m\u001b[0m\n",
      "\u001b[0;31mValueError\u001b[0m: Dimensions must be equal, but are 75 and 50 for '{{node Sub_5}} = Sub[T=DT_FLOAT](AddV2_4, Square_2)' with input shapes: [?,75], [?,50].",
      "\nDuring handling of the above exception, another exception occurred:\n",
      "\u001b[0;31mValueError\u001b[0m                                Traceback (most recent call last)",
      "\u001b[0;32m<ipython-input-78-243392eba193>\u001b[0m in \u001b[0;36m<module>\u001b[0;34m\u001b[0m\n\u001b[1;32m     24\u001b[0m \u001b[0mreconstruction_loss\u001b[0m \u001b[0;34m=\u001b[0m \u001b[0mkeras\u001b[0m\u001b[0;34m.\u001b[0m\u001b[0mlosses\u001b[0m\u001b[0;34m.\u001b[0m\u001b[0mmse\u001b[0m\u001b[0;34m(\u001b[0m\u001b[0minput_x\u001b[0m\u001b[0;34m,\u001b[0m \u001b[0mdecoder1\u001b[0m\u001b[0;34m)\u001b[0m\u001b[0;34m\u001b[0m\u001b[0;34m\u001b[0m\u001b[0m\n\u001b[1;32m     25\u001b[0m \u001b[0;31m#reconstruction_loss = keras.losses.binary_crossentropy(data, reconstruction)\u001b[0m\u001b[0;34m\u001b[0m\u001b[0;34m\u001b[0m\u001b[0;34m\u001b[0m\u001b[0m\n\u001b[0;32m---> 26\u001b[0;31m \u001b[0mkl_loss\u001b[0m \u001b[0;34m=\u001b[0m  \u001b[0;34m(\u001b[0m\u001b[0;36m1\u001b[0m \u001b[0;34m+\u001b[0m \u001b[0mz_log_var\u001b[0m \u001b[0;34m-\u001b[0m \u001b[0mtf\u001b[0m\u001b[0;34m.\u001b[0m\u001b[0msquare\u001b[0m\u001b[0;34m(\u001b[0m\u001b[0mz_mean\u001b[0m\u001b[0;34m)\u001b[0m \u001b[0;34m-\u001b[0m \u001b[0mtf\u001b[0m\u001b[0;34m.\u001b[0m\u001b[0mexp\u001b[0m\u001b[0;34m(\u001b[0m\u001b[0mz_log_sigma\u001b[0m\u001b[0;34m)\u001b[0m\u001b[0;34m)\u001b[0m\u001b[0;34m\u001b[0m\u001b[0;34m\u001b[0m\u001b[0m\n\u001b[0m\u001b[1;32m     27\u001b[0m \u001b[0mkl_loss\u001b[0m \u001b[0;34m=\u001b[0m \u001b[0;34m-\u001b[0m\u001b[0;36m0.5\u001b[0m \u001b[0;34m*\u001b[0m \u001b[0mtf\u001b[0m\u001b[0;34m.\u001b[0m\u001b[0mreduce_mean\u001b[0m\u001b[0;34m(\u001b[0m\u001b[0mkl_loss\u001b[0m\u001b[0;34m)\u001b[0m\u001b[0;34m\u001b[0m\u001b[0;34m\u001b[0m\u001b[0m\n\u001b[1;32m     28\u001b[0m \u001b[0mbeta\u001b[0m \u001b[0;34m=\u001b[0m \u001b[0;36m0.1\u001b[0m \u001b[0;34m*\u001b[0m \u001b[0mlatent_dim\u001b[0m \u001b[0;34m/\u001b[0m \u001b[0minput_size\u001b[0m\u001b[0;34m\u001b[0m\u001b[0;34m\u001b[0m\u001b[0m\n",
      "\u001b[0;32m~/anaconda3/envs/tf_gpu/lib/python3.7/site-packages/tensorflow/python/ops/math_ops.py\u001b[0m in \u001b[0;36mbinary_op_wrapper\u001b[0;34m(x, y)\u001b[0m\n\u001b[1;32m   1138\u001b[0m             \u001b[0;32mreturn\u001b[0m \u001b[0mout\u001b[0m\u001b[0;34m\u001b[0m\u001b[0;34m\u001b[0m\u001b[0m\n\u001b[1;32m   1139\u001b[0m           \u001b[0;32mexcept\u001b[0m \u001b[0;34m(\u001b[0m\u001b[0mTypeError\u001b[0m\u001b[0;34m,\u001b[0m \u001b[0mValueError\u001b[0m\u001b[0;34m)\u001b[0m\u001b[0;34m:\u001b[0m\u001b[0;34m\u001b[0m\u001b[0;34m\u001b[0m\u001b[0m\n\u001b[0;32m-> 1140\u001b[0;31m             \u001b[0;32mraise\u001b[0m \u001b[0me\u001b[0m\u001b[0;34m\u001b[0m\u001b[0;34m\u001b[0m\u001b[0m\n\u001b[0m\u001b[1;32m   1141\u001b[0m         \u001b[0;32melse\u001b[0m\u001b[0;34m:\u001b[0m\u001b[0;34m\u001b[0m\u001b[0;34m\u001b[0m\u001b[0m\n\u001b[1;32m   1142\u001b[0m           \u001b[0;32mraise\u001b[0m\u001b[0;34m\u001b[0m\u001b[0;34m\u001b[0m\u001b[0m\n",
      "\u001b[0;32m~/anaconda3/envs/tf_gpu/lib/python3.7/site-packages/tensorflow/python/ops/math_ops.py\u001b[0m in \u001b[0;36mbinary_op_wrapper\u001b[0;34m(x, y)\u001b[0m\n\u001b[1;32m   1122\u001b[0m     \u001b[0;32mwith\u001b[0m \u001b[0mops\u001b[0m\u001b[0;34m.\u001b[0m\u001b[0mname_scope\u001b[0m\u001b[0;34m(\u001b[0m\u001b[0;32mNone\u001b[0m\u001b[0;34m,\u001b[0m \u001b[0mop_name\u001b[0m\u001b[0;34m,\u001b[0m \u001b[0;34m[\u001b[0m\u001b[0mx\u001b[0m\u001b[0;34m,\u001b[0m \u001b[0my\u001b[0m\u001b[0;34m]\u001b[0m\u001b[0;34m)\u001b[0m \u001b[0;32mas\u001b[0m \u001b[0mname\u001b[0m\u001b[0;34m:\u001b[0m\u001b[0;34m\u001b[0m\u001b[0;34m\u001b[0m\u001b[0m\n\u001b[1;32m   1123\u001b[0m       \u001b[0;32mtry\u001b[0m\u001b[0;34m:\u001b[0m\u001b[0;34m\u001b[0m\u001b[0;34m\u001b[0m\u001b[0m\n\u001b[0;32m-> 1124\u001b[0;31m         \u001b[0;32mreturn\u001b[0m \u001b[0mfunc\u001b[0m\u001b[0;34m(\u001b[0m\u001b[0mx\u001b[0m\u001b[0;34m,\u001b[0m \u001b[0my\u001b[0m\u001b[0;34m,\u001b[0m \u001b[0mname\u001b[0m\u001b[0;34m=\u001b[0m\u001b[0mname\u001b[0m\u001b[0;34m)\u001b[0m\u001b[0;34m\u001b[0m\u001b[0;34m\u001b[0m\u001b[0m\n\u001b[0m\u001b[1;32m   1125\u001b[0m       \u001b[0;32mexcept\u001b[0m \u001b[0;34m(\u001b[0m\u001b[0mTypeError\u001b[0m\u001b[0;34m,\u001b[0m \u001b[0mValueError\u001b[0m\u001b[0;34m)\u001b[0m \u001b[0;32mas\u001b[0m \u001b[0me\u001b[0m\u001b[0;34m:\u001b[0m\u001b[0;34m\u001b[0m\u001b[0;34m\u001b[0m\u001b[0m\n\u001b[1;32m   1126\u001b[0m         \u001b[0;31m# Even if dispatching the op failed, the RHS may be a tensor aware\u001b[0m\u001b[0;34m\u001b[0m\u001b[0;34m\u001b[0m\u001b[0;34m\u001b[0m\u001b[0m\n",
      "\u001b[0;32m~/anaconda3/envs/tf_gpu/lib/python3.7/site-packages/tensorflow/python/util/dispatch.py\u001b[0m in \u001b[0;36mwrapper\u001b[0;34m(*args, **kwargs)\u001b[0m\n\u001b[1;32m    199\u001b[0m     \u001b[0;34m\"\"\"Call target, and fall back on dispatchers if there is a TypeError.\"\"\"\u001b[0m\u001b[0;34m\u001b[0m\u001b[0;34m\u001b[0m\u001b[0m\n\u001b[1;32m    200\u001b[0m     \u001b[0;32mtry\u001b[0m\u001b[0;34m:\u001b[0m\u001b[0;34m\u001b[0m\u001b[0;34m\u001b[0m\u001b[0m\n\u001b[0;32m--> 201\u001b[0;31m       \u001b[0;32mreturn\u001b[0m \u001b[0mtarget\u001b[0m\u001b[0;34m(\u001b[0m\u001b[0;34m*\u001b[0m\u001b[0margs\u001b[0m\u001b[0;34m,\u001b[0m \u001b[0;34m**\u001b[0m\u001b[0mkwargs\u001b[0m\u001b[0;34m)\u001b[0m\u001b[0;34m\u001b[0m\u001b[0;34m\u001b[0m\u001b[0m\n\u001b[0m\u001b[1;32m    202\u001b[0m     \u001b[0;32mexcept\u001b[0m \u001b[0;34m(\u001b[0m\u001b[0mTypeError\u001b[0m\u001b[0;34m,\u001b[0m \u001b[0mValueError\u001b[0m\u001b[0;34m)\u001b[0m\u001b[0;34m:\u001b[0m\u001b[0;34m\u001b[0m\u001b[0;34m\u001b[0m\u001b[0m\n\u001b[1;32m    203\u001b[0m       \u001b[0;31m# Note: convert_to_eager_tensor currently raises a ValueError, not a\u001b[0m\u001b[0;34m\u001b[0m\u001b[0;34m\u001b[0m\u001b[0;34m\u001b[0m\u001b[0m\n",
      "\u001b[0;32m~/anaconda3/envs/tf_gpu/lib/python3.7/site-packages/tensorflow/python/ops/math_ops.py\u001b[0m in \u001b[0;36msubtract\u001b[0;34m(x, y, name)\u001b[0m\n\u001b[1;32m    524\u001b[0m \u001b[0;34m@\u001b[0m\u001b[0mdispatch\u001b[0m\u001b[0;34m.\u001b[0m\u001b[0madd_dispatch_support\u001b[0m\u001b[0;34m\u001b[0m\u001b[0;34m\u001b[0m\u001b[0m\n\u001b[1;32m    525\u001b[0m \u001b[0;32mdef\u001b[0m \u001b[0msubtract\u001b[0m\u001b[0;34m(\u001b[0m\u001b[0mx\u001b[0m\u001b[0;34m,\u001b[0m \u001b[0my\u001b[0m\u001b[0;34m,\u001b[0m \u001b[0mname\u001b[0m\u001b[0;34m=\u001b[0m\u001b[0;32mNone\u001b[0m\u001b[0;34m)\u001b[0m\u001b[0;34m:\u001b[0m\u001b[0;34m\u001b[0m\u001b[0;34m\u001b[0m\u001b[0m\n\u001b[0;32m--> 526\u001b[0;31m   \u001b[0;32mreturn\u001b[0m \u001b[0mgen_math_ops\u001b[0m\u001b[0;34m.\u001b[0m\u001b[0msub\u001b[0m\u001b[0;34m(\u001b[0m\u001b[0mx\u001b[0m\u001b[0;34m,\u001b[0m \u001b[0my\u001b[0m\u001b[0;34m,\u001b[0m \u001b[0mname\u001b[0m\u001b[0;34m)\u001b[0m\u001b[0;34m\u001b[0m\u001b[0;34m\u001b[0m\u001b[0m\n\u001b[0m\u001b[1;32m    527\u001b[0m \u001b[0;34m\u001b[0m\u001b[0m\n\u001b[1;32m    528\u001b[0m \u001b[0;34m\u001b[0m\u001b[0m\n",
      "\u001b[0;32m~/anaconda3/envs/tf_gpu/lib/python3.7/site-packages/tensorflow/python/ops/gen_math_ops.py\u001b[0m in \u001b[0;36msub\u001b[0;34m(x, y, name)\u001b[0m\n\u001b[1;32m  10464\u001b[0m   \u001b[0;31m# Add nodes to the TensorFlow graph.\u001b[0m\u001b[0;34m\u001b[0m\u001b[0;34m\u001b[0m\u001b[0;34m\u001b[0m\u001b[0m\n\u001b[1;32m  10465\u001b[0m   _, _, _op, _outputs = _op_def_library._apply_op_helper(\n\u001b[0;32m> 10466\u001b[0;31m         \"Sub\", x=x, y=y, name=name)\n\u001b[0m\u001b[1;32m  10467\u001b[0m   \u001b[0m_result\u001b[0m \u001b[0;34m=\u001b[0m \u001b[0m_outputs\u001b[0m\u001b[0;34m[\u001b[0m\u001b[0;34m:\u001b[0m\u001b[0;34m]\u001b[0m\u001b[0;34m\u001b[0m\u001b[0;34m\u001b[0m\u001b[0m\n\u001b[1;32m  10468\u001b[0m   \u001b[0;32mif\u001b[0m \u001b[0m_execute\u001b[0m\u001b[0;34m.\u001b[0m\u001b[0mmust_record_gradient\u001b[0m\u001b[0;34m(\u001b[0m\u001b[0;34m)\u001b[0m\u001b[0;34m:\u001b[0m\u001b[0;34m\u001b[0m\u001b[0;34m\u001b[0m\u001b[0m\n",
      "\u001b[0;32m~/anaconda3/envs/tf_gpu/lib/python3.7/site-packages/tensorflow/python/framework/op_def_library.py\u001b[0m in \u001b[0;36m_apply_op_helper\u001b[0;34m(op_type_name, name, **keywords)\u001b[0m\n\u001b[1;32m    742\u001b[0m       op = g._create_op_internal(op_type_name, inputs, dtypes=None,\n\u001b[1;32m    743\u001b[0m                                  \u001b[0mname\u001b[0m\u001b[0;34m=\u001b[0m\u001b[0mscope\u001b[0m\u001b[0;34m,\u001b[0m \u001b[0minput_types\u001b[0m\u001b[0;34m=\u001b[0m\u001b[0minput_types\u001b[0m\u001b[0;34m,\u001b[0m\u001b[0;34m\u001b[0m\u001b[0;34m\u001b[0m\u001b[0m\n\u001b[0;32m--> 744\u001b[0;31m                                  attrs=attr_protos, op_def=op_def)\n\u001b[0m\u001b[1;32m    745\u001b[0m \u001b[0;34m\u001b[0m\u001b[0m\n\u001b[1;32m    746\u001b[0m     \u001b[0;31m# `outputs` is returned as a separate return value so that the output\u001b[0m\u001b[0;34m\u001b[0m\u001b[0;34m\u001b[0m\u001b[0;34m\u001b[0m\u001b[0m\n",
      "\u001b[0;32m~/anaconda3/envs/tf_gpu/lib/python3.7/site-packages/tensorflow/python/framework/func_graph.py\u001b[0m in \u001b[0;36m_create_op_internal\u001b[0;34m(self, op_type, inputs, dtypes, input_types, name, attrs, op_def, compute_device)\u001b[0m\n\u001b[1;32m    591\u001b[0m     return super(FuncGraph, self)._create_op_internal(  # pylint: disable=protected-access\n\u001b[1;32m    592\u001b[0m         \u001b[0mop_type\u001b[0m\u001b[0;34m,\u001b[0m \u001b[0minputs\u001b[0m\u001b[0;34m,\u001b[0m \u001b[0mdtypes\u001b[0m\u001b[0;34m,\u001b[0m \u001b[0minput_types\u001b[0m\u001b[0;34m,\u001b[0m \u001b[0mname\u001b[0m\u001b[0;34m,\u001b[0m \u001b[0mattrs\u001b[0m\u001b[0;34m,\u001b[0m \u001b[0mop_def\u001b[0m\u001b[0;34m,\u001b[0m\u001b[0;34m\u001b[0m\u001b[0;34m\u001b[0m\u001b[0m\n\u001b[0;32m--> 593\u001b[0;31m         compute_device)\n\u001b[0m\u001b[1;32m    594\u001b[0m \u001b[0;34m\u001b[0m\u001b[0m\n\u001b[1;32m    595\u001b[0m   \u001b[0;32mdef\u001b[0m \u001b[0mcapture\u001b[0m\u001b[0;34m(\u001b[0m\u001b[0mself\u001b[0m\u001b[0;34m,\u001b[0m \u001b[0mtensor\u001b[0m\u001b[0;34m,\u001b[0m \u001b[0mname\u001b[0m\u001b[0;34m=\u001b[0m\u001b[0;32mNone\u001b[0m\u001b[0;34m,\u001b[0m \u001b[0mshape\u001b[0m\u001b[0;34m=\u001b[0m\u001b[0;32mNone\u001b[0m\u001b[0;34m)\u001b[0m\u001b[0;34m:\u001b[0m\u001b[0;34m\u001b[0m\u001b[0;34m\u001b[0m\u001b[0m\n",
      "\u001b[0;32m~/anaconda3/envs/tf_gpu/lib/python3.7/site-packages/tensorflow/python/framework/ops.py\u001b[0m in \u001b[0;36m_create_op_internal\u001b[0;34m(self, op_type, inputs, dtypes, input_types, name, attrs, op_def, compute_device)\u001b[0m\n\u001b[1;32m   3483\u001b[0m           \u001b[0minput_types\u001b[0m\u001b[0;34m=\u001b[0m\u001b[0minput_types\u001b[0m\u001b[0;34m,\u001b[0m\u001b[0;34m\u001b[0m\u001b[0;34m\u001b[0m\u001b[0m\n\u001b[1;32m   3484\u001b[0m           \u001b[0moriginal_op\u001b[0m\u001b[0;34m=\u001b[0m\u001b[0mself\u001b[0m\u001b[0;34m.\u001b[0m\u001b[0m_default_original_op\u001b[0m\u001b[0;34m,\u001b[0m\u001b[0;34m\u001b[0m\u001b[0;34m\u001b[0m\u001b[0m\n\u001b[0;32m-> 3485\u001b[0;31m           op_def=op_def)\n\u001b[0m\u001b[1;32m   3486\u001b[0m       \u001b[0mself\u001b[0m\u001b[0;34m.\u001b[0m\u001b[0m_create_op_helper\u001b[0m\u001b[0;34m(\u001b[0m\u001b[0mret\u001b[0m\u001b[0;34m,\u001b[0m \u001b[0mcompute_device\u001b[0m\u001b[0;34m=\u001b[0m\u001b[0mcompute_device\u001b[0m\u001b[0;34m)\u001b[0m\u001b[0;34m\u001b[0m\u001b[0;34m\u001b[0m\u001b[0m\n\u001b[1;32m   3487\u001b[0m     \u001b[0;32mreturn\u001b[0m \u001b[0mret\u001b[0m\u001b[0;34m\u001b[0m\u001b[0;34m\u001b[0m\u001b[0m\n",
      "\u001b[0;32m~/anaconda3/envs/tf_gpu/lib/python3.7/site-packages/tensorflow/python/framework/ops.py\u001b[0m in \u001b[0;36m__init__\u001b[0;34m(self, node_def, g, inputs, output_types, control_inputs, input_types, original_op, op_def)\u001b[0m\n\u001b[1;32m   1973\u001b[0m         \u001b[0mop_def\u001b[0m \u001b[0;34m=\u001b[0m \u001b[0mself\u001b[0m\u001b[0;34m.\u001b[0m\u001b[0m_graph\u001b[0m\u001b[0;34m.\u001b[0m\u001b[0m_get_op_def\u001b[0m\u001b[0;34m(\u001b[0m\u001b[0mnode_def\u001b[0m\u001b[0;34m.\u001b[0m\u001b[0mop\u001b[0m\u001b[0;34m)\u001b[0m\u001b[0;34m\u001b[0m\u001b[0;34m\u001b[0m\u001b[0m\n\u001b[1;32m   1974\u001b[0m       self._c_op = _create_c_op(self._graph, node_def, inputs,\n\u001b[0;32m-> 1975\u001b[0;31m                                 control_input_ops, op_def)\n\u001b[0m\u001b[1;32m   1976\u001b[0m       \u001b[0mname\u001b[0m \u001b[0;34m=\u001b[0m \u001b[0mcompat\u001b[0m\u001b[0;34m.\u001b[0m\u001b[0mas_str\u001b[0m\u001b[0;34m(\u001b[0m\u001b[0mnode_def\u001b[0m\u001b[0;34m.\u001b[0m\u001b[0mname\u001b[0m\u001b[0;34m)\u001b[0m\u001b[0;34m\u001b[0m\u001b[0;34m\u001b[0m\u001b[0m\n\u001b[1;32m   1977\u001b[0m     \u001b[0;31m# pylint: enable=protected-access\u001b[0m\u001b[0;34m\u001b[0m\u001b[0;34m\u001b[0m\u001b[0;34m\u001b[0m\u001b[0m\n",
      "\u001b[0;32m~/anaconda3/envs/tf_gpu/lib/python3.7/site-packages/tensorflow/python/framework/ops.py\u001b[0m in \u001b[0;36m_create_c_op\u001b[0;34m(graph, node_def, inputs, control_inputs, op_def)\u001b[0m\n\u001b[1;32m   1813\u001b[0m   \u001b[0;32mexcept\u001b[0m \u001b[0merrors\u001b[0m\u001b[0;34m.\u001b[0m\u001b[0mInvalidArgumentError\u001b[0m \u001b[0;32mas\u001b[0m \u001b[0me\u001b[0m\u001b[0;34m:\u001b[0m\u001b[0;34m\u001b[0m\u001b[0;34m\u001b[0m\u001b[0m\n\u001b[1;32m   1814\u001b[0m     \u001b[0;31m# Convert to ValueError for backwards compatibility.\u001b[0m\u001b[0;34m\u001b[0m\u001b[0;34m\u001b[0m\u001b[0;34m\u001b[0m\u001b[0m\n\u001b[0;32m-> 1815\u001b[0;31m     \u001b[0;32mraise\u001b[0m \u001b[0mValueError\u001b[0m\u001b[0;34m(\u001b[0m\u001b[0mstr\u001b[0m\u001b[0;34m(\u001b[0m\u001b[0me\u001b[0m\u001b[0;34m)\u001b[0m\u001b[0;34m)\u001b[0m\u001b[0;34m\u001b[0m\u001b[0;34m\u001b[0m\u001b[0m\n\u001b[0m\u001b[1;32m   1816\u001b[0m \u001b[0;34m\u001b[0m\u001b[0m\n\u001b[1;32m   1817\u001b[0m   \u001b[0;32mreturn\u001b[0m \u001b[0mc_op\u001b[0m\u001b[0;34m\u001b[0m\u001b[0;34m\u001b[0m\u001b[0m\n",
      "\u001b[0;31mValueError\u001b[0m: Dimensions must be equal, but are 75 and 50 for '{{node Sub_4}} = Sub[T=DT_FLOAT](AddV2_4, Square_2)' with input shapes: [?,75], [?,50]."
     ]
    }
   ],
   "source": [
    "data_reshape = data.reshape(data.shape[0], data.shape[1] * data.shape[2])\n",
    "x_train = data[0:int(data.shape[0] * 0.8)]\n",
    "x_test = data[int(data.shape[0] * 0.8):-1]\n",
    "\n",
    "timesteps = data.shape[1]\n",
    "input_dim = data.shape[2]\n",
    "latent_dim = 75\n",
    "inter_dim = 150\n",
    "\n",
    "\n",
    "def sampling(args):\n",
    "    z_mean, z_log_sigma = args\n",
    "    batch_size = tf.shape(z_mean)[0] \n",
    "    epsilon = tf.keras.backend.random_normal(\n",
    "        shape=(batch_size, latent_dim), mean=0., stddev=1.)\n",
    "    return z_mean + z_log_sigma * epsilon\n",
    "\n",
    "def vae_loss2(input_x, decoder1, z_log_sigma, z_mean):\n",
    "    \"\"\" Calculate loss = reconstruction loss + KL loss for each data in minibatch \"\"\"\n",
    "    recon = keras.losses.mse(input_x, decoder1)\n",
    "    kl = 0.5 * tf.reduce_mean(tf.exp(z_log_sigma) + tf.square(z_mean) - 1. - z_log_sigma)\n",
    "    return recon + kl\n",
    "\n",
    "reconstruction_loss = keras.losses.mse(input_x, decoder1)\n",
    "#reconstruction_loss = keras.losses.binary_crossentropy(data, reconstruction)\n",
    "kl_loss =  (1 + z_log_var - tf.square(z_mean) - tf.exp(z_log_sigma))\n",
    "kl_loss = -0.5 * tf.reduce_mean(kl_loss)\n",
    "beta = 0.01 * latent_dim / input_size\n",
    "#total_loss = reconstruction_loss +  beta * kl_loss\n",
    "total_loss = reconstruction_loss +  kl_loss\n",
    "\n",
    "\n",
    "# timesteps, features\n",
    "input_x = keras.Input(shape=(timesteps, input_dim))\n",
    "#intermediate dimension \n",
    "h = layers.RNN(inter_dim, activation='relu')(input_x)\n",
    "\n",
    "#z_layer\n",
    "z_mean = layers.Dense(latent_dim)(h)\n",
    "z_log_sigma = layers.Dense(latent_dim)(h)\n",
    "z = layers.Lambda(sampling, name = \"encode\")([z_mean, z_log_sigma])\n",
    "\n",
    "decoder1 = layers.RepeatVector(timesteps)(z)\n",
    "decoder1 = layers.RNN(inter_dim, activation='relu', return_sequences=True)(decoder1)\n",
    "decoder1 = layers.TimeDistributed(layers.Dense(input_dim))(decoder1)\n",
    "\n",
    "m = keras.Model(input_x, decoder1)\n",
    "#m.add_loss(total_loss) \n",
    "m.add_loss(vae_loss2(input_x, decoder1, z_log_sigma, z_mean)) \n",
    "m.compile(optimizer='adam')\n",
    "m.summary()"
   ]
  },
  {
   "cell_type": "code",
   "execution_count": 2,
   "metadata": {},
   "outputs": [
    {
     "name": "stdout",
     "output_type": "stream",
     "text": [
      "..........converting xyz to smiles.......\n",
      "..........converting xyz to smiles.......\n",
      " 3007 /61492"
     ]
    },
    {
     "name": "stderr",
     "output_type": "stream",
     "text": [
      "IOPub message rate exceeded.\n",
      "The notebook server will temporarily stop sending output\n",
      "to the client in order to avoid crashing it.\n",
      "To change this limit, set the config variable\n",
      "`--NotebookApp.iopub_msg_rate_limit`.\n",
      "\n",
      "Current values:\n",
      "NotebookApp.iopub_msg_rate_limit=1000.0 (msgs/sec)\n",
      "NotebookApp.rate_limit_window=3.0 (secs)\n",
      "\n"
     ]
    },
    {
     "name": "stdout",
     "output_type": "stream",
     "text": [
      " 3007 /61492"
     ]
    },
    {
     "name": "stderr",
     "output_type": "stream",
     "text": [
      "IOPub message rate exceeded.\n",
      "The notebook server will temporarily stop sending output\n",
      "to the client in order to avoid crashing it.\n",
      "To change this limit, set the config variable\n",
      "`--NotebookApp.iopub_msg_rate_limit`.\n",
      "\n",
      "Current values:\n",
      "NotebookApp.iopub_msg_rate_limit=1000.0 (msgs/sec)\n",
      "NotebookApp.rate_limit_window=3.0 (secs)\n",
      "\n"
     ]
    },
    {
     "name": "stdout",
     "output_type": "stream",
     "text": [
      " 7346 /61492"
     ]
    },
    {
     "name": "stderr",
     "output_type": "stream",
     "text": [
      "IOPub message rate exceeded.\n",
      "The notebook server will temporarily stop sending output\n",
      "to the client in order to avoid crashing it.\n",
      "To change this limit, set the config variable\n",
      "`--NotebookApp.iopub_msg_rate_limit`.\n",
      "\n",
      "Current values:\n",
      "NotebookApp.iopub_msg_rate_limit=1000.0 (msgs/sec)\n",
      "NotebookApp.rate_limit_window=3.0 (secs)\n",
      "\n"
     ]
    },
    {
     "name": "stdout",
     "output_type": "stream",
     "text": [
      " 7346 /61492"
     ]
    },
    {
     "name": "stderr",
     "output_type": "stream",
     "text": [
      "IOPub message rate exceeded.\n",
      "The notebook server will temporarily stop sending output\n",
      "to the client in order to avoid crashing it.\n",
      "To change this limit, set the config variable\n",
      "`--NotebookApp.iopub_msg_rate_limit`.\n",
      "\n",
      "Current values:\n",
      "NotebookApp.iopub_msg_rate_limit=1000.0 (msgs/sec)\n",
      "NotebookApp.rate_limit_window=3.0 (secs)\n",
      "\n"
     ]
    },
    {
     "name": "stdout",
     "output_type": "stream",
     "text": [
      " 17101 /61492"
     ]
    },
    {
     "name": "stderr",
     "output_type": "stream",
     "text": [
      "IOPub message rate exceeded.\n",
      "The notebook server will temporarily stop sending output\n",
      "to the client in order to avoid crashing it.\n",
      "To change this limit, set the config variable\n",
      "`--NotebookApp.iopub_msg_rate_limit`.\n",
      "\n",
      "Current values:\n",
      "NotebookApp.iopub_msg_rate_limit=1000.0 (msgs/sec)\n",
      "NotebookApp.rate_limit_window=3.0 (secs)\n",
      "\n"
     ]
    },
    {
     "name": "stdout",
     "output_type": "stream",
     "text": [
      " 16887 /61492"
     ]
    },
    {
     "name": "stderr",
     "output_type": "stream",
     "text": [
      "IOPub message rate exceeded.\n",
      "The notebook server will temporarily stop sending output\n",
      "to the client in order to avoid crashing it.\n",
      "To change this limit, set the config variable\n",
      "`--NotebookApp.iopub_msg_rate_limit`.\n",
      "\n",
      "Current values:\n",
      "NotebookApp.iopub_msg_rate_limit=1000.0 (msgs/sec)\n",
      "NotebookApp.rate_limit_window=3.0 (secs)\n",
      "\n"
     ]
    },
    {
     "name": "stdout",
     "output_type": "stream",
     "text": [
      " 22432 /61492"
     ]
    },
    {
     "name": "stderr",
     "output_type": "stream",
     "text": [
      "IOPub message rate exceeded.\n",
      "The notebook server will temporarily stop sending output\n",
      "to the client in order to avoid crashing it.\n",
      "To change this limit, set the config variable\n",
      "`--NotebookApp.iopub_msg_rate_limit`.\n",
      "\n",
      "Current values:\n",
      "NotebookApp.iopub_msg_rate_limit=1000.0 (msgs/sec)\n",
      "NotebookApp.rate_limit_window=3.0 (secs)\n",
      "\n"
     ]
    },
    {
     "name": "stdout",
     "output_type": "stream",
     "text": [
      " 21929 /61492"
     ]
    },
    {
     "name": "stderr",
     "output_type": "stream",
     "text": [
      "IOPub message rate exceeded.\n",
      "The notebook server will temporarily stop sending output\n",
      "to the client in order to avoid crashing it.\n",
      "To change this limit, set the config variable\n",
      "`--NotebookApp.iopub_msg_rate_limit`.\n",
      "\n",
      "Current values:\n",
      "NotebookApp.iopub_msg_rate_limit=1000.0 (msgs/sec)\n",
      "NotebookApp.rate_limit_window=3.0 (secs)\n",
      "\n"
     ]
    },
    {
     "name": "stdout",
     "output_type": "stream",
     "text": [
      " 27003 /61492"
     ]
    },
    {
     "name": "stderr",
     "output_type": "stream",
     "text": [
      "IOPub message rate exceeded.\n",
      "The notebook server will temporarily stop sending output\n",
      "to the client in order to avoid crashing it.\n",
      "To change this limit, set the config variable\n",
      "`--NotebookApp.iopub_msg_rate_limit`.\n",
      "\n",
      "Current values:\n",
      "NotebookApp.iopub_msg_rate_limit=1000.0 (msgs/sec)\n",
      "NotebookApp.rate_limit_window=3.0 (secs)\n",
      "\n"
     ]
    },
    {
     "name": "stdout",
     "output_type": "stream",
     "text": [
      " 26503 /61492"
     ]
    },
    {
     "name": "stderr",
     "output_type": "stream",
     "text": [
      "IOPub message rate exceeded.\n",
      "The notebook server will temporarily stop sending output\n",
      "to the client in order to avoid crashing it.\n",
      "To change this limit, set the config variable\n",
      "`--NotebookApp.iopub_msg_rate_limit`.\n",
      "\n",
      "Current values:\n",
      "NotebookApp.iopub_msg_rate_limit=1000.0 (msgs/sec)\n",
      "NotebookApp.rate_limit_window=3.0 (secs)\n",
      "\n"
     ]
    },
    {
     "name": "stdout",
     "output_type": "stream",
     "text": [
      " 31574 /61492"
     ]
    },
    {
     "name": "stderr",
     "output_type": "stream",
     "text": [
      "IOPub message rate exceeded.\n",
      "The notebook server will temporarily stop sending output\n",
      "to the client in order to avoid crashing it.\n",
      "To change this limit, set the config variable\n",
      "`--NotebookApp.iopub_msg_rate_limit`.\n",
      "\n",
      "Current values:\n",
      "NotebookApp.iopub_msg_rate_limit=1000.0 (msgs/sec)\n",
      "NotebookApp.rate_limit_window=3.0 (secs)\n",
      "\n"
     ]
    },
    {
     "name": "stdout",
     "output_type": "stream",
     "text": [
      " 31071 /61492"
     ]
    },
    {
     "name": "stderr",
     "output_type": "stream",
     "text": [
      "IOPub message rate exceeded.\n",
      "The notebook server will temporarily stop sending output\n",
      "to the client in order to avoid crashing it.\n",
      "To change this limit, set the config variable\n",
      "`--NotebookApp.iopub_msg_rate_limit`.\n",
      "\n",
      "Current values:\n",
      "NotebookApp.iopub_msg_rate_limit=1000.0 (msgs/sec)\n",
      "NotebookApp.rate_limit_window=3.0 (secs)\n",
      "\n"
     ]
    },
    {
     "name": "stdout",
     "output_type": "stream",
     "text": [
      " 35717 /61492"
     ]
    },
    {
     "name": "stderr",
     "output_type": "stream",
     "text": [
      "IOPub message rate exceeded.\n",
      "The notebook server will temporarily stop sending output\n",
      "to the client in order to avoid crashing it.\n",
      "To change this limit, set the config variable\n",
      "`--NotebookApp.iopub_msg_rate_limit`.\n",
      "\n",
      "Current values:\n",
      "NotebookApp.iopub_msg_rate_limit=1000.0 (msgs/sec)\n",
      "NotebookApp.rate_limit_window=3.0 (secs)\n",
      "\n"
     ]
    },
    {
     "name": "stdout",
     "output_type": "stream",
     "text": [
      " 36218 /61492"
     ]
    },
    {
     "name": "stderr",
     "output_type": "stream",
     "text": [
      "IOPub message rate exceeded.\n",
      "The notebook server will temporarily stop sending output\n",
      "to the client in order to avoid crashing it.\n",
      "To change this limit, set the config variable\n",
      "`--NotebookApp.iopub_msg_rate_limit`.\n",
      "\n",
      "Current values:\n",
      "NotebookApp.iopub_msg_rate_limit=1000.0 (msgs/sec)\n",
      "NotebookApp.rate_limit_window=3.0 (secs)\n",
      "\n"
     ]
    },
    {
     "name": "stdout",
     "output_type": "stream",
     "text": [
      " 40872 /61492"
     ]
    },
    {
     "name": "stderr",
     "output_type": "stream",
     "text": [
      "IOPub message rate exceeded.\n",
      "The notebook server will temporarily stop sending output\n",
      "to the client in order to avoid crashing it.\n",
      "To change this limit, set the config variable\n",
      "`--NotebookApp.iopub_msg_rate_limit`.\n",
      "\n",
      "Current values:\n",
      "NotebookApp.iopub_msg_rate_limit=1000.0 (msgs/sec)\n",
      "NotebookApp.rate_limit_window=3.0 (secs)\n",
      "\n"
     ]
    },
    {
     "name": "stdout",
     "output_type": "stream",
     "text": [
      " 40371 /61492"
     ]
    },
    {
     "name": "stderr",
     "output_type": "stream",
     "text": [
      "IOPub message rate exceeded.\n",
      "The notebook server will temporarily stop sending output\n",
      "to the client in order to avoid crashing it.\n",
      "To change this limit, set the config variable\n",
      "`--NotebookApp.iopub_msg_rate_limit`.\n",
      "\n",
      "Current values:\n",
      "NotebookApp.iopub_msg_rate_limit=1000.0 (msgs/sec)\n",
      "NotebookApp.rate_limit_window=3.0 (secs)\n",
      "\n"
     ]
    },
    {
     "name": "stdout",
     "output_type": "stream",
     "text": [
      " 44940 /61492"
     ]
    },
    {
     "name": "stderr",
     "output_type": "stream",
     "text": [
      "IOPub message rate exceeded.\n",
      "The notebook server will temporarily stop sending output\n",
      "to the client in order to avoid crashing it.\n",
      "To change this limit, set the config variable\n",
      "`--NotebookApp.iopub_msg_rate_limit`.\n",
      "\n",
      "Current values:\n",
      "NotebookApp.iopub_msg_rate_limit=1000.0 (msgs/sec)\n",
      "NotebookApp.rate_limit_window=3.0 (secs)\n",
      "\n"
     ]
    },
    {
     "name": "stdout",
     "output_type": "stream",
     "text": [
      " 45440 /61492"
     ]
    },
    {
     "name": "stderr",
     "output_type": "stream",
     "text": [
      "IOPub message rate exceeded.\n",
      "The notebook server will temporarily stop sending output\n",
      "to the client in order to avoid crashing it.\n",
      "To change this limit, set the config variable\n",
      "`--NotebookApp.iopub_msg_rate_limit`.\n",
      "\n",
      "Current values:\n",
      "NotebookApp.iopub_msg_rate_limit=1000.0 (msgs/sec)\n",
      "NotebookApp.rate_limit_window=3.0 (secs)\n",
      "\n"
     ]
    },
    {
     "name": "stdout",
     "output_type": "stream",
     "text": [
      " 49544 /61492"
     ]
    },
    {
     "name": "stderr",
     "output_type": "stream",
     "text": [
      "IOPub message rate exceeded.\n",
      "The notebook server will temporarily stop sending output\n",
      "to the client in order to avoid crashing it.\n",
      "To change this limit, set the config variable\n",
      "`--NotebookApp.iopub_msg_rate_limit`.\n",
      "\n",
      "Current values:\n",
      "NotebookApp.iopub_msg_rate_limit=1000.0 (msgs/sec)\n",
      "NotebookApp.rate_limit_window=3.0 (secs)\n",
      "\n"
     ]
    },
    {
     "name": "stdout",
     "output_type": "stream",
     "text": [
      " 50043 /61492"
     ]
    },
    {
     "name": "stderr",
     "output_type": "stream",
     "text": [
      "IOPub message rate exceeded.\n",
      "The notebook server will temporarily stop sending output\n",
      "to the client in order to avoid crashing it.\n",
      "To change this limit, set the config variable\n",
      "`--NotebookApp.iopub_msg_rate_limit`.\n",
      "\n",
      "Current values:\n",
      "NotebookApp.iopub_msg_rate_limit=1000.0 (msgs/sec)\n",
      "NotebookApp.rate_limit_window=3.0 (secs)\n",
      "\n"
     ]
    },
    {
     "name": "stdout",
     "output_type": "stream",
     "text": [
      " 54328 /61492"
     ]
    },
    {
     "name": "stderr",
     "output_type": "stream",
     "text": [
      "IOPub message rate exceeded.\n",
      "The notebook server will temporarily stop sending output\n",
      "to the client in order to avoid crashing it.\n",
      "To change this limit, set the config variable\n",
      "`--NotebookApp.iopub_msg_rate_limit`.\n",
      "\n",
      "Current values:\n",
      "NotebookApp.iopub_msg_rate_limit=1000.0 (msgs/sec)\n",
      "NotebookApp.rate_limit_window=3.0 (secs)\n",
      "\n"
     ]
    },
    {
     "name": "stdout",
     "output_type": "stream",
     "text": [
      " 54832 /61492"
     ]
    },
    {
     "name": "stderr",
     "output_type": "stream",
     "text": [
      "IOPub message rate exceeded.\n",
      "The notebook server will temporarily stop sending output\n",
      "to the client in order to avoid crashing it.\n",
      "To change this limit, set the config variable\n",
      "`--NotebookApp.iopub_msg_rate_limit`.\n",
      "\n",
      "Current values:\n",
      "NotebookApp.iopub_msg_rate_limit=1000.0 (msgs/sec)\n",
      "NotebookApp.rate_limit_window=3.0 (secs)\n",
      "\n"
     ]
    },
    {
     "name": "stdout",
     "output_type": "stream",
     "text": [
      " 59067 /61492"
     ]
    },
    {
     "name": "stderr",
     "output_type": "stream",
     "text": [
      "IOPub message rate exceeded.\n",
      "The notebook server will temporarily stop sending output\n",
      "to the client in order to avoid crashing it.\n",
      "To change this limit, set the config variable\n",
      "`--NotebookApp.iopub_msg_rate_limit`.\n",
      "\n",
      "Current values:\n",
      "NotebookApp.iopub_msg_rate_limit=1000.0 (msgs/sec)\n",
      "NotebookApp.rate_limit_window=3.0 (secs)\n",
      "\n"
     ]
    },
    {
     "name": "stdout",
     "output_type": "stream",
     "text": [
      " 59566 /61492"
     ]
    },
    {
     "name": "stderr",
     "output_type": "stream",
     "text": [
      "IOPub message rate exceeded.\n",
      "The notebook server will temporarily stop sending output\n",
      "to the client in order to avoid crashing it.\n",
      "To change this limit, set the config variable\n",
      "`--NotebookApp.iopub_msg_rate_limit`.\n",
      "\n",
      "Current values:\n",
      "NotebookApp.iopub_msg_rate_limit=1000.0 (msgs/sec)\n",
      "NotebookApp.rate_limit_window=3.0 (secs)\n",
      "\n"
     ]
    },
    {
     "name": "stdout",
     "output_type": "stream",
     "text": [
      " 2212 /636782"
     ]
    },
    {
     "name": "stderr",
     "output_type": "stream",
     "text": [
      "IOPub message rate exceeded.\n",
      "The notebook server will temporarily stop sending output\n",
      "to the client in order to avoid crashing it.\n",
      "To change this limit, set the config variable\n",
      "`--NotebookApp.iopub_msg_rate_limit`.\n",
      "\n",
      "Current values:\n",
      "NotebookApp.iopub_msg_rate_limit=1000.0 (msgs/sec)\n",
      "NotebookApp.rate_limit_window=3.0 (secs)\n",
      "\n"
     ]
    },
    {
     "name": "stdout",
     "output_type": "stream",
     "text": [
      " 2711 /63678"
     ]
    },
    {
     "name": "stderr",
     "output_type": "stream",
     "text": [
      "IOPub message rate exceeded.\n",
      "The notebook server will temporarily stop sending output\n",
      "to the client in order to avoid crashing it.\n",
      "To change this limit, set the config variable\n",
      "`--NotebookApp.iopub_msg_rate_limit`.\n",
      "\n",
      "Current values:\n",
      "NotebookApp.iopub_msg_rate_limit=1000.0 (msgs/sec)\n",
      "NotebookApp.rate_limit_window=3.0 (secs)\n",
      "\n"
     ]
    },
    {
     "name": "stdout",
     "output_type": "stream",
     "text": [
      " 7293 /63678"
     ]
    },
    {
     "name": "stderr",
     "output_type": "stream",
     "text": [
      "IOPub message rate exceeded.\n",
      "The notebook server will temporarily stop sending output\n",
      "to the client in order to avoid crashing it.\n",
      "To change this limit, set the config variable\n",
      "`--NotebookApp.iopub_msg_rate_limit`.\n",
      "\n",
      "Current values:\n",
      "NotebookApp.iopub_msg_rate_limit=1000.0 (msgs/sec)\n",
      "NotebookApp.rate_limit_window=3.0 (secs)\n",
      "\n",
      "IOPub message rate exceeded.\n",
      "The notebook server will temporarily stop sending output\n",
      "to the client in order to avoid crashing it.\n",
      "To change this limit, set the config variable\n",
      "`--NotebookApp.iopub_msg_rate_limit`.\n",
      "\n",
      "Current values:\n",
      "NotebookApp.iopub_msg_rate_limit=1000.0 (msgs/sec)\n",
      "NotebookApp.rate_limit_window=3.0 (secs)\n",
      "\n"
     ]
    },
    {
     "name": "stdout",
     "output_type": "stream",
     "text": [
      " 11413 /63678"
     ]
    },
    {
     "name": "stderr",
     "output_type": "stream",
     "text": [
      "IOPub message rate exceeded.\n",
      "The notebook server will temporarily stop sending output\n",
      "to the client in order to avoid crashing it.\n",
      "To change this limit, set the config variable\n",
      "`--NotebookApp.iopub_msg_rate_limit`.\n",
      "\n",
      "Current values:\n",
      "NotebookApp.iopub_msg_rate_limit=1000.0 (msgs/sec)\n",
      "NotebookApp.rate_limit_window=3.0 (secs)\n",
      "\n",
      "IOPub message rate exceeded.\n",
      "The notebook server will temporarily stop sending output\n",
      "to the client in order to avoid crashing it.\n",
      "To change this limit, set the config variable\n",
      "`--NotebookApp.iopub_msg_rate_limit`.\n",
      "\n",
      "Current values:\n",
      "NotebookApp.iopub_msg_rate_limit=1000.0 (msgs/sec)\n",
      "NotebookApp.rate_limit_window=3.0 (secs)\n",
      "\n"
     ]
    },
    {
     "name": "stdout",
     "output_type": "stream",
     "text": [
      " 16005 /63678"
     ]
    },
    {
     "name": "stderr",
     "output_type": "stream",
     "text": [
      "IOPub message rate exceeded.\n",
      "The notebook server will temporarily stop sending output\n",
      "to the client in order to avoid crashing it.\n",
      "To change this limit, set the config variable\n",
      "`--NotebookApp.iopub_msg_rate_limit`.\n",
      "\n",
      "Current values:\n",
      "NotebookApp.iopub_msg_rate_limit=1000.0 (msgs/sec)\n",
      "NotebookApp.rate_limit_window=3.0 (secs)\n",
      "\n",
      "IOPub message rate exceeded.\n",
      "The notebook server will temporarily stop sending output\n",
      "to the client in order to avoid crashing it.\n",
      "To change this limit, set the config variable\n",
      "`--NotebookApp.iopub_msg_rate_limit`.\n",
      "\n",
      "Current values:\n",
      "NotebookApp.iopub_msg_rate_limit=1000.0 (msgs/sec)\n",
      "NotebookApp.rate_limit_window=3.0 (secs)\n",
      "\n"
     ]
    },
    {
     "name": "stdout",
     "output_type": "stream",
     "text": [
      " 20520 /63678"
     ]
    },
    {
     "name": "stderr",
     "output_type": "stream",
     "text": [
      "IOPub message rate exceeded.\n",
      "The notebook server will temporarily stop sending output\n",
      "to the client in order to avoid crashing it.\n",
      "To change this limit, set the config variable\n",
      "`--NotebookApp.iopub_msg_rate_limit`.\n",
      "\n",
      "Current values:\n",
      "NotebookApp.iopub_msg_rate_limit=1000.0 (msgs/sec)\n",
      "NotebookApp.rate_limit_window=3.0 (secs)\n",
      "\n",
      "IOPub message rate exceeded.\n",
      "The notebook server will temporarily stop sending output\n",
      "to the client in order to avoid crashing it.\n",
      "To change this limit, set the config variable\n",
      "`--NotebookApp.iopub_msg_rate_limit`.\n",
      "\n",
      "Current values:\n",
      "NotebookApp.iopub_msg_rate_limit=1000.0 (msgs/sec)\n",
      "NotebookApp.rate_limit_window=3.0 (secs)\n",
      "\n"
     ]
    },
    {
     "name": "stdout",
     "output_type": "stream",
     "text": [
      " 25063 /63678"
     ]
    },
    {
     "name": "stderr",
     "output_type": "stream",
     "text": [
      "IOPub message rate exceeded.\n",
      "The notebook server will temporarily stop sending output\n",
      "to the client in order to avoid crashing it.\n",
      "To change this limit, set the config variable\n",
      "`--NotebookApp.iopub_msg_rate_limit`.\n",
      "\n",
      "Current values:\n",
      "NotebookApp.iopub_msg_rate_limit=1000.0 (msgs/sec)\n",
      "NotebookApp.rate_limit_window=3.0 (secs)\n",
      "\n",
      "IOPub message rate exceeded.\n",
      "The notebook server will temporarily stop sending output\n",
      "to the client in order to avoid crashing it.\n",
      "To change this limit, set the config variable\n",
      "`--NotebookApp.iopub_msg_rate_limit`.\n",
      "\n",
      "Current values:\n",
      "NotebookApp.iopub_msg_rate_limit=1000.0 (msgs/sec)\n",
      "NotebookApp.rate_limit_window=3.0 (secs)\n",
      "\n"
     ]
    },
    {
     "name": "stdout",
     "output_type": "stream",
     "text": [
      " 29680 /63678"
     ]
    },
    {
     "name": "stderr",
     "output_type": "stream",
     "text": [
      "IOPub message rate exceeded.\n",
      "The notebook server will temporarily stop sending output\n",
      "to the client in order to avoid crashing it.\n",
      "To change this limit, set the config variable\n",
      "`--NotebookApp.iopub_msg_rate_limit`.\n",
      "\n",
      "Current values:\n",
      "NotebookApp.iopub_msg_rate_limit=1000.0 (msgs/sec)\n",
      "NotebookApp.rate_limit_window=3.0 (secs)\n",
      "\n",
      "IOPub message rate exceeded.\n",
      "The notebook server will temporarily stop sending output\n",
      "to the client in order to avoid crashing it.\n",
      "To change this limit, set the config variable\n",
      "`--NotebookApp.iopub_msg_rate_limit`.\n",
      "\n",
      "Current values:\n",
      "NotebookApp.iopub_msg_rate_limit=1000.0 (msgs/sec)\n",
      "NotebookApp.rate_limit_window=3.0 (secs)\n",
      "\n"
     ]
    },
    {
     "name": "stdout",
     "output_type": "stream",
     "text": [
      " 34257 /63678"
     ]
    },
    {
     "name": "stderr",
     "output_type": "stream",
     "text": [
      "IOPub message rate exceeded.\n",
      "The notebook server will temporarily stop sending output\n",
      "to the client in order to avoid crashing it.\n",
      "To change this limit, set the config variable\n",
      "`--NotebookApp.iopub_msg_rate_limit`.\n",
      "\n",
      "Current values:\n",
      "NotebookApp.iopub_msg_rate_limit=1000.0 (msgs/sec)\n",
      "NotebookApp.rate_limit_window=3.0 (secs)\n",
      "\n",
      "IOPub message rate exceeded.\n",
      "The notebook server will temporarily stop sending output\n",
      "to the client in order to avoid crashing it.\n",
      "To change this limit, set the config variable\n",
      "`--NotebookApp.iopub_msg_rate_limit`.\n",
      "\n",
      "Current values:\n",
      "NotebookApp.iopub_msg_rate_limit=1000.0 (msgs/sec)\n",
      "NotebookApp.rate_limit_window=3.0 (secs)\n",
      "\n"
     ]
    },
    {
     "name": "stdout",
     "output_type": "stream",
     "text": [
      " 39463 /63678"
     ]
    },
    {
     "name": "stderr",
     "output_type": "stream",
     "text": [
      "IOPub message rate exceeded.\n",
      "The notebook server will temporarily stop sending output\n",
      "to the client in order to avoid crashing it.\n",
      "To change this limit, set the config variable\n",
      "`--NotebookApp.iopub_msg_rate_limit`.\n",
      "\n",
      "Current values:\n",
      "NotebookApp.iopub_msg_rate_limit=1000.0 (msgs/sec)\n",
      "NotebookApp.rate_limit_window=3.0 (secs)\n",
      "\n"
     ]
    },
    {
     "name": "stdout",
     "output_type": "stream",
     "text": [
      " 38964 /63678"
     ]
    },
    {
     "name": "stderr",
     "output_type": "stream",
     "text": [
      "IOPub message rate exceeded.\n",
      "The notebook server will temporarily stop sending output\n",
      "to the client in order to avoid crashing it.\n",
      "To change this limit, set the config variable\n",
      "`--NotebookApp.iopub_msg_rate_limit`.\n",
      "\n",
      "Current values:\n",
      "NotebookApp.iopub_msg_rate_limit=1000.0 (msgs/sec)\n",
      "NotebookApp.rate_limit_window=3.0 (secs)\n",
      "\n"
     ]
    },
    {
     "name": "stdout",
     "output_type": "stream",
     "text": [
      " 2697 / 61182"
     ]
    },
    {
     "name": "stderr",
     "output_type": "stream",
     "text": [
      "IOPub message rate exceeded.\n",
      "The notebook server will temporarily stop sending output\n",
      "to the client in order to avoid crashing it.\n",
      "To change this limit, set the config variable\n",
      "`--NotebookApp.iopub_msg_rate_limit`.\n",
      "\n",
      "Current values:\n",
      "NotebookApp.iopub_msg_rate_limit=1000.0 (msgs/sec)\n",
      "NotebookApp.rate_limit_window=3.0 (secs)\n",
      "\n"
     ]
    },
    {
     "name": "stdout",
     "output_type": "stream",
     "text": [
      " 2697 / 61182"
     ]
    },
    {
     "name": "stderr",
     "output_type": "stream",
     "text": [
      "IOPub message rate exceeded.\n",
      "The notebook server will temporarily stop sending output\n",
      "to the client in order to avoid crashing it.\n",
      "To change this limit, set the config variable\n",
      "`--NotebookApp.iopub_msg_rate_limit`.\n",
      "\n",
      "Current values:\n",
      "NotebookApp.iopub_msg_rate_limit=1000.0 (msgs/sec)\n",
      "NotebookApp.rate_limit_window=3.0 (secs)\n",
      "\n"
     ]
    },
    {
     "name": "stdout",
     "output_type": "stream",
     "text": [
      " 7111 / 61182"
     ]
    },
    {
     "name": "stderr",
     "output_type": "stream",
     "text": [
      "IOPub message rate exceeded.\n",
      "The notebook server will temporarily stop sending output\n",
      "to the client in order to avoid crashing it.\n",
      "To change this limit, set the config variable\n",
      "`--NotebookApp.iopub_msg_rate_limit`.\n",
      "\n",
      "Current values:\n",
      "NotebookApp.iopub_msg_rate_limit=1000.0 (msgs/sec)\n",
      "NotebookApp.rate_limit_window=3.0 (secs)\n",
      "\n"
     ]
    },
    {
     "name": "stdout",
     "output_type": "stream",
     "text": [
      " 7112 / 61182"
     ]
    },
    {
     "name": "stderr",
     "output_type": "stream",
     "text": [
      "IOPub message rate exceeded.\n",
      "The notebook server will temporarily stop sending output\n",
      "to the client in order to avoid crashing it.\n",
      "To change this limit, set the config variable\n",
      "`--NotebookApp.iopub_msg_rate_limit`.\n",
      "\n",
      "Current values:\n",
      "NotebookApp.iopub_msg_rate_limit=1000.0 (msgs/sec)\n",
      "NotebookApp.rate_limit_window=3.0 (secs)\n",
      "\n"
     ]
    },
    {
     "name": "stdout",
     "output_type": "stream",
     "text": [
      " 10660 / 61182"
     ]
    },
    {
     "name": "stderr",
     "output_type": "stream",
     "text": [
      "IOPub message rate exceeded.\n",
      "The notebook server will temporarily stop sending output\n",
      "to the client in order to avoid crashing it.\n",
      "To change this limit, set the config variable\n",
      "`--NotebookApp.iopub_msg_rate_limit`.\n",
      "\n",
      "Current values:\n",
      "NotebookApp.iopub_msg_rate_limit=1000.0 (msgs/sec)\n",
      "NotebookApp.rate_limit_window=3.0 (secs)\n",
      "\n"
     ]
    },
    {
     "name": "stdout",
     "output_type": "stream",
     "text": [
      " 10661 / 61182"
     ]
    },
    {
     "name": "stderr",
     "output_type": "stream",
     "text": [
      "IOPub message rate exceeded.\n",
      "The notebook server will temporarily stop sending output\n",
      "to the client in order to avoid crashing it.\n",
      "To change this limit, set the config variable\n",
      "`--NotebookApp.iopub_msg_rate_limit`.\n",
      "\n",
      "Current values:\n",
      "NotebookApp.iopub_msg_rate_limit=1000.0 (msgs/sec)\n",
      "NotebookApp.rate_limit_window=3.0 (secs)\n",
      "\n"
     ]
    },
    {
     "name": "stdout",
     "output_type": "stream",
     "text": [
      " 18046 / 61182"
     ]
    },
    {
     "name": "stderr",
     "output_type": "stream",
     "text": [
      "IOPub message rate exceeded.\n",
      "The notebook server will temporarily stop sending output\n",
      "to the client in order to avoid crashing it.\n",
      "To change this limit, set the config variable\n",
      "`--NotebookApp.iopub_msg_rate_limit`.\n",
      "\n",
      "Current values:\n",
      "NotebookApp.iopub_msg_rate_limit=1000.0 (msgs/sec)\n",
      "NotebookApp.rate_limit_window=3.0 (secs)\n",
      "\n"
     ]
    },
    {
     "name": "stdout",
     "output_type": "stream",
     "text": [
      " 18042 / 61182"
     ]
    },
    {
     "name": "stderr",
     "output_type": "stream",
     "text": [
      "IOPub message rate exceeded.\n",
      "The notebook server will temporarily stop sending output\n",
      "to the client in order to avoid crashing it.\n",
      "To change this limit, set the config variable\n",
      "`--NotebookApp.iopub_msg_rate_limit`.\n",
      "\n",
      "Current values:\n",
      "NotebookApp.iopub_msg_rate_limit=1000.0 (msgs/sec)\n",
      "NotebookApp.rate_limit_window=3.0 (secs)\n",
      "\n"
     ]
    },
    {
     "name": "stdout",
     "output_type": "stream",
     "text": [
      " 21766 / 61182"
     ]
    },
    {
     "name": "stderr",
     "output_type": "stream",
     "text": [
      "IOPub message rate exceeded.\n",
      "The notebook server will temporarily stop sending output\n",
      "to the client in order to avoid crashing it.\n",
      "To change this limit, set the config variable\n",
      "`--NotebookApp.iopub_msg_rate_limit`.\n",
      "\n",
      "Current values:\n",
      "NotebookApp.iopub_msg_rate_limit=1000.0 (msgs/sec)\n",
      "NotebookApp.rate_limit_window=3.0 (secs)\n",
      "\n"
     ]
    },
    {
     "name": "stdout",
     "output_type": "stream",
     "text": [
      " 21769 / 61182"
     ]
    },
    {
     "name": "stderr",
     "output_type": "stream",
     "text": [
      "IOPub message rate exceeded.\n",
      "The notebook server will temporarily stop sending output\n",
      "to the client in order to avoid crashing it.\n",
      "To change this limit, set the config variable\n",
      "`--NotebookApp.iopub_msg_rate_limit`.\n",
      "\n",
      "Current values:\n",
      "NotebookApp.iopub_msg_rate_limit=1000.0 (msgs/sec)\n",
      "NotebookApp.rate_limit_window=3.0 (secs)\n",
      "\n"
     ]
    },
    {
     "name": "stdout",
     "output_type": "stream",
     "text": [
      " 25587 / 61182"
     ]
    },
    {
     "name": "stderr",
     "output_type": "stream",
     "text": [
      "IOPub message rate exceeded.\n",
      "The notebook server will temporarily stop sending output\n",
      "to the client in order to avoid crashing it.\n",
      "To change this limit, set the config variable\n",
      "`--NotebookApp.iopub_msg_rate_limit`.\n",
      "\n",
      "Current values:\n",
      "NotebookApp.iopub_msg_rate_limit=1000.0 (msgs/sec)\n",
      "NotebookApp.rate_limit_window=3.0 (secs)\n",
      "\n"
     ]
    },
    {
     "name": "stdout",
     "output_type": "stream",
     "text": [
      " 25589 / 61182"
     ]
    },
    {
     "name": "stderr",
     "output_type": "stream",
     "text": [
      "IOPub message rate exceeded.\n",
      "The notebook server will temporarily stop sending output\n",
      "to the client in order to avoid crashing it.\n",
      "To change this limit, set the config variable\n",
      "`--NotebookApp.iopub_msg_rate_limit`.\n",
      "\n",
      "Current values:\n",
      "NotebookApp.iopub_msg_rate_limit=1000.0 (msgs/sec)\n",
      "NotebookApp.rate_limit_window=3.0 (secs)\n",
      "\n"
     ]
    },
    {
     "name": "stdout",
     "output_type": "stream",
     "text": [
      " 29453 / 61182"
     ]
    },
    {
     "name": "stderr",
     "output_type": "stream",
     "text": [
      "IOPub message rate exceeded.\n",
      "The notebook server will temporarily stop sending output\n",
      "to the client in order to avoid crashing it.\n",
      "To change this limit, set the config variable\n",
      "`--NotebookApp.iopub_msg_rate_limit`.\n",
      "\n",
      "Current values:\n",
      "NotebookApp.iopub_msg_rate_limit=1000.0 (msgs/sec)\n",
      "NotebookApp.rate_limit_window=3.0 (secs)\n",
      "\n"
     ]
    },
    {
     "name": "stdout",
     "output_type": "stream",
     "text": [
      " 29455 / 61182"
     ]
    },
    {
     "name": "stderr",
     "output_type": "stream",
     "text": [
      "IOPub message rate exceeded.\n",
      "The notebook server will temporarily stop sending output\n",
      "to the client in order to avoid crashing it.\n",
      "To change this limit, set the config variable\n",
      "`--NotebookApp.iopub_msg_rate_limit`.\n",
      "\n",
      "Current values:\n",
      "NotebookApp.iopub_msg_rate_limit=1000.0 (msgs/sec)\n",
      "NotebookApp.rate_limit_window=3.0 (secs)\n",
      "\n"
     ]
    },
    {
     "name": "stdout",
     "output_type": "stream",
     "text": [
      " 33232 / 61182"
     ]
    },
    {
     "name": "stderr",
     "output_type": "stream",
     "text": [
      "IOPub message rate exceeded.\n",
      "The notebook server will temporarily stop sending output\n",
      "to the client in order to avoid crashing it.\n",
      "To change this limit, set the config variable\n",
      "`--NotebookApp.iopub_msg_rate_limit`.\n",
      "\n",
      "Current values:\n",
      "NotebookApp.iopub_msg_rate_limit=1000.0 (msgs/sec)\n",
      "NotebookApp.rate_limit_window=3.0 (secs)\n",
      "\n"
     ]
    },
    {
     "name": "stdout",
     "output_type": "stream",
     "text": [
      " 33234 / 61182"
     ]
    },
    {
     "name": "stderr",
     "output_type": "stream",
     "text": [
      "IOPub message rate exceeded.\n",
      "The notebook server will temporarily stop sending output\n",
      "to the client in order to avoid crashing it.\n",
      "To change this limit, set the config variable\n",
      "`--NotebookApp.iopub_msg_rate_limit`.\n",
      "\n",
      "Current values:\n",
      "NotebookApp.iopub_msg_rate_limit=1000.0 (msgs/sec)\n",
      "NotebookApp.rate_limit_window=3.0 (secs)\n",
      "\n"
     ]
    },
    {
     "name": "stdout",
     "output_type": "stream",
     "text": [
      " 40607 / 61182"
     ]
    },
    {
     "name": "stderr",
     "output_type": "stream",
     "text": [
      "IOPub message rate exceeded.\n",
      "The notebook server will temporarily stop sending output\n",
      "to the client in order to avoid crashing it.\n",
      "To change this limit, set the config variable\n",
      "`--NotebookApp.iopub_msg_rate_limit`.\n",
      "\n",
      "Current values:\n",
      "NotebookApp.iopub_msg_rate_limit=1000.0 (msgs/sec)\n",
      "NotebookApp.rate_limit_window=3.0 (secs)\n",
      "\n"
     ]
    },
    {
     "name": "stdout",
     "output_type": "stream",
     "text": [
      "\r",
      " 40607 / 61182"
     ]
    },
    {
     "name": "stderr",
     "output_type": "stream",
     "text": [
      "IOPub message rate exceeded.\n",
      "The notebook server will temporarily stop sending output\n",
      "to the client in order to avoid crashing it.\n",
      "To change this limit, set the config variable\n",
      "`--NotebookApp.iopub_msg_rate_limit`.\n",
      "\n",
      "Current values:\n",
      "NotebookApp.iopub_msg_rate_limit=1000.0 (msgs/sec)\n",
      "NotebookApp.rate_limit_window=3.0 (secs)\n",
      "\n"
     ]
    },
    {
     "name": "stdout",
     "output_type": "stream",
     "text": [
      " 44297 / 61182"
     ]
    },
    {
     "name": "stderr",
     "output_type": "stream",
     "text": [
      "IOPub message rate exceeded.\n",
      "The notebook server will temporarily stop sending output\n",
      "to the client in order to avoid crashing it.\n",
      "To change this limit, set the config variable\n",
      "`--NotebookApp.iopub_msg_rate_limit`.\n",
      "\n",
      "Current values:\n",
      "NotebookApp.iopub_msg_rate_limit=1000.0 (msgs/sec)\n",
      "NotebookApp.rate_limit_window=3.0 (secs)\n",
      "\n"
     ]
    },
    {
     "name": "stdout",
     "output_type": "stream",
     "text": [
      " 44298 / 61182"
     ]
    },
    {
     "name": "stderr",
     "output_type": "stream",
     "text": [
      "IOPub message rate exceeded.\n",
      "The notebook server will temporarily stop sending output\n",
      "to the client in order to avoid crashing it.\n",
      "To change this limit, set the config variable\n",
      "`--NotebookApp.iopub_msg_rate_limit`.\n",
      "\n",
      "Current values:\n",
      "NotebookApp.iopub_msg_rate_limit=1000.0 (msgs/sec)\n",
      "NotebookApp.rate_limit_window=3.0 (secs)\n",
      "\n"
     ]
    },
    {
     "name": "stdout",
     "output_type": "stream",
     "text": [
      " 49701 / 61182"
     ]
    },
    {
     "name": "stderr",
     "output_type": "stream",
     "text": [
      "IOPub message rate exceeded.\n",
      "The notebook server will temporarily stop sending output\n",
      "to the client in order to avoid crashing it.\n",
      "To change this limit, set the config variable\n",
      "`--NotebookApp.iopub_msg_rate_limit`.\n",
      "\n",
      "Current values:\n",
      "NotebookApp.iopub_msg_rate_limit=1000.0 (msgs/sec)\n",
      "NotebookApp.rate_limit_window=3.0 (secs)\n",
      "\n"
     ]
    },
    {
     "name": "stdout",
     "output_type": "stream",
     "text": [
      " 49702 / 61182"
     ]
    },
    {
     "name": "stderr",
     "output_type": "stream",
     "text": [
      "IOPub message rate exceeded.\n",
      "The notebook server will temporarily stop sending output\n",
      "to the client in order to avoid crashing it.\n",
      "To change this limit, set the config variable\n",
      "`--NotebookApp.iopub_msg_rate_limit`.\n",
      "\n",
      "Current values:\n",
      "NotebookApp.iopub_msg_rate_limit=1000.0 (msgs/sec)\n",
      "NotebookApp.rate_limit_window=3.0 (secs)\n",
      "\n"
     ]
    },
    {
     "name": "stdout",
     "output_type": "stream",
     "text": [
      " 53429 / 61182"
     ]
    },
    {
     "name": "stderr",
     "output_type": "stream",
     "text": [
      "IOPub message rate exceeded.\n",
      "The notebook server will temporarily stop sending output\n",
      "to the client in order to avoid crashing it.\n",
      "To change this limit, set the config variable\n",
      "`--NotebookApp.iopub_msg_rate_limit`.\n",
      "\n",
      "Current values:\n",
      "NotebookApp.iopub_msg_rate_limit=1000.0 (msgs/sec)\n",
      "NotebookApp.rate_limit_window=3.0 (secs)\n",
      "\n"
     ]
    },
    {
     "name": "stdout",
     "output_type": "stream",
     "text": [
      " 53430 / 61182"
     ]
    },
    {
     "name": "stderr",
     "output_type": "stream",
     "text": [
      "IOPub message rate exceeded.\n",
      "The notebook server will temporarily stop sending output\n",
      "to the client in order to avoid crashing it.\n",
      "To change this limit, set the config variable\n",
      "`--NotebookApp.iopub_msg_rate_limit`.\n",
      "\n",
      "Current values:\n",
      "NotebookApp.iopub_msg_rate_limit=1000.0 (msgs/sec)\n",
      "NotebookApp.rate_limit_window=3.0 (secs)\n",
      "\n"
     ]
    },
    {
     "name": "stdout",
     "output_type": "stream",
     "text": [
      " 57235 / 61182"
     ]
    },
    {
     "name": "stderr",
     "output_type": "stream",
     "text": [
      "IOPub message rate exceeded.\n",
      "The notebook server will temporarily stop sending output\n",
      "to the client in order to avoid crashing it.\n",
      "To change this limit, set the config variable\n",
      "`--NotebookApp.iopub_msg_rate_limit`.\n",
      "\n",
      "Current values:\n",
      "NotebookApp.iopub_msg_rate_limit=1000.0 (msgs/sec)\n",
      "NotebookApp.rate_limit_window=3.0 (secs)\n",
      "\n",
      "IOPub message rate exceeded.\n",
      "The notebook server will temporarily stop sending output\n",
      "to the client in order to avoid crashing it.\n",
      "To change this limit, set the config variable\n",
      "`--NotebookApp.iopub_msg_rate_limit`.\n",
      "\n",
      "Current values:\n",
      "NotebookApp.iopub_msg_rate_limit=1000.0 (msgs/sec)\n",
      "NotebookApp.rate_limit_window=3.0 (secs)\n",
      "\n"
     ]
    },
    {
     "name": "stdout",
     "output_type": "stream",
     "text": [
      " 61181 / 61182\n",
      "\n",
      "smiles length: 61180\n",
      "\n",
      "\n",
      " 61181 / 61182\n",
      "\n",
      "smiles length: 61180\n",
      "\n",
      "\n",
      " 49 /61180"
     ]
    },
    {
     "name": "stderr",
     "output_type": "stream",
     "text": [
      "IOPub message rate exceeded.\n",
      "The notebook server will temporarily stop sending output\n",
      "to the client in order to avoid crashing it.\n",
      "To change this limit, set the config variable\n",
      "`--NotebookApp.iopub_msg_rate_limit`.\n",
      "\n",
      "Current values:\n",
      "NotebookApp.iopub_msg_rate_limit=1000.0 (msgs/sec)\n",
      "NotebookApp.rate_limit_window=3.0 (secs)\n",
      "\n"
     ]
    },
    {
     "name": "stdout",
     "output_type": "stream",
     "text": [
      " 50 /61180"
     ]
    },
    {
     "name": "stderr",
     "output_type": "stream",
     "text": [
      "IOPub message rate exceeded.\n",
      "The notebook server will temporarily stop sending output\n",
      "to the client in order to avoid crashing it.\n",
      "To change this limit, set the config variable\n",
      "`--NotebookApp.iopub_msg_rate_limit`.\n",
      "\n",
      "Current values:\n",
      "NotebookApp.iopub_msg_rate_limit=1000.0 (msgs/sec)\n",
      "NotebookApp.rate_limit_window=3.0 (secs)\n",
      "\n"
     ]
    },
    {
     "name": "stdout",
     "output_type": "stream",
     "text": [
      " 61178 /6118058183\n",
      "58183\n",
      "58183\n",
      "58183\n",
      "58183\n",
      "58183\n",
      "58183\n",
      "58183\n",
      "58183\n",
      "58183\n"
     ]
    }
   ],
   "source": [
    "\n",
    "from utils.selfies_util import selfies,smile_to_hot, smiles,\\\n",
    "multiple_smile_to_hot, selfies_to_hot, multiple_selfies_to_hot,\\\n",
    "get_selfie_and_smiles_encodings_for_dataset, compare_equality, tanimoto_dist\n",
    "\n",
    "smiles_co2, ret, homo, homo1, diff = selfies()"
   ]
  },
  {
   "cell_type": "code",
   "execution_count": 3,
   "metadata": {},
   "outputs": [
    {
     "name": "stdout",
     "output_type": "stream",
     "text": [
      "extracting smiles....\n",
      "extracting smiles....\n",
      " 2999 / 133884"
     ]
    },
    {
     "name": "stderr",
     "output_type": "stream",
     "text": [
      "IOPub message rate exceeded.\n",
      "The notebook server will temporarily stop sending output\n",
      "to the client in order to avoid crashing it.\n",
      "To change this limit, set the config variable\n",
      "`--NotebookApp.iopub_msg_rate_limit`.\n",
      "\n",
      "Current values:\n",
      "NotebookApp.iopub_msg_rate_limit=1000.0 (msgs/sec)\n",
      "NotebookApp.rate_limit_window=3.0 (secs)\n",
      "\n"
     ]
    },
    {
     "name": "stdout",
     "output_type": "stream",
     "text": [
      " 2999 / 133884"
     ]
    },
    {
     "name": "stderr",
     "output_type": "stream",
     "text": [
      "IOPub message rate exceeded.\n",
      "The notebook server will temporarily stop sending output\n",
      "to the client in order to avoid crashing it.\n",
      "To change this limit, set the config variable\n",
      "`--NotebookApp.iopub_msg_rate_limit`.\n",
      "\n",
      "Current values:\n",
      "NotebookApp.iopub_msg_rate_limit=1000.0 (msgs/sec)\n",
      "NotebookApp.rate_limit_window=3.0 (secs)\n",
      "\n"
     ]
    },
    {
     "name": "stdout",
     "output_type": "stream",
     "text": [
      " 7461 / 133884"
     ]
    },
    {
     "name": "stderr",
     "output_type": "stream",
     "text": [
      "IOPub message rate exceeded.\n",
      "The notebook server will temporarily stop sending output\n",
      "to the client in order to avoid crashing it.\n",
      "To change this limit, set the config variable\n",
      "`--NotebookApp.iopub_msg_rate_limit`.\n",
      "\n",
      "Current values:\n",
      "NotebookApp.iopub_msg_rate_limit=1000.0 (msgs/sec)\n",
      "NotebookApp.rate_limit_window=3.0 (secs)\n",
      "\n"
     ]
    },
    {
     "name": "stdout",
     "output_type": "stream",
     "text": [
      " 7461 / 133884"
     ]
    },
    {
     "name": "stderr",
     "output_type": "stream",
     "text": [
      "IOPub message rate exceeded.\n",
      "The notebook server will temporarily stop sending output\n",
      "to the client in order to avoid crashing it.\n",
      "To change this limit, set the config variable\n",
      "`--NotebookApp.iopub_msg_rate_limit`.\n",
      "\n",
      "Current values:\n",
      "NotebookApp.iopub_msg_rate_limit=1000.0 (msgs/sec)\n",
      "NotebookApp.rate_limit_window=3.0 (secs)\n",
      "\n"
     ]
    },
    {
     "name": "stdout",
     "output_type": "stream",
     "text": [
      " 11966 / 133884"
     ]
    },
    {
     "name": "stderr",
     "output_type": "stream",
     "text": [
      "IOPub message rate exceeded.\n",
      "The notebook server will temporarily stop sending output\n",
      "to the client in order to avoid crashing it.\n",
      "To change this limit, set the config variable\n",
      "`--NotebookApp.iopub_msg_rate_limit`.\n",
      "\n",
      "Current values:\n",
      "NotebookApp.iopub_msg_rate_limit=1000.0 (msgs/sec)\n",
      "NotebookApp.rate_limit_window=3.0 (secs)\n",
      "\n"
     ]
    },
    {
     "name": "stdout",
     "output_type": "stream",
     "text": [
      " 11966 / 133884"
     ]
    },
    {
     "name": "stderr",
     "output_type": "stream",
     "text": [
      "IOPub message rate exceeded.\n",
      "The notebook server will temporarily stop sending output\n",
      "to the client in order to avoid crashing it.\n",
      "To change this limit, set the config variable\n",
      "`--NotebookApp.iopub_msg_rate_limit`.\n",
      "\n",
      "Current values:\n",
      "NotebookApp.iopub_msg_rate_limit=1000.0 (msgs/sec)\n",
      "NotebookApp.rate_limit_window=3.0 (secs)\n",
      "\n"
     ]
    },
    {
     "name": "stdout",
     "output_type": "stream",
     "text": [
      " 16505 / 133884"
     ]
    },
    {
     "name": "stderr",
     "output_type": "stream",
     "text": [
      "IOPub message rate exceeded.\n",
      "The notebook server will temporarily stop sending output\n",
      "to the client in order to avoid crashing it.\n",
      "To change this limit, set the config variable\n",
      "`--NotebookApp.iopub_msg_rate_limit`.\n",
      "\n",
      "Current values:\n",
      "NotebookApp.iopub_msg_rate_limit=1000.0 (msgs/sec)\n",
      "NotebookApp.rate_limit_window=3.0 (secs)\n",
      "\n"
     ]
    },
    {
     "name": "stdout",
     "output_type": "stream",
     "text": [
      " 16505 / 133884"
     ]
    },
    {
     "name": "stderr",
     "output_type": "stream",
     "text": [
      "IOPub message rate exceeded.\n",
      "The notebook server will temporarily stop sending output\n",
      "to the client in order to avoid crashing it.\n",
      "To change this limit, set the config variable\n",
      "`--NotebookApp.iopub_msg_rate_limit`.\n",
      "\n",
      "Current values:\n",
      "NotebookApp.iopub_msg_rate_limit=1000.0 (msgs/sec)\n",
      "NotebookApp.rate_limit_window=3.0 (secs)\n",
      "\n"
     ]
    },
    {
     "name": "stdout",
     "output_type": "stream",
     "text": [
      " 21105 / 133884"
     ]
    },
    {
     "name": "stderr",
     "output_type": "stream",
     "text": [
      "IOPub message rate exceeded.\n",
      "The notebook server will temporarily stop sending output\n",
      "to the client in order to avoid crashing it.\n",
      "To change this limit, set the config variable\n",
      "`--NotebookApp.iopub_msg_rate_limit`.\n",
      "\n",
      "Current values:\n",
      "NotebookApp.iopub_msg_rate_limit=1000.0 (msgs/sec)\n",
      "NotebookApp.rate_limit_window=3.0 (secs)\n",
      "\n"
     ]
    },
    {
     "name": "stdout",
     "output_type": "stream",
     "text": [
      " 21105 / 133884"
     ]
    },
    {
     "name": "stderr",
     "output_type": "stream",
     "text": [
      "IOPub message rate exceeded.\n",
      "The notebook server will temporarily stop sending output\n",
      "to the client in order to avoid crashing it.\n",
      "To change this limit, set the config variable\n",
      "`--NotebookApp.iopub_msg_rate_limit`.\n",
      "\n",
      "Current values:\n",
      "NotebookApp.iopub_msg_rate_limit=1000.0 (msgs/sec)\n",
      "NotebookApp.rate_limit_window=3.0 (secs)\n",
      "\n"
     ]
    },
    {
     "name": "stdout",
     "output_type": "stream",
     "text": [
      " 25706 / 133884"
     ]
    },
    {
     "name": "stderr",
     "output_type": "stream",
     "text": [
      "IOPub message rate exceeded.\n",
      "The notebook server will temporarily stop sending output\n",
      "to the client in order to avoid crashing it.\n",
      "To change this limit, set the config variable\n",
      "`--NotebookApp.iopub_msg_rate_limit`.\n",
      "\n",
      "Current values:\n",
      "NotebookApp.iopub_msg_rate_limit=1000.0 (msgs/sec)\n",
      "NotebookApp.rate_limit_window=3.0 (secs)\n",
      "\n"
     ]
    },
    {
     "name": "stdout",
     "output_type": "stream",
     "text": [
      " 25706 / 133884"
     ]
    },
    {
     "name": "stderr",
     "output_type": "stream",
     "text": [
      "IOPub message rate exceeded.\n",
      "The notebook server will temporarily stop sending output\n",
      "to the client in order to avoid crashing it.\n",
      "To change this limit, set the config variable\n",
      "`--NotebookApp.iopub_msg_rate_limit`.\n",
      "\n",
      "Current values:\n",
      "NotebookApp.iopub_msg_rate_limit=1000.0 (msgs/sec)\n",
      "NotebookApp.rate_limit_window=3.0 (secs)\n",
      "\n"
     ]
    },
    {
     "name": "stdout",
     "output_type": "stream",
     "text": [
      " 30429 / 133884"
     ]
    },
    {
     "name": "stderr",
     "output_type": "stream",
     "text": [
      "IOPub message rate exceeded.\n",
      "The notebook server will temporarily stop sending output\n",
      "to the client in order to avoid crashing it.\n",
      "To change this limit, set the config variable\n",
      "`--NotebookApp.iopub_msg_rate_limit`.\n",
      "\n",
      "Current values:\n",
      "NotebookApp.iopub_msg_rate_limit=1000.0 (msgs/sec)\n",
      "NotebookApp.rate_limit_window=3.0 (secs)\n",
      "\n"
     ]
    },
    {
     "name": "stdout",
     "output_type": "stream",
     "text": [
      " 30429 / 133884"
     ]
    },
    {
     "name": "stderr",
     "output_type": "stream",
     "text": [
      "IOPub message rate exceeded.\n",
      "The notebook server will temporarily stop sending output\n",
      "to the client in order to avoid crashing it.\n",
      "To change this limit, set the config variable\n",
      "`--NotebookApp.iopub_msg_rate_limit`.\n",
      "\n",
      "Current values:\n",
      "NotebookApp.iopub_msg_rate_limit=1000.0 (msgs/sec)\n",
      "NotebookApp.rate_limit_window=3.0 (secs)\n",
      "\n"
     ]
    },
    {
     "name": "stdout",
     "output_type": "stream",
     "text": [
      " 42558 / 133884"
     ]
    },
    {
     "name": "stderr",
     "output_type": "stream",
     "text": [
      "IOPub message rate exceeded.\n",
      "The notebook server will temporarily stop sending output\n",
      "to the client in order to avoid crashing it.\n",
      "To change this limit, set the config variable\n",
      "`--NotebookApp.iopub_msg_rate_limit`.\n",
      "\n",
      "Current values:\n",
      "NotebookApp.iopub_msg_rate_limit=1000.0 (msgs/sec)\n",
      "NotebookApp.rate_limit_window=3.0 (secs)\n",
      "\n"
     ]
    },
    {
     "name": "stdout",
     "output_type": "stream",
     "text": [
      " 41611 / 133884"
     ]
    },
    {
     "name": "stderr",
     "output_type": "stream",
     "text": [
      "IOPub message rate exceeded.\n",
      "The notebook server will temporarily stop sending output\n",
      "to the client in order to avoid crashing it.\n",
      "To change this limit, set the config variable\n",
      "`--NotebookApp.iopub_msg_rate_limit`.\n",
      "\n",
      "Current values:\n",
      "NotebookApp.iopub_msg_rate_limit=1000.0 (msgs/sec)\n",
      "NotebookApp.rate_limit_window=3.0 (secs)\n",
      "\n"
     ]
    },
    {
     "name": "stdout",
     "output_type": "stream",
     "text": [
      " 53138 / 133884"
     ]
    },
    {
     "name": "stderr",
     "output_type": "stream",
     "text": [
      "IOPub message rate exceeded.\n",
      "The notebook server will temporarily stop sending output\n",
      "to the client in order to avoid crashing it.\n",
      "To change this limit, set the config variable\n",
      "`--NotebookApp.iopub_msg_rate_limit`.\n",
      "\n",
      "Current values:\n",
      "NotebookApp.iopub_msg_rate_limit=1000.0 (msgs/sec)\n",
      "NotebookApp.rate_limit_window=3.0 (secs)\n",
      "\n"
     ]
    },
    {
     "name": "stdout",
     "output_type": "stream",
     "text": [
      " 52405 / 133884"
     ]
    },
    {
     "name": "stderr",
     "output_type": "stream",
     "text": [
      "IOPub message rate exceeded.\n",
      "The notebook server will temporarily stop sending output\n",
      "to the client in order to avoid crashing it.\n",
      "To change this limit, set the config variable\n",
      "`--NotebookApp.iopub_msg_rate_limit`.\n",
      "\n",
      "Current values:\n",
      "NotebookApp.iopub_msg_rate_limit=1000.0 (msgs/sec)\n",
      "NotebookApp.rate_limit_window=3.0 (secs)\n",
      "\n"
     ]
    },
    {
     "name": "stdout",
     "output_type": "stream",
     "text": [
      " 58314 / 133884"
     ]
    },
    {
     "name": "stderr",
     "output_type": "stream",
     "text": [
      "IOPub message rate exceeded.\n",
      "The notebook server will temporarily stop sending output\n",
      "to the client in order to avoid crashing it.\n",
      "To change this limit, set the config variable\n",
      "`--NotebookApp.iopub_msg_rate_limit`.\n",
      "\n",
      "Current values:\n",
      "NotebookApp.iopub_msg_rate_limit=1000.0 (msgs/sec)\n",
      "NotebookApp.rate_limit_window=3.0 (secs)\n",
      "\n"
     ]
    },
    {
     "name": "stdout",
     "output_type": "stream",
     "text": [
      " 61237 / 133884"
     ]
    },
    {
     "name": "stderr",
     "output_type": "stream",
     "text": [
      "IOPub message rate exceeded.\n",
      "The notebook server will temporarily stop sending output\n",
      "to the client in order to avoid crashing it.\n",
      "To change this limit, set the config variable\n",
      "`--NotebookApp.iopub_msg_rate_limit`.\n",
      "\n",
      "Current values:\n",
      "NotebookApp.iopub_msg_rate_limit=1000.0 (msgs/sec)\n",
      "NotebookApp.rate_limit_window=3.0 (secs)\n",
      "\n"
     ]
    },
    {
     "name": "stdout",
     "output_type": "stream",
     "text": [
      " 69108 / 133884"
     ]
    },
    {
     "name": "stderr",
     "output_type": "stream",
     "text": [
      "IOPub message rate exceeded.\n",
      "The notebook server will temporarily stop sending output\n",
      "to the client in order to avoid crashing it.\n",
      "To change this limit, set the config variable\n",
      "`--NotebookApp.iopub_msg_rate_limit`.\n",
      "\n",
      "Current values:\n",
      "NotebookApp.iopub_msg_rate_limit=1000.0 (msgs/sec)\n",
      "NotebookApp.rate_limit_window=3.0 (secs)\n",
      "\n"
     ]
    },
    {
     "name": "stdout",
     "output_type": "stream",
     "text": [
      "\r",
      " 70082 / 133884"
     ]
    },
    {
     "name": "stderr",
     "output_type": "stream",
     "text": [
      "IOPub message rate exceeded.\n",
      "The notebook server will temporarily stop sending output\n",
      "to the client in order to avoid crashing it.\n",
      "To change this limit, set the config variable\n",
      "`--NotebookApp.iopub_msg_rate_limit`.\n",
      "\n",
      "Current values:\n",
      "NotebookApp.iopub_msg_rate_limit=1000.0 (msgs/sec)\n",
      "NotebookApp.rate_limit_window=3.0 (secs)\n",
      "\n"
     ]
    },
    {
     "name": "stdout",
     "output_type": "stream",
     "text": [
      " 81318 / 133884"
     ]
    },
    {
     "name": "stderr",
     "output_type": "stream",
     "text": [
      "IOPub message rate exceeded.\n",
      "The notebook server will temporarily stop sending output\n",
      "to the client in order to avoid crashing it.\n",
      "To change this limit, set the config variable\n",
      "`--NotebookApp.iopub_msg_rate_limit`.\n",
      "\n",
      "Current values:\n",
      "NotebookApp.iopub_msg_rate_limit=1000.0 (msgs/sec)\n",
      "NotebookApp.rate_limit_window=3.0 (secs)\n",
      "\n"
     ]
    },
    {
     "name": "stdout",
     "output_type": "stream",
     "text": [
      " 78847 / 133884"
     ]
    },
    {
     "name": "stderr",
     "output_type": "stream",
     "text": [
      "IOPub message rate exceeded.\n",
      "The notebook server will temporarily stop sending output\n",
      "to the client in order to avoid crashing it.\n",
      "To change this limit, set the config variable\n",
      "`--NotebookApp.iopub_msg_rate_limit`.\n",
      "\n",
      "Current values:\n",
      "NotebookApp.iopub_msg_rate_limit=1000.0 (msgs/sec)\n",
      "NotebookApp.rate_limit_window=3.0 (secs)\n",
      "\n"
     ]
    },
    {
     "name": "stdout",
     "output_type": "stream",
     "text": [
      " 91048 / 133884"
     ]
    },
    {
     "name": "stderr",
     "output_type": "stream",
     "text": [
      "IOPub message rate exceeded.\n",
      "The notebook server will temporarily stop sending output\n",
      "to the client in order to avoid crashing it.\n",
      "To change this limit, set the config variable\n",
      "`--NotebookApp.iopub_msg_rate_limit`.\n",
      "\n",
      "Current values:\n",
      "NotebookApp.iopub_msg_rate_limit=1000.0 (msgs/sec)\n",
      "NotebookApp.rate_limit_window=3.0 (secs)\n",
      "\n"
     ]
    },
    {
     "name": "stdout",
     "output_type": "stream",
     "text": [
      " 91806 / 133884"
     ]
    },
    {
     "name": "stderr",
     "output_type": "stream",
     "text": [
      "IOPub message rate exceeded.\n",
      "The notebook server will temporarily stop sending output\n",
      "to the client in order to avoid crashing it.\n",
      "To change this limit, set the config variable\n",
      "`--NotebookApp.iopub_msg_rate_limit`.\n",
      "\n",
      "Current values:\n",
      "NotebookApp.iopub_msg_rate_limit=1000.0 (msgs/sec)\n",
      "NotebookApp.rate_limit_window=3.0 (secs)\n",
      "\n"
     ]
    },
    {
     "name": "stdout",
     "output_type": "stream",
     "text": [
      " 105351 / 133884"
     ]
    },
    {
     "name": "stderr",
     "output_type": "stream",
     "text": [
      "IOPub message rate exceeded.\n",
      "The notebook server will temporarily stop sending output\n",
      "to the client in order to avoid crashing it.\n",
      "To change this limit, set the config variable\n",
      "`--NotebookApp.iopub_msg_rate_limit`.\n",
      "\n",
      "Current values:\n",
      "NotebookApp.iopub_msg_rate_limit=1000.0 (msgs/sec)\n",
      "NotebookApp.rate_limit_window=3.0 (secs)\n",
      "\n"
     ]
    },
    {
     "name": "stdout",
     "output_type": "stream",
     "text": [
      " 101578 / 133884"
     ]
    },
    {
     "name": "stderr",
     "output_type": "stream",
     "text": [
      "IOPub message rate exceeded.\n",
      "The notebook server will temporarily stop sending output\n",
      "to the client in order to avoid crashing it.\n",
      "To change this limit, set the config variable\n",
      "`--NotebookApp.iopub_msg_rate_limit`.\n",
      "\n",
      "Current values:\n",
      "NotebookApp.iopub_msg_rate_limit=1000.0 (msgs/sec)\n",
      "NotebookApp.rate_limit_window=3.0 (secs)\n",
      "\n"
     ]
    },
    {
     "name": "stdout",
     "output_type": "stream",
     "text": [
      " 113646 / 133884"
     ]
    },
    {
     "name": "stderr",
     "output_type": "stream",
     "text": [
      "IOPub message rate exceeded.\n",
      "The notebook server will temporarily stop sending output\n",
      "to the client in order to avoid crashing it.\n",
      "To change this limit, set the config variable\n",
      "`--NotebookApp.iopub_msg_rate_limit`.\n",
      "\n",
      "Current values:\n",
      "NotebookApp.iopub_msg_rate_limit=1000.0 (msgs/sec)\n",
      "NotebookApp.rate_limit_window=3.0 (secs)\n",
      "\n",
      "IOPub message rate exceeded.\n",
      "The notebook server will temporarily stop sending output\n",
      "to the client in order to avoid crashing it.\n",
      "To change this limit, set the config variable\n",
      "`--NotebookApp.iopub_msg_rate_limit`.\n",
      "\n",
      "Current values:\n",
      "NotebookApp.iopub_msg_rate_limit=1000.0 (msgs/sec)\n",
      "NotebookApp.rate_limit_window=3.0 (secs)\n",
      "\n"
     ]
    },
    {
     "name": "stdout",
     "output_type": "stream",
     "text": [
      " 121426 / 133884"
     ]
    },
    {
     "name": "stderr",
     "output_type": "stream",
     "text": [
      "IOPub message rate exceeded.\n",
      "The notebook server will temporarily stop sending output\n",
      "to the client in order to avoid crashing it.\n",
      "To change this limit, set the config variable\n",
      "`--NotebookApp.iopub_msg_rate_limit`.\n",
      "\n",
      "Current values:\n",
      "NotebookApp.iopub_msg_rate_limit=1000.0 (msgs/sec)\n",
      "NotebookApp.rate_limit_window=3.0 (secs)\n",
      "\n"
     ]
    },
    {
     "name": "stdout",
     "output_type": "stream",
     "text": [
      "\r",
      " 124766 / 133884"
     ]
    },
    {
     "name": "stderr",
     "output_type": "stream",
     "text": [
      "IOPub message rate exceeded.\n",
      "The notebook server will temporarily stop sending output\n",
      "to the client in order to avoid crashing it.\n",
      "To change this limit, set the config variable\n",
      "`--NotebookApp.iopub_msg_rate_limit`.\n",
      "\n",
      "Current values:\n",
      "NotebookApp.iopub_msg_rate_limit=1000.0 (msgs/sec)\n",
      "NotebookApp.rate_limit_window=3.0 (secs)\n",
      "\n"
     ]
    },
    {
     "name": "stdout",
     "output_type": "stream",
     "text": [
      " 131166 / 133884"
     ]
    },
    {
     "name": "stderr",
     "output_type": "stream",
     "text": [
      "IOPub message rate exceeded.\n",
      "The notebook server will temporarily stop sending output\n",
      "to the client in order to avoid crashing it.\n",
      "To change this limit, set the config variable\n",
      "`--NotebookApp.iopub_msg_rate_limit`.\n",
      "\n",
      "Current values:\n",
      "NotebookApp.iopub_msg_rate_limit=1000.0 (msgs/sec)\n",
      "NotebookApp.rate_limit_window=3.0 (secs)\n",
      "\n"
     ]
    }
   ],
   "source": [
    "#print(os.listdir(\"../../Merck_Proj/data/smi_qm9/\")[0:100])\n",
    "%load_ext autoreload\n",
    "\n",
    "from utils.selfies_util import selfies,smile_to_hot, smiles,\\\n",
    "multiple_smile_to_hot, selfies_to_hot, multiple_selfies_to_hot,\\\n",
    "get_selfie_and_smiles_encodings_for_dataset, compare_equality, tanimoto_dist\n",
    "\n",
    "files_qm9, smiles_qm9 = smiles(\"../../Merck_Proj/data/smi_qm9/\", verbose = 1)\n"
   ]
  },
  {
   "cell_type": "code",
   "execution_count": 30,
   "metadata": {},
   "outputs": [
    {
     "name": "stdout",
     "output_type": "stream",
     "text": [
      "['c1(ccc(cc1)[O])[O]', 'C1(=O)C(=C(C(=O)C=C1)Br)C(=O)OC', 'c1(c(c(c(cc1)[O])Br)C(C)(C)C)[O]', 'C1(=O)C(=C(C(=O)C=C1)Br)C(F)(F)F', 'c1(c(c(c(cc1)[O])Br)C)[O]', 'c1(c(c(c(cc1)[O])Br)CC)[O]', 'C1(=C[CH]C(=O)C(=C1CO)Br)[O]', 'C1(=C([C](C(=O)C=C1)Br)C[N](C)(C)C)[O]', 'C1(=O)C(=C(C(=O)C=C1)Br)F', 'C1(=O)[C]([C](C(=O)C=C1)Br)N(=O)=O', 'CC(C)=O', 'CC(N)=O', 'NC(N)=O', 'CC(C)C', 'CC(C)O', 'C#CC#C', 'C#CC#N', 'N#CC#N', 'O=CC#C', 'O=CC#N']\n",
      "['c1(ccc(cc1)[O])[O]', 'C1(=O)C(=C(C(=O)C=C1)Br)C(=O)OC', 'c1(c(c(c(cc1)[O])Br)C(C)(C)C)[O]', 'C1(=O)C(=C(C(=O)C=C1)Br)C(F)(F)F', 'c1(c(c(c(cc1)[O])Br)C)[O]', 'c1(c(c(c(cc1)[O])Br)CC)[O]', 'C1(=C[CH]C(=O)C(=C1CO)Br)[O]', 'C1(=C([C](C(=O)C=C1)Br)C[N](C)(C)C)[O]', 'C1(=O)C(=C(C(=O)C=C1)Br)F', 'C1(=O)[C]([C](C(=O)C=C1)Br)N(=O)=O', 'CC(C)=O', 'CC(N)=O', 'NC(N)=O', 'CC(C)C', 'CC(C)O', 'C#CC#C', 'C#CC#N', 'N#CC#N', 'O=CC#C', 'O=CC#N']\n"
     ]
    }
   ],
   "source": [
    "\n",
    "print(smiles_co2[0:10] + smiles_qm9[0:10])"
   ]
  },
  {
   "cell_type": "code",
   "execution_count": 82,
   "metadata": {},
   "outputs": [],
   "source": [
    "timesteps = data_qm9.shape[1]\n",
    "input_dim = data_qm9.shape[2]\n",
    "latent_dim = 75\n",
    "\n",
    "class Sampling(layers.Layer):\n",
    "    \"\"\"Uses (z_mean, z_log_var) to sample z, the vector encoding a digit.\"\"\"\n",
    "\n",
    "    def call(self, inputs):\n",
    "        z_mean, z_log_var = inputs\n",
    "        batch = tf.shape(z_mean)[0]\n",
    "        dim = tf.shape(z_mean)[1]\n",
    "        epsilon = tf.keras.backend.random_normal(shape=(batch, dim))\n",
    "\n",
    "        return (z_mean + tf.exp(z_log_var) * epsilon)\n",
    "\n",
    "\n",
    "class VAE(keras.Model):\n",
    "    def __init__(self, encoder, decoder, **kwargs):\n",
    "        super(VAE, self).__init__(**kwargs)\n",
    "        self.encoder = encoder\n",
    "        self.decoder = decoder\n",
    "        self.total_loss_tracker = keras.metrics.Mean(name=\"total_loss\")\n",
    "        self.reconstruction_loss_tracker = keras.metrics.Mean(\n",
    "            name=\"reconstruction_loss\")\n",
    "        self.kl_loss_tracker = keras.metrics.Mean(name=\"kl_loss\")\n",
    "\n",
    "    @property\n",
    "    def metrics(self):\n",
    "        return [\n",
    "            self.total_loss_tracker,\n",
    "            self.reconstruction_loss_tracker,\n",
    "            self.kl_loss_tracker, ]\n",
    "\n",
    "    def train_step(self, data):\n",
    "        with tf.GradientTape() as tape:\n",
    "            z_mean, z_log_var, z = self.encoder(data)\n",
    "            reconstruction = self.decoder(z)\n",
    "            reconstruction_loss = keras.losses.mse(data, reconstruction)\n",
    "            # reconstruction_loss = keras.losses.binary_crossentropy(data, reconstruction)\n",
    "            kl_loss = (1 + z_log_var - tf.square(z_mean) - tf.exp(z_log_var))\n",
    "            kl_loss = -0.5 * tf.reduce_mean(kl_loss)\n",
    "            beta = coef * latent_dim / input_size\n",
    "            total_loss = reconstruction_loss + beta * kl_loss\n",
    "\n",
    "        grads = tape.gradient(total_loss, self.trainable_weights)\n",
    "        self.optimizer.apply_gradients(zip(grads, self.trainable_weights))\n",
    "\n",
    "        self.total_loss_tracker.update_state(total_loss)\n",
    "        self.reconstruction_loss_tracker.update_state(reconstruction_loss)\n",
    "        self.kl_loss_tracker.update_state(kl_loss)\n",
    "        return {\n",
    "            \"loss\": self.total_loss_tracker.result(),\n",
    "            \"reconstruction_loss\": self.reconstruction_loss_tracker.result(),\n",
    "            \"kl_loss\": self.kl_loss_tracker.result(), }\n",
    "\n"
   ]
  },
  {
   "cell_type": "code",
   "execution_count": 83,
   "metadata": {},
   "outputs": [
    {
     "name": "stdout",
     "output_type": "stream",
     "text": [
      "WARNING:tensorflow:Layer lstm_20 will not use cuDNN kernel since it doesn't meet the cuDNN kernel criteria. It will use generic GPU kernel as fallback when running on GPU\n",
      "WARNING:tensorflow:AutoGraph could not transform <bound method Sampling.call of <__main__.Sampling object at 0x7f52a710f390>> and will run it as-is.\n",
      "Please report this to the TensorFlow team. When filing the bug, set the verbosity to 10 (on Linux, `export AUTOGRAPH_VERBOSITY=10`) and attach the full output.\n",
      "Cause: module 'gast' has no attribute 'Index'\n",
      "To silence this warning, decorate the function with @tf.autograph.experimental.do_not_convert\n",
      "WARNING: AutoGraph could not transform <bound method Sampling.call of <__main__.Sampling object at 0x7f52a710f390>> and will run it as-is.\n",
      "Please report this to the TensorFlow team. When filing the bug, set the verbosity to 10 (on Linux, `export AUTOGRAPH_VERBOSITY=10`) and attach the full output.\n",
      "Cause: module 'gast' has no attribute 'Index'\n",
      "To silence this warning, decorate the function with @tf.autograph.experimental.do_not_convert\n",
      "WARNING:tensorflow:Layer lstm_21 will not use cuDNN kernel since it doesn't meet the cuDNN kernel criteria. It will use generic GPU kernel as fallback when running on GPU\n"
     ]
    }
   ],
   "source": [
    "timesteps = data.shape[1]\n",
    "input_size = data.shape[2]\n",
    "latent_dim = 75\n",
    "ltsm_encode = 50 \n",
    "ltsm_decode = 100\n",
    "epochs = 25\n",
    "verbose = 1 \n",
    "coef = 0.0005\n",
    "# Create encoder\n",
    "inputs = keras.Input(shape=(timesteps, input_size))\n",
    "x = layers.LSTM(ltsm_encode, activation='relu')(inputs)\n",
    "# Sampling Layers\n",
    "z_mean = layers.Dense(latent_dim, name=\"z_mean\")(x)\n",
    "z_log_var = layers.Dense(latent_dim, name=\"z_log_var\")(x)\n",
    "z = Sampling()([z_mean, z_log_var])\n",
    "encoder = keras.Model(inputs, [z_mean, z_log_var, z], name=\"encoder\")\n",
    "\n",
    "# Create Decoder\n",
    "input_latent = keras.Input(shape=(latent_dim,))\n",
    "decoder1 = layers.RepeatVector(timesteps)(input_latent)\n",
    "decoder1 = layers.LSTM(ltsm_decode, activation='sigmoid', return_sequences=True)(decoder1)\n",
    "decoder1 = layers.TimeDistributed(layers.Dense(input_size))(decoder1)\n",
    "decoder = keras.Model(input_latent, decoder1)\n",
    "\n",
    "vae = VAE(encoder, decoder)\n",
    "vae.compile(keras.optimizers.Adam(learning_rate=0.001))\n"
   ]
  },
  {
   "cell_type": "code",
   "execution_count": 79,
   "metadata": {
    "scrolled": true
   },
   "outputs": [
    {
     "name": "stdout",
     "output_type": "stream",
     "text": [
      "--> Translating SMILES to SELFIES...\n",
      "Finished translating SMILES to SELFIES.\n"
     ]
    }
   ],
   "source": [
    "full_list = smiles_qm9 + smiles_co2\n",
    "full_list = smiles_qm9\n",
    "\n",
    "selfies_list, selfies_alphabet, largest_selfies_len,\\\n",
    "smiles_list, smiles_alphabet, largest_smiles_len\\\n",
    "= get_selfie_and_smiles_encodings_for_dataset(full_list)\n",
    "\n",
    "data = multiple_selfies_to_hot(selfies_list, largest_selfies_len,\\\n",
    "                                       selfies_alphabet ) \n",
    "\n",
    "data_reshape = data.reshape(data.shape[0], data.shape[1] * data.shape[2])\n",
    "data_qm9 = data[0:len(smiles_qm9)]\n",
    "data_co2 = data[len(smiles_qm9):-1]\n",
    "\n",
    "x_train = data_qm9[0:int(data_qm9.shape[0] * 0.8)]\n",
    "x_test_qm9 = data_qm9[int(data_qm9.shape[0] * 0.8):-1]\n",
    "x_test_co2 = data_reshape[len(smiles_qm9):-1]#only pull co2\n",
    "\n",
    "max_mol_len = data.shape[1]\n",
    "alpha_len = data.shape[2]\n",
    "len_alphabet_mol = alpha_len * max_mol_len\n",
    "input_size = data.shape[1] * data.shape[2]\n",
    "\n",
    "\n"
   ]
  },
  {
   "cell_type": "code",
   "execution_count": 80,
   "metadata": {},
   "outputs": [
    {
     "name": "stdout",
     "output_type": "stream",
     "text": [
      "(133847, 21, 27)\n"
     ]
    }
   ],
   "source": [
    "print(np.shape(data))"
   ]
  },
  {
   "cell_type": "code",
   "execution_count": 84,
   "metadata": {},
   "outputs": [
    {
     "name": "stdout",
     "output_type": "stream",
     "text": [
      "Epoch 1/25\n",
      "3347/3347 [==============================] - 92s 27ms/step - loss: 0.0266 - reconstruction_loss: 0.0195 - kl_loss: 0.3184\n",
      "Epoch 2/25\n",
      "3347/3347 [==============================] - 97s 29ms/step - loss: 0.0162 - reconstruction_loss: 0.0152 - kl_loss: 0.2960\n",
      "Epoch 3/25\n",
      "3347/3347 [==============================] - 99s 30ms/step - loss: 0.0142 - reconstruction_loss: 0.0133 - kl_loss: 0.3406\n",
      "Epoch 4/25\n",
      "3347/3347 [==============================] - 101s 30ms/step - loss: 0.0125 - reconstruction_loss: 0.0116 - kl_loss: 0.3917\n",
      "Epoch 5/25\n",
      "3347/3347 [==============================] - 98s 29ms/step - loss: 0.0110 - reconstruction_loss: 0.0100 - kl_loss: 0.4432\n",
      "Epoch 6/25\n",
      "3347/3347 [==============================] - 98s 29ms/step - loss: 0.0098 - reconstruction_loss: 0.0089 - kl_loss: 0.4651\n",
      "Epoch 7/25\n",
      "3347/3347 [==============================] - 97s 29ms/step - loss: 0.0090 - reconstruction_loss: 0.0082 - kl_loss: 0.4727\n",
      "Epoch 8/25\n",
      "3347/3347 [==============================] - 98s 29ms/step - loss: 0.0084 - reconstruction_loss: 0.0075 - kl_loss: 0.4754\n",
      "Epoch 9/25\n",
      "3347/3347 [==============================] - 97s 29ms/step - loss: 0.0078 - reconstruction_loss: 0.0071 - kl_loss: 0.4701\n",
      "Epoch 10/25\n",
      "3347/3347 [==============================] - 97s 29ms/step - loss: 0.0074 - reconstruction_loss: 0.0067 - kl_loss: 0.4675\n",
      "Epoch 11/25\n",
      "3347/3347 [==============================] - 96s 29ms/step - loss: 0.0071 - reconstruction_loss: 0.0064 - kl_loss: 0.4628\n",
      "Epoch 12/25\n",
      "3347/3347 [==============================] - 95s 29ms/step - loss: 0.0068 - reconstruction_loss: 0.0061 - kl_loss: 0.4589\n",
      "Epoch 13/25\n",
      "3347/3347 [==============================] - 95s 28ms/step - loss: 0.0065 - reconstruction_loss: 0.0058 - kl_loss: 0.4577\n",
      "Epoch 14/25\n",
      "3347/3347 [==============================] - 95s 28ms/step - loss: 0.0063 - reconstruction_loss: 0.0056 - kl_loss: 0.4584\n",
      "Epoch 15/25\n",
      "3347/3347 [==============================] - 90s 27ms/step - loss: 0.0060 - reconstruction_loss: 0.0053 - kl_loss: 0.4586\n",
      "Epoch 16/25\n",
      "3347/3347 [==============================] - 89s 27ms/step - loss: 0.0058 - reconstruction_loss: 0.0051 - kl_loss: 0.4610\n",
      "Epoch 17/25\n",
      "3347/3347 [==============================] - 89s 26ms/step - loss: 0.0056 - reconstruction_loss: 0.0049 - kl_loss: 0.4594\n",
      "Epoch 18/25\n",
      "3347/3347 [==============================] - 89s 27ms/step - loss: 0.0054 - reconstruction_loss: 0.0047 - kl_loss: 0.4627\n",
      "Epoch 19/25\n",
      "3347/3347 [==============================] - 89s 26ms/step - loss: 0.0052 - reconstruction_loss: 0.0045 - kl_loss: 0.4601\n",
      "Epoch 20/25\n",
      "3347/3347 [==============================] - 89s 26ms/step - loss: 0.0051 - reconstruction_loss: 0.0044 - kl_loss: 0.4613\n",
      "Epoch 21/25\n",
      "3347/3347 [==============================] - 89s 27ms/step - loss: 0.0049 - reconstruction_loss: 0.0043 - kl_loss: 0.4607\n",
      "Epoch 22/25\n",
      "3347/3347 [==============================] - 89s 26ms/step - loss: 0.0047 - reconstruction_loss: 0.0041 - kl_loss: 0.4586\n",
      "Epoch 23/25\n",
      "3347/3347 [==============================] - 89s 27ms/step - loss: 0.0047 - reconstruction_loss: 0.0040 - kl_loss: 0.4607\n",
      "Epoch 24/25\n",
      "3347/3347 [==============================] - 89s 27ms/step - loss: 0.0046 - reconstruction_loss: 0.0039 - kl_loss: 0.4605\n",
      "Epoch 25/25\n",
      "3347/3347 [==============================] - 89s 27ms/step - loss: 0.0044 - reconstruction_loss: 0.0038 - kl_loss: 0.4567\n"
     ]
    }
   ],
   "source": [
    "es = EarlyStopping(monitor='val_loss', mode='min', verbose=1, patience=5)\n",
    "history = vae.fit(x_train, x_train, epochs=epochs, verbose=verbose)"
   ]
  },
  {
   "cell_type": "code",
   "execution_count": 77,
   "metadata": {},
   "outputs": [
    {
     "name": "stdout",
     "output_type": "stream",
     "text": [
      "(26769, 60, 39)\n",
      "(26769, 60, 39)\n",
      "Autoencoded Smiles: CCCCCCCCCCC1C=C1\n",
      "True Smiles: CC12NC1C1(CO)CC12\n",
      "Percent Reconstructed Molescules: 0.0\n"
     ]
    },
    {
     "ename": "NameError",
     "evalue": "name 'plt' is not defined",
     "output_type": "error",
     "traceback": [
      "\u001b[0;31m---------------------------------------------------------------------------\u001b[0m",
      "\u001b[0;31mNameError\u001b[0m                                 Traceback (most recent call last)",
      "\u001b[0;32m<ipython-input-77-2b139760979c>\u001b[0m in \u001b[0;36m<module>\u001b[0;34m\u001b[0m\n\u001b[1;32m     15\u001b[0m     selfies_alphabet)\n\u001b[1;32m     16\u001b[0m \u001b[0msns\u001b[0m\u001b[0;34m.\u001b[0m\u001b[0mhistplot\u001b[0m\u001b[0;34m(\u001b[0m\u001b[0mdist\u001b[0m\u001b[0;34m)\u001b[0m\u001b[0;34m\u001b[0m\u001b[0;34m\u001b[0m\u001b[0m\n\u001b[0;32m---> 17\u001b[0;31m \u001b[0mplt\u001b[0m\u001b[0;34m.\u001b[0m\u001b[0mtitle\u001b[0m\u001b[0;34m(\u001b[0m\u001b[0;34m\"Distribution of Tanimoto metric, NN VAE\"\u001b[0m\u001b[0;34m)\u001b[0m\u001b[0;34m\u001b[0m\u001b[0;34m\u001b[0m\u001b[0m\n\u001b[0m\u001b[1;32m     18\u001b[0m \u001b[0mplt\u001b[0m\u001b[0;34m.\u001b[0m\u001b[0mylabel\u001b[0m\u001b[0;34m(\u001b[0m\u001b[0;34m\"Count\"\u001b[0m\u001b[0;34m)\u001b[0m\u001b[0;34m\u001b[0m\u001b[0;34m\u001b[0m\u001b[0m\n\u001b[1;32m     19\u001b[0m \u001b[0mplt\u001b[0m\u001b[0;34m.\u001b[0m\u001b[0mxlabel\u001b[0m\u001b[0;34m(\u001b[0m\u001b[0;34m\"Similarity (Higher is Better)\"\u001b[0m\u001b[0;34m)\u001b[0m\u001b[0;34m\u001b[0m\u001b[0;34m\u001b[0m\u001b[0m\n",
      "\u001b[0;31mNameError\u001b[0m: name 'plt' is not defined"
     ]
    },
    {
     "data": {
      "image/png": "[encoded data removed]",
      "text/plain": [
       "<Figure size 432x288 with 1 Axes>"
      ]
     },
     "metadata": {
      "needs_background": "light"
     },
     "output_type": "display_data"
    }
   ],
   "source": [
    "reconst = m.predict(x_test_qm9)\n",
    "print(np.shape(reconst))\n",
    "print(np.shape(x_test_qm9))\n",
    "\n",
    "compare_equality(\n",
    "    x_test_qm9, \n",
    "    reconst, \n",
    "    (x_test_qm9.shape[1], x_test_qm9.shape[2]),   \n",
    "    selfies_alphabet)\n",
    "\n",
    "dist = tanimoto_dist(\n",
    "    x_test_qm9, \n",
    "    reconst,\n",
    "    (x_test_qm9.shape[1], x_test_qm9.shape[2]),   \n",
    "    selfies_alphabet)\n",
    "sns.histplot(dist)\n",
    "plt.title(\"Distribution of Tanimoto metric, NN VAE\")\n",
    "plt.ylabel(\"Count\")\n",
    "plt.xlabel(\"Similarity (Higher is Better)\")\n"
   ]
  },
  {
   "cell_type": "code",
   "execution_count": 78,
   "metadata": {},
   "outputs": [
    {
     "name": "stdout",
     "output_type": "stream",
     "text": [
      "(26769, 60, 39)\n",
      "(58182, 2340)\n",
      "Autoencoded Smiles: CCCCCCCCCCCCCCCCCCCCCCCCCCCCCCCCCCCCCCCCCCCCCCCCCCCCCCCCCCCC\n",
      "True Smiles: COC(=O)C1=C(Br)C(=O)C=CC1=O\n",
      "Percent Reconstructed Molescules: 0.0\n"
     ]
    },
    {
     "ename": "NameError",
     "evalue": "name 'plt' is not defined",
     "output_type": "error",
     "traceback": [
      "\u001b[0;31m---------------------------------------------------------------------------\u001b[0m",
      "\u001b[0;31mNameError\u001b[0m                                 Traceback (most recent call last)",
      "\u001b[0;32m<ipython-input-78-8fca8f9f78a1>\u001b[0m in \u001b[0;36m<module>\u001b[0;34m\u001b[0m\n\u001b[1;32m     16\u001b[0m     selfies_alphabet)\n\u001b[1;32m     17\u001b[0m \u001b[0msns\u001b[0m\u001b[0;34m.\u001b[0m\u001b[0mhistplot\u001b[0m\u001b[0;34m(\u001b[0m\u001b[0mdist\u001b[0m\u001b[0;34m)\u001b[0m\u001b[0;34m\u001b[0m\u001b[0;34m\u001b[0m\u001b[0m\n\u001b[0;32m---> 18\u001b[0;31m \u001b[0mplt\u001b[0m\u001b[0;34m.\u001b[0m\u001b[0mtitle\u001b[0m\u001b[0;34m(\u001b[0m\u001b[0;34m\"Distribution of Tanimoto metric, NN VAE\"\u001b[0m\u001b[0;34m)\u001b[0m\u001b[0;34m\u001b[0m\u001b[0;34m\u001b[0m\u001b[0m\n\u001b[0m\u001b[1;32m     19\u001b[0m \u001b[0mplt\u001b[0m\u001b[0;34m.\u001b[0m\u001b[0mylabel\u001b[0m\u001b[0;34m(\u001b[0m\u001b[0;34m\"Count\"\u001b[0m\u001b[0;34m)\u001b[0m\u001b[0;34m\u001b[0m\u001b[0;34m\u001b[0m\u001b[0m\n\u001b[1;32m     20\u001b[0m \u001b[0mplt\u001b[0m\u001b[0;34m.\u001b[0m\u001b[0mxlabel\u001b[0m\u001b[0;34m(\u001b[0m\u001b[0;34m\"Similarity (Higher is Better)\"\u001b[0m\u001b[0;34m)\u001b[0m\u001b[0;34m\u001b[0m\u001b[0;34m\u001b[0m\u001b[0m\n",
      "\u001b[0;31mNameError\u001b[0m: name 'plt' is not defined"
     ]
    },
    {
     "data": {
      "image/png": "[encoded data removed]",
      "text/plain": [
       "<Figure size 432x288 with 1 Axes>"
      ]
     },
     "metadata": {
      "needs_background": "light"
     },
     "output_type": "display_data"
    }
   ],
   "source": [
    "print(np.shape(reconst))\n",
    "print(np.shape(x_test_co2))\n",
    "reconst = m.predict(x_test_co2.reshape(len(x_test_co2), x_test_qm9.shape[1], x_test_qm9.shape[2]))\n",
    "\n",
    "compare_equality(\n",
    "    x_test_co2, \n",
    "    reconst, \n",
    "    (x_test_qm9.shape[1], x_test_qm9.shape[2]),   \n",
    "    selfies_alphabet)\n",
    "\n",
    "\n",
    "dist = tanimoto_dist(\n",
    "    x_test_co2, \n",
    "    reconst, \n",
    "    (x_test_qm9.shape[1], x_test_qm9.shape[2]),   \n",
    "    selfies_alphabet)\n",
    "sns.histplot(dist)\n",
    "plt.title(\"Distribution of Tanimoto metric, NN VAE\")\n",
    "plt.ylabel(\"Count\")\n",
    "plt.xlabel(\"Similarity (Higher is Better)\")"
   ]
  },
  {
   "cell_type": "code",
   "execution_count": 50,
   "metadata": {},
   "outputs": [
    {
     "name": "stdout",
     "output_type": "stream",
     "text": [
      "(58182, 2340)\n",
      "(26769, 60, 39)\n"
     ]
    }
   ],
   "source": [
    "print(np.shape(x_test_co2))\n",
    "print(np.shape(x_test_qm9))\n"
   ]
  },
  {
   "cell_type": "code",
   "execution_count": null,
   "metadata": {},
   "outputs": [],
   "source": []
  }
 ],
 "metadata": {
  "kernelspec": {
   "display_name": "Python 3",
   "language": "python",
   "name": "python3"
  },
  "language_info": {
   "codemirror_mode": {
    "name": "ipython",
    "version": 3
   },
   "file_extension": ".py",
   "mimetype": "text/x-python",
   "name": "python",
   "nbconvert_exporter": "python",
   "pygments_lexer": "ipython3",
   "version": "3.7.9"
  }
 },
 "nbformat": 4,
 "nbformat_minor": 4
}
