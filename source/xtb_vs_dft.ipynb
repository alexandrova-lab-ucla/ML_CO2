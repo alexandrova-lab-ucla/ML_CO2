{
 "cells": [
  {
   "cell_type": "code",
   "execution_count": 2,
   "metadata": {},
   "outputs": [
    {
     "name": "stdout",
     "output_type": "stream",
     "text": [
      "checkpoint\thelpers.pyc\t\t    selfies_util.pyc\r\n",
      "descalc.py\tmolsimplify_util.py\t    sklearn_utils.py\r\n",
      "diagnose_db.py\tmolsimplify_util.pyc\t    __tb\r\n",
      "Element_PI.py\tPersistentImages_Chemistry  test_files\r\n",
      "Element_PI.pyc\tPersistImages_Chemistry     vae_util.py\r\n",
      "elements.py\tPersist_util.py\t\t    vae_util.pyc\r\n",
      "elements.pyc\tPersist_util.pyc\t    xtb_vs_dft.ipynb\r\n",
      "gcutil.py\t__pycache__\t\t    xyz2mol\r\n",
      "geo\t\trdkit_tests.py\r\n",
      "helpers.py\tselfies_util.py\r\n"
     ]
    }
   ],
   "source": [
    "import os \n",
    "import numpy as np\n",
    "import gcutil\n",
    "import sys \n",
    "import seaborn as sns\n",
    "import pandas as pd\n",
    "\n",
    "dir_xtb1 = \"../data/benzoquinone_DB/xtb_opt/structures/bis-23/\"\n",
    "dir_xtb2 = \"../data/benzoquinone_DB/xtb_opt/structures/bis-25/\"\n",
    "dir_xtb3 = \"../data/benzoquinone_DB/xtb_opt/structures/bis-26/\"\n",
    "dir_xtb4 = \"../data/benzoquinone_DB/xtb_opt/structures/mono/\"\n",
    "dir_xtb5 = \"../data/benzoquinone_DB/xtb_opt/structures/tris/\"\n",
    "dir_dft1 = \"../data/benzoquinone_DB/dft_opt/structures/bis-23/\"\n",
    "dir_dft2 = \"../data/benzoquinone_DB/dft_opt/structures/bis-25/\"\n",
    "dir_dft3 = \"../data/benzoquinone_DB/dft_opt/structures/bis-26/\"\n",
    "dir_dft4 = \"../data/benzoquinone_DB/dft_opt/structures/mono/\"\n",
    "dir_dft5 = \"../data/benzoquinone_DB/dft_opt/structures/tris/\"\n",
    "dir_array_dft = [dir_dft1,dir_dft2,dir_dft3,dir_dft4,dir_dft5]\n",
    "dir_array_xtb = [dir_xtb1,dir_xtb2,dir_xtb3,dir_xtb4,dir_xtb5]\n",
    "!ls\n"
   ]
  },
  {
   "cell_type": "code",
   "execution_count": 2,
   "metadata": {},
   "outputs": [
    {
     "name": "stdout",
     "output_type": "stream",
     "text": [
      "------------new folder------------------\n",
      "------------new folder------------------\n",
      "------------new folder------------------\n",
      "------------new folder------------------\n",
      "------------new folder------------------\n",
      "done!\n"
     ]
    }
   ],
   "source": [
    "\n",
    "\n",
    "#iterate folders\n",
    "for temp_ind,temp_dirs in enumerate(dir_array_dft):\n",
    "    print(\"------------new folder------------------\")\n",
    "    dir_str_dft = \"ls \" + str(temp_dirs) + \" | sort\"\n",
    "    dir_str_xtb = \"ls \" + str(dir_array_xtb[temp_ind]) + \" | sort\"\n",
    "\n",
    "    temp_dft_files = os.popen(dir_str_dft).read()\n",
    "    temp_xtb_files = os.popen(dir_str_xtb).read()\n",
    "    \n",
    "    temp_dft_files = temp_dft_files.split(\"\\n\")[:-1]\n",
    "    temp_xtb_files = temp_xtb_files.split(\"\\n\")[:-1]\n",
    "    #print(temp_dft_files)\n",
    "    xtb_pos = []\n",
    "    dft_pos = []\n",
    "    rmse_array = []\n",
    "    \n",
    "    #iterate individual geometries\n",
    "    for j,i in enumerate(temp_dft_files):\n",
    "        try:\n",
    "            # write to zmat - DFT\n",
    "            stdoutOrigin=sys.stdout \n",
    "            sys.stdout = open(\"log_zmat.txt\", \"w\")\n",
    "            xyzarr, atomnames = gcutil.readxyz(temp_dirs + i)\n",
    "            distmat = gcutil.distance_matrix(xyzarr)\n",
    "            temp = gcutil.write_zmat(xyzarr, distmat, atomnames)\n",
    "            sys.stdout.close()\n",
    "            sys.stdout=stdoutOrigin\n",
    "        except: \n",
    "            print(\"fails at xtb\")\n",
    "            print(i)\n",
    "\n",
    "        #write back into xyz - DFT\n",
    "        sys.stdout = open(\"log.txt\", \"w\")\n",
    "        atomnames, rconnect, rlist, aconnect, alist, dconnect, dlist = gcutil.readzmat(\"log_zmat.txt\")\n",
    "        gcutil.write_xyz(atomnames, rconnect, rlist, aconnect, alist, dconnect, dlist)\n",
    "        sys.stdout.close()\n",
    "        sys.stdout=stdoutOrigin\n",
    "        \n",
    "        try:\n",
    "            # write to zmat - xTB\n",
    "            sys.stdout = open(\"log_zmat_xtb.txt\", \"w\")\n",
    "            xyzarr, atomnames = gcutil.readxyz(dir_array_xtb[temp_ind] + i)\n",
    "            distmat = gcutil.distance_matrix(xyzarr)\n",
    "            temp = gcutil.write_zmat(xyzarr, distmat, atomnames)\n",
    "            sys.stdout.close()\n",
    "            sys.stdout=stdoutOrigin\n",
    "        except:\n",
    "            print(\"fails at dft\")\n",
    "            print(i)\n",
    "        #write back into xyz - xTB\n",
    "        sys.stdout = open(\"log_xtb.txt\", \"w\")\n",
    "        atomnames, rconnect, rlist, aconnect, alist, dconnect, dlist = gcutil.readzmat(\"log_zmat_xtb.txt\")\n",
    "        gcutil.write_xyz(atomnames, rconnect, rlist, aconnect, alist, dconnect, dlist)\n",
    "        sys.stdout.close()\n",
    "        sys.stdout=stdoutOrigin\n",
    "        \n",
    "        \n",
    "        f_dft = open(\"log.txt\",\"r\")\n",
    "        f_xtb = open(\"log_xtb.txt\",\"r\")\n",
    "        lines_dft = list(f_dft)\n",
    "        lines_xtb = list(f_xtb)\n",
    "        \n",
    "        \n",
    "        sum_se = 0 \n",
    "        for ind, i in enumerate(lines_dft):\n",
    "            #print(lines_dft)\n",
    "            #len(i[0:-2].split()) > 1 and\n",
    "             \n",
    "            if(len(i[0:-2].split()) > 1):\n",
    "\n",
    "                try:\n",
    "                    float(i[0:-2].split()[1])\n",
    "                    dft_temp = [float(i) for i in i[0:-2].split()[1:]]\n",
    "                    xtb_temp = [float(i) for i in lines_xtb[ind][0:-2].split()[1:]]\n",
    "                    sum_se += (dft_temp[0] - xtb_temp[0])**2 + (dft_temp[1] - xtb_temp[1])**2 + (dft_temp[2] - xtb_temp[2])**2\n",
    "                    \n",
    "                except:\n",
    "                    pass \n",
    "            else:\n",
    "                atom_num = float(i)\n",
    "        rmse_array.append(np.sqrt(sum_se / atom_num))\n",
    "        f_dft.close()\n",
    "        f_xtb.close()\n",
    "        \n",
    "rmse_array = np.array(rmse_array)\n",
    "print(\"done!\")"
   ]
  },
  {
   "cell_type": "code",
   "execution_count": 36,
   "metadata": {},
   "outputs": [
    {
     "data": {
      "text/plain": [
       "<matplotlib.axes._subplots.AxesSubplot at 0x7efbcc9fcc90>"
      ]
     },
     "execution_count": 36,
     "metadata": {},
     "output_type": "execute_result"
    },
    {
     "data": {
      "image/png": "[encoded data removed]",
      "text/plain": [
       "<Figure size 432x288 with 1 Axes>"
      ]
     },
     "metadata": {
      "needs_background": "light"
     },
     "output_type": "display_data"
    }
   ],
   "source": [
    "rmse_array = pd.Series(rmse_array, name = \"RMSE vals\")\n",
    "sns.distplot(rmse_array,bins=18,norm_hist=True,kde = True)"
   ]
  },
  {
   "cell_type": "code",
   "execution_count": 29,
   "metadata": {},
   "outputs": [
    {
     "name": "stdout",
     "output_type": "stream",
     "text": [
      "Mean: 0.400872791127268\n",
      "STD Dist. : 0.28054843613318475\n",
      "number of molecules: 6106\n"
     ]
    }
   ],
   "source": [
    "print(\"Mean: \" + str(np.mean(rmse_array)))\n",
    "print(\"STD Dist. : \" + str(np.std(rmse_array)))\n",
    "print(\"number of molecules: \" + str(np.shape(rmse_array)[0]))"
   ]
  },
  {
   "cell_type": "code",
   "execution_count": 5,
   "metadata": {},
   "outputs": [
    {
     "data": {
      "image/png": "[encoded data removed]",
      "text/plain": [
       "<Figure size 432x288 with 1 Axes>"
      ]
     },
     "metadata": {
      "needs_background": "light"
     },
     "output_type": "display_data"
    }
   ],
   "source": [
    "#ax = sns.stripplot(data = rmse_array)\n",
    "ax = sns.violinplot( data=rmse_array,palette= [\"lightpink\"]).set(title='RMSE distribution', ylabel = \"RMSE\")"
   ]
  },
  {
   "cell_type": "code",
   "execution_count": null,
   "metadata": {},
   "outputs": [],
   "source": []
  },
  {
   "cell_type": "code",
   "execution_count": 3,
   "metadata": {},
   "outputs": [],
   "source": [
    "stdoutOrigin=sys.stdout \n",
    "sys.stdout = open(\"log_zmat.txt\", \"w\")\n",
    "sys.stdout.close()\n",
    "sys.stdout=stdoutOrigin\n",
    "print(\"yeet\")"
   ]
  },
  {
   "cell_type": "code",
   "execution_count": 278,
   "metadata": {},
   "outputs": [],
   "source": [
    "dft_pos = []\n",
    "xtb_pos = []\n",
    "print(\"somethign\")\n",
    "\n",
    "with open(\"log.txt\") as file_dft:\n",
    "    print(\"here or some shit\")\n",
    "    for num, line in enumerate(file_dft):\n",
    "        print(line)\n",
    "        if(len(line.split()) > 1):\n",
    "            xtb_pos.append(line[:-2].split()[1:])\n",
    "print(\"somethign\")\n",
    "with open(\"log_xtb.txt\") as file_xtb:\n",
    "    print(file_xtb)\n",
    "    for num, line in enumerate(file_xtb):\n",
    "        print(num)\n",
    "        if(len(line.split()) > 1):\n",
    "            dft_pos.append(line[:-2].split()[1:])\n",
    "print(xtb_pos)\n",
    "print(dft_pos)"
   ]
  },
  {
   "cell_type": "code",
   "execution_count": 58,
   "metadata": {},
   "outputs": [],
   "source": []
  },
  {
   "cell_type": "code",
   "execution_count": null,
   "metadata": {},
   "outputs": [],
   "source": [
    "atom_xtb = {}\n",
    "atom_dft = {}\n",
    "xtb_pos_temp = []\n",
    "dft_pos_temp = []\n",
    "dft_pos = []\n",
    "xtb_pos = []\n",
    "\n",
    "with open(temp_dirs + i) as file_dft:\n",
    "    for num, line in enumerate(file_dft):\n",
    "        if(num > 1):\n",
    "            xtb_pos.append(line[:-2].split()[1:])\n",
    "\n",
    "with open(dir_array_xtb[temp_ind] + i) as file_xtb:\n",
    "    for num, line in enumerate(file_xtb):\n",
    "        if(num > 1):\n",
    "            dft_pos.append(line[:-2].split()[1:])\n",
    "\n",
    "\n",
    "for j,k in enumerate(dft_pos): \n",
    "    if (j == 0):\n",
    "        atom_xtb[\"origin\"] = np.array(xtb_pos[0]).astype(np.float)\n",
    "        atom_dft[\"origin\"] = np.array(k).astype(np.float)\n",
    "\n",
    "    xtb_pos_temp.append(xtb_pos[j])\n",
    "    dft_pos_temp.append(k)\n",
    "\n",
    "atom_xtb[\"pos\"] = np.array(xtb_pos_temp).astype(np.float) - atom_xtb[\"origin\"]\n",
    "atom_dft[\"pos\"] = np.array(dft_pos_temp).astype(np.float) - atom_dft[\"origin\"]        \n",
    "a = np.array([1,0,0])\n",
    "b_xtb = atom_xtb[\"pos\"][1]\n",
    "b_dft = atom_dft[\"pos\"][1]\n",
    "\n",
    "cosine_angle_xtb = np.dot(a, b_xtb) / (np.linalg.norm(a) * np.linalg.norm(b_xtb))\n",
    "cosine_angle_dft = np.dot(a, b_dft) / (np.linalg.norm(a) * np.linalg.norm(b_dft))\n",
    "\n",
    "angle_xtb = np.arccos(cosine_angle_xtb)\n",
    "angle_dft = np.arccos(cosine_angle_dft)\n",
    "\n",
    "print(np.degrees(angle_xtb))\n",
    "print(np.degrees(angle_dft))\n",
    "\n"
   ]
  },
  {
   "cell_type": "code",
   "execution_count": 5,
   "metadata": {},
   "outputs": [
    {
     "name": "stdout",
     "output_type": "stream",
     "text": [
      "0    0.073743\n",
      "1    0.074309\n",
      "2    0.075135\n",
      "3     0.06857\n",
      "4    0.073827\n",
      "Name: diff, dtype: object\n"
     ]
    }
   ],
   "source": [
    "import pandas as pd \n",
    "\n",
    "#reference \n",
    "\n",
    "\n",
    "df = pd.read_pickle(\"../data/desc/DB2/desc_calc_DB2_rdkit.pkl\")\n",
    "#df = pd.read_hdf(\"../data/desc/DB2/desc_calc_DB2_rdkit.h5\")\n",
    "print(df[\"diff\"])\n",
    "print(df[\"HOMO\"])\n",
    "print(df[\"HOMO-1\"])\n",
    "\n",
    "df = pd.read_pickle(\"../data/desc/DB2/desc_calc_DB2_morg.pkl\")\n",
    "df.to_pickle(str)\n",
    "df = pd.read_pickle(\"../data/desc/DB2/desc_calc_DB2_auto.pkl\")\n",
    "df.to_pickle(str)\n",
    "df = pd.read_pickle(\"../data/desc/DB2/desc_calc_DB2_aval.pkl\")\n",
    "df.to_pickle(str)\n",
    "df = pd.read_pickle(\"../data/desc/DB2/desc_calc_DB2_persist.pkl\")\n",
    "df.to_pickle(str)\n",
    "df = pd.read_pickle(\"../data/desc/DB2/desc_calc_DB2_vae.pkl\")\n",
    "df.to_pickle(str)\n",
    "df = pd.read_pickle(\"../data/desc/DB2/desc_calc_DB2_self.pkl\")\n",
    "df.to_pickle(str)\n",
    "df = pd.read_pickle(\"../data/desc/DB2/desc_calc_DB2_layer.pkl\")\n",
    "df.to_pickle(str)\n",
    "\n",
    "\n",
    "df = pd.read_hdf(\"../data/desc/DB2/desc_calc_DB2_morg.h5\")\n",
    "df.to_hdf(str, key=\"df\", mode='a')\n",
    "df = pd.read_hdf(\"../data/desc/DB2/desc_calc_DB2_auto.h5\")\n",
    "df.to_hdf(str, key=\"df\", mode='a')\n",
    "df = pd.read_hdf(\"../data/desc/DB2/desc_calc_DB2_aval.h5\")\n",
    "df.to_hdf(str, key=\"df\", mode='a')\n",
    "df = pd.read_hdf(\"../data/desc/DB2/desc_calc_DB2_persist.h5\")\n",
    "df.to_hdf(str, key=\"df\", mode='a')\n",
    "df = pd.read_hdf(\"../data/desc/DB2/desc_calc_DB2_vae.h5\")\n",
    "df.to_hdf(str, key=\"df\", mode='a')\n",
    "df = pd.read_hdf(\"../data/desc/DB2/desc_calc_DB2_self.h5\")\n",
    "df.to_hdf(str, key=\"df\", mode='a')\n",
    "df = pd.read_hdf(\"../data/desc/DB2/desc_calc_DB2_layer.h5\")\n",
    "df.to_hdf(str, key=\"df\", mode='a')"
   ]
  },
  {
   "cell_type": "code",
   "execution_count": 13,
   "metadata": {},
   "outputs": [
    {
     "name": "stdout",
     "output_type": "stream",
     "text": [
      "                     name                                                mat  \\\n",
      "0            Br_Br_Br.sdf  [0.0, 0.0, 0.0, 0.0, 0.0, 0.0, 0.0, 0.0, 0.0, ...   \n",
      "1   Br_Br_C2=CC=CC=C2.sdf  [0.0, 0.0, 0.0, 0.0, 0.0, 0.0, 0.0, 0.0, 0.0, ...   \n",
      "2  Br_Br_CC2=CC=CC=C2.sdf  [0.0, 0.0, 0.0, 0.0, 0.0, 0.0, 0.0, 0.0, 0.0, ...   \n",
      "3      Br_Br_C(C)(C)C.sdf  [0.0, 0.0, 0.0, 0.0, 0.0, 0.0, 0.0, 0.0, 0.0, ...   \n",
      "4            Br_Br_CC.sdf  [0.0, 0.0, 0.0, 0.0, 0.0, 0.0, 0.0, 0.0, 0.0, ...   \n",
      "\n",
      "       HOMO   HOMO-1      diff  \n",
      "0 -0.200233 -0.12649  0.073743  \n",
      "1 -0.196519 -0.12221  0.074309  \n",
      "2 -0.195905 -0.12077  0.075135  \n",
      "3  -0.18831 -0.11974   0.06857  \n",
      "4 -0.191877 -0.11805  0.073827  \n"
     ]
    }
   ],
   "source": [
    "df = pd.read_pickle(\"../data/desc/DB2/desc_calc_DB2_rdkit.pkl\")\n",
    "print(df.head())"
   ]
  },
  {
   "cell_type": "code",
   "execution_count": 12,
   "metadata": {},
   "outputs": [
    {
     "name": "stdout",
     "output_type": "stream",
     "text": [
      "                     name                                                mat  \\\n",
      "0            Br_Br_Br.sdf  [0.0, 0.0, 0.0, 0.0, 0.0, 0.0, 0.0, 0.0, 0.0, ...   \n",
      "1   Br_Br_C2=CC=CC=C2.sdf  [0.0, 0.0, 0.0, 0.0, 0.0, 0.0, 0.0, 0.0, 0.0, ...   \n",
      "2  Br_Br_CC2=CC=CC=C2.sdf  [0.0, 0.0, 0.0, 0.0, 0.0, 0.0, 0.0, 0.0, 0.0, ...   \n",
      "3      Br_Br_C(C)(C)C.sdf  [0.0, 0.0, 0.0, 0.0, 0.0, 0.0, 0.0, 0.0, 0.0, ...   \n",
      "4            Br_Br_CC.sdf  [0.0, 0.0, 0.0, 0.0, 0.0, 0.0, 0.0, 1.0, 0.0, ...   \n",
      "\n",
      "       HOMO   HOMO-1      diff  \n",
      "0 -0.200233 -0.12649  0.073743  \n",
      "1 -0.196519 -0.12221  0.074309  \n",
      "2 -0.195905 -0.12077  0.075135  \n",
      "3  -0.18831 -0.11974   0.06857  \n",
      "4 -0.191877 -0.11805  0.073827  \n"
     ]
    }
   ],
   "source": [
    "df = pd.read_pickle(\"../data/desc/DB2/desc_calc_DB2_morg.pkl\")\n",
    "print(df.head())"
   ]
  },
  {
   "cell_type": "code",
   "execution_count": 11,
   "metadata": {},
   "outputs": [
    {
     "name": "stdout",
     "output_type": "stream",
     "text": [
      "                     name                                                mat  \\\n",
      "0            Br_Br_Br.sdf  [1.0, 1.0, 1.0, 0.0, 0.0, 0.0, 0.0, 0.0, 1.0, ...   \n",
      "1   Br_Br_C2=CC=CC=C2.sdf  [1.0, 1.0, 1.0, 0.0, 0.0, 0.0, 0.0, 0.0, 1.0, ...   \n",
      "2  Br_Br_CC2=CC=CC=C2.sdf  [1.0, 1.0, 1.0, 0.0, 0.0, 1.0, 0.0, 0.0, 1.0, ...   \n",
      "3      Br_Br_C(C)(C)C.sdf  [1.0, 1.0, 1.0, 1.0, 1.0, 1.0, 1.0, 0.0, 1.0, ...   \n",
      "4            Br_Br_CC.sdf  [1.0, 1.0, 1.0, 1.0, 0.0, 1.0, 0.0, 0.0, 1.0, ...   \n",
      "\n",
      "       HOMO   HOMO-1      diff  \n",
      "0 -0.200233 -0.12649  0.073743  \n",
      "1 -0.196519 -0.12221  0.074309  \n",
      "2 -0.195905 -0.12077  0.075135  \n",
      "3  -0.18831 -0.11974   0.06857  \n",
      "4 -0.191877 -0.11805  0.073827  \n"
     ]
    }
   ],
   "source": [
    "df = pd.read_pickle(\"../data/desc/DB2/desc_calc_DB2_aval.pkl\")\n",
    "print(df.head())"
   ]
  },
  {
   "cell_type": "code",
   "execution_count": 9,
   "metadata": {},
   "outputs": [
    {
     "name": "stdout",
     "output_type": "stream",
     "text": [
      "                     name                                                mat  \\\n",
      "0            Br_Br_Br.sdf  [0.0, 0.0, 0.0, 0.0, 0.0, 0.0, 0.0, 0.0, 0.0, ...   \n",
      "1   Br_Br_C2=CC=CC=C2.sdf  [0.0, 0.0, 0.0, 0.0, 0.0, 0.0, 0.0, 0.0, 0.0, ...   \n",
      "2  Br_Br_CC2=CC=CC=C2.sdf  [0.0, 0.0, 0.0, 0.0, 0.0, 0.0, 0.0, 0.0, 0.0, ...   \n",
      "3      Br_Br_C(C)(C)C.sdf  [0.0, 0.0, 0.0, 0.0, 0.0, 0.0, 0.0, 0.0, 0.0, ...   \n",
      "4            Br_Br_CC.sdf  [0.0, 0.0, 0.0, 0.0, 0.0, 0.0, 0.0, 0.0, 0.0, ...   \n",
      "\n",
      "       HOMO   HOMO-1      diff  \n",
      "0 -0.200233 -0.12649  0.073743  \n",
      "1 -0.196519 -0.12221  0.074309  \n",
      "2 -0.195905 -0.12077  0.075135  \n",
      "3  -0.18831 -0.11974   0.06857  \n",
      "4 -0.191877 -0.11805  0.073827  \n"
     ]
    }
   ],
   "source": [
    "df = pd.read_pickle(\"../data/desc/DB2/desc_calc_DB2_layer.pkl\")\n",
    "print(df.head())"
   ]
  },
  {
   "cell_type": "code",
   "execution_count": 8,
   "metadata": {},
   "outputs": [
    {
     "name": "stdout",
     "output_type": "stream",
     "text": [
      "                                    name  \\\n",
      "0         C1(=O)C(=C(C(=O)C(=C1)Br)Br)Br   \n",
      "1   C1(=O)C(=C(C(=O)C(=C1)Br)Br)c1ccccc1   \n",
      "2  C1(=O)C(=C(C(=O)C(=C1)Br)Br)Cc1ccccc1   \n",
      "3  C1(=C[C](C(=O)C(=C1C(C)(C)C)Br)Br)[O]   \n",
      "4         C1(=O)C(=C(C(=O)C(=C1)Br)Br)CC   \n",
      "\n",
      "                                                 mat HOMO HOMO-1 diff  \n",
      "0  [C][Branch1_3][epsilon][=O][C][Branch1_3][#N][...                   \n",
      "1  [C][Branch1_3][epsilon][=O][C][Branch1_3][#N][...                   \n",
      "2  [C][Branch1_3][epsilon][=O][C][Branch1_3][#N][...                   \n",
      "3  [C][Branch2_3][epsilon][Branch1_2][=C][Cexpl][...                   \n",
      "4  [C][Branch1_3][epsilon][=O][C][Branch1_3][#N][...                   \n",
      "                                    name  \\\n",
      "0         C1(=O)C(=C(C(=O)C(=C1)Br)Br)Br   \n",
      "1   C1(=O)C(=C(C(=O)C(=C1)Br)Br)c1ccccc1   \n",
      "2  C1(=O)C(=C(C(=O)C(=C1)Br)Br)Cc1ccccc1   \n",
      "3  C1(=C[C](C(=O)C(=C1C(C)(C)C)Br)Br)[O]   \n",
      "4         C1(=O)C(=C(C(=O)C(=C1)Br)Br)CC   \n",
      "\n",
      "                                                 mat  \n",
      "0  [C][Branch1_3][epsilon][=O][C][Branch1_3][#N][...  \n",
      "1  [C][Branch1_3][epsilon][=O][C][Branch1_3][#N][...  \n",
      "2  [C][Branch1_3][epsilon][=O][C][Branch1_3][#N][...  \n",
      "3  [C][Branch2_3][epsilon][Branch1_2][=C][Cexpl][...  \n",
      "4  [C][Branch1_3][epsilon][=O][C][Branch1_3][#N][...  \n"
     ]
    }
   ],
   "source": [
    "df = pd.read_pickle(\"../data/desc/DB2/desc_calc_DB2_self.pkl\")\n",
    "print(df.head())\n",
    "\n",
    "df = pd.read_hdf(\"../data/desc/DB2/desc_calc_DB2_self.h5\")\n",
    "print(df.head())"
   ]
  },
  {
   "cell_type": "code",
   "execution_count": 7,
   "metadata": {},
   "outputs": [
    {
     "name": "stdout",
     "output_type": "stream",
     "text": [
      "                                                 mat                    name\n",
      "0  [[-0.9732547, 0.6579669, -1.3522831, 0.6810056...            Br_Br_Br.xyz\n",
      "1  [[-0.8016323, 0.83916795, -1.8035296, 1.000743...   Br_Br_C2=CC=CC=C2.xyz\n",
      "2  [[-0.5272166, 0.8281526, -1.5160015, 0.9529316...  Br_Br_CC2=CC=CC=C2.xyz\n",
      "3  [[0.087641895, -0.92037755, 0.25641298, 0.1550...      Br_Br_C(C)(C)C.xyz\n",
      "4  [[-0.30556712, 1.1312592, -0.40703785, 1.93495...            Br_Br_CC.xyz\n",
      "                                                 mat                    name  \\\n",
      "0  [[-0.9732547, 0.6579669, -1.3522831, 0.6810056...            Br_Br_Br.xyz   \n",
      "1  [[-0.8016323, 0.83916795, -1.8035296, 1.000743...   Br_Br_C2=CC=CC=C2.xyz   \n",
      "2  [[-0.5272166, 0.8281526, -1.5160015, 0.9529316...  Br_Br_CC2=CC=CC=C2.xyz   \n",
      "3  [[0.087641895, -0.92037755, 0.25641298, 0.1550...      Br_Br_C(C)(C)C.xyz   \n",
      "4  [[-0.30556712, 1.1312592, -0.40703785, 1.93495...            Br_Br_CC.xyz   \n",
      "\n",
      "       HOMO   HOMO-1      diff  \n",
      "0 -0.200233 -0.12649  0.073743  \n",
      "1 -0.196519 -0.12221  0.074309  \n",
      "2 -0.195905 -0.12077  0.075135  \n",
      "3  -0.18831 -0.11974   0.06857  \n",
      "4 -0.191877 -0.11805  0.073827  \n"
     ]
    }
   ],
   "source": [
    "df = pd.read_hdf(\"../data/desc/DB2/desc_calc_DB2_vae.h5\")\n",
    "print(df.head())\n",
    "df = pd.read_pickle(\"../data/desc/DB2/desc_calc_DB2_vae.pkl\")\n",
    "print(df.head())"
   ]
  },
  {
   "cell_type": "code",
   "execution_count": 5,
   "metadata": {},
   "outputs": [
    {
     "name": "stdout",
     "output_type": "stream",
     "text": [
      "                                       name  \\\n",
      "0   C2=CC=CC=C2_C2=CC=CC=C2_C2=CC=CC=C2.xyz   \n",
      "1  C2=CC=CC=C2_C2=CC=CC=C2_CC2=CC=CC=C2.xyz   \n",
      "2      C2=CC=CC=C2_C2=CC=CC=C2_C(C)(C)C.xyz   \n",
      "3            C2=CC=CC=C2_C2=CC=CC=C2_CC.xyz   \n",
      "4      C2=CC=CC=C2_C2=CC=CC=C2_C(F)(F)F.xyz   \n",
      "\n",
      "                                                 mat  \n",
      "0  [0.0, 0.0, 0.0, 0.0, 0.0, 0.0, 0.0, 0.0, 0.0, ...  \n",
      "1  [0.0, 0.0, 0.0, 0.0, 0.0, 0.0, 0.0, 0.0, 0.0, ...  \n",
      "2  [0.0, 0.0, 0.0, 0.0, 0.0, 0.0, 0.0, 0.0, 0.0, ...  \n",
      "3  [0.0, 0.0, 0.0, 0.0, 0.0, 0.0, 0.0, 0.0, 0.0, ...  \n",
      "4  [0.0, 0.0, 0.0, 0.0, 0.0, 0.0, 0.0, 0.0, 0.0, ...  \n",
      "                                       name  \\\n",
      "0   C2=CC=CC=C2_C2=CC=CC=C2_C2=CC=CC=C2.xyz   \n",
      "1  C2=CC=CC=C2_C2=CC=CC=C2_CC2=CC=CC=C2.xyz   \n",
      "2      C2=CC=CC=C2_C2=CC=CC=C2_C(C)(C)C.xyz   \n",
      "3            C2=CC=CC=C2_C2=CC=CC=C2_CC.xyz   \n",
      "4      C2=CC=CC=C2_C2=CC=CC=C2_C(F)(F)F.xyz   \n",
      "\n",
      "                                                 mat      HOMO   HOMO-1  \\\n",
      "0  [0.0, 0.0, 0.0, 0.0, 0.0, 0.0, 0.0, 0.0, 0.0, ... -0.182988 -0.11698   \n",
      "1  [0.0, 0.0, 0.0, 0.0, 0.0, 0.0, 0.0, 0.0, 0.0, ... -0.180784 -0.10949   \n",
      "2  [0.0, 0.0, 0.0, 0.0, 0.0, 0.0, 0.0, 0.0, 0.0, ... -0.178266 -0.11007   \n",
      "3  [0.0, 0.0, 0.0, 0.0, 0.0, 0.0, 0.0, 0.0, 0.0, ... -0.180096 -0.10871   \n",
      "4  [0.0, 0.0, 0.0, 0.0, 0.0, 0.0, 0.0, 0.0, 0.0, ... -0.188336 -0.12289   \n",
      "\n",
      "       diff  \n",
      "0  0.066008  \n",
      "1  0.071294  \n",
      "2  0.068196  \n",
      "3  0.071386  \n",
      "4  0.065446  \n"
     ]
    }
   ],
   "source": [
    "df = pd.read_pickle(\"../data/desc/DB2/desc_calc_DB2_persist.pkl\")\n",
    "print(df.head())\n",
    "df = pd.read_hdf(\"../data/desc/DB2/desc_calc_DB2_persist.h5\")\n",
    "print(df.head())"
   ]
  },
  {
   "cell_type": "code",
   "execution_count": 14,
   "metadata": {},
   "outputs": [
    {
     "name": "stdout",
     "output_type": "stream",
     "text": [
      "                                           name  \\\n",
      "0                   ../data/xyz/DB2/C(=O)OC.xyz   \n",
      "1           ../data/xyz/DB2/C(=O)OC_C(=O)OC.xyz   \n",
      "2   ../data/xyz/DB2/C(=O)OC_C(=O)OC_C(=O)OC.xyz   \n",
      "3  ../data/xyz/DB2/C(=O)OC_C(=O)OC_C(C)(C)C.xyz   \n",
      "4  ../data/xyz/DB2/C(=O)OC_C(=O)OC_C(F)(F)F.xyz   \n",
      "\n",
      "                                                 mat      HOMO   HOMO-1  \\\n",
      "0  [[128.39440000000002, 246.07500000000002, 387.... -0.221399  -0.1614   \n",
      "1  [[174.74660000000003, 334.15200000000004, 537.... -0.211996  -0.1482   \n",
      "2  [[221.0988, 422.229, 687.3006000000003, 704.80... -0.198261 -0.13556   \n",
      "3  [[239.47660000000005, 475.9320000000001, 807.2... -0.186499 -0.12502   \n",
      "4  [[223.9303, 396.831, 697.0288000000002, 692.21...  -0.19791 -0.13501   \n",
      "\n",
      "       diff  \n",
      "0  0.059999  \n",
      "1  0.063796  \n",
      "2  0.062701  \n",
      "3  0.061479  \n",
      "4    0.0629  \n"
     ]
    }
   ],
   "source": [
    "df = pd.read_pickle(\"../data/desc/DB2/desc_calc_DB2_auto.pkl\")\n",
    "print(df.head())\n"
   ]
  },
  {
   "cell_type": "code",
   "execution_count": 21,
   "metadata": {},
   "outputs": [
    {
     "name": "stdout",
     "output_type": "stream",
     "text": [
      "                                                 mat                    name  \\\n",
      "0  [[-0.9732547, 0.6579669, -1.3522831, 0.6810056...            Br_Br_Br.xyz   \n",
      "1  [[-0.8016323, 0.83916795, -1.8035296, 1.000743...   Br_Br_C2=CC=CC=C2.xyz   \n",
      "2  [[-0.5272166, 0.8281526, -1.5160015, 0.9529316...  Br_Br_CC2=CC=CC=C2.xyz   \n",
      "3  [[0.087641895, -0.92037755, 0.25641298, 0.1550...      Br_Br_C(C)(C)C.xyz   \n",
      "4  [[-0.30556712, 1.1312592, -0.40703785, 1.93495...            Br_Br_CC.xyz   \n",
      "\n",
      "       HOMO   HOMO-1      diff  \n",
      "0 -0.200233 -0.12649  0.073743  \n",
      "1 -0.196519 -0.12221  0.074309  \n",
      "2 -0.195905 -0.12077  0.075135  \n",
      "3  -0.18831 -0.11974   0.06857  \n",
      "4 -0.191877 -0.11805  0.073827  \n"
     ]
    }
   ],
   "source": [
    "df = pd.read_pickle(\"../data/desc/DB2/desc_calc_DB2_vae.pkl\")\n",
    "print(df.head())"
   ]
  },
  {
   "cell_type": "code",
   "execution_count": null,
   "metadata": {},
   "outputs": [],
   "source": []
  },
  {
   "cell_type": "code",
   "execution_count": null,
   "metadata": {},
   "outputs": [],
   "source": []
  }
 ],
 "metadata": {
  "kernelspec": {
   "display_name": "Python 3",
   "language": "python",
   "name": "python3"
  },
  "language_info": {
   "codemirror_mode": {
    "name": "ipython",
    "version": 3
   },
   "file_extension": ".py",
   "mimetype": "text/x-python",
   "name": "python",
   "nbconvert_exporter": "python",
   "pygments_lexer": "ipython3",
   "version": "3.7.6"
  }
 },
 "nbformat": 4,
 "nbformat_minor": 4
}
