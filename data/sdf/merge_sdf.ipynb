{
 "cells": [
  {
   "cell_type": "code",
   "execution_count": 15,
   "metadata": {},
   "outputs": [],
   "source": [
    "import os "
   ]
  },
  {
   "cell_type": "code",
   "execution_count": null,
   "metadata": {},
   "outputs": [],
   "source": []
  },
  {
   "cell_type": "code",
   "execution_count": null,
   "metadata": {},
   "outputs": [],
   "source": []
  },
  {
   "cell_type": "code",
   "execution_count": 78,
   "metadata": {},
   "outputs": [
    {
     "name": "stdout",
     "output_type": "stream",
     "text": [
      "file empty: tetra_C(=O)OC_Br_C2=CC=CC=C2_[C][N].sdf\n"
     ]
    }
   ],
   "source": [
    "with open(\"master_spektral.sdf\", \"w\") as master:\n",
    "    for ind, i in enumerate(files):\n",
    "        temp_file = \"./DB3/\" + str(i) \n",
    "        try:\n",
    "            if(os.stat(temp_file).st_size != 0):\n",
    "\n",
    "                with open(temp_file, \"r+\") as f:\n",
    "                    temp = f.read().splitlines()\n",
    "                    f.seek(0)\n",
    "                    master.write(\"\\n\")\n",
    "                    for count, line in enumerate(temp[1:-1]):\n",
    "                        if(count == 0 and line[0] == \"  \"):\n",
    "                            master.write(line[1:]+ \"\\n\")\n",
    "                        else:\n",
    "                            master.write(line+ \"\\n\")\n",
    "                    master.write(\"> <ID>\\n\")\n",
    "                    master.write(temp_file.split(\"/\")[-1])\n",
    "                    master.write(\"\\n\\n$$$$\\n\")\n",
    "        except:\n",
    "            print(\"file empty: \" + i)"
   ]
  },
  {
   "cell_type": "code",
   "execution_count": 18,
   "metadata": {},
   "outputs": [
    {
     "name": "stdout",
     "output_type": "stream",
     "text": [
      "['tetra_Cl_OC_C(F)(F)F_C(F)(F)F.sdf', 'tetra_O_CO_NC(=O)C_OC(=O)C.sdf', 'tetra_N_N_CO_OC.sdf', 'tetra_C(=O)OC_Br_N_OC2=CC=CC=C2.sdf', 'tetra_NC2=CC=CC=C2_C(C)(C)C_C(C)(C)C_[C][N].sdf']\n"
     ]
    }
   ],
   "source": [
    "\n",
    "temp = os.listdir(\"./DB3/\")\n",
    "print(temp[0:5])\n",
    "\n",
    "f1 = open(\"./master_spektral.sdf\", \"w\")\n",
    "\n",
    "for ind,i in enumerate(temp):\n",
    "    name = i.split(\".\")[0]\n",
    "    f2 = open(\"./DB3/\" + i)\n",
    "    lines = f2.readlines()\n",
    "    \n",
    "    f1.write(name)\n",
    "    f1.writelines(lines[0:-1])\n",
    "    f1.write(\"\\n\\n$$$$\\n\")\n",
    "    f2.close()"
   ]
  },
  {
   "cell_type": "code",
   "execution_count": null,
   "metadata": {},
   "outputs": [],
   "source": []
  }
 ],
 "metadata": {
  "kernelspec": {
   "display_name": "Python 3",
   "language": "python",
   "name": "python3"
  },
  "language_info": {
   "codemirror_mode": {
    "name": "ipython",
    "version": 3
   },
   "file_extension": ".py",
   "mimetype": "text/x-python",
   "name": "python",
   "nbconvert_exporter": "python",
   "pygments_lexer": "ipython3",
   "version": "3.7.6"
  }
 },
 "nbformat": 4,
 "nbformat_minor": 4
}
