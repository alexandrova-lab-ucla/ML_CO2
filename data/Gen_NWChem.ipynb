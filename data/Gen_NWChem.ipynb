{
 "cells": [
  {
   "cell_type": "code",
   "execution_count": 1,
   "metadata": {},
   "outputs": [],
   "source": [
    "import os\n",
    "\n",
    "files = os.listdir(\"../xyz/DB3/\")\n",
    "\n",
    "for i, file in enumerate(files):\n",
    "    f1 = open(\"../xyz/DB3/\" + file, \"r\")\n",
    "    lines = f1.readlines()[2:-1]\n",
    "    print(len(lines))\n",
    "    f2 = open(file.split(\".\")[0] + \".in\", \"w\")\n",
    "    \n",
    "    f2.write('start ' + file + \"\\n\")\n",
    "    f2.write(\"geometry nocenter units angstrom\\n\")\n",
    "    \n",
    "    \n",
    "    for i in lines:\n",
    "        f2.write(i)\n",
    "    f2.write(\"end\\n\\n\")\n",
    "    \n",
    "    f2.write(\"basis\\n\")\n",
    "    f2.write(\"   *  library 6-31g\\n\")\n",
    "    f2.write(\"end\\n\\n\")\n",
    "    \n",
    "    f2.write(\"scf\\n\")\n",
    "    f2.write(\"doublet\\n\")\n",
    "    f2.write(\"rohf\\n\")\n",
    "    f2.write(\"end\\n\\n\")\n",
    "    f2.write(\"task scf\\n\\n\")\n",
    "    \n",
    "    f2.write(\"property\\n\")\n",
    "    f2.write(\"aimfile\\n\")\n",
    "    f2.write(\"end\\n\\n\")\n",
    "    f2.write(\"task scf property\\n\")\n",
    "    f2.close()\n",
    "    f1.close()\n",
    "    "
   ]
  },
  {
   "cell_type": "code",
   "execution_count": 1,
   "metadata": {},
   "outputs": [
    {
     "name": "stdout",
     "output_type": "stream",
     "text": [
      "atomref.txt\t       fingerprints\t quinones_for_Santiago.xlsx  test.sh\r\n",
      "benzoquinone_DB        gen_nwchem.ipynb  quinones.xlsx\t\t     train\r\n",
      "DATA_DB3\t       Gen_NWChem.ipynb  sdf\t\t\t     xyz\r\n",
      "DATA_DB3_transform     models\t\t smiles\r\n",
      "desc\t\t       name_changer.py\t TABLE\r\n",
      "dft_opt_structures.in  qtaim\t\t test_nw.in\r\n"
     ]
    }
   ],
   "source": [
    "!ls"
   ]
  },
  {
   "cell_type": "code",
   "execution_count": null,
   "metadata": {},
   "outputs": [],
   "source": []
  }
 ],
 "metadata": {
  "kernelspec": {
   "display_name": "Python 3",
   "language": "python",
   "name": "python3"
  },
  "language_info": {
   "codemirror_mode": {
    "name": "ipython",
    "version": 3
   },
   "file_extension": ".py",
   "mimetype": "text/x-python",
   "name": "python",
   "nbconvert_exporter": "python",
   "pygments_lexer": "ipython3",
   "version": "3.7.6"
  }
 },
 "nbformat": 4,
 "nbformat_minor": 4
}
